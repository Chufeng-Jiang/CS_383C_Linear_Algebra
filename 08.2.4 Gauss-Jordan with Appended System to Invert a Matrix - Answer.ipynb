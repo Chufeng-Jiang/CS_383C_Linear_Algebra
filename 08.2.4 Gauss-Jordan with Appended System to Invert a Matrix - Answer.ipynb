{
 "cells": [
  {
   "cell_type": "markdown",
   "id": "1fef791b",
   "metadata": {},
   "source": [
    "# 8.2.4 Gauss-Jordan with Appended System to Invert a Matrix"
   ]
  },
  {
   "cell_type": "markdown",
   "id": "e1b08924",
   "metadata": {},
   "source": [
    "<font color=red> Copy this notebook first! At each step, if you make a mistake, rerun all the cells above the current cell!!!</font>\n",
    "\n",
    "<br>\n",
    "\n",
    "With this notebook, we walk you through Homework 8.2.4.  \n",
    "\n",
    "We start with the same appended system as in 8.2.4, except now we work with three right-hand sides, and pick those right-hand sides to be the unit basis vectors.  In other words, we append the identity matrix.\n",
    "\n",
    "Let's set this up as an appended matrix and the application of Gauss transforms.  Here matrix $ A $ holds the appended system\n",
    "$ \n",
    "\\left( \\begin{array}{ r r r | r r f}\n",
    "-2 & 2 & -5 & 1 & 0 & 0 \\\\\n",
    "2 & -3 & 7 & 0 & 1 & 0 \\\\\n",
    "-4 & 3 & -7 & 0 & 0 & 1\n",
    "\\end{array} \\right)\n",
    "$\n",
    "\n",
    "Fill in the ? in matrix $ A $.  Notice that the matrix on the left side of the appended system is the same as the matrix from 8.2.2 and 8.2.3. See what happens if you simply use the same Gauss transforms, and apply them to the appended system! "
   ]
  },
  {
   "cell_type": "code",
   "execution_count": 1,
   "id": "1a17b5aa",
   "metadata": {},
   "outputs": [
    {
     "name": "stdout",
     "output_type": "stream",
     "text": [
      "A = \n",
      "[[-2  2 -5  1  0  0]\n",
      " [ 2 -3  7  0  1  0]\n",
      " [-4  3 -7  0  0  1]]\n",
      "A0 = \n",
      "[[-2  2 -5  1  0  0]\n",
      " [ 0 -1  2  1  1  0]\n",
      " [ 0 -1  3 -2  0  1]]\n"
     ]
    }
   ],
   "source": [
    "import numpy as np\n",
    "\n",
    "A = np.matrix( '-2,  2, -5,     1,  0,  0;\\\n",
    "                 2, -3,  7,     0,  1,  0;\\\n",
    "                -4,  3, -7,     0,  0,  1' )\n",
    "\n",
    "print( 'A = ' )\n",
    "print( A )\n",
    "\n",
    "G0 = np.matrix( ' 1,  0,  0;\\\n",
    "                  1,  1,  0;\\\n",
    "                 -2,  0,  1' );\n",
    "\n",
    "A0 = G0 * A\n",
    "\n",
    "print( 'A0 = ' )\n",
    "print( A0 )"
   ]
  },
  {
   "cell_type": "markdown",
   "id": "32edd956",
   "metadata": {},
   "source": [
    "If you did this right, the result matrix $ A_0 = G_0 A $ has zeroes in the off-diagonal entries of the first column, which then corresponds to the answer to the first step in Homework 8.2.4.1:\n",
    "\n",
    "<img src=\"https://studio.edx.org/c4x/UTAustinX/UT.5.01x/asset/8_2_4_1_QuestionA.png\" width=\"75%\"> </img>"
   ]
  },
  {
   "cell_type": "markdown",
   "id": "1ef4b9ea",
   "metadata": {},
   "source": [
    "The appended system is now represented by <code> A0 </code>:"
   ]
  },
  {
   "cell_type": "code",
   "execution_count": 2,
   "id": "7ec7fdea",
   "metadata": {},
   "outputs": [
    {
     "name": "stdout",
     "output_type": "stream",
     "text": [
      "A0 =\n",
      "[[-2  2 -5  1  0  0]\n",
      " [ 0 -1  2  1  1  0]\n",
      " [ 0 -1  3 -2  0  1]]\n"
     ]
    }
   ],
   "source": [
    "print( 'A0 =' )\n",
    "print( A0 )"
   ]
  },
  {
   "cell_type": "markdown",
   "id": "a020f4f6",
   "metadata": {},
   "source": [
    "Now, use $ G_1 $ from Homework 8.2.2.1 to introduce zeroes in the off-diagonal elemental of the second column of $ A_0 $:"
   ]
  },
  {
   "cell_type": "code",
   "execution_count": 3,
   "id": "0910b182",
   "metadata": {},
   "outputs": [
    {
     "name": "stdout",
     "output_type": "stream",
     "text": [
      "A1 = \n",
      "[[-2  0 -1  3  2  0]\n",
      " [ 0 -1  2  1  1  0]\n",
      " [ 0  0  1 -3 -1  1]]\n"
     ]
    }
   ],
   "source": [
    "G1 = np.matrix( ' 1,  2,  0;\\\n",
    "                  0,  1,  0;\\\n",
    "                  0, -1,  1' );\n",
    "\n",
    "A1 = G1 * A0\n",
    "\n",
    "print( 'A1 = ' )\n",
    "print( A1 )"
   ]
  },
  {
   "cell_type": "markdown",
   "id": "71848b09",
   "metadata": {},
   "source": [
    "If you did this right, the result matrix $ A_1 = G_1 A_0 = G_1 G_0 A $ has zeroes in the off-diagonal entries of the first column and the second column, which then corresponds to the answer to the second step in Homework 8.2.4.1:\n",
    "\n",
    "<img src=\"https://studio.edx.org/c4x/UTAustinX/UT.5.01x/asset/8_2_4_1_QuestionB.png\" width=\"75%\"> </img>"
   ]
  },
  {
   "cell_type": "markdown",
   "id": "c5f2ade2",
   "metadata": {},
   "source": [
    "The appended system is now represented by <code> A1 </code>:"
   ]
  },
  {
   "cell_type": "code",
   "execution_count": 4,
   "id": "7e25d2b9",
   "metadata": {},
   "outputs": [
    {
     "name": "stdout",
     "output_type": "stream",
     "text": [
      "A1 =\n",
      "[[-2  0 -1  3  2  0]\n",
      " [ 0 -1  2  1  1  0]\n",
      " [ 0  0  1 -3 -1  1]]\n"
     ]
    }
   ],
   "source": [
    "print( 'A1 =' )\n",
    "print( A1 )"
   ]
  },
  {
   "cell_type": "markdown",
   "id": "7e2f5acd",
   "metadata": {},
   "source": [
    "Now, use the $ G_2 $ from Homework 8.2.2 to introduce zeroes in the off-diagonal elemental of the third column of $ A_1 $:"
   ]
  },
  {
   "cell_type": "code",
   "execution_count": 5,
   "id": "30561b46",
   "metadata": {},
   "outputs": [
    {
     "name": "stdout",
     "output_type": "stream",
     "text": [
      "A2 = \n",
      "[[-2  0  0  0  1  1]\n",
      " [ 0 -1  0  7  3 -2]\n",
      " [ 0  0  1 -3 -1  1]]\n"
     ]
    }
   ],
   "source": [
    "G2 = np.matrix( ' 1,  0,  1;\\\n",
    "                  0,  1, -2;\\\n",
    "                  0,  0,  1' );\n",
    "\n",
    "A2 = G2 * A1\n",
    "\n",
    "print( 'A2 = ' )\n",
    "print( A2 )"
   ]
  },
  {
   "cell_type": "markdown",
   "id": "b93770cb",
   "metadata": {},
   "source": [
    "If you did this right, the result matrix $ A_2 = G_2 A_1 = G_2 G_1 A_0 = G_2 G_1 G_0 A $ has zeroes in the off-diagonal entries of the first, second, and third column, which then corresponds to the answer to the third step in Homework 8.2.4.1:\n",
    "\n",
    "<img src=\"https://studio.edx.org/c4x/UTAustinX/UT.5.01x/asset/8_2_4_1_QuestionC.png\" width=\"75%\"> </img>"
   ]
  },
  {
   "cell_type": "markdown",
   "id": "171c52be",
   "metadata": {},
   "source": [
    "The appended system is now represented by <code> A2 </code>:"
   ]
  },
  {
   "cell_type": "code",
   "execution_count": 6,
   "id": "49ec87d1",
   "metadata": {},
   "outputs": [
    {
     "name": "stdout",
     "output_type": "stream",
     "text": [
      "A2 =\n",
      "[[-2  0  0  0  1  1]\n",
      " [ 0 -1  0  7  3 -2]\n",
      " [ 0  0  1 -3 -1  1]]\n"
     ]
    }
   ],
   "source": [
    "print( 'A2 =' )\n",
    "print( A2 )"
   ]
  },
  {
   "cell_type": "markdown",
   "id": "6683d6c1",
   "metadata": {},
   "source": [
    "Now, use the diagonal matrix $ D $ from Homework 8.2.2 to set the diagonal elements in the appended system to one, making the first three columns into an identity matrix:"
   ]
  },
  {
   "cell_type": "code",
   "execution_count": 7,
   "id": "942e5c86",
   "metadata": {},
   "outputs": [
    {
     "name": "stdout",
     "output_type": "stream",
     "text": [
      "A3 = \n",
      "[[ 1.   0.   0.   0.  -0.5 -0.5]\n",
      " [ 0.   1.   0.  -7.  -3.   2. ]\n",
      " [ 0.   0.   1.  -3.  -1.   1. ]]\n"
     ]
    }
   ],
   "source": [
    "D = np.matrix( '-0.5,  0,  0;\\\n",
    "                  0,  -1,  0;\\\n",
    "                  0,  0,   1' );\n",
    "\n",
    "A3 = D * A2\n",
    "\n",
    "print( 'A3 = ' )\n",
    "print( A3 )"
   ]
  },
  {
   "cell_type": "markdown",
   "id": "94aab5ee",
   "metadata": {},
   "source": [
    "If you did this right, the result matrix \n",
    "\n",
    "$ A_3 = D A_2 = D G_2 A_1 = D G_2 G_1 A_0 = D G_2 G_1 G_0 A $ \n",
    "\n",
    "has an identity in the first three columns, which then corresponds to the answer to the fourth step in Homework 8.2.4.1:\n",
    "\n",
    "<img src=\"https://studio.edx.org/c4x/UTAustinX/UT.5.01x/asset/8_2_4_1_QuestionD.png\" width=\"75%\"> </img>"
   ]
  },
  {
   "cell_type": "markdown",
   "id": "02e982c4",
   "metadata": {},
   "source": [
    "If you did this right, the last three columns of the appended system now contain the inverse of the original matrix $ A $.\n",
    "\n",
    "Let's see what happens if we create a matrix $ B $ from the last three columns, restore the matrix $ A $ to its original contents, and multiply $ A B $:"
   ]
  },
  {
   "cell_type": "code",
   "execution_count": 8,
   "id": "d1b2092d",
   "metadata": {},
   "outputs": [
    {
     "name": "stdout",
     "output_type": "stream",
     "text": [
      "B = \n",
      "[[ 0.  -0.5 -0.5]\n",
      " [-7.  -3.   2. ]\n",
      " [-3.  -1.   1. ]]\n",
      "A = \n",
      "[[-2  2 -5]\n",
      " [ 2 -3  7]\n",
      " [-4  3 -7]]\n",
      "B = \n",
      "[[ 0.  -0.5 -0.5]\n",
      " [-7.  -3.   2. ]\n",
      " [-3.  -1.   1. ]]\n",
      " A * B = \n",
      "[[1. 0. 0.]\n",
      " [0. 1. 0.]\n",
      " [0. 0. 1.]]\n"
     ]
    }
   ],
   "source": [
    "B = A3[ 0:3, 3:6 ]\n",
    "\n",
    "print( 'B = ' )\n",
    "print( B )\n",
    "\n",
    "A = np.matrix( '-2,  2, -5;\\\n",
    "                 2, -3,  7;\\\n",
    "                -4,  3, -7' )\n",
    "\n",
    "print( 'A = ' )\n",
    "print( A )\n",
    "\n",
    "print( 'B = ' )\n",
    "print( B )\n",
    "\n",
    "print( ' A * B = ' )\n",
    "print( A * B )"
   ]
  },
  {
   "cell_type": "markdown",
   "id": "17094786",
   "metadata": {},
   "source": [
    "Hopefully, yielded the answer to the last part of 8.2.4.1:\n",
    "\n",
    "<img src=\"https://studio.edx.org/c4x/UTAustinX/UT.5.01x/asset/8_2_4_1_QuestionE.png\" width=\"75%\"> </img>"
   ]
  },
  {
   "cell_type": "code",
   "execution_count": null,
   "id": "bfcd672f",
   "metadata": {},
   "outputs": [],
   "source": []
  }
 ],
 "metadata": {
  "kernelspec": {
   "display_name": "Python 3 (ipykernel)",
   "language": "python",
   "name": "python3"
  },
  "language_info": {
   "codemirror_mode": {
    "name": "ipython",
    "version": 3
   },
   "file_extension": ".py",
   "mimetype": "text/x-python",
   "name": "python",
   "nbconvert_exporter": "python",
   "pygments_lexer": "ipython3",
   "version": "3.10.13"
  }
 },
 "nbformat": 4,
 "nbformat_minor": 1
}
