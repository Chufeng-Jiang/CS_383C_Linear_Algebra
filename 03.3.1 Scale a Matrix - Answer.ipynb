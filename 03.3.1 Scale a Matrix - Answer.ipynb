{
 "cells": [
  {
   "cell_type": "markdown",
   "id": "be8dab03",
   "metadata": {},
   "source": [
    "# The Scale_a_matrix routine"
   ]
  },
  {
   "cell_type": "markdown",
   "id": "71712095",
   "metadata": {},
   "source": [
    "This notebook walks you through how to implement a simple function that scales a matrix $ A $ by a scalar $ \\beta $, overwriting $ A $."
   ]
  },
  {
   "cell_type": "markdown",
   "id": "2426cc0b",
   "metadata": {},
   "source": [
    "## Getting started"
   ]
  },
  {
   "cell_type": "markdown",
   "id": "0d176148",
   "metadata": {},
   "source": [
    "We will use some functions that are part of our laff library (of which this function will become a part) as well as some routines from the FLAME API (Application Programming Interface) that allows us to write code that closely resembles how we typeset algorithms using the FLAME notation.  These functions are imported with the \"import laff as laff\" and \"import flame\" statements."
   ]
  },
  {
   "cell_type": "markdown",
   "id": "f9722f50",
   "metadata": {},
   "source": [
    "## Algorithm"
   ]
  },
  {
   "cell_type": "markdown",
   "id": "0b8a974d",
   "metadata": {},
   "source": [
    "<image src=\"https://studio.edx.org/c4x/UTAustinX/UT.5.01x/asset/331ScaleMatrix.png\" alt=\"Set matrix to zero algorithm\" width=\"85%\">"
   ]
  },
  {
   "cell_type": "markdown",
   "id": "74a9d7c7",
   "metadata": {},
   "source": [
    "## The routine"
   ]
  },
  {
   "cell_type": "markdown",
   "id": "c9d14a8c",
   "metadata": {},
   "source": [
    "The specific laff function we will use is laff.scal which, when given a row or column vector (stored as a 1 x n or n x 1 matrix) and a scalar scales that vector.  \n",
    "\n",
    "Code the routine with the <a href=\"https://studio.edx.org/c4x/UTAustinX/UT.5.01x/asset/index.html\"> Spark webpage </a>."
   ]
  },
  {
   "cell_type": "code",
   "execution_count": 1,
   "id": "2cf9805e",
   "metadata": {},
   "outputs": [],
   "source": [
    "import flame\n",
    "import laff as laff\n",
    "\n",
    "def Scale_a_matrix_unb_var1(beta, A):\n",
    "\n",
    "    AL, AR = flame.part_1x2(A, \\\n",
    "                            0, 'LEFT')\n",
    "\n",
    "    while AL.shape[1] < A.shape[1]:\n",
    "\n",
    "        A0, a1, A2 = flame.repart_1x2_to_1x3(AL, AR, \\\n",
    "                                             1, 'RIGHT')\n",
    "\n",
    "        #------------------------------------------------------------#\n",
    "\n",
    "        laff.scal( beta, a1 )\n",
    "\n",
    "        #------------------------------------------------------------#\n",
    "\n",
    "        AL, AR = flame.cont_with_1x3_to_1x2(A0, a1, A2, \\\n",
    "                                            'LEFT')\n",
    "\n",
    "    flame.merge_1x2(AL, AR, A)\n",
    "\n",
    "\n",
    "\n"
   ]
  },
  {
   "cell_type": "markdown",
   "id": "b53f20a9",
   "metadata": {},
   "source": [
    "## Testing"
   ]
  },
  {
   "cell_type": "markdown",
   "id": "f63e7b9a",
   "metadata": {},
   "source": [
    "Let's quickly test the routine by creating a 5 x 4 matrix and then scaling by a scalar."
   ]
  },
  {
   "cell_type": "code",
   "execution_count": 2,
   "id": "ce04582d",
   "metadata": {},
   "outputs": [
    {
     "name": "stdout",
     "output_type": "stream",
     "text": [
      "beta = \n",
      "[[2.]]\n",
      "A before =\n",
      "[[0.54132349 0.49850549 0.09899091 0.23352636]\n",
      " [0.60353164 0.17630215 0.1473723  0.75177106]\n",
      " [0.51139344 0.91632286 0.64401747 0.35842984]\n",
      " [0.16485562 0.42753971 0.95173093 0.50041139]\n",
      " [0.32452641 0.84402383 0.71321724 0.61024824]]\n"
     ]
    }
   ],
   "source": [
    "from numpy import random\n",
    "from numpy import matrix\n",
    "\n",
    "beta = matrix( '2.' )\n",
    "A = matrix( random.rand( 5,4 ) )\n",
    "\n",
    "print( 'beta = ' )\n",
    "print( beta )\n",
    "\n",
    "print( 'A before =' )\n",
    "print( A )"
   ]
  },
  {
   "cell_type": "code",
   "execution_count": 3,
   "id": "eb900dcc",
   "metadata": {},
   "outputs": [
    {
     "name": "stdout",
     "output_type": "stream",
     "text": [
      "A after =\n",
      "[[1.08264697 0.99701098 0.19798182 0.46705273]\n",
      " [1.20706329 0.3526043  0.2947446  1.50354211]\n",
      " [1.02278688 1.83264571 1.28803493 0.71685969]\n",
      " [0.32971124 0.85507943 1.90346186 1.00082277]\n",
      " [0.64905281 1.68804766 1.42643449 1.22049647]]\n"
     ]
    }
   ],
   "source": [
    "Scale_a_matrix_unb_var1( beta, A )\n",
    "\n",
    "print( 'A after =' )\n",
    "print( A )"
   ]
  },
  {
   "cell_type": "markdown",
   "id": "0317ad03",
   "metadata": {},
   "source": [
    "Bingo, it seems to work!"
   ]
  },
  {
   "cell_type": "markdown",
   "id": "6c86d3d2",
   "metadata": {},
   "source": [
    "## Try it yourself (homework 3.3.1.3)"
   ]
  },
  {
   "cell_type": "markdown",
   "id": "4d1da32c",
   "metadata": {},
   "source": [
    "Now, write an alternative algorithm that scales $ A $ one row at a time."
   ]
  },
  {
   "cell_type": "markdown",
   "id": "2c87f799",
   "metadata": {},
   "source": [
    "Use the <a href=\"https://studio.edx.org/c4x/UTAustinX/UT.5.01x/asset/index.html\"> Spark webpage </a> to generate the function Scale_a_matrix_unb_var2( beta, A ) that computes $ A := \\beta A $ one row at a time."
   ]
  },
  {
   "cell_type": "code",
   "execution_count": 4,
   "id": "82599efd",
   "metadata": {},
   "outputs": [],
   "source": [
    "import flame\n",
    "import laff as laff\n",
    "\n",
    "def Scale_a_matrix_unb_var2(beta, A):\n",
    "\n",
    "    AT, \\\n",
    "    AB  = flame.part_2x1(A, \\\n",
    "                         0, 'TOP')\n",
    "\n",
    "    while AT.shape[0] < A.shape[0]:\n",
    "\n",
    "        A0,  \\\n",
    "        a1t, \\\n",
    "        A2   = flame.repart_2x1_to_3x1(AT, \\\n",
    "                                       AB, \\\n",
    "                                       1, 'BOTTOM')\n",
    "\n",
    "        #------------------------------------------------------------#\n",
    "\n",
    "        laff.scal( beta, a1t )\n",
    "\n",
    "        #------------------------------------------------------------#\n",
    "\n",
    "        AT, \\\n",
    "        AB  = flame.cont_with_3x1_to_2x1(A0,  \\\n",
    "                                         a1t, \\\n",
    "                                         A2,  \\\n",
    "                                         'TOP')\n",
    "\n",
    "    flame.merge_2x1(AT, \\\n",
    "                    AB, A)\n",
    "\n",
    "\n",
    "\n"
   ]
  },
  {
   "cell_type": "markdown",
   "id": "85154f53",
   "metadata": {},
   "source": [
    "Test your routine with the following"
   ]
  },
  {
   "cell_type": "code",
   "execution_count": 5,
   "id": "01696241",
   "metadata": {},
   "outputs": [
    {
     "name": "stdout",
     "output_type": "stream",
     "text": [
      "A before =\n",
      "[[0.6147516  0.12605902 0.4281251  0.93597628]\n",
      " [0.3984466  0.79749084 0.08289902 0.66362377]\n",
      " [0.16238158 0.56335967 0.51076689 0.92218844]\n",
      " [0.42880401 0.29027107 0.06727329 0.10892595]\n",
      " [0.08410681 0.12933509 0.27963107 0.7585791 ]]\n",
      "A after =\n",
      "[[1.22950319 0.25211804 0.8562502  1.87195256]\n",
      " [0.79689321 1.59498168 0.16579803 1.32724754]\n",
      " [0.32476316 1.12671933 1.02153379 1.84437689]\n",
      " [0.85760803 0.58054214 0.13454659 0.21785189]\n",
      " [0.16821363 0.25867019 0.55926214 1.5171582 ]]\n"
     ]
    }
   ],
   "source": [
    "from numpy import random\n",
    "from numpy import matrix\n",
    "\n",
    "beta = matrix( '2' );\n",
    "A = matrix( random.rand( 5,4 ) )\n",
    "\n",
    "print( 'A before =' )\n",
    "print( A )\n",
    "\n",
    "Scale_a_matrix_unb_var2( beta, A )\n",
    "print( 'A after =' )\n",
    "print( A )"
   ]
  },
  {
   "cell_type": "markdown",
   "id": "d542cabd",
   "metadata": {},
   "source": [
    "## Watch your code in action!"
   ]
  },
  {
   "cell_type": "markdown",
   "id": "6eb60e33",
   "metadata": {},
   "source": [
    "Copy and paste the code into <a href=\"http://edx-org-utaustinx.s3.amazonaws.com/UT501x/PictureFlame/PictureFLAME.html\"> PictureFLAME </a>, a webpage where you can watch your routine in action.  Just cut and paste into the box.  \n",
    "\n",
    "Disclaimer: we implemented a VERY simple interpreter.  If you do something wrong, we cannot guarantee the results.  But if you do it right, you are in for a treat.\n",
    "\n",
    "If you want to reset the problem, just click in the box into which you pasted the code and hit \"next\" again."
   ]
  }
 ],
 "metadata": {
  "kernelspec": {
   "display_name": "Python 3 (ipykernel)",
   "language": "python",
   "name": "python3"
  },
  "language_info": {
   "codemirror_mode": {
    "name": "ipython",
    "version": 3
   },
   "file_extension": ".py",
   "mimetype": "text/x-python",
   "name": "python",
   "nbconvert_exporter": "python",
   "pygments_lexer": "ipython3",
   "version": "3.10.13"
  }
 },
 "nbformat": 4,
 "nbformat_minor": 1
}
