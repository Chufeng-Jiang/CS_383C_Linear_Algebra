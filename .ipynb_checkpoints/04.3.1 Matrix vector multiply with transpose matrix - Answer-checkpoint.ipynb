{
 "cells": [
  {
   "cell_type": "markdown",
   "id": "1f6cdd4c",
   "metadata": {},
   "source": [
    "# Matrix-vector multiplication multiply with transpose matrix"
   ]
  },
  {
   "cell_type": "markdown",
   "id": "16bc8283",
   "metadata": {},
   "source": [
    "This notebook walks you through how to implement $ y := A^T x + y $ <i> without explicitly transposing the matrix</i>."
   ]
  },
  {
   "cell_type": "markdown",
   "id": "18996105",
   "metadata": {},
   "source": [
    "## Getting started"
   ]
  },
  {
   "cell_type": "markdown",
   "id": "f788a023",
   "metadata": {},
   "source": [
    "We will use some functions that are part of our laff library (of which this function will become a part) as well as some routines from the FLAME API (Application Programming Interface) that allows us to write code that closely resembles how we typeset algorithms using the FLAME notation.  These functions are imported with the \"import laff\" and \"import flame\" statements."
   ]
  },
  {
   "cell_type": "markdown",
   "id": "2d990b26",
   "metadata": {},
   "source": [
    "## Algorithm (via dot products)"
   ]
  },
  {
   "cell_type": "markdown",
   "id": "c79c19e8",
   "metadata": {},
   "source": [
    "<image src=\"https://studio.edx.org/c4x/UTAustinX/UT.5.01x/asset/431Mvmult_n_unb_var1.png\" alt=\"Matrix-vector multiplication via dot products algorithm\" width=\"48%\"><image src=\"https://studio.edx.org/c4x/UTAustinX/UT.5.01x/asset/431Mvmult_t_unb_var1.png\" alt=\"Matrix-vector multiplication via dot products algorithm\" width=\"48%\">\n",
    "\n",
    "\n",
    "Above, you find two algorithms.  The one on the left computes $ y := A x + y $ via dot products and the one on the right computes $ y := A^T x + y $ via dot products.  You are to implement the one on the right."
   ]
  },
  {
   "cell_type": "markdown",
   "id": "8c2eb5ee",
   "metadata": {},
   "source": [
    "## The routine <br> <code> Mvmult_t_unb_var1( A, x, y ) </code>"
   ]
  },
  {
   "cell_type": "markdown",
   "id": "55690ed1",
   "metadata": {},
   "source": [
    "This routine, given $ A \\in \\mathbb{R}^{m \\times m} $, $ x \\in \\mathbb{R}^m $, and $ y \\in \\mathbb{R}^m $, computes $ y := A^T x + y $.  The \"_t_\" in the name of the routine indicates this is the \"transpose\" matrix-vector multiplication.  \n",
    "\n",
    "The specific laff functions we will use are \n",
    "<ul>\n",
    "<li> <code> laff.dots( x, y, alpha ) </code> which computes $ \\alpha := x^T y + \\alpha $.  </li>\n",
    "</ul>\n",
    "\n",
    "Use the <a href=\"https://studio.edx.org/c4x/UTAustinX/UT.5.01x/asset/index.html\"> Spark webpage</a> to generate a code skeleton.  (Make sure you adjust the name of the routine.)"
   ]
  },
  {
   "cell_type": "code",
   "execution_count": 1,
   "id": "882297e4",
   "metadata": {},
   "outputs": [],
   "source": [
    "import flame\n",
    "import laff as laff\n",
    "\n",
    "def Mvmult_t_unb_var1(A, x, y):\n",
    "\n",
    "    AL, AR = flame.part_1x2(A, \\\n",
    "                            0, 'LEFT')\n",
    "\n",
    "    yT, \\\n",
    "    yB  = flame.part_2x1(y, \\\n",
    "                         0, 'TOP')\n",
    "\n",
    "    while AL.shape[1] < A.shape[1]:\n",
    "\n",
    "        A0, a1, A2 = flame.repart_1x2_to_1x3(AL, AR, \\\n",
    "                                             1, 'RIGHT')\n",
    "\n",
    "        y0,   \\\n",
    "        psi1, \\\n",
    "        y2    = flame.repart_2x1_to_3x1(yT, \\\n",
    "                                        yB, \\\n",
    "                                        1, 'BOTTOM')\n",
    "\n",
    "        #------------------------------------------------------------#\n",
    "\n",
    "        laff.dots( a1, x, psi1 )\n",
    "\n",
    "        #------------------------------------------------------------#\n",
    "\n",
    "        AL, AR = flame.cont_with_1x3_to_1x2(A0, a1, A2, \\\n",
    "                                            'LEFT')\n",
    "\n",
    "        yT, \\\n",
    "        yB  = flame.cont_with_3x1_to_2x1(y0,   \\\n",
    "                                         psi1, \\\n",
    "                                         y2,   \\\n",
    "                                         'TOP')\n",
    "\n",
    "    flame.merge_2x1(yT, \\\n",
    "                    yB, y)\n",
    "\n",
    "\n",
    "\n",
    "\n",
    "\n"
   ]
  },
  {
   "cell_type": "markdown",
   "id": "b4e75877",
   "metadata": {},
   "source": [
    "## Testing"
   ]
  },
  {
   "cell_type": "markdown",
   "id": "b460c679",
   "metadata": {},
   "source": [
    "Let's quickly test the routine by creating a 3 x 4 matrix and related vectors, performing the computation."
   ]
  },
  {
   "cell_type": "code",
   "execution_count": 2,
   "id": "d2e44c2b",
   "metadata": {},
   "outputs": [
    {
     "name": "stdout",
     "output_type": "stream",
     "text": [
      "A before =\n",
      "[[0.4115258  0.80933989 0.65542957 0.46147258]\n",
      " [0.44661655 0.11621721 0.8176907  0.13570558]\n",
      " [0.4254248  0.69394523 0.67318975 0.78815952]]\n",
      "x before =\n",
      "[[0.48093464]\n",
      " [0.41233954]\n",
      " [0.62750251]]\n",
      "y before =\n",
      "[[0.22292285]\n",
      " [0.96196941]\n",
      " [0.99946406]\n",
      " [0.13136571]]\n"
     ]
    }
   ],
   "source": [
    "from numpy import random\n",
    "from numpy import matrix\n",
    "\n",
    "A = matrix( random.rand( 3,4 ) )\n",
    "x = matrix( random.rand( 3,1 ) )\n",
    "y = matrix( random.rand( 4,1 ) )\n",
    "yold = matrix( random.rand( 4,1 ) )\n",
    "\n",
    "print( 'A before =' )\n",
    "print( A )\n",
    "\n",
    "print( 'x before =' )\n",
    "print( x )\n",
    "\n",
    "print( 'y before =' )\n",
    "print( y )"
   ]
  },
  {
   "cell_type": "code",
   "execution_count": 9,
   "id": "33400823",
   "metadata": {},
   "outputs": [
    {
     "name": "stdout",
     "output_type": "stream",
     "text": [
      "y after =\n",
      "[[ 1.84066219]\n",
      " [ 0.75191922]\n",
      " [ 0.90596983]\n",
      " [ 1.50769835]]\n",
      "y - ( transpose( A ) * x + yold ) = \n",
      "[[  0.00000000e+00]\n",
      " [ -1.11022302e-16]\n",
      " [  0.00000000e+00]\n",
      " [  0.00000000e+00]]\n"
     ]
    }
   ],
   "source": [
    "from numpy import transpose\n",
    "\n",
    "laff.copy( y, yold )   # save the original vector y\n",
    "\n",
    "Mvmult_t_unb_var1( A, x, y )\n",
    "\n",
    "print( 'y after =' )\n",
    "print( y )\n",
    "\n",
    "print( 'y - ( transpose( A ) * x + yold ) = ' )\n",
    "print( y - ( transpose( A ) * x + yold ) )"
   ]
  },
  {
   "cell_type": "markdown",
   "id": "e68cdd2c",
   "metadata": {},
   "source": [
    "Bingo, it seems to work!  (Notice that we are doing floating point computations, which means that due to rounding you may not get an exact \"0\".)"
   ]
  },
  {
   "cell_type": "markdown",
   "id": "f316dd84",
   "metadata": {},
   "source": [
    "## Watch your code in action!"
   ]
  },
  {
   "cell_type": "markdown",
   "id": "2c75065b",
   "metadata": {},
   "source": [
    "Copy and paste the code into <a href=\"http://edx-org-utaustinx.s3.amazonaws.com/UT501x/PictureFlame/PictureFLAME.html\"> PictureFLAME </a>, a webpage where you can watch your routine in action.  Just cut and paste into the box.  \n",
    "\n",
    "Disclaimer: we implemented a VERY simple interpreter.  If you do something wrong, we cannot guarantee the results.  But if you do it right, you are in for a treat.\n",
    "\n",
    "If you want to reset the problem, just click in the box into which you pasted the code and hit \"next\" again."
   ]
  },
  {
   "cell_type": "markdown",
   "id": "e4a16157",
   "metadata": {},
   "source": [
    "## Algorithm (via <code>axpy</code>s)"
   ]
  },
  {
   "cell_type": "markdown",
   "id": "b4a92673",
   "metadata": {},
   "source": [
    "<image src=\"https://studio.edx.org/c4x/UTAustinX/UT.5.01x/asset/431Mvmult_n_unb_var2.png\" alt=\"Matrix-vector multiplication via axpys algorithm\" width=\"55%\"><image src=\"https://studio.edx.org/c4x/UTAustinX/UT.5.01x/asset/431Mvmult_t_unb_var2.png\" alt=\"Matrix-vector multiplication via dot axpys algorithm\" width=\"45%\">\n",
    "\n",
    "Above, you find two algorithms.  The one on the left computes $ y := A x + y $ via <code> axpy</code>s and the one on the right computes $ y := A^T x + y $ via <code> axpy</code>s.  You are to implement the one on the right."
   ]
  },
  {
   "cell_type": "markdown",
   "id": "c6adec54",
   "metadata": {},
   "source": [
    "## The routine <br> <code> Mvmult_t_unb_var2( A, x, y ) </code>"
   ]
  },
  {
   "cell_type": "markdown",
   "id": "3bc96713",
   "metadata": {},
   "source": [
    "This routine, given $ A \\in \\mathbb{R}^{m \\times m} $, $ x \\in \\mathbb{R}^m $, and $ y \\in \\mathbb{R}^m $, computes $ y := A^T x + y $.  The \"_t_\" in the name of the routine indicates this is the \"transpose\" matrix-vector multiplication.  \n",
    "\n",
    "The specific laff functions we will use are \n",
    "<ul>\n",
    "<li> <code> laff.axpy( alpha, x, y ) </code> which computes $ y := \\alpha x + y $.  </li>\n",
    "</ul>\n",
    "\n",
    "Use the <a href=\"https://studio.edx.org/c4x/UTAustinX/UT.5.01x/asset/index.html\"> Spark webpage</a> to generate a code skeleton.  (Make sure you adjust the name of the routine.)"
   ]
  },
  {
   "cell_type": "code",
   "execution_count": 9,
   "id": "a71c6b37",
   "metadata": {},
   "outputs": [],
   "source": [
    "import flame\n",
    "import laff as laff\n",
    "\n",
    "def Mvmult_t_unb_var1(A, x, y):\n",
    "\n",
    "    AT, \\\n",
    "    AB  = flame.part_2x1(A, \\\n",
    "                         0, 'TOP')\n",
    "\n",
    "    xT, \\\n",
    "    xB  = flame.part_2x1(x, \\\n",
    "                         0, 'TOP')\n",
    "\n",
    "    while AT.shape[0] < A.shape[0]:\n",
    "\n",
    "        A0,  \\\n",
    "        a1t, \\\n",
    "        A2   = flame.repart_2x1_to_3x1(AT, \\\n",
    "                                       AB, \\\n",
    "                                       1, 'BOTTOM')\n",
    "\n",
    "        x0,   \\\n",
    "        chi1, \\\n",
    "        x2    = flame.repart_2x1_to_3x1(xT, \\\n",
    "                                        xB, \\\n",
    "                                        1, 'BOTTOM')\n",
    "\n",
    "        #------------------------------------------------------------#\n",
    "\n",
    "        laff.axpy( chi1, a1t, y )\n",
    "\n",
    "        #------------------------------------------------------------#\n",
    "\n",
    "        AT, \\\n",
    "        AB  = flame.cont_with_3x1_to_2x1(A0,  \\\n",
    "                                         a1t, \\\n",
    "                                         A2,  \\\n",
    "                                         'TOP')\n",
    "\n",
    "        xT, \\\n",
    "        xB  = flame.cont_with_3x1_to_2x1(x0,   \\\n",
    "                                         chi1, \\\n",
    "                                         x2,   \\\n",
    "                                         'TOP')\n",
    "\n"
   ]
  },
  {
   "cell_type": "markdown",
   "id": "50dd7caa",
   "metadata": {},
   "source": [
    "## Testing"
   ]
  },
  {
   "cell_type": "markdown",
   "id": "065288c3",
   "metadata": {},
   "source": [
    "Let's quickly test the routine by creating a 3 x 4 matrix and related vectors, performing the computation."
   ]
  },
  {
   "cell_type": "code",
   "execution_count": 10,
   "id": "1f00304d",
   "metadata": {},
   "outputs": [
    {
     "name": "stdout",
     "output_type": "stream",
     "text": [
      "A before =\n",
      "[[0.12847616]\n",
      " [0.32693732]\n",
      " [0.19548736]\n",
      " [0.23150879]]\n",
      "x before =\n",
      "[[0.59887708]\n",
      " [0.02762678]\n",
      " [0.63661637]]\n",
      "y before =\n",
      "[[0.12847616]\n",
      " [0.32693732]\n",
      " [0.19548736]\n",
      " [0.23150879]]\n"
     ]
    }
   ],
   "source": [
    "from numpy import random\n",
    "from numpy import matrix\n",
    "\n",
    "A = matrix( random.rand( 3,4 ) )\n",
    "x = matrix( random.rand( 3,1 ) )\n",
    "y = matrix( random.rand( 4,1 ) )\n",
    "yold = matrix( random.rand( 4,1 ) )\n",
    "\n",
    "print( 'A before =' )\n",
    "print( y )\n",
    "\n",
    "print( 'x before =' )\n",
    "print( x )\n",
    "\n",
    "print( 'y before =' )\n",
    "print( y )"
   ]
  },
  {
   "cell_type": "code",
   "execution_count": 11,
   "id": "81940416",
   "metadata": {},
   "outputs": [
    {
     "ename": "NameError",
     "evalue": "name 'Mvmult_t_unb_var2' is not defined",
     "output_type": "error",
     "traceback": [
      "\u001b[1;31m---------------------------------------------------------------------------\u001b[0m",
      "\u001b[1;31mNameError\u001b[0m                                 Traceback (most recent call last)",
      "Cell \u001b[1;32mIn[11], line 5\u001b[0m\n\u001b[0;32m      1\u001b[0m \u001b[38;5;28;01mfrom\u001b[39;00m \u001b[38;5;21;01mnumpy\u001b[39;00m \u001b[38;5;28;01mimport\u001b[39;00m transpose\n\u001b[0;32m      3\u001b[0m laff\u001b[38;5;241m.\u001b[39mcopy( y, yold )   \u001b[38;5;66;03m# save the original vector y\u001b[39;00m\n\u001b[1;32m----> 5\u001b[0m \u001b[43mMvmult_t_unb_var2\u001b[49m( A, x, y )\n\u001b[0;32m      7\u001b[0m \u001b[38;5;28mprint\u001b[39m( \u001b[38;5;124m'\u001b[39m\u001b[38;5;124my after =\u001b[39m\u001b[38;5;124m'\u001b[39m )\n\u001b[0;32m      8\u001b[0m \u001b[38;5;28mprint\u001b[39m( y )\n",
      "\u001b[1;31mNameError\u001b[0m: name 'Mvmult_t_unb_var2' is not defined"
     ]
    }
   ],
   "source": [
    "from numpy import transpose\n",
    "\n",
    "laff.copy( y, yold )   # save the original vector y\n",
    "\n",
    "Mvmult_t_unb_var2( A, x, y )\n",
    "\n",
    "print( 'y after =' )\n",
    "print( y )\n",
    "\n",
    "print( 'y - ( transpose( A ) * x + yold ) = ' )\n",
    "print( y - ( transpose( A ) * x + yold ) )"
   ]
  },
  {
   "cell_type": "markdown",
   "id": "49ce99b9",
   "metadata": {},
   "source": [
    "Bingo, it seems to work!  (Notice that we are doing floating point computations, which means that due to rounding you may not get an exact \"0\".)"
   ]
  },
  {
   "cell_type": "markdown",
   "id": "aca4193e",
   "metadata": {},
   "source": [
    "## Watch your code in action!"
   ]
  },
  {
   "cell_type": "markdown",
   "id": "86e37d6f",
   "metadata": {},
   "source": [
    "Copy and paste the code into <a href=\"http://edx-org-utaustinx.s3.amazonaws.com/UT501x/PictureFlame/PictureFLAME.html\"> PictureFLAME </a>, a webpage where you can watch your routine in action.  Just cut and paste into the box.  \n",
    "\n",
    "Disclaimer: we implemented a VERY simple interpreter.  If you do something wrong, we cannot guarantee the results.  But if you do it right, you are in for a treat.\n",
    "\n",
    "If you want to reset the problem, just click in the box into which you pasted the code and hit \"next\" again."
   ]
  },
  {
   "cell_type": "code",
   "execution_count": null,
   "id": "6d6afeaf",
   "metadata": {},
   "outputs": [],
   "source": []
  }
 ],
 "metadata": {
  "kernelspec": {
   "display_name": "Python 3 (ipykernel)",
   "language": "python",
   "name": "python3"
  },
  "language_info": {
   "codemirror_mode": {
    "name": "ipython",
    "version": 3
   },
   "file_extension": ".py",
   "mimetype": "text/x-python",
   "name": "python",
   "nbconvert_exporter": "python",
   "pygments_lexer": "ipython3",
   "version": "3.10.13"
  }
 },
 "nbformat": 4,
 "nbformat_minor": 1
}
