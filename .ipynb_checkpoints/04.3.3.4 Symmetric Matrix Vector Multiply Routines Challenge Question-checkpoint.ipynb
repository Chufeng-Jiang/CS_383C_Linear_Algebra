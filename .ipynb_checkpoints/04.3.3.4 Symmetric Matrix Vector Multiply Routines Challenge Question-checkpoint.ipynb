{
 "cells": [
  {
   "cell_type": "markdown",
   "id": "6acd49b9",
   "metadata": {},
   "source": [
    "# Symmetric Matrix Vector Multiply Routines (stored in lower triangle)"
   ]
  },
  {
   "cell_type": "markdown",
   "id": "681c7461",
   "metadata": {},
   "source": [
    "This notebook walks you through how to implement $ y := A x + y $ where $ A $ is symmetric.  The challenge is to only access the matrix by columns."
   ]
  },
  {
   "cell_type": "markdown",
   "id": "a89c97eb",
   "metadata": {},
   "source": [
    "## Getting started"
   ]
  },
  {
   "cell_type": "markdown",
   "id": "c5e06126",
   "metadata": {},
   "source": [
    "We will use some functions that are part of our laff library (of which this function will become a part) as well as some routines from the FLAME API (Application Programming Interface) that allows us to write code that closely resembles how we typeset algorithms using the FLAME notation.  These functions are imported with the \"import laff as laff\" and \"import flame\" statements."
   ]
  },
  {
   "cell_type": "markdown",
   "id": "debe4366",
   "metadata": {},
   "source": [
    "## Algorithm for the case where the matrix is stored in upper triangular part of $ A $"
   ]
  },
  {
   "cell_type": "markdown",
   "id": "04b23933",
   "metadata": {},
   "source": [
    "## The routine <br> <code> Symv_u_unb_var3( A, x, y ) </code>"
   ]
  },
  {
   "cell_type": "markdown",
   "id": "9047a8a7",
   "metadata": {},
   "source": [
    "This routine, given symmetric matrix $ A \\in \\mathbb{R}^{n \\times n} $, $ x \\in \\mathbb{R}^n $, and $ y \\in \\mathbb{R}^n $, computes $ y := A x + y $.  The \"_u_\" in the name of the routine indicates that $ A $ is stored in the upper triangular part of the matrix.\n",
    "\n",
    "The specific laff functions you may want to consider using are\n",
    "<ul>\n",
    "<li> <code> laff.dots( x, y, alpha ) </code> which computes $ \\alpha := x^T y + \\alpha $.  </li>\n",
    "<li> <code> laff.axpy( alpha, x, y ) </code> which computes $ y := \\alpha x + y $.  </li>\n",
    "</ul>\n",
    "\n",
    "Use the <a href=\"https://studio.edx.org/c4x/UTAustinX/UT.5.01x/asset/index.html\"> Spark webpage</a> to generate a code skeleton.  (Make sure you adjust the name of the routine.)"
   ]
  },
  {
   "cell_type": "code",
   "execution_count": 1,
   "id": "3864d449",
   "metadata": {},
   "outputs": [],
   "source": [
    "#Insert code here..."
   ]
  },
  {
   "cell_type": "markdown",
   "id": "ade10ad9",
   "metadata": {},
   "source": [
    "## Testing"
   ]
  },
  {
   "cell_type": "markdown",
   "id": "a93e2765",
   "metadata": {},
   "source": [
    "Let's quickly test the routine by creating a 4 x 4 matrix and related vectors, performing the computation."
   ]
  },
  {
   "cell_type": "code",
   "execution_count": 2,
   "id": "8eaea116",
   "metadata": {},
   "outputs": [
    {
     "name": "stdout",
     "output_type": "stream",
     "text": [
      "A before =\n",
      "[[0.58128164 0.3154685  0.8429511  0.54196031]\n",
      " [0.9216526  0.89189491 0.05541345 0.79622324]\n",
      " [0.01134527 0.28118779 0.79644112 0.45334377]\n",
      " [0.08747414 0.89471964 0.88704488 0.31442191]]\n",
      "x before =\n",
      "[[0.49826036]\n",
      " [0.91981899]\n",
      " [0.66608759]\n",
      " [0.14893654]]\n",
      "y before =\n",
      "[[0.36067079]\n",
      " [0.26234034]\n",
      " [0.20745563]\n",
      " [0.65058743]]\n"
     ]
    }
   ],
   "source": [
    "from numpy import random\n",
    "from numpy import matrix\n",
    "\n",
    "A = matrix( random.rand( 4,4 ) )\n",
    "x = matrix( random.rand( 4,1 ) )\n",
    "y = matrix( random.rand( 4,1 ) )\n",
    "yold = matrix( random.rand( 4,1 ) )\n",
    "\n",
    "print( 'A before =' )\n",
    "print( A )\n",
    "\n",
    "print( 'x before =' )\n",
    "print( x )\n",
    "\n",
    "print( 'y before =' )\n",
    "print( y )"
   ]
  },
  {
   "cell_type": "code",
   "execution_count": 4,
   "id": "62f7b7f9",
   "metadata": {},
   "outputs": [
    {
     "ename": "NameError",
     "evalue": "name 'Symv_u_unb_var3' is not defined",
     "output_type": "error",
     "traceback": [
      "\u001b[1;31m---------------------------------------------------------------------------\u001b[0m",
      "\u001b[1;31mNameError\u001b[0m                                 Traceback (most recent call last)",
      "Cell \u001b[1;32mIn[4], line 9\u001b[0m\n\u001b[0;32m      5\u001b[0m Asymm \u001b[38;5;241m=\u001b[39m np\u001b[38;5;241m.\u001b[39mtriu( A ) \u001b[38;5;241m+\u001b[39m np\u001b[38;5;241m.\u001b[39mtranspose( np\u001b[38;5;241m.\u001b[39mtriu( A, \u001b[38;5;241m1\u001b[39m ) )\n\u001b[0;32m      7\u001b[0m laff\u001b[38;5;241m.\u001b[39mcopy( y, yold )   \u001b[38;5;66;03m# save the original vector y\u001b[39;00m\n\u001b[1;32m----> 9\u001b[0m \u001b[43mSymv_u_unb_var3\u001b[49m( A, x, y )\n\u001b[0;32m     11\u001b[0m \u001b[38;5;28mprint\u001b[39m( \u001b[38;5;124m'\u001b[39m\u001b[38;5;124my after =\u001b[39m\u001b[38;5;124m'\u001b[39m )\n\u001b[0;32m     12\u001b[0m \u001b[38;5;28mprint\u001b[39m( y )\n",
      "\u001b[1;31mNameError\u001b[0m: name 'Symv_u_unb_var3' is not defined"
     ]
    }
   ],
   "source": [
    "import numpy as np\n",
    "import laff as laff\n",
    "\n",
    "# Notice that A is not symmetric.  We now \"symmetrize it\"\n",
    "Asymm = np.triu( A ) + np.transpose( np.triu( A, 1 ) )\n",
    "\n",
    "laff.copy( y, yold )   # save the original vector y\n",
    "\n",
    "Symv_u_unb_var3( A, x, y )\n",
    "\n",
    "print( 'y after =' )\n",
    "print( y )\n",
    "\n",
    "print( 'y - ( Asymm * x + yold ) = ' )\n",
    "print( y - ( Asymm * x + yold ) )"
   ]
  },
  {
   "cell_type": "markdown",
   "id": "4b0f1635",
   "metadata": {},
   "source": [
    "Bingo, it seems to work!  (Notice that we are doing floating point computations, which means that due to rounding you may not get an exact \"0\".)"
   ]
  },
  {
   "cell_type": "markdown",
   "id": "1a6f1e8c",
   "metadata": {},
   "source": [
    "## Watch your code in action!"
   ]
  },
  {
   "cell_type": "markdown",
   "id": "839200c4",
   "metadata": {},
   "source": [
    "Copy and paste the code into <a href=\"http://edx-org-utaustinx.s3.amazonaws.com/UT501x/PictureFlame/PictureFLAME.html\"> PictureFLAME </a>, a webpage where you can watch your routine in action.  Just cut and paste into the box.  \n",
    "\n",
    "Disclaimer: we implemented a VERY simple interpreter.  If you do something wrong, we cannot guarantee the results.  But if you do it right, you are in for a treat.\n",
    "\n",
    "If you want to reset the problem, just click in the box into which you pasted the code and hit \"next\" again."
   ]
  },
  {
   "cell_type": "markdown",
   "id": "d0132992",
   "metadata": {},
   "source": [
    "## Algorithm for the case where the matrix is stored in lower triangular part of $ A $"
   ]
  },
  {
   "cell_type": "markdown",
   "id": "9ce4456e",
   "metadata": {},
   "source": [
    "## The routine <br> <code> Symv_l_unb_var3( A, x, y ) </code>"
   ]
  },
  {
   "cell_type": "markdown",
   "id": "3ff77253",
   "metadata": {},
   "source": [
    "This routine, given symmetric matrix $ A \\in \\mathbb{R}^{n \\times n} $, $ x \\in \\mathbb{R}^n $, and $ y \\in \\mathbb{R}^n $, computes $ y := A x + y $.  The \"_l_\" in the name of the routine indicates that $ A $ is stored in the lower triangular part of the matrix.\n",
    "\n",
    "The specific laff functions you may want to consider using are\n",
    "<ul>\n",
    "<li> <code> laff.dots( x, y, alpha ) </code> which computes $ \\alpha := x^T y + \\alpha $.  </li>\n",
    "<li> <code> laff.axpy( alpha, x, y ) </code> which computes $ y := \\alpha x + y $.  </li>\n",
    "</ul>\n",
    "\n",
    "Use the <a href=\"https://studio.edx.org/c4x/UTAustinX/UT.5.01x/asset/index.html\"> Spark webpage</a> to generate a code skeleton.  (Make sure you adjust the name of the routine.)"
   ]
  },
  {
   "cell_type": "code",
   "execution_count": null,
   "id": "152fd4a5",
   "metadata": {},
   "outputs": [],
   "source": [
    "#Insert code here..."
   ]
  },
  {
   "cell_type": "markdown",
   "id": "1a909c0b",
   "metadata": {},
   "source": [
    "## Testing"
   ]
  },
  {
   "cell_type": "markdown",
   "id": "d77f1e3f",
   "metadata": {},
   "source": [
    "Let's quickly test the routine by creating a 4 x 4 matrix and related vectors, performing the computation."
   ]
  },
  {
   "cell_type": "code",
   "execution_count": null,
   "id": "ee24e33d",
   "metadata": {},
   "outputs": [],
   "source": [
    "from numpy import random\n",
    "from numpy import matrix\n",
    "\n",
    "A = matrix( random.rand( 4,4 ) )\n",
    "x = matrix( random.rand( 4,1 ) )\n",
    "y = matrix( random.rand( 4,1 ) )\n",
    "yold = matrix( random.rand( 4,1 ) )\n",
    "\n",
    "print( 'A before =' )\n",
    "print( A )\n",
    "\n",
    "print( 'x before =' )\n",
    "print( x )\n",
    "\n",
    "print( 'y before =' )\n",
    "print( y )"
   ]
  },
  {
   "cell_type": "code",
   "execution_count": null,
   "id": "82ae8756",
   "metadata": {},
   "outputs": [],
   "source": [
    "import numpy as np\n",
    "\n",
    "# Notice that A is not symmetric.  We now \"symmetrize it\"\n",
    "Asymm = np.tril( A ) + np.transpose( np.tril( A, -1 ) )\n",
    "\n",
    "laff.copy( y, yold )   # save the original vector y\n",
    "\n",
    "Symv_l_unb_var3( A, x, y )\n",
    "\n",
    "print( 'y after =' )\n",
    "print( y )\n",
    "\n",
    "print( 'y - ( Asymm * x + yold ) = ' )\n",
    "print( y - ( Asymm * x + yold ) )"
   ]
  },
  {
   "cell_type": "markdown",
   "id": "5d9c0b4a",
   "metadata": {},
   "source": [
    "Bingo, it seems to work!  (Notice that we are doing floating point computations, which means that due to rounding you may not get an exact \"0\".)"
   ]
  },
  {
   "cell_type": "markdown",
   "id": "8ea87fd3",
   "metadata": {},
   "source": [
    "## Watch your code in action!"
   ]
  },
  {
   "cell_type": "markdown",
   "id": "413f58cd",
   "metadata": {},
   "source": [
    "Copy and paste the code into <a href=\"http://edx-org-utaustinx.s3.amazonaws.com/UT501x/PictureFlame/PictureFLAME.html\"> PictureFLAME </a>, a webpage where you can watch your routine in action.  Just cut and paste into the box.  \n",
    "\n",
    "Disclaimer: we implemented a VERY simple interpreter.  If you do something wrong, we cannot guarantee the results.  But if you do it right, you are in for a treat.\n",
    "\n",
    "If you want to reset the problem, just click in the box into which you pasted the code and hit \"next\" again."
   ]
  },
  {
   "cell_type": "code",
   "execution_count": null,
   "id": "c984c9b6",
   "metadata": {},
   "outputs": [],
   "source": []
  }
 ],
 "metadata": {
  "kernelspec": {
   "display_name": "Python 3 (ipykernel)",
   "language": "python",
   "name": "python3"
  },
  "language_info": {
   "codemirror_mode": {
    "name": "ipython",
    "version": 3
   },
   "file_extension": ".py",
   "mimetype": "text/x-python",
   "name": "python",
   "nbconvert_exporter": "python",
   "pygments_lexer": "ipython3",
   "version": "3.10.13"
  }
 },
 "nbformat": 4,
 "nbformat_minor": 1
}
