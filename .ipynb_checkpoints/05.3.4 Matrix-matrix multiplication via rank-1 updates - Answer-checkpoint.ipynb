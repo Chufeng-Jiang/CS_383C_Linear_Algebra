{
 "cells": [
  {
   "cell_type": "markdown",
   "id": "a56d085e",
   "metadata": {},
   "source": [
    "# Matrix-matrix multiplication via rank-1 updates"
   ]
  },
  {
   "cell_type": "markdown",
   "id": "7ac52f4d",
   "metadata": {},
   "source": [
    "We continue to look at how the FLAMEPy API can be used to implement different matrix-matrix multiplication algorithms.  "
   ]
  },
  {
   "cell_type": "markdown",
   "id": "e4f65c64",
   "metadata": {},
   "source": [
    "First, we create some matrices."
   ]
  },
  {
   "cell_type": "code",
   "execution_count": 1,
   "id": "0e06a1af",
   "metadata": {},
   "outputs": [
    {
     "name": "stdout",
     "output_type": "stream",
     "text": [
      "C = \n",
      "[[0.73234942 0.95654744 0.73065344]\n",
      " [0.06058527 0.26518135 0.05949556]\n",
      " [0.26368915 0.64480221 0.39025924]\n",
      " [0.18527076 0.79065465 0.69981963]]\n",
      "A = \n",
      "[[0.3456013  0.8246311  0.0938523  0.81712455 0.07526462]\n",
      " [0.67799278 0.34871588 0.75069561 0.1232985  0.96173853]\n",
      " [0.44541298 0.84094292 0.46018034 0.76823269 0.92676968]\n",
      " [0.89349538 0.64991332 0.33405298 0.24503337 0.46392869]]\n",
      "B = \n",
      "[[0.14514004 0.03103341 0.57079897]\n",
      " [0.97667934 0.28860119 0.33909399]\n",
      " [0.30569733 0.34647187 0.97702337]\n",
      " [0.6783205  0.53637549 0.42226538]\n",
      " [0.57710241 0.00750559 0.63989082]]\n"
     ]
    }
   ],
   "source": [
    "import numpy as np\n",
    "\n",
    "m = 4\n",
    "n = 3\n",
    "k = 5\n",
    "\n",
    "C = np.matrix( np.random.random( (m, n) ) )\n",
    "print( 'C = ' )\n",
    "print( C )\n",
    "\n",
    "Cold = np.matrix( np.zeros( (m,n ) ) )\n",
    "Cold = np.matrix( np.copy( C ) )           # an alternative way of doing a \"hard\" copy, in this case of a matrix\n",
    "    \n",
    "A = np.matrix( np.random.random( (m, k) ) )\n",
    "print( 'A = ' )\n",
    "print( A )\n",
    "\n",
    "B = np.matrix( np.random.random( (k, n) ) )\n",
    "print( 'B = ' )\n",
    "print( B )"
   ]
  },
  {
   "cell_type": "markdown",
   "id": "dac2c96d",
   "metadata": {},
   "source": [
    "## <h2>The algorithm  </h2>  <image src=\"https://studio.edx.org/c4x/UTAustinX/UT.5.01x/asset/Gemm_nn_unb_var3.png\" alt=\"Matrix-matrix multiplication via rank-1 updates picture\" width=\"80%\">"
   ]
  },
  {
   "cell_type": "markdown",
   "id": "8d7ade74",
   "metadata": {},
   "source": [
    "<h2> The routine <code> Gemm_nn_unb_var3( A, B, C ) </code> </h2>\n",
    "\n",
    "This routine computes $ C := A B + C $ via rank-1 updates.  The \"\\_nn\\_\" means that this is the \"No transpose, No transpose\" case of matrix multiplication.  \n",
    "The reason for this is that the operations $ C := A^T B + C $ (\"\\_tn\\_\" or \"Transpose, No transpose\"), $ C := A B^T + C $ (\"\\_nt\\_\" or \"No transpose, Transpose\"), and $ C := A^T B^T + C $ (\"\\_tt\\_\" or \"Transpose, Transpose\") are also encountered.  \n",
    "    \n",
    "The specific laff function we will use is\n",
    "<ul>\n",
    "<li> <code> laff.ger( alpha, x, y, A ) </code> which computes the rank-1 update (adds a multiple of an outer product to a matrix)\n",
    "$ A := \\alpha x y^T + A $. \n",
    "    </li>\n",
    "</ul>\n",
    "\n",
    "Use the <a href=\"https://studio.edx.org/c4x/UTAustinX/UT.5.01x/asset/index.html\"> Spark webpage</a> to generate a code skeleton.  (Make sure you adjust the name of the routine.)"
   ]
  },
  {
   "cell_type": "code",
   "execution_count": 2,
   "id": "fa7913e9",
   "metadata": {},
   "outputs": [],
   "source": [
    "import flame\n",
    "import laff as laff\n",
    "\n",
    "def Gemm_nn_unb_var3(A, B, C):\n",
    "\n",
    "    AL, AR = flame.part_1x2(A, \\\n",
    "                            0, 'LEFT')\n",
    "\n",
    "    BT, \\\n",
    "    BB  = flame.part_2x1(B, \\\n",
    "                         0, 'TOP')\n",
    "\n",
    "    while AL.shape[1] < A.shape[1]:\n",
    "\n",
    "        A0, a1, A2 = flame.repart_1x2_to_1x3(AL, AR, \\\n",
    "                                             1, 'RIGHT')\n",
    "\n",
    "        B0,  \\\n",
    "        b1t, \\\n",
    "        B2   = flame.repart_2x1_to_3x1(BT, \\\n",
    "                                       BB, \\\n",
    "                                       1, 'BOTTOM')\n",
    "\n",
    "        #------------------------------------------------------------#\n",
    "\n",
    "        laff.ger( 1.0, a1, b1t, C )\n",
    "\n",
    "        #------------------------------------------------------------#\n",
    "\n",
    "        AL, AR = flame.cont_with_1x3_to_1x2(A0, a1, A2, \\\n",
    "                                            'LEFT')\n",
    "\n",
    "        BT, \\\n",
    "        BB  = flame.cont_with_3x1_to_2x1(B0,  \\\n",
    "                                         b1t, \\\n",
    "                                         B2,  \\\n",
    "                                         'TOP')\n",
    "\n"
   ]
  },
  {
   "cell_type": "code",
   "execution_count": 3,
   "id": "877e849a",
   "metadata": {},
   "outputs": [
    {
     "name": "stdout",
     "output_type": "stream",
     "text": [
      "C - ( Cold + A * B )\n",
      "[[-4.44089210e-16 -2.22044605e-16  2.22044605e-16]\n",
      " [ 0.00000000e+00  1.11022302e-16  0.00000000e+00]\n",
      " [-4.44089210e-16  2.22044605e-16  0.00000000e+00]\n",
      " [ 0.00000000e+00  0.00000000e+00  0.00000000e+00]]\n"
     ]
    }
   ],
   "source": [
    "C = np.matrix( np.copy( Cold ) )               # restore C \n",
    "\n",
    "Gemm_nn_unb_var3( A, B, C )\n",
    "\n",
    "print( 'C - ( Cold + A * B )' )\n",
    "print( C - ( Cold + A * B ) )"
   ]
  },
  {
   "cell_type": "markdown",
   "id": "2a614769",
   "metadata": {},
   "source": [
    "Bingo! It works!"
   ]
  },
  {
   "cell_type": "markdown",
   "id": "e8d32a05",
   "metadata": {},
   "source": [
    "## Watch the algorithm at work!"
   ]
  },
  {
   "cell_type": "markdown",
   "id": "2931a25e",
   "metadata": {},
   "source": [
    "Copy and paste the code into <a href=\"http://edx-org-utaustinx.s3.amazonaws.com/UT501x/PictureFlame/PictureFLAME.html\"> PictureFLAME </a>, a webpage where you can watch your routine in action.  Just cut and paste into the box.  \n",
    "\n",
    "Disclaimer: we implemented a VERY simple interpreter.  If you do something wrong, we cannot guarantee the results.  But if you do it right, you are in for a treat.\n",
    "\n",
    "If you want to reset the problem, just click in the box into which you pasted the code and hit \"next\" again."
   ]
  }
 ],
 "metadata": {
  "kernelspec": {
   "display_name": "Python 3 (ipykernel)",
   "language": "python",
   "name": "python3"
  },
  "language_info": {
   "codemirror_mode": {
    "name": "ipython",
    "version": 3
   },
   "file_extension": ".py",
   "mimetype": "text/x-python",
   "name": "python",
   "nbconvert_exporter": "python",
   "pygments_lexer": "ipython3",
   "version": "3.10.13"
  }
 },
 "nbformat": 4,
 "nbformat_minor": 1
}
