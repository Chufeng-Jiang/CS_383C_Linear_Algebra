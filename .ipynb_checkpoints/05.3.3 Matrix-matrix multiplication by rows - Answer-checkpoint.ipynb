{
 "cells": [
  {
   "cell_type": "markdown",
   "id": "d5c43ef9",
   "metadata": {},
   "source": [
    "# Matrix-matrix multiplication by rows"
   ]
  },
  {
   "cell_type": "markdown",
   "id": "91d82a99",
   "metadata": {},
   "source": [
    "We continue to look at how the FLAMEPy API can be used to implement different matrix-matrix multiplication algorithms.  "
   ]
  },
  {
   "cell_type": "markdown",
   "id": "c56539c1",
   "metadata": {},
   "source": [
    "First, we create some matrices."
   ]
  },
  {
   "cell_type": "code",
   "execution_count": 1,
   "id": "e728816d",
   "metadata": {},
   "outputs": [
    {
     "name": "stdout",
     "output_type": "stream",
     "text": [
      "C = \n",
      "[[0.68073396 0.98569509 0.10501375]\n",
      " [0.51967546 0.78631201 0.49508307]\n",
      " [0.54368462 0.70280862 0.10598686]\n",
      " [0.31429729 0.07802089 0.11451586]]\n",
      "A = \n",
      "[[0.89005842 0.27064834 0.75206284 0.35586619 0.48055606]\n",
      " [0.79858772 0.55317881 0.61630488 0.98104195 0.28963064]\n",
      " [0.06398331 0.9227011  0.95929183 0.50538821 0.26555641]\n",
      " [0.27559057 0.58197859 0.49382578 0.49327044 0.6058373 ]]\n",
      "B = \n",
      "[[0.36394974 0.39097911 0.2326965 ]\n",
      " [0.95608722 0.62158843 0.57330315]\n",
      " [0.23617553 0.29450446 0.24878499]\n",
      " [0.62727623 0.96501086 0.31917138]\n",
      " [0.27205542 0.94674372 0.14142141]]\n"
     ]
    }
   ],
   "source": [
    "import numpy as np\n",
    "\n",
    "m = 4\n",
    "n = 3\n",
    "k = 5\n",
    "\n",
    "C = np.matrix( np.random.random( (m, n) ) )\n",
    "print( 'C = ' )\n",
    "print( C )\n",
    "\n",
    "Cold = np.matrix( np.zeros( (m,n ) ) )\n",
    "Cold = np.matrix( np.copy( C ) )           # an alternative way of doing a \"hard\" copy, in this case of a matrix\n",
    "    \n",
    "A = np.matrix( np.random.random( (m, k) ) )\n",
    "print( 'A = ' )\n",
    "print( A )\n",
    "\n",
    "B = np.matrix( np.random.random( (k, n) ) )\n",
    "print( 'B = ' )\n",
    "print( B )"
   ]
  },
  {
   "cell_type": "markdown",
   "id": "67e58c46",
   "metadata": {},
   "source": [
    "## <h2>The algorithm  </h2>  <image src=\"https://studio.edx.org/c4x/UTAustinX/UT.5.01x/asset/Gemm_nn_unb_var2.png\" alt=\"Matrix-matrix multiplication by rows picture\" width=\"80%\">"
   ]
  },
  {
   "cell_type": "markdown",
   "id": "bcd69ee9",
   "metadata": {},
   "source": [
    "<h2> The routine <code> Gemm_nn_unb_var2( A, B, C ) </code> </h2>\n",
    "\n",
    "This routine computes $ C := A B + C $ by rows.  The \"\\_nn\\_\" means that this is the \"No transpose, No transpose\" case of matrix multiplication.  \n",
    "The reason for this is that the operations $ C := A^T B + C $ (\"\\_tn\\_\" or \"Transpose, No transpose\"), $ C := A B^T + C $ (\"\\_nt\\_\" or \"No transpose, Transpose\"), and $ C := A^T B^T + C $ (\"\\_tt\\_\" or \"Transpose, Transpose\") are also encountered.  \n",
    "    \n",
    "The specific laff function we will use is\n",
    "<ul>\n",
    "<li> <code> laff.gemv( trans, alpha, A, x, beta, y ) </code> which computes \n",
    "$ y := \\alpha A x + \\beta y $ or $ y := \\alpha A^T x + \\beta y $, depending on \n",
    "        parameter <code> trans</code>.  In particular, \n",
    "        <ul>\n",
    "        <li>\n",
    "        <code> laff.gemv( 'No transpose', alpha, A, x, beta, y ) </code> computes $ y := \\alpha A x + \\beta y $.\n",
    "            </li>\n",
    "        <li>\n",
    "        <code> laff.gemv( 'Transpose', alpha, A, x, beta, y ) </code> computes $ y := \\alpha A^T x + \\beta y $.\n",
    "            </li>\n",
    "            </ul>\n",
    "    </li>\n",
    "</ul>\n",
    "\n",
    "Use the <a href=\"https://studio.edx.org/c4x/UTAustinX/UT.5.01x/asset/index.html\"> Spark webpage</a> to generate a code skeleton.  (Make sure you adjust the name of the routine.)"
   ]
  },
  {
   "cell_type": "code",
   "execution_count": 2,
   "id": "e43fe17c",
   "metadata": {},
   "outputs": [],
   "source": [
    "import flame\n",
    "import laff as laff\n",
    "\n",
    "def Gemm_nn_unb_var2(A, B, C):\n",
    "\n",
    "    AT, \\\n",
    "    AB  = flame.part_2x1(A, \\\n",
    "                         0, 'TOP')\n",
    "\n",
    "    CT, \\\n",
    "    CB  = flame.part_2x1(C, \\\n",
    "                         0, 'TOP')\n",
    "\n",
    "    while AT.shape[0] < A.shape[0]:\n",
    "\n",
    "        A0,  \\\n",
    "        a1t, \\\n",
    "        A2   = flame.repart_2x1_to_3x1(AT, \\\n",
    "                                       AB, \\\n",
    "                                       1, 'BOTTOM')\n",
    "\n",
    "        C0,  \\\n",
    "        c1t, \\\n",
    "        C2   = flame.repart_2x1_to_3x1(CT, \\\n",
    "                                       CB, \\\n",
    "                                       1, 'BOTTOM')\n",
    "\n",
    "        #------------------------------------------------------------#\n",
    "\n",
    "        laff.gemv( 'Transpose', 1.0, B, a1t, 1.0, c1t )\n",
    "\n",
    "        #------------------------------------------------------------#\n",
    "\n",
    "        AT, \\\n",
    "        AB  = flame.cont_with_3x1_to_2x1(A0,  \\\n",
    "                                         a1t, \\\n",
    "                                         A2,  \\\n",
    "                                         'TOP')\n",
    "\n",
    "        CT, \\\n",
    "        CB  = flame.cont_with_3x1_to_2x1(C0,  \\\n",
    "                                         c1t, \\\n",
    "                                         C2,  \\\n",
    "                                         'TOP')\n",
    "\n",
    "    flame.merge_2x1(CT, \\\n",
    "                    CB, C)\n",
    "\n"
   ]
  },
  {
   "cell_type": "code",
   "execution_count": 3,
   "id": "f80a0531",
   "metadata": {},
   "outputs": [
    {
     "name": "stdout",
     "output_type": "stream",
     "text": [
      "C - ( Cold + A * B )\n",
      "[[0.00000000e+00 0.00000000e+00 1.11022302e-16]\n",
      " [0.00000000e+00 0.00000000e+00 0.00000000e+00]\n",
      " [0.00000000e+00 0.00000000e+00 2.22044605e-16]\n",
      " [0.00000000e+00 0.00000000e+00 1.11022302e-16]]\n"
     ]
    }
   ],
   "source": [
    "C = np.matrix( np.copy( Cold ) )               # restore C \n",
    "\n",
    "Gemm_nn_unb_var2( A, B, C )\n",
    "\n",
    "print( 'C - ( Cold + A * B )' )\n",
    "print( C - ( Cold + A * B ) )"
   ]
  },
  {
   "cell_type": "markdown",
   "id": "a7884166",
   "metadata": {},
   "source": [
    "Bingo! It works!"
   ]
  },
  {
   "cell_type": "markdown",
   "id": "660be577",
   "metadata": {},
   "source": [
    "## Watch the algorithm at work!"
   ]
  },
  {
   "cell_type": "markdown",
   "id": "06e8850c",
   "metadata": {},
   "source": [
    "Copy and paste the code into <a href=\"http://edx-org-utaustinx.s3.amazonaws.com/UT501x/PictureFlame/PictureFLAME.html\"> PictureFLAME </a>, a webpage where you can watch your routine in action.  Just cut and paste into the box.  \n",
    "\n",
    "Disclaimer: we implemented a VERY simple interpreter.  If you do something wrong, we cannot guarantee the results.  But if you do it right, you are in for a treat.\n",
    "\n",
    "If you want to reset the problem, just click in the box into which you pasted the code and hit \"next\" again."
   ]
  },
  {
   "cell_type": "code",
   "execution_count": null,
   "metadata": {},
   "outputs": [],
   "source": []
  }
 ],
 "metadata": {
  "kernelspec": {
   "display_name": "Python 3 (ipykernel)",
   "language": "python",
   "name": "python3"
  },
  "language_info": {
   "codemirror_mode": {
    "name": "ipython",
    "version": 3
   },
   "file_extension": ".py",
   "mimetype": "text/x-python",
   "name": "python",
   "nbconvert_exporter": "python",
   "pygments_lexer": "ipython3",
   "version": "3.10.13"
  }
 },
 "nbformat": 4,
 "nbformat_minor": 1
}
