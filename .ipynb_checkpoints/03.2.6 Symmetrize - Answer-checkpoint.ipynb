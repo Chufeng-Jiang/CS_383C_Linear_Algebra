{
 "cells": [
  {
   "cell_type": "markdown",
   "id": "5f2f35f1",
   "metadata": {},
   "source": [
    "# \"Symmetrizing\" a matrix"
   ]
  },
  {
   "cell_type": "markdown",
   "id": "5a875c07",
   "metadata": {},
   "source": [
    "This notebook walks you through how to implement simple functions that make a square matrix symmetric by copying the lower triangular part in its upper triangular part (after transposing)."
   ]
  },
  {
   "cell_type": "markdown",
   "id": "e6d02628",
   "metadata": {},
   "source": [
    "## Getting started"
   ]
  },
  {
   "cell_type": "markdown",
   "id": "23af821d",
   "metadata": {},
   "source": [
    "We will use some functions that are part of our laff library (of which this function will become a part) as well as some routines from the FLAME API (Application Programming Interface) that allows us to write code that closely resembles how we typeset algorithms using the FLAME notation.  These functions are imported with the \"import laff as laff\" and \"import flame\" statements."
   ]
  },
  {
   "cell_type": "markdown",
   "id": "db2d2d80",
   "metadata": {},
   "source": [
    "## Algorithm"
   ]
  },
  {
   "cell_type": "markdown",
   "id": "6b68d22a",
   "metadata": {},
   "source": [
    "<image src=\"https://studio.edx.org/c4x/UTAustinX/UT.5.01x/asset/326SymmetrizeAlgorithm.png\" alt=\"Make matrix into a triangular matrix\" width=\"75%\">"
   ]
  },
  {
   "cell_type": "markdown",
   "id": "32062d67",
   "metadata": {},
   "source": [
    "## The routine"
   ]
  },
  {
   "cell_type": "markdown",
   "id": "cda2fa59",
   "metadata": {},
   "source": [
    "Write your <br>\n",
    "<code> Symmetrize_from_lower_triangle_unb_var1( A ) </code> <br>\n",
    "routine, using the <a href=\"https://studio.edx.org/c4x/UTAustinX/UT.5.01x/asset/index.html\"> Spark webpage </a>."
   ]
  },
  {
   "cell_type": "code",
   "execution_count": 1,
   "id": "3d441845",
   "metadata": {},
   "outputs": [],
   "source": [
    "import flame\n",
    "import laff as laff\n",
    "\n",
    "def Symmetrize_from_lower_triangle_unb_var1(A):\n",
    "\n",
    "    ATL, ATR, \\\n",
    "    ABL, ABR  = flame.part_2x2(A, \\\n",
    "                               0, 0, 'TL')\n",
    "\n",
    "    while ATL.shape[0] < A.shape[0]:\n",
    "\n",
    "        A00,  a01,     A02,  \\\n",
    "        a10t, alpha11, a12t, \\\n",
    "        A20,  a21,     A22   = flame.repart_2x2_to_3x3(ATL, ATR, \\\n",
    "                                                       ABL, ABR, \\\n",
    "                                                       1, 1, 'BR')\n",
    "\n",
    "        #------------------------------------------------------------#\n",
    "\n",
    "        laff.copy( a10t, a01 )\n",
    "\n",
    "        #------------------------------------------------------------#\n",
    "\n",
    "        ATL, ATR, \\\n",
    "        ABL, ABR  = flame.cont_with_3x3_to_2x2(A00,  a01,     A02,  \\\n",
    "                                               a10t, alpha11, a12t, \\\n",
    "                                               A20,  a21,     A22,  \\\n",
    "                                               'TL')\n",
    "\n",
    "    flame.merge_2x2(ATL, ATR, \\\n",
    "                    ABL, ABR, A)\n",
    "\n",
    "\n",
    "\n"
   ]
  },
  {
   "cell_type": "markdown",
   "id": "57fb5adc",
   "metadata": {},
   "source": [
    "## Testing"
   ]
  },
  {
   "cell_type": "markdown",
   "id": "ae675507",
   "metadata": {},
   "source": [
    "Let's quickly test the routine by creating a 5 x 5 matrix and then executing the routine."
   ]
  },
  {
   "cell_type": "code",
   "execution_count": 2,
   "id": "39488640",
   "metadata": {},
   "outputs": [
    {
     "name": "stdout",
     "output_type": "stream",
     "text": [
      "A before =\n",
      "[[0.38540878 0.47719194 0.11854039 0.519877   0.80586187]\n",
      " [0.61174567 0.59594884 0.27512261 0.91223396 0.83569662]\n",
      " [0.27934249 0.25818114 0.27248947 0.34409559 0.53809361]\n",
      " [0.36170055 0.47070328 0.54390411 0.60271339 0.2620656 ]\n",
      " [0.38593037 0.97678706 0.03148608 0.48344497 0.33911721]]\n"
     ]
    }
   ],
   "source": [
    "from numpy import random\n",
    "from numpy import matrix\n",
    "\n",
    "A = matrix( random.rand( 5,5 ) )\n",
    "\n",
    "print( 'A before =' )\n",
    "print( A )"
   ]
  },
  {
   "cell_type": "code",
   "execution_count": 3,
   "id": "dcb11d61",
   "metadata": {},
   "outputs": [
    {
     "name": "stdout",
     "output_type": "stream",
     "text": [
      "A after =\n",
      "[[0.38540878 0.61174567 0.27934249 0.36170055 0.38593037]\n",
      " [0.61174567 0.59594884 0.25818114 0.47070328 0.97678706]\n",
      " [0.27934249 0.25818114 0.27248947 0.54390411 0.03148608]\n",
      " [0.36170055 0.47070328 0.54390411 0.60271339 0.48344497]\n",
      " [0.38593037 0.97678706 0.03148608 0.48344497 0.33911721]]\n"
     ]
    }
   ],
   "source": [
    "Symmetrize_from_lower_triangle_unb_var1( A )\n",
    "\n",
    "print( 'A after =' )\n",
    "print( A )"
   ]
  },
  {
   "cell_type": "markdown",
   "id": "b7cb441c",
   "metadata": {},
   "source": [
    "Bingo, it seems to work!"
   ]
  },
  {
   "cell_type": "markdown",
   "id": "8789de2a",
   "metadata": {},
   "source": [
    "## Try it yourself (Homework 3.2.6.5)"
   ]
  },
  {
   "cell_type": "markdown",
   "id": "53cb8914",
   "metadata": {},
   "source": [
    "Now, an alternative routine that sets the upper triangular part by rows."
   ]
  },
  {
   "cell_type": "markdown",
   "id": "f83b3388",
   "metadata": {},
   "source": [
    "Use the <a href=\"https://studio.edx.org/c4x/UTAustinX/UT.5.01x/asset/index.html\"> Spark webpage </a> to generate the routine <br>\n",
    "<code> Symmetrize_from_lower_triangle_unb_var2( A )</code>.<br>"
   ]
  },
  {
   "cell_type": "code",
   "execution_count": 4,
   "id": "85f623c6",
   "metadata": {},
   "outputs": [],
   "source": [
    "import flame\n",
    "import laff as laff\n",
    "\n",
    "def Symmetrize_from_lower_triangle_unb_var2(A):\n",
    "\n",
    "    ATL, ATR, \\\n",
    "    ABL, ABR  = flame.part_2x2(A, \\\n",
    "                               0, 0, 'TL')\n",
    "\n",
    "    while ATL.shape[0] < A.shape[0]:\n",
    "\n",
    "        A00,  a01,     A02,  \\\n",
    "        a10t, alpha11, a12t, \\\n",
    "        A20,  a21,     A22   = flame.repart_2x2_to_3x3(ATL, ATR, \\\n",
    "                                                       ABL, ABR, \\\n",
    "                                                       1, 1, 'BR')\n",
    "\n",
    "        #------------------------------------------------------------#\n",
    "\n",
    "        laff.copy( a21, a12t )\n",
    "\n",
    "        #------------------------------------------------------------#\n",
    "\n",
    "        ATL, ATR, \\\n",
    "        ABL, ABR  = flame.cont_with_3x3_to_2x2(A00,  a01,     A02,  \\\n",
    "                                               a10t, alpha11, a12t, \\\n",
    "                                               A20,  a21,     A22,  \\\n",
    "                                               'TL')\n",
    "\n",
    "    flame.merge_2x2(ATL, ATR, \\\n",
    "                    ABL, ABR, A)\n",
    "\n",
    "\n",
    "\n",
    "\n"
   ]
  },
  {
   "cell_type": "markdown",
   "id": "b4bec56b",
   "metadata": {},
   "source": [
    "Test your routine with the following"
   ]
  },
  {
   "cell_type": "code",
   "execution_count": 5,
   "id": "c8682d74",
   "metadata": {},
   "outputs": [
    {
     "name": "stdout",
     "output_type": "stream",
     "text": [
      "A before =\n",
      "[[0.47834562 0.39737475 0.62796274 0.58049916 0.63401502]\n",
      " [0.68276646 0.00218469 0.61526664 0.79364245 0.77199596]\n",
      " [0.56797996 0.20836319 0.75004778 0.22409205 0.35141436]\n",
      " [0.62631338 0.64678803 0.47296022 0.50962458 0.52472075]\n",
      " [0.2227103  0.19431942 0.07999915 0.72925182 0.57986032]]\n",
      "A after =\n",
      "[[0.47834562 0.68276646 0.56797996 0.62631338 0.2227103 ]\n",
      " [0.68276646 0.00218469 0.20836319 0.64678803 0.19431942]\n",
      " [0.56797996 0.20836319 0.75004778 0.47296022 0.07999915]\n",
      " [0.62631338 0.64678803 0.47296022 0.50962458 0.72925182]\n",
      " [0.2227103  0.19431942 0.07999915 0.72925182 0.57986032]]\n"
     ]
    }
   ],
   "source": [
    "from numpy import random\n",
    "from numpy import matrix\n",
    "\n",
    "A = matrix( random.rand( 5,5 ) )\n",
    "\n",
    "print( 'A before =' )\n",
    "print( A )\n",
    "\n",
    "Symmetrize_from_lower_triangle_unb_var2( A )\n",
    "print( 'A after =' )\n",
    "print( A )"
   ]
  },
  {
   "cell_type": "markdown",
   "id": "3b5b3c22",
   "metadata": {},
   "source": [
    "## Watch your code in action!"
   ]
  },
  {
   "cell_type": "markdown",
   "id": "8fe6fc50",
   "metadata": {},
   "source": [
    "Copy and paste the code into <a href=\"http://edx-org-utaustinx.s3.amazonaws.com/UT501x/PictureFlame/PictureFLAME.html\"> PictureFLAME </a>, a webpage where you can watch your routine in action.  Just cut and paste into the box.  \n",
    "\n",
    "Disclaimer: we implemented a VERY simple interpreter.  If you do something wrong, we cannot guarantee the results.  But if you do it right, you are in for a treat.\n",
    "\n",
    "If you want to reset the problem, just click in the box into which you pasted the code and hit \"next\" again."
   ]
  }
 ],
 "metadata": {
  "kernelspec": {
   "display_name": "Python 3 (ipykernel)",
   "language": "python",
   "name": "python3"
  },
  "language_info": {
   "codemirror_mode": {
    "name": "ipython",
    "version": 3
   },
   "file_extension": ".py",
   "mimetype": "text/x-python",
   "name": "python",
   "nbconvert_exporter": "python",
   "pygments_lexer": "ipython3",
   "version": "3.10.13"
  }
 },
 "nbformat": 4,
 "nbformat_minor": 1
}
