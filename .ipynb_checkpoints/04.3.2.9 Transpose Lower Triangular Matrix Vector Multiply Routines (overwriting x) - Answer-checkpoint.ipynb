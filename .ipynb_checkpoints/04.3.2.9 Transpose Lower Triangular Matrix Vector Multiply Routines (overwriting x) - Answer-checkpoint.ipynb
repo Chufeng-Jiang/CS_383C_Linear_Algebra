{
 "cells": [
  {
   "cell_type": "markdown",
   "id": "3da24b0b",
   "metadata": {},
   "source": [
    "# Transpose Lower Triangular Matrix Vector Multiply Routines"
   ]
  },
  {
   "cell_type": "markdown",
   "id": "b9c1eba0",
   "metadata": {},
   "source": [
    "This notebook walks you through how to implement $ x := L^T x $ where $ L $ is lower triangular.  Vector $ y $ is not to be touched (and, indeed, not even passed into the routines).  This is a little trickier than you might think, especially when you work with upper triangular matrix $ U $, later.  You may want to do a few small problems by hand if you don't get the right answer.  Also, PictureFLAME may help you see what is going on."
   ]
  },
  {
   "cell_type": "markdown",
   "id": "0be9c7fb",
   "metadata": {},
   "source": [
    "## Getting started"
   ]
  },
  {
   "cell_type": "markdown",
   "id": "32ddda61",
   "metadata": {},
   "source": [
    "We will use some functions that are part of our laff library (of which this function will become a part) as well as some routines from the FLAME API (Application Programming Interface) that allows us to write code that closely resembles how we typeset algorithms using the FLAME notation.  These functions are imported with the \"import laff as laff\" and \"import flame\" statements."
   ]
  },
  {
   "cell_type": "markdown",
   "id": "522760b6",
   "metadata": {},
   "source": [
    "## Algorithm that takes dot products"
   ]
  },
  {
   "cell_type": "markdown",
   "id": "75768952",
   "metadata": {},
   "source": [
    "## The routine <br> <code> Trmv_lt_unb_var1( L, x ) </code>"
   ]
  },
  {
   "cell_type": "markdown",
   "id": "eacca76c",
   "metadata": {},
   "source": [
    "This routine, given lower triangular $ L \\in \\mathbb{R}^{n \\times n} $ and $ x \\in \\mathbb{R}^n $ computes $ x := L^T x $.  The \"_lt_\" in the name of the routine indicates this is the \"lower, transpose\" matrix-vector multiplication.  \n",
    "\n",
    "The specific laff functions we will use are \n",
    "<ul>\n",
    "<li> <code> laff.dots( x, y, alpha ) </code> which computes $ \\alpha := x^T y + \\alpha $.  </li>\n",
    "<li> <code> laff.scal( alpha, x ) </code> which computes $ x := \\alpha x $.  </li> (You will want to use this one to update $ \\chi_1 $ if you want to use PictureFrame.)\n",
    "</ul>\n",
    "\n",
    "Use the <a href=\"https://studio.edx.org/c4x/UTAustinX/UT.5.01x/asset/index.html\"> Spark webpage</a> to generate a code skeleton.  (Make sure you adjust the name of the routine.)"
   ]
  },
  {
   "cell_type": "code",
   "execution_count": 1,
   "id": "382c8f88",
   "metadata": {},
   "outputs": [],
   "source": [
    "import flame\n",
    "import laff as laff\n",
    "\n",
    "def Trmv_lt_unb_var1(L, x):\n",
    "\n",
    "    LTL, LTR, \\\n",
    "    LBL, LBR  = flame.part_2x2(L, \\\n",
    "                               0, 0, 'TL')\n",
    "\n",
    "    xT, \\\n",
    "    xB  = flame.part_2x1(x, \\\n",
    "                         0, 'TOP')\n",
    "\n",
    "    while LTL.shape[0] < L.shape[0]:\n",
    "\n",
    "        L00,  l01,      L02,  \\\n",
    "        l10t, lambda11, l12t, \\\n",
    "        L20,  l21,      L22   = flame.repart_2x2_to_3x3(LTL, LTR, \\\n",
    "                                                        LBL, LBR, \\\n",
    "                                                        1, 1, 'BR')\n",
    "\n",
    "        x0,   \\\n",
    "        chi1, \\\n",
    "        x2    = flame.repart_2x1_to_3x1(xT, \\\n",
    "                                        xB, \\\n",
    "                                        1, 'BOTTOM')\n",
    "\n",
    "        #------------------------------------------------------------#\n",
    "\n",
    "        laff.scal( lambda11, chi1 )\n",
    "        laff.dots( l21, x2, chi1 )\n",
    "\n",
    "        #------------------------------------------------------------#\n",
    "\n",
    "        LTL, LTR, \\\n",
    "        LBL, LBR  = flame.cont_with_3x3_to_2x2(L00,  l01,      L02,  \\\n",
    "                                               l10t, lambda11, l12t, \\\n",
    "                                               L20,  l21,      L22,  \\\n",
    "                                               'TL')\n",
    "\n",
    "        xT, \\\n",
    "        xB  = flame.cont_with_3x1_to_2x1(x0,   \\\n",
    "                                         chi1, \\\n",
    "                                         x2,   \\\n",
    "                                         'TOP')\n",
    "\n",
    "    flame.merge_2x1(xT, \\\n",
    "                    xB, x)\n"
   ]
  },
  {
   "cell_type": "markdown",
   "id": "b520664f",
   "metadata": {},
   "source": [
    "## Testing"
   ]
  },
  {
   "cell_type": "markdown",
   "id": "29f7d5a8",
   "metadata": {},
   "source": [
    "Let's quickly test the routine by creating a 4 x 4 matrix and related vectors, performing the computation."
   ]
  },
  {
   "cell_type": "code",
   "execution_count": 2,
   "id": "72714905",
   "metadata": {},
   "outputs": [
    {
     "name": "stdout",
     "output_type": "stream",
     "text": [
      "L before =\n",
      "[[0.19119683 0.01167106 0.88031882 0.03661464]\n",
      " [0.92786486 0.91046665 0.71745246 0.71990731]\n",
      " [0.70212563 0.08912598 0.21030778 0.78916303]\n",
      " [0.09098737 0.44797324 0.52431631 0.21342638]]\n",
      "x before =\n",
      "[[0.29844519]\n",
      " [0.20208691]\n",
      " [0.29836773]\n",
      " [0.30292577]]\n"
     ]
    }
   ],
   "source": [
    "from numpy import random\n",
    "from numpy import matrix\n",
    "\n",
    "L = matrix( random.rand( 4,4 ) )\n",
    "x = matrix( random.rand( 4,1 ) )\n",
    "xold = matrix( random.rand( 4,1 ) )\n",
    "\n",
    "# Notice that L is not lower triangular.  We will only use the lower triangular part.\n",
    "\n",
    "print( 'L before =' )\n",
    "print( L )\n",
    "\n",
    "print( 'x before =' )\n",
    "print( x )"
   ]
  },
  {
   "cell_type": "code",
   "execution_count": 3,
   "id": "a4901e55",
   "metadata": {},
   "outputs": [
    {
     "name": "stdout",
     "output_type": "stream",
     "text": [
      "x after =\n",
      "[[0.48162516]\n",
      " [0.34628834]\n",
      " [0.22157798]\n",
      " [0.06465235]]\n",
      "x - ( np.transpose( np.tril( L ) ) * xold ) = \n",
      "[[ 0.00000000e+00]\n",
      " [ 0.00000000e+00]\n",
      " [-2.77555756e-17]\n",
      " [ 0.00000000e+00]]\n"
     ]
    }
   ],
   "source": [
    "import numpy as np\n",
    "laff.copy( x, xold )   # save the original vector x\n",
    "\n",
    "Trmv_lt_unb_var1( L, x )\n",
    "\n",
    "print( 'x after =' )\n",
    "print( x )\n",
    "\n",
    "#np.tril makes the matrix lower triangular\n",
    "print( 'x - ( np.transpose( np.tril( L ) ) * xold ) = ' )\n",
    "print( x - ( np.transpose( np.tril( L ) ) * xold ) )"
   ]
  },
  {
   "cell_type": "markdown",
   "id": "b7ebb869",
   "metadata": {},
   "source": [
    "Bingo, it seems to work!  (Notice that we are doing floating point computations, which means that due to rounding you may not get an exact \"0\".)"
   ]
  },
  {
   "cell_type": "markdown",
   "id": "6068b0d2",
   "metadata": {},
   "source": [
    "## Watch your code in action!"
   ]
  },
  {
   "cell_type": "markdown",
   "id": "9c1fec12",
   "metadata": {},
   "source": [
    "Copy and paste the code into <a href=\"http://edx-org-utaustinx.s3.amazonaws.com/UT501x/PictureFlame/PictureFLAME.html\"> PictureFLAME </a>, a webpage where you can watch your routine in action.  Just cut and paste into the box.  \n",
    "\n",
    "Disclaimer: we implemented a VERY simple interpreter.  If you do something wrong, we cannot guarantee the results.  But if you do it right, you are in for a treat.\n",
    "\n",
    "If you want to reset the problem, just click in the box into which you pasted the code and hit \"next\" again."
   ]
  },
  {
   "cell_type": "markdown",
   "id": "2d087bca",
   "metadata": {},
   "source": [
    "## Algorithm that uses axpys"
   ]
  },
  {
   "cell_type": "markdown",
   "id": "d22c416b",
   "metadata": {},
   "source": [
    "## The routine <br> <code> Trmv_lt_unb_var2( L, x ) </code>"
   ]
  },
  {
   "cell_type": "markdown",
   "id": "aa473b79",
   "metadata": {},
   "source": [
    "This routine, given lower triangular $ L \\in \\mathbb{R}^{n \\times n} $ and $ x \\in \\mathbb{R}^n $ computes $ x := L^T x $.  The \"_lt_\" in the name of the routine indicates this is the \"lower triangular, transpose\" matrix-vector multiplication.  \n",
    "\n",
    "The specific laff functions we will use are \n",
    "<ul>\n",
    "<li> <code> laff.axpy( alpha, x, y ) </code> which computes $ y := \\alpha x +  y  $.  </li>\n",
    "<li> <code> laff.scal( alpha, x ) </code> which computes $ x := \\alpha x $.  </li> (You will want to use this one to update $ \\chi_1 $ if you want to use PictureFrame.)\n",
    "</ul>\n",
    "\n",
    "Use the <a href=\"https://studio.edx.org/c4x/UTAustinX/UT.5.01x/asset/index.html\"> Spark webpage</a> to generate a code skeleton.  (Make sure you adjust the name of the routine.)"
   ]
  },
  {
   "cell_type": "code",
   "execution_count": 4,
   "id": "209484f4",
   "metadata": {},
   "outputs": [],
   "source": [
    "import flame\n",
    "import laff as laff\n",
    "\n",
    "def Trmv_lt_unb_var2(L, x):\n",
    "\n",
    "    LTL, LTR, \\\n",
    "    LBL, LBR  = flame.part_2x2(L, \\\n",
    "                               0, 0, 'TL')\n",
    "\n",
    "    xT, \\\n",
    "    xB  = flame.part_2x1(x, \\\n",
    "                         0, 'TOP')\n",
    "\n",
    "    while LTL.shape[0] < L.shape[0]:\n",
    "\n",
    "        L00,  l01,      L02,  \\\n",
    "        l10t, lambda11, l12t, \\\n",
    "        L20,  l21,      L22   = flame.repart_2x2_to_3x3(LTL, LTR, \\\n",
    "                                                        LBL, LBR, \\\n",
    "                                                        1, 1, 'BR')\n",
    "\n",
    "        x0,   \\\n",
    "        chi1, \\\n",
    "        x2    = flame.repart_2x1_to_3x1(xT, \\\n",
    "                                        xB, \\\n",
    "                                        1, 'BOTTOM')\n",
    "\n",
    "        #------------------------------------------------------------#\n",
    "\n",
    "\n",
    "        laff.axpy( chi1, l10t, x0 )\n",
    "        laff.scal( lambda11, chi1 )\n",
    "\n",
    "        #------------------------------------------------------------#\n",
    "\n",
    "        LTL, LTR, \\\n",
    "        LBL, LBR  = flame.cont_with_3x3_to_2x2(L00,  l01,      L02,  \\\n",
    "                                               l10t, lambda11, l12t, \\\n",
    "                                               L20,  l21,      L22,  \\\n",
    "                                               'TL')\n",
    "\n",
    "        xT, \\\n",
    "        xB  = flame.cont_with_3x1_to_2x1(x0,   \\\n",
    "                                         chi1, \\\n",
    "                                         x2,   \\\n",
    "                                         'TOP')\n",
    "        \n",
    "    flame.merge_2x1(xT, \\\n",
    "                    xB, x)\n",
    "\n"
   ]
  },
  {
   "cell_type": "markdown",
   "id": "f5f34d82",
   "metadata": {},
   "source": [
    "## Testing"
   ]
  },
  {
   "cell_type": "markdown",
   "id": "baad15df",
   "metadata": {},
   "source": [
    "Let's quickly test the routine by creating a 4 x 4 matrix and related vectors, performing the computation."
   ]
  },
  {
   "cell_type": "code",
   "execution_count": 5,
   "id": "1f0ae414",
   "metadata": {},
   "outputs": [
    {
     "name": "stdout",
     "output_type": "stream",
     "text": [
      "L before =\n",
      "[[0.12684144 0.30748655 0.16165904 0.57447492]\n",
      " [0.02309427 0.57827882 0.51583212 0.42461275]\n",
      " [0.83787849 0.54559298 0.61753596 0.75982618]\n",
      " [0.58147766 0.31761048 0.87538117 0.60829377]]\n",
      "x before =\n",
      "[[0.14374714]\n",
      " [0.19583751]\n",
      " [0.99943026]\n",
      " [0.43570903]]\n"
     ]
    }
   ],
   "source": [
    "from numpy import random\n",
    "from numpy import matrix\n",
    "\n",
    "L = matrix( random.rand( 4,4 ) )\n",
    "x = matrix( random.rand( 4,1 ) )\n",
    "xold = matrix( random.rand( 4,1 ) )\n",
    "\n",
    "# L is not lower triangular.  We will only use the lower triangular part.\n",
    "\n",
    "print( 'L before =' )\n",
    "print( L )\n",
    "\n",
    "print( 'x before =' )\n",
    "print( x )\n"
   ]
  },
  {
   "cell_type": "code",
   "execution_count": 6,
   "id": "48852735",
   "metadata": {},
   "outputs": [
    {
     "name": "stdout",
     "output_type": "stream",
     "text": [
      "x after =\n",
      "[[1.11351201]\n",
      " [0.79691657]\n",
      " [0.99859561]\n",
      " [0.26503909]]\n",
      "x - ( np.transpose( np.tril( L ) ) * xold ) = \n",
      "[[2.22044605e-16]\n",
      " [0.00000000e+00]\n",
      " [0.00000000e+00]\n",
      " [0.00000000e+00]]\n"
     ]
    }
   ],
   "source": [
    "laff.copy( x, xold )   # save the original vector y\n",
    "\n",
    "Trmv_lt_unb_var2( L, x )\n",
    "\n",
    "print( 'x after =' )\n",
    "print( x )\n",
    "\n",
    "#np.tril makes the matrix lower triangular\n",
    "print( 'x - ( np.transpose( np.tril( L ) ) * xold ) = ' )\n",
    "print( x - ( np.transpose( np.tril( L ) ) * xold ) )"
   ]
  },
  {
   "cell_type": "markdown",
   "id": "dcffecdc",
   "metadata": {},
   "source": [
    "Bingo, it seems to work!  (Notice that we are doing floating point computations, which means that due to rounding you may not get an exact \"0\".)"
   ]
  },
  {
   "cell_type": "markdown",
   "id": "db578555",
   "metadata": {},
   "source": [
    "## Watch your code in action!"
   ]
  },
  {
   "cell_type": "markdown",
   "id": "f1d977c2",
   "metadata": {},
   "source": [
    "Copy and paste the code into <a href=\"http://edx-org-utaustinx.s3.amazonaws.com/UT501x/PictureFlame/PictureFLAME.html\"> PictureFLAME </a>, a webpage where you can watch your routine in action.  Just cut and paste into the box.  \n",
    "\n",
    "Disclaimer: we implemented a VERY simple interpreter.  If you do something wrong, we cannot guarantee the results.  But if you do it right, you are in for a treat.\n",
    "\n",
    "If you want to reset the problem, just click in the box into which you pasted the code and hit \"next\" again."
   ]
  },
  {
   "cell_type": "code",
   "execution_count": null,
   "id": "a2e2a4e7",
   "metadata": {},
   "outputs": [],
   "source": []
  }
 ],
 "metadata": {
  "kernelspec": {
   "display_name": "Python 3 (ipykernel)",
   "language": "python",
   "name": "python3"
  },
  "language_info": {
   "codemirror_mode": {
    "name": "ipython",
    "version": 3
   },
   "file_extension": ".py",
   "mimetype": "text/x-python",
   "name": "python",
   "nbconvert_exporter": "python",
   "pygments_lexer": "ipython3",
   "version": "3.10.13"
  }
 },
 "nbformat": 4,
 "nbformat_minor": 1
}
