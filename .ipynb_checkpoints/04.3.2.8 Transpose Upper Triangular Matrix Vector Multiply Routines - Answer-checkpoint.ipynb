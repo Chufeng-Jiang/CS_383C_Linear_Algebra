{
 "cells": [
  {
   "cell_type": "markdown",
   "id": "1e6d3129",
   "metadata": {},
   "source": [
    "# Transpose Upper Triangular Matrix Vector Multiply Routines"
   ]
  },
  {
   "cell_type": "markdown",
   "id": "2c762620",
   "metadata": {},
   "source": [
    "This notebook walks you through how to implement $ y := U^T x + y $ where $ U $ is upper triangular."
   ]
  },
  {
   "cell_type": "markdown",
   "id": "7def545d",
   "metadata": {},
   "source": [
    "## Getting started"
   ]
  },
  {
   "cell_type": "markdown",
   "id": "4b5bc645",
   "metadata": {},
   "source": [
    "We will use some functions that are part of our laff library (of which this function will become a part) as well as some routines from the FLAME API (Application Programming Interface) that allows us to write code that closely resembles how we typeset algorithms using the FLAME notation.  These functions are imported with the \"import laff as laff\" and \"import flame\" statements."
   ]
  },
  {
   "cell_type": "markdown",
   "id": "27c648a3",
   "metadata": {},
   "source": [
    "## Algorithm that takes dot products"
   ]
  },
  {
   "cell_type": "markdown",
   "id": "a6949eb6",
   "metadata": {},
   "source": [
    "## The routine <br> <code> Tmvmult_ut_unb_var1( U, x, y ) </code>"
   ]
  },
  {
   "cell_type": "markdown",
   "id": "a87617e4",
   "metadata": {},
   "source": [
    "This routine, given upper triangular $ U \\in \\mathbb{R}^{n \\times n} $, $ x \\in \\mathbb{R}^n $, and $ y \\in \\mathbb{R}^n $, computes $ y := U^T x + y $.  The \"_ut_\" in the name of the routine indicates this is the \"upper, transpose\" matrix-vector multiplication.  \n",
    "\n",
    "The specific laff functions we will use are \n",
    "<ul>\n",
    "<li> <code> laff.dots( x, y, alpha ) </code> which computes $ \\alpha := x^T y + \\alpha $.  </li>\n",
    "</ul>\n",
    "\n",
    "Use the <a href=\"https://studio.edx.org/c4x/UTAustinX/UT.5.01x/asset/index.html\"> Spark webpage</a> to generate a code skeleton.  (Make sure you adjust the name of the routine.)"
   ]
  },
  {
   "cell_type": "code",
   "execution_count": 7,
   "id": "d7c18a84",
   "metadata": {},
   "outputs": [],
   "source": [
    "import flame\n",
    "import laff as laff\n",
    "\n",
    "def Tmvmult_ut_unb_var1(U, x, y):\n",
    "\n",
    "    UTL, UTR, \\\n",
    "    UBL, UBR  = flame.part_2x2(U, \\\n",
    "                               0, 0, 'TL')\n",
    "\n",
    "    xT, \\\n",
    "    xB  = flame.part_2x1(x, \\\n",
    "                         0, 'TOP')\n",
    "\n",
    "    yT, \\\n",
    "    yB  = flame.part_2x1(y, \\\n",
    "                         0, 'TOP')\n",
    "\n",
    "    while UTL.shape[0] < U.shape[0]:\n",
    "\n",
    "        U00,  u01,       U02,  \\\n",
    "        u10t, upsilon11, u12t, \\\n",
    "        U20,  u21,       U22   = flame.repart_2x2_to_3x3(UTL, UTR, \\\n",
    "                                                         UBL, UBR, \\\n",
    "                                                         1, 1, 'BR')\n",
    "\n",
    "        x0,   \\\n",
    "        chi1, \\\n",
    "        x2    = flame.repart_2x1_to_3x1(xT, \\\n",
    "                                        xB, \\\n",
    "                                        1, 'BOTTOM')\n",
    "\n",
    "        y0,   \\\n",
    "        psi1, \\\n",
    "        y2    = flame.repart_2x1_to_3x1(yT, \\\n",
    "                                        yB, \\\n",
    "                                        1, 'BOTTOM')\n",
    "\n",
    "        #------------------------------------------------------------#\n",
    "\n",
    "        laff.dots( upsilon11, chi1, psi1 )\n",
    "        laff.dots( u01, x0, psi1 )\n",
    "\n",
    "        #------------------------------------------------------------#\n",
    "\n",
    "        UTL, UTR, \\\n",
    "        UBL, UBR  = flame.cont_with_3x3_to_2x2(U00,  u01,       U02,  \\\n",
    "                                               u10t, upsilon11, u12t, \\\n",
    "                                               U20,  u21,       U22,  \\\n",
    "                                               'TL')\n",
    "\n",
    "        xT, \\\n",
    "        xB  = flame.cont_with_3x1_to_2x1(x0,   \\\n",
    "                                         chi1, \\\n",
    "                                         x2,   \\\n",
    "                                         'TOP')\n",
    "\n",
    "        yT, \\\n",
    "        yB  = flame.cont_with_3x1_to_2x1(y0,   \\\n",
    "                                         psi1, \\\n",
    "                                         y2,   \\\n",
    "                                         'TOP')\n",
    "\n",
    "    flame.merge_2x1(yT, \\\n",
    "                    yB, y)\n",
    "\n"
   ]
  },
  {
   "cell_type": "markdown",
   "id": "02e508c6",
   "metadata": {},
   "source": [
    "## Testing"
   ]
  },
  {
   "cell_type": "markdown",
   "id": "f1a7696e",
   "metadata": {},
   "source": [
    "Let's quickly test the routine by creating a 4 x 4 matrix and related vectors, performing the computation."
   ]
  },
  {
   "cell_type": "code",
   "execution_count": 8,
   "id": "49c61a43",
   "metadata": {},
   "outputs": [
    {
     "name": "stdout",
     "output_type": "stream",
     "text": [
      "U before =\n",
      "[[0.63031626 0.79941093 0.32111832 0.27579778]\n",
      " [0.67456284 0.16864203 0.66416913 0.80335426]\n",
      " [0.28298952 0.92699038 0.78644843 0.35362198]\n",
      " [0.79227099 0.85943545 0.13819198 0.1942178 ]]\n",
      "x before =\n",
      "[[0.96526361]\n",
      " [0.49923914]\n",
      " [0.94679359]\n",
      " [0.15935524]]\n",
      "y before =\n",
      "[[0.6029254 ]\n",
      " [0.6605334 ]\n",
      " [0.54299721]\n",
      " [0.32519879]]\n"
     ]
    }
   ],
   "source": [
    "from numpy import random\n",
    "from numpy import matrix\n",
    "\n",
    "U = matrix( random.rand( 4,4 ) )\n",
    "x = matrix( random.rand( 4,1 ) )\n",
    "y = matrix( random.rand( 4,1 ) )\n",
    "yold = matrix( random.rand( 4,1 ) )\n",
    "\n",
    "# Notice that U is not upper triangular.  We will only use the upper triangular part.\n",
    "\n",
    "print( 'U before =' )\n",
    "print( U )\n",
    "\n",
    "print( 'x before =' )\n",
    "print( x )\n",
    "\n",
    "print( 'y before =' )\n",
    "print( y )"
   ]
  },
  {
   "cell_type": "code",
   "execution_count": 9,
   "id": "8c6a72af",
   "metadata": {},
   "outputs": [
    {
     "name": "stdout",
     "output_type": "stream",
     "text": [
      "y after =\n",
      "[[1.21134675]\n",
      " [1.51636838]\n",
      " [1.9291446 ]\n",
      " [1.35823889]]\n",
      "y - ( np.transpose( np.triu( U ) ) * x + yold ) = \n",
      "[[ 0.00000000e+00]\n",
      " [ 0.00000000e+00]\n",
      " [ 0.00000000e+00]\n",
      " [-2.22044605e-16]]\n"
     ]
    }
   ],
   "source": [
    "import numpy as np\n",
    "laff.copy( y, yold )   # save the original vector y\n",
    "\n",
    "Tmvmult_ut_unb_var1( U, x, y )\n",
    "\n",
    "print( 'y after =' )\n",
    "print( y )\n",
    "\n",
    "#np.triu makes the matrix upper triangular\n",
    "print( 'y - ( np.transpose( np.triu( U ) ) * x + yold ) = ' )\n",
    "print( y - ( np.transpose( np.triu( U ) ) * x + yold ) )"
   ]
  },
  {
   "cell_type": "markdown",
   "id": "7f26f4a3",
   "metadata": {},
   "source": [
    "Bingo, it seems to work!  (Notice that we are doing floating point computations, which means that due to rounding you may not get an exact \"0\".)"
   ]
  },
  {
   "cell_type": "markdown",
   "id": "4e085700",
   "metadata": {},
   "source": [
    "## Watch your code in action!"
   ]
  },
  {
   "cell_type": "markdown",
   "id": "f68ec5f0",
   "metadata": {},
   "source": [
    "Copy and paste the code into <a href=\"http://edx-org-utaustinx.s3.amazonaws.com/UT501x/PictureFlame/PictureFLAME.html\"> PictureFLAME </a>, a webpage where you can watch your routine in action.  Just cut and paste into the box.  \n",
    "\n",
    "Disclaimer: we implemented a VERY simple interpreter.  If you do something wrong, we cannot guarantee the results.  But if you do it right, you are in for a treat.\n",
    "\n",
    "If you want to reset the problem, just click in the box into which you pasted the code and hit \"next\" again."
   ]
  },
  {
   "cell_type": "markdown",
   "id": "fca7d06f",
   "metadata": {},
   "source": [
    "## Algorithm that uses axpys"
   ]
  },
  {
   "cell_type": "markdown",
   "id": "76838fb6",
   "metadata": {},
   "source": [
    "## The routine <br> <code> Tmvmult_ut_unb_var2( U, x, y ) </code>"
   ]
  },
  {
   "cell_type": "markdown",
   "id": "0cb33135",
   "metadata": {},
   "source": [
    "This routine, given upper triangular $ U \\in \\mathbb{R}^{n \\times n} $, $ x \\in \\mathbb{R}^n $, and $ y \\in \\mathbb{R}^n $, computes $ y := U^T x + y $.  The \"_ut_\" in the name of the routine indicates this is the \"upper triangular, no transpose\" matrix-vector multiplication.  \n",
    "\n",
    "The specific laff functions we will use are \n",
    "<ul>\n",
    "<li> <code> laff.axpy( alpha, x, y ) </code> which computes $ y := \\alpha x +  y  $.  </li>\n",
    "</ul>\n",
    "\n",
    "Use the <a href=\"https://studio.edx.org/c4x/UTAustinX/UT.5.01x/asset/index.html\"> Spark webpage</a> to generate a code skeleton.  (Make sure you adjust the name of the routine.)"
   ]
  },
  {
   "cell_type": "code",
   "execution_count": 10,
   "id": "d24a7b4e",
   "metadata": {},
   "outputs": [],
   "source": [
    "import flame\n",
    "import laff as laff\n",
    "\n",
    "\n",
    "def Tmvmult_ut_unb_var2(U, x, y):\n",
    "\n",
    "    UTL, UTR, \\\n",
    "    UBL, UBR  = flame.part_2x2(U, \\\n",
    "                               0, 0, 'TL')\n",
    "\n",
    "    xT, \\\n",
    "    xB  = flame.part_2x1(x, \\\n",
    "                         0, 'TOP')\n",
    "\n",
    "    yT, \\\n",
    "    yB  = flame.part_2x1(y, \\\n",
    "                         0, 'TOP')\n",
    "\n",
    "    while UTL.shape[0] < U.shape[0]:\n",
    "\n",
    "        U00,  u01,       U02,  \\\n",
    "        u10t, upsilon11, u12t, \\\n",
    "        U20,  u21,       U22   = flame.repart_2x2_to_3x3(UTL, UTR, \\\n",
    "                                                         UBL, UBR, \\\n",
    "                                                         1, 1, 'BR')\n",
    "\n",
    "        x0,   \\\n",
    "        chi1, \\\n",
    "        x2    = flame.repart_2x1_to_3x1(xT, \\\n",
    "                                        xB, \\\n",
    "                                        1, 'BOTTOM')\n",
    "\n",
    "        y0,   \\\n",
    "        psi1, \\\n",
    "        y2    = flame.repart_2x1_to_3x1(yT, \\\n",
    "                                        yB, \\\n",
    "                                        1, 'BOTTOM')\n",
    "\n",
    "        #------------------------------------------------------------#\n",
    "\n",
    "        laff.axpy( chi1, u12t, y2 )\n",
    "        laff.axpy( chi1, upsilon11, psi1 )\n",
    "\n",
    "        #------------------------------------------------------------#\n",
    "\n",
    "        UTL, UTR, \\\n",
    "        UBL, UBR  = flame.cont_with_3x3_to_2x2(U00,  u01,       U02,  \\\n",
    "                                               u10t, upsilon11, u12t, \\\n",
    "                                               U20,  u21,       U22,  \\\n",
    "                                               'TL')\n",
    "\n",
    "        xT, \\\n",
    "        xB  = flame.cont_with_3x1_to_2x1(x0,   \\\n",
    "                                         chi1, \\\n",
    "                                         x2,   \\\n",
    "                                         'TOP')\n",
    "\n",
    "        yT, \\\n",
    "        yB  = flame.cont_with_3x1_to_2x1(y0,   \\\n",
    "                                         psi1, \\\n",
    "                                         y2,   \\\n",
    "                                         'TOP')\n",
    "\n",
    "    flame.merge_2x1(yT, \\\n",
    "                    yB, y)\n",
    "\n"
   ]
  },
  {
   "cell_type": "markdown",
   "id": "13fe5a37",
   "metadata": {},
   "source": [
    "## Testing"
   ]
  },
  {
   "cell_type": "markdown",
   "id": "e74d5601",
   "metadata": {},
   "source": [
    "Let's quickly test the routine by creating a 4 x 4 matrix and related vectors, performing the computation."
   ]
  },
  {
   "cell_type": "code",
   "execution_count": 11,
   "id": "77c9b987",
   "metadata": {},
   "outputs": [
    {
     "name": "stdout",
     "output_type": "stream",
     "text": [
      "U before =\n",
      "[[0.5698156  0.34734988 0.27510386 0.82836233]\n",
      " [0.43292634 0.02129326 0.36243848 0.29666062]\n",
      " [0.11608112 0.66823908 0.75157502 0.0793353 ]\n",
      " [0.38183963 0.61621877 0.82368079 0.45533224]]\n",
      "x before =\n",
      "[[0.84807149]\n",
      " [0.36361245]\n",
      " [0.05895882]\n",
      " [0.01657576]]\n",
      "y before =\n",
      "[[0.26422418]\n",
      " [0.15662936]\n",
      " [0.09662556]\n",
      " [0.52780694]]\n"
     ]
    }
   ],
   "source": [
    "from numpy import random\n",
    "from numpy import matrix\n",
    "\n",
    "U = matrix( random.rand( 4,4 ) )\n",
    "x = matrix( random.rand( 4,1 ) )\n",
    "y = matrix( random.rand( 4,1 ) )\n",
    "yold = matrix( random.rand( 4,1 ) )\n",
    "\n",
    "# U is not upper triangular.  We will only use the upper triangular part.\n",
    "\n",
    "print( 'U before =' )\n",
    "print( U )\n",
    "\n",
    "print( 'x before =' )\n",
    "print( x )\n",
    "\n",
    "print( 'y before =' )\n",
    "print( y )"
   ]
  },
  {
   "cell_type": "code",
   "execution_count": 12,
   "id": "ecfd62ed",
   "metadata": {},
   "outputs": [
    {
     "name": "stdout",
     "output_type": "stream",
     "text": [
      "y after =\n",
      "[[0.74746855]\n",
      " [0.45894938]\n",
      " [0.50603242]\n",
      " [1.3504119 ]]\n",
      "y - ( np.transpose( np.triu( U ) ) * x + yold ) = \n",
      "[[ 0.00000000e+00]\n",
      " [ 0.00000000e+00]\n",
      " [ 1.11022302e-16]\n",
      " [-2.22044605e-16]]\n"
     ]
    }
   ],
   "source": [
    "laff.copy( y, yold )   # save the original vector y\n",
    "\n",
    "Tmvmult_ut_unb_var2( U, x, y )\n",
    "\n",
    "print( 'y after =' )\n",
    "print( y )\n",
    "\n",
    "#np.triu makes the matrix upper triangular\n",
    "print( 'y - ( np.transpose( np.triu( U ) ) * x + yold ) = ' )\n",
    "print( y - ( np.transpose( np.triu( U ) ) * x + yold ) )"
   ]
  },
  {
   "cell_type": "markdown",
   "id": "47b40e5c",
   "metadata": {},
   "source": [
    "Bingo, it seems to work!  (Notice that we are doing floating point computations, which means that due to rounding you may not get an exact \"0\".)"
   ]
  },
  {
   "cell_type": "markdown",
   "id": "f9a2f1c1",
   "metadata": {},
   "source": [
    "## Watch your code in action!"
   ]
  },
  {
   "cell_type": "markdown",
   "id": "09dc57f4",
   "metadata": {},
   "source": [
    "Copy and paste the code into <a href=\"http://edx-org-utaustinx.s3.amazonaws.com/UT501x/PictureFlame/PictureFLAME.html\"> PictureFLAME </a>, a webpage where you can watch your routine in action.  Just cut and paste into the box.  \n",
    "\n",
    "Disclaimer: we implemented a VERY simple interpreter.  If you do something wrong, we cannot guarantee the results.  But if you do it right, you are in for a treat.\n",
    "\n",
    "If you want to reset the problem, just click in the box into which you pasted the code and hit \"next\" again."
   ]
  },
  {
   "cell_type": "code",
   "execution_count": null,
   "id": "bc442525",
   "metadata": {},
   "outputs": [],
   "source": []
  }
 ],
 "metadata": {
  "kernelspec": {
   "display_name": "Python 3 (ipykernel)",
   "language": "python",
   "name": "python3"
  },
  "language_info": {
   "codemirror_mode": {
    "name": "ipython",
    "version": 3
   },
   "file_extension": ".py",
   "mimetype": "text/x-python",
   "name": "python",
   "nbconvert_exporter": "python",
   "pygments_lexer": "ipython3",
   "version": "3.10.13"
  }
 },
 "nbformat": 4,
 "nbformat_minor": 1
}
