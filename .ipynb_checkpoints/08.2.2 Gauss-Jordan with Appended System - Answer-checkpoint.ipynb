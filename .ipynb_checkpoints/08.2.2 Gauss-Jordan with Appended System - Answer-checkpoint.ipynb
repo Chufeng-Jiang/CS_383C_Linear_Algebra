{
 "cells": [
  {
   "cell_type": "markdown",
   "id": "249d1d90",
   "metadata": {},
   "source": [
    "# 8.2.2 Gauss-Jordan with Appended System"
   ]
  },
  {
   "cell_type": "markdown",
   "id": "6f27f9de",
   "metadata": {},
   "source": [
    "<font color=red> Copy this notebook first! At each step, if you make a mistake, rerun all the cells above the current cell!!!</font>\n",
    "\n",
    "<br>\n",
    "\n",
    "With this notebook, we walk you through both Homework 8.2.1.1 and Homework 8.2.2.1.  Let's start with the first step in Homework 8.2.1.1:\n",
    "\n",
    "<img src=\"https://studio.edx.org/c4x/UTAustinX/UT.5.01x/asset/8_2_1_1_QuestionA.png\" width=\"75%\"> </img>\n",
    "\n",
    "Let's set this up as an appended matrix and the application of a Gauss transform.  Here matrix $ A $ holds the appended system\n",
    "$ \n",
    "\\left( \\begin{array}{ r r r | r }\n",
    "-2 & 2 & -5 & -7 \\\\\n",
    "2 & -3 & 7 & 11 \\\\\n",
    "-4 & 3 & -7 & -9\n",
    "\\end{array} \\right)\n",
    "$\n",
    "Now, fill in the ? in $ G_0 $ with appropriate values to introduce zeroes in the off-diagonal elements of the first column of $ A $:"
   ]
  },
  {
   "cell_type": "code",
   "execution_count": 1,
   "id": "c7f71197",
   "metadata": {},
   "outputs": [
    {
     "name": "stdout",
     "output_type": "stream",
     "text": [
      "A = \n",
      "[[-2  2 -5 -7]\n",
      " [ 2 -3  7 11]\n",
      " [-4  3 -7 -9]]\n",
      "A0 = \n",
      "[[-2  2 -5 -7]\n",
      " [ 0 -1  2  4]\n",
      " [ 0 -1  3  5]]\n"
     ]
    }
   ],
   "source": [
    "import numpy as np\n",
    "\n",
    "A = np.matrix( '-2,  2, -5, -7;\\\n",
    "                 2, -3,  7, 11;\\\n",
    "                -4,  3, -7, -9' )\n",
    "\n",
    "print( 'A = ' )\n",
    "print( A )\n",
    "\n",
    "G0 = np.matrix( ' 1,  0,  0;\\\n",
    "                  1,  1,  0;\\\n",
    "                 -2,  0,  1' );\n",
    "\n",
    "A0 = G0 * A\n",
    "\n",
    "print( 'A0 = ' )\n",
    "print( A0 )"
   ]
  },
  {
   "cell_type": "markdown",
   "id": "437d82b9",
   "metadata": {},
   "source": [
    "If you did this right, the result matrix $ A_0 = G_0 A $ has zeroes in the off-diagonal entries of the first column, which then corresponds to the below answer to the first step in Homework 8.2.2.1:\n",
    "\n",
    "<img src=\"https://studio.edx.org/c4x/UTAustinX/UT.5.01x/asset/8_2_2_1_QuestionA.png\" width=\"75%\"> </img>"
   ]
  },
  {
   "cell_type": "markdown",
   "id": "ffd10f0d",
   "metadata": {},
   "source": [
    "This also answers the question for Step 1 in Homework 8.2.1.1.\n",
    "\n",
    "Now, let's look at the next step in Homework 8.2.1.1:\n",
    "\n",
    "<img src=\"https://studio.edx.org/c4x/UTAustinX/UT.5.01x/asset/8_2_1_1_QuestionB.png\" width=\"75%\"> </img>"
   ]
  },
  {
   "cell_type": "markdown",
   "id": "7495e027",
   "metadata": {},
   "source": [
    "The appended system is now represented by <code> A0 </code>:"
   ]
  },
  {
   "cell_type": "code",
   "execution_count": 2,
   "id": "2f2b9167",
   "metadata": {},
   "outputs": [
    {
     "name": "stdout",
     "output_type": "stream",
     "text": [
      "A0 =\n",
      "[[-2  2 -5 -7]\n",
      " [ 0 -1  2  4]\n",
      " [ 0 -1  3  5]]\n"
     ]
    }
   ],
   "source": [
    "print( 'A0 =' )\n",
    "print( A0 )"
   ]
  },
  {
   "cell_type": "markdown",
   "id": "5de62ace",
   "metadata": {},
   "source": [
    "Now, fill in the ? in $ G_1 $ with appropriate values to introduce zeroes in the off-diagonal elemental of the second column of $ A_0 $:"
   ]
  },
  {
   "cell_type": "code",
   "execution_count": 3,
   "id": "c113e629",
   "metadata": {},
   "outputs": [
    {
     "name": "stdout",
     "output_type": "stream",
     "text": [
      "A1 = \n",
      "[[-2  0 -1  1]\n",
      " [ 0 -1  2  4]\n",
      " [ 0  0  1  1]]\n"
     ]
    }
   ],
   "source": [
    "G1 = np.matrix( ' 1,  2,  0;\\\n",
    "                  0,  1,  0;\\\n",
    "                  0, -1,  1' );\n",
    "\n",
    "A1 = G1 * A0\n",
    "\n",
    "print( 'A1 = ' )\n",
    "print( A1 )"
   ]
  },
  {
   "cell_type": "markdown",
   "id": "fbd8041a",
   "metadata": {},
   "source": [
    "If you did this right, the result matrix $ A_1 = G_1 A_0 = G_1 G_0 A $ has zeroes in the off-diagonal entries of the first column and the second column, which then corresponds to the below answer to the second step in Homework 8.2.2.1:\n",
    "\n",
    "<img src=\"https://studio.edx.org/c4x/UTAustinX/UT.5.01x/asset/8_2_2_1_QuestionB.png\" width=\"75%\"> </img>"
   ]
  },
  {
   "cell_type": "markdown",
   "id": "c547fe0c",
   "metadata": {},
   "source": [
    "This also answers the question for Step 2 in Homework 8.2.1.1.\n",
    "\n",
    "Now, let's look at the third step in Homework 8.2.1.1:\n",
    "\n",
    "<img src=\"https://studio.edx.org/c4x/UTAustinX/UT.5.01x/asset/8_2_1_1_Questionc.png\" width=\"75%\"> </img>"
   ]
  },
  {
   "cell_type": "markdown",
   "id": "979449f7",
   "metadata": {},
   "source": [
    "The appended system is now represented by <code> A1 </code>:"
   ]
  },
  {
   "cell_type": "code",
   "execution_count": 4,
   "id": "ca352659",
   "metadata": {},
   "outputs": [
    {
     "name": "stdout",
     "output_type": "stream",
     "text": [
      "A1 =\n",
      "[[-2  0 -1  1]\n",
      " [ 0 -1  2  4]\n",
      " [ 0  0  1  1]]\n"
     ]
    }
   ],
   "source": [
    "print( 'A1 =' )\n",
    "print( A1 )"
   ]
  },
  {
   "cell_type": "markdown",
   "id": "ae937378",
   "metadata": {},
   "source": [
    "Now, fill in the ? in $ G_2 $ with appropriate values to introduce zeroes in the off-diagonal elemental of the third column of $ A_1 $:"
   ]
  },
  {
   "cell_type": "code",
   "execution_count": 5,
   "id": "ad0ebfec",
   "metadata": {},
   "outputs": [
    {
     "name": "stdout",
     "output_type": "stream",
     "text": [
      "A2 = \n",
      "[[-2  0  0  2]\n",
      " [ 0 -1  0  2]\n",
      " [ 0  0  1  1]]\n"
     ]
    }
   ],
   "source": [
    "G2 = np.matrix( ' 1,  0,  1;\\\n",
    "                  0,  1, -2;\\\n",
    "                  0,  0,  1' );\n",
    "\n",
    "A2 = G2 * A1\n",
    "\n",
    "print( 'A2 = ' )\n",
    "print( A2 )"
   ]
  },
  {
   "cell_type": "markdown",
   "id": "dad9bd8f",
   "metadata": {},
   "source": [
    "If you did this right, the result matrix $ A_2 = G_2 A_1 = G_2 G_1 A_0 = G_2 G_1 G_0 A $ has zeroes in the off-diagonal entries of the first, second, and third column, which then corresponds to the below answer to the third step in Homework 8.2.2.1:\n",
    "\n",
    "<img src=\"https://studio.edx.org/c4x/UTAustinX/UT.5.01x/asset/8_2_2_1_QuestionC.png\" width=\"75%\"> </img>"
   ]
  },
  {
   "cell_type": "markdown",
   "id": "ac700e6a",
   "metadata": {},
   "source": [
    "This also answers the question for Step 3 in Homework 8.2.1.1.\n",
    "\n",
    "Now, let's look at the fourth step in Homework 8.2.1.1:\n",
    "\n",
    "<img src=\"https://studio.edx.org/c4x/UTAustinX/UT.5.01x/asset/8_2_1_1_QuestionD.png\" width=\"75%\"> </img>"
   ]
  },
  {
   "cell_type": "markdown",
   "id": "f50cfe1d",
   "metadata": {},
   "source": [
    "The appended system is now represented by <code> A2 </code>:"
   ]
  },
  {
   "cell_type": "code",
   "execution_count": 6,
   "id": "81d08ba0",
   "metadata": {},
   "outputs": [
    {
     "name": "stdout",
     "output_type": "stream",
     "text": [
      "A2 =\n",
      "[[-2  0  0  2]\n",
      " [ 0 -1  0  2]\n",
      " [ 0  0  1  1]]\n"
     ]
    }
   ],
   "source": [
    "print( 'A2 =' )\n",
    "print( A2 )"
   ]
  },
  {
   "cell_type": "markdown",
   "id": "ca17bb8f",
   "metadata": {},
   "source": [
    "Now, fill in the ? in $ D $ with appropriate values to set the diagonal elements in the appended system to one, making the first three columns into an identity matrix:"
   ]
  },
  {
   "cell_type": "code",
   "execution_count": 7,
   "id": "b28471a2",
   "metadata": {},
   "outputs": [
    {
     "name": "stdout",
     "output_type": "stream",
     "text": [
      "A3 = \n",
      "[[ 1.  0.  0. -1.]\n",
      " [ 0.  1.  0. -2.]\n",
      " [ 0.  0.  1.  1.]]\n"
     ]
    }
   ],
   "source": [
    "D = np.matrix( '-0.5,  0,  0;\\\n",
    "                  0,  -1,  0;\\\n",
    "                  0,  0,   1' );\n",
    "\n",
    "A3 = D * A2\n",
    "\n",
    "print( 'A3 = ' )\n",
    "print( A3 )"
   ]
  },
  {
   "cell_type": "markdown",
   "id": "d048354b",
   "metadata": {},
   "source": [
    "If you did this right, the result matrix \n",
    "\n",
    "$ A_3 = D A_2 = D G_2 A_1 = D G_2 G_1 A_0 = D G_2 G_1 G_0 A $ \n",
    "\n",
    "has an identity matrix in the first three columns, which then corresponds to the below answer to the fourth step in Homework 8.2.2.1:\n",
    "\n",
    "<img src=\"https://studio.edx.org/c4x/UTAustinX/UT.5.01x/asset/8_2_2_1_QuestionD.png\" width=\"75%\"> </img>"
   ]
  },
  {
   "cell_type": "markdown",
   "id": "c37d02f1",
   "metadata": {},
   "source": [
    "This also answers the question for Step 4 in Homework 8.2.1.1.\n",
    "\n",
    "Now, the answer above is an appended system that represent the system of linear equations\n",
    "\n",
    "$ \\begin{array}{c c c c r}\n",
    "\\chi_0 & & & = & -1 \\\\\n",
    "& \\chi_1 & & = & -2 \\\\\n",
    "& & \\chi_2 & = & 1\n",
    "\\end{array}\n",
    " $\n",
    "\n",
    "which provides the answer to the linear system with which we started:\n",
    "\n",
    "<img src=\"https://studio.edx.org/c4x/UTAustinX/UT.5.01x/asset/8_2_2_1_QuestionE.png\" width=\"75%\"> </img>\n",
    "\n",
    "We can check that we've just done this:\n",
    "\n"
   ]
  },
  {
   "cell_type": "code",
   "execution_count": 8,
   "id": "5e2cec0a",
   "metadata": {},
   "outputs": [
    {
     "name": "stdout",
     "output_type": "stream",
     "text": [
      "A = \n",
      "[[-2  2 -5]\n",
      " [ 2 -3  7]\n",
      " [-4  3 -7]]\n",
      "x = \n",
      "[[-1]\n",
      " [-2]\n",
      " [ 1]]\n",
      " A * x = \n",
      "[[-7]\n",
      " [11]\n",
      " [-9]]\n"
     ]
    }
   ],
   "source": [
    "A = np.matrix( '-2,  2, -5;\\\n",
    "                 2, -3,  7;\\\n",
    "                -4,  3, -7' )\n",
    "\n",
    "print( 'A = ' )\n",
    "print( A )\n",
    "\n",
    "x = np.matrix( '-1;\\\n",
    "                -2;\\\n",
    "                 1' )\n",
    "\n",
    "print( 'x = ' )\n",
    "print( x )\n",
    "\n",
    "print( ' A * x = ' )\n",
    "print( A * x )"
   ]
  },
  {
   "cell_type": "code",
   "execution_count": null,
   "id": "ba78b065",
   "metadata": {},
   "outputs": [],
   "source": []
  },
  {
   "cell_type": "code",
   "execution_count": null,
   "metadata": {},
   "outputs": [],
   "source": []
  }
 ],
 "metadata": {
  "kernelspec": {
   "display_name": "Python 3 (ipykernel)",
   "language": "python",
   "name": "python3"
  },
  "language_info": {
   "codemirror_mode": {
    "name": "ipython",
    "version": 3
   },
   "file_extension": ".py",
   "mimetype": "text/x-python",
   "name": "python",
   "nbconvert_exporter": "python",
   "pygments_lexer": "ipython3",
   "version": "3.10.13"
  }
 },
 "nbformat": 4,
 "nbformat_minor": 1
}
