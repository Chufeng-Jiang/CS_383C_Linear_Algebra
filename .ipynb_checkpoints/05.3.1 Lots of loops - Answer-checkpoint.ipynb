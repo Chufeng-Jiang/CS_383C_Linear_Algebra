{
 "cells": [
  {
   "cell_type": "markdown",
   "id": "15c2cddf",
   "metadata": {},
   "source": [
    "# Lots of loops"
   ]
  },
  {
   "cell_type": "markdown",
   "id": "46479d1a",
   "metadata": {},
   "source": [
    "This notebook illustrates the different ways in which loops for matrix-matrix multiplication can be ordered.  Let's start by creating some matrices."
   ]
  },
  {
   "cell_type": "code",
   "execution_count": 1,
   "id": "2aece9e0",
   "metadata": {},
   "outputs": [
    {
     "name": "stdout",
     "output_type": "stream",
     "text": [
      "C = \n",
      "[[0.57468849 0.67261082 0.73075518]\n",
      " [0.308928   0.89245792 0.28350157]\n",
      " [0.06804404 0.82660112 0.21237071]\n",
      " [0.17217679 0.96991592 0.87078941]]\n",
      "A = \n",
      "[[0.85605356 0.86250952 0.41825529 0.79668813 0.6314444 ]\n",
      " [0.58459581 0.80742077 0.6037568  0.10054359 0.84053884]\n",
      " [0.87065621 0.83705063 0.50636025 0.11389862 0.11020125]\n",
      " [0.39378956 0.74848032 0.95491181 0.27831634 0.52578672]]\n",
      "B = \n",
      "[[0.1455835  0.12005868 0.63432576]\n",
      " [0.3541427  0.56089455 0.77962699]\n",
      " [0.14295384 0.48354263 0.52182377]\n",
      " [0.05482756 0.47874102 0.33193327]\n",
      " [0.42959977 0.32409858 0.64980319]]\n"
     ]
    }
   ],
   "source": [
    "import numpy as np\n",
    "\n",
    "m = 4\n",
    "n = 3\n",
    "k = 5\n",
    "\n",
    "C = np.matrix( np.random.random( (m, n) ) )\n",
    "print( 'C = ' )\n",
    "print( C )\n",
    "\n",
    "Cold = np.matrix( np.zeros( (m,n ) ) )\n",
    "Cold = np.matrix( np.copy( C ) )   # an alternative way of doing a \"hard\" copy, in this case of a matrix\n",
    "    \n",
    "A = np.matrix( np.random.random( (m, k) ) )\n",
    "print( 'A = ' )\n",
    "print( A )\n",
    "\n",
    "B = np.matrix( np.random.random( (k, n) ) )\n",
    "print( 'B = ' )\n",
    "print( B )"
   ]
  },
  {
   "cell_type": "markdown",
   "id": "f0acdeb5",
   "metadata": {},
   "source": [
    "## <h2>The basic algorithm</h2  <p> Given $ A \\in \\mathbb{R}^{m \\times k} $, $ B \\in \\mathbb{R}^{k \\times n} $, and $ C \\in \\mathbb{R}^{m \\times n} $, we will consider $ C := A B + C $. </p>      <p>     Now, recall that the $ i,j $ element of $ A B $ is computed as the dot product of  the $ i $th row of $ A $ with the $ j $th column of $ B $: </p>  <p>     $\\sum_{p=0}^{k-1} \\alpha_{i,j} \\beta_{i,j}$ </p>  <p>     and here, by adding to $ C $ we get </p>  <p> $ \\gamma_{i,j} = \\sum_{p=0}^{k-1} \\alpha_{i,j} \\beta_{i,j} + \\gamma_{i,j}.$ </p>  <p>     Now, we have to loop over all elements of $ C $.  The code, without the FLAMEpy API, becomes </p>"
   ]
  },
  {
   "cell_type": "code",
   "execution_count": 2,
   "id": "f7fd5a7f",
   "metadata": {},
   "outputs": [],
   "source": [
    "def MMmult_lots_of_loops( A, B, C ):\n",
    "\n",
    "    m, n = np.shape( C )\n",
    "    m, k = np.shape( A )\n",
    "    \n",
    "    # i,j,p\n",
    "    for i in range( m ):                     \n",
    "        for j in range( n ):                    \n",
    "            for p in range( k ):                    \n",
    "                C[ i,j ] = A[ i,p ] * B[ p, j ] + C[ i,j ]\n",
    "                \n",
    "    # i,p,j\n",
    "#    for i in range( m ):                     \n",
    "#        for p in range( k ):                    \n",
    "#            for j in range( n ):                    \n",
    "#                C[ i,j ] = A[ i,p ] * B[ p, j ] + C[ i,j ]\n",
    "                \n",
    "    # j,i,p\n",
    "#    for j in range( n ):                     \n",
    "#        for i in range( m ):                    \n",
    "#            for p in range( k ):                    \n",
    "#                C[ i,j ] = A[ i,p ] * B[ p, j ] + C[ i,j ]\n",
    "\n",
    "    # j,p,i\n",
    "#    for j in range( n ):                     \n",
    "#        for p in range( k ):                    \n",
    "#            for i in range( m ):                    \n",
    "#                C[ i,j ] = A[ i,p ] * B[ p, j ] + C[ i,j ]\n",
    "\n",
    "    # p,i,j\n",
    "#    for p in range( k ):                     \n",
    "#        for i in range( m ):                    \n",
    "#            for j in range( n ):                    \n",
    "#                C[ i,j ] = A[ i,p ] * B[ p, j ] + C[ i,j ]\n",
    "\n",
    "    # p,j,i\n",
    "#    for p in range( k ):                     \n",
    "#        for j in range( n ):                    \n",
    "#            for i in range( m ):                    \n",
    "#                C[ i,j ] = A[ i,p ] * B[ p, j ] + C[ i,j ]"
   ]
  },
  {
   "cell_type": "code",
   "execution_count": 3,
   "id": "24938ee4",
   "metadata": {},
   "outputs": [
    {
     "name": "stdout",
     "output_type": "stream",
     "text": [
      "C - ( Cold + A * B )\n",
      "[[0.00000000e+00 0.00000000e+00 0.00000000e+00]\n",
      " [0.00000000e+00 0.00000000e+00 0.00000000e+00]\n",
      " [0.00000000e+00 0.00000000e+00 2.22044605e-16]\n",
      " [0.00000000e+00 0.00000000e+00 0.00000000e+00]]\n"
     ]
    }
   ],
   "source": [
    "C = np.matrix( np.copy( Cold ) )             # restore C\n",
    "\n",
    "MMmult_lots_of_loops( A, B, C )\n",
    "\n",
    "print( 'C - ( Cold + A * B )' )\n",
    "print( C - ( Cold + A * B ) )"
   ]
  },
  {
   "cell_type": "markdown",
   "id": "7a61cdd3",
   "metadata": {},
   "source": [
    "Now, go back and systematically move the loops around, so that in the end you try out all six orders of the loops: three choices for the first, outermost, loop; two choices for the secod loop; one choice for the third loop, for a total of $ 3! $ (3 factorial) choices. Check that you get the right answer, regardless. \n",
    "\n",
    "(We suggest you just change the box in which the routine is defined and comment out variations that you've already tested.  Be careful with indentation.)"
   ]
  },
  {
   "cell_type": "markdown",
   "id": "b84603dc",
   "metadata": {},
   "source": [
    "## Why $ C := A B + C $ rather than $ C := A B $?"
   ]
  },
  {
   "cell_type": "markdown",
   "id": "45ba6f8d",
   "metadata": {},
   "source": [
    "Notice that we could have written a routine to compute $ C := A B $ instead, given below."
   ]
  },
  {
   "cell_type": "code",
   "execution_count": 4,
   "id": "347f0ef4",
   "metadata": {},
   "outputs": [],
   "source": [
    "def MMmult_C_eq_AB( A, B, C ):\n",
    "\n",
    "    m, n = np.shape( C )\n",
    "    m, k = np.shape( A )\n",
    "    \n",
    "    for i in range( m ):                     \n",
    "        for j in range( n ):   \n",
    "            C[ i,j ] = 0.0\n",
    "            for p in range( k ):                    \n",
    "                C[ i,j ] = A[ i,p ] * B[ p, j ] + C[ i,j ]"
   ]
  },
  {
   "cell_type": "code",
   "execution_count": 5,
   "id": "77d154cf",
   "metadata": {},
   "outputs": [
    {
     "name": "stdout",
     "output_type": "stream",
     "text": [
      "C - ( A * B )\n",
      "[[ 1.11022302e-16  0.00000000e+00  4.44089210e-16]\n",
      " [ 0.00000000e+00  0.00000000e+00  2.22044605e-16]\n",
      " [ 0.00000000e+00  0.00000000e+00  0.00000000e+00]\n",
      " [ 0.00000000e+00  0.00000000e+00 -2.22044605e-16]]\n"
     ]
    }
   ],
   "source": [
    "C = np.matrix( np.copy( Cold ) )             # restore C\n",
    "\n",
    "MMmult_C_eq_AB( A, B, C )\n",
    "\n",
    "print( 'C - ( A * B )' )\n",
    "print( C - ( A * B ) )"
   ]
  },
  {
   "cell_type": "markdown",
   "id": "cccaba1c",
   "metadata": {},
   "source": [
    "Now, start changing the order of the loops.  You notice it is not quite as simple.  But, if you have a routine for computing $ C := A B + C $, you can always initialize $ C = 0 $ (the zero matrix) and then use it to call $ C := A B $:"
   ]
  },
  {
   "cell_type": "code",
   "execution_count": 6,
   "id": "7d1ed876",
   "metadata": {},
   "outputs": [
    {
     "name": "stdout",
     "output_type": "stream",
     "text": [
      "C - ( A * B )\n",
      "[[ 1.11022302e-16  0.00000000e+00  4.44089210e-16]\n",
      " [ 0.00000000e+00  0.00000000e+00  2.22044605e-16]\n",
      " [ 0.00000000e+00  0.00000000e+00  0.00000000e+00]\n",
      " [ 0.00000000e+00  0.00000000e+00 -2.22044605e-16]]\n"
     ]
    }
   ],
   "source": [
    "C = np.matrix( np.zeros( np.shape( C ) ) )          # initialize C = 0 \n",
    "\n",
    "MMmult_lots_of_loops( A, B, C )\n",
    "\n",
    "print( 'C - ( A * B )' )\n",
    "print( C - ( A * B ) )"
   ]
  },
  {
   "cell_type": "code",
   "execution_count": null,
   "id": "aae7eca0",
   "metadata": {},
   "outputs": [],
   "source": []
  },
  {
   "cell_type": "code",
   "execution_count": null,
   "metadata": {},
   "outputs": [],
   "source": []
  }
 ],
 "metadata": {
  "kernelspec": {
   "display_name": "Python 3 (ipykernel)",
   "language": "python",
   "name": "python3"
  },
  "language_info": {
   "codemirror_mode": {
    "name": "ipython",
    "version": 3
   },
   "file_extension": ".py",
   "mimetype": "text/x-python",
   "name": "python",
   "nbconvert_exporter": "python",
   "pygments_lexer": "ipython3",
   "version": "3.10.13"
  }
 },
 "nbformat": 4,
 "nbformat_minor": 1
}
