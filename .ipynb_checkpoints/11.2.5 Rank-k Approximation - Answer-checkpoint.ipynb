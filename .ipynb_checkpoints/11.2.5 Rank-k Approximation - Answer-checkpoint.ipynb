{
 "cells": [
  {
   "cell_type": "markdown",
   "id": "f214e0b8",
   "metadata": {},
   "source": [
    "# 11.2.5 Rank-k Approximation"
   ]
  },
  {
   "cell_type": "markdown",
   "id": "0bce2d34",
   "metadata": {},
   "source": [
    "<font color=red> Be sure to make a copy!!!! </font>\n",
    "\n",
    "This notebook walks you through the operations required to compute a low rank approximation of a matrix $ B $. We will create a matrix $A$ whose column space will be used in the approximation of $B$.\n",
    "\n",
    "We start by creating a random $ m \\times n $ matrix $ B $.  We then take $ k $ columns of $ B $ to be matrix $ A $, whose columns will be used in the approximation $ B \\approx A V $.\n",
    "(In the text and the videos, we talk about computing $ W $ so that $ B \\approx A W^T $.  Here we find it more convenient to compute the transpose of that matrix instead.  We call it $ V $ to distinguish it from $ W $.  So, $ W = V^T $.)\n",
    "\n",
    "$ V $ is computed as $ ( A^T A )^{-1} A^T B $. "
   ]
  },
  {
   "cell_type": "code",
   "execution_count": 14,
   "id": "79b5d363",
   "metadata": {},
   "outputs": [
    {
     "name": "stdout",
     "output_type": "stream",
     "text": [
      "A = \n",
      "[[0.84541453 0.95411398 0.70184806]\n",
      " [0.49813656 0.37799136 0.98955358]\n",
      " [0.09853289 0.91297539 0.42485301]\n",
      " [0.2058494  0.68039421 0.19806898]\n",
      " [0.0448449  0.06870541 0.41366457]\n",
      " [0.2911061  0.10433575 0.86866266]\n",
      " [0.55104708 0.91130121 0.49892453]\n",
      " [0.85050982 0.20707356 0.31460101]]\n",
      "B = \n",
      "[[0.84541453 0.85125907 0.96614224 0.95411398 0.15654782 0.06051364\n",
      "  0.70184806 0.14405197]\n",
      " [0.49813656 0.57741384 0.89517515 0.37799136 0.92982326 0.86678317\n",
      "  0.98955358 0.05057198]\n",
      " [0.09853289 0.33311593 0.04525893 0.91297539 0.73826441 0.09809916\n",
      "  0.42485301 0.83455429]\n",
      " [0.2058494  0.70886967 0.6679021  0.68039421 0.72092874 0.17051832\n",
      "  0.19806898 0.13052371]\n",
      " [0.0448449  0.8700187  0.39528943 0.06870541 0.79121594 0.26853585\n",
      "  0.41366457 0.13383882]\n",
      " [0.2911061  0.72235435 0.77372904 0.10433575 0.02756425 0.97355349\n",
      "  0.86866266 0.05804332]\n",
      " [0.55104708 0.32423259 0.62744237 0.91130121 0.37670364 0.30472132\n",
      "  0.49892453 0.79964887]\n",
      " [0.85050982 0.05170656 0.98373876 0.20707356 0.78239821 0.90643348\n",
      "  0.31460101 0.92394043]]\n"
     ]
    }
   ],
   "source": [
    "import numpy as np\n",
    "import laff\n",
    "import flame\n",
    "\n",
    "m = 8\n",
    "n = 8\n",
    "k = 3\n",
    "\n",
    "# Random matrix of size mxn\n",
    "B = np.matrix( np.random.rand( m, n ) )\n",
    "\n",
    "# A is k columns of B taken at even intervals\n",
    "if 2*k <= n: #k is less than half of n\n",
    "    interval = np.ceil( n/k ) \n",
    "    A = B[ :, ::int(interval) ] # These are slices in python. \n",
    "                           # This says take all rows of B, and columns \n",
    "                           # from 0 to the end at interval steps\n",
    "else:\n",
    "    A = B[ :, :k] #If k is greater than half of n, then just take the first k columns\n",
    "\n",
    "print( 'A = ' )\n",
    "print( A )\n",
    "\n",
    "print( 'B = ' )\n",
    "print( B )\n"
   ]
  },
  {
   "cell_type": "markdown",
   "id": "d5c3e896",
   "metadata": {},
   "source": [
    "We start the process of computing $( A^T A )^{-1} A^T B$ by computing $ A^T A $ and storing the result in a matrix, $C$.  In this implementation, we ignore symmetry."
   ]
  },
  {
   "cell_type": "code",
   "execution_count": 15,
   "id": "6e4e2b55",
   "metadata": {},
   "outputs": [
    {
     "name": "stdout",
     "output_type": "stream",
     "text": [
      "C = \n",
      "[[2.12872212 1.9366718  1.98284564]\n",
      " [1.9366718  3.23862704 2.20520073]\n",
      " [1.98284564 2.20520073 2.96513107]]\n"
     ]
    }
   ],
   "source": [
    "C = np.transpose( A ) * A \n",
    "\n",
    "print( 'C = ' )\n",
    "print( C )"
   ]
  },
  {
   "cell_type": "markdown",
   "id": "e36e90a7",
   "metadata": {},
   "source": [
    "Now, form $ V = A^T B $, notice that we are not done forming $V$ after this step."
   ]
  },
  {
   "cell_type": "code",
   "execution_count": 16,
   "id": "38ee66b1",
   "metadata": {},
   "outputs": [],
   "source": [
    "V = np.transpose( A ) * B"
   ]
  },
  {
   "cell_type": "markdown",
   "id": "9bc3fa8b",
   "metadata": {},
   "source": [
    "Instead of computing $ C^{-1} = ( A^T A )^{-1} $ explicitly, we notice that we can instead store the $ L $ and $ U $ factorization of $C$ in $ C $ and then just solve $ L ( U X ) = V $. First we will overwrite $ V $ with the \n",
    "result of solving $ L Z = V $, and then we will overwrite $ V $ with the result of solving $ U X = V $."
   ]
  },
  {
   "cell_type": "markdown",
   "id": "02a0d5dc",
   "metadata": {},
   "source": [
    "Copy your `LU_unb_var5` routine from *Notebook 6.3: Solving A x b via LU Factorization and Triangular Solves*"
   ]
  },
  {
   "cell_type": "code",
   "execution_count": 17,
   "id": "64f55899",
   "metadata": {},
   "outputs": [],
   "source": [
    "import flame\n",
    "import laff\n",
    "\n",
    "def LU_unb_var5(A):\n",
    "\n",
    "    ATL, ATR, \\\n",
    "    ABL, ABR  = flame.part_2x2(A, \\\n",
    "                               0, 0, 'TL')\n",
    "\n",
    "    while ATL.shape[0] < A.shape[0]:\n",
    "\n",
    "        A00,  a01,     A02,  \\\n",
    "        a10t, alpha11, a12t, \\\n",
    "        A20,  a21,     A22   = flame.repart_2x2_to_3x3(ATL, ATR, \\\n",
    "                                                       ABL, ABR, \\\n",
    "                                                       1, 1, 'BR')\n",
    "\n",
    "        #------------------------------------------------------------#\n",
    "\n",
    "        laff.invscal( alpha11, a21 )        #  a21 := a21 / alpha11\n",
    "        laff.ger( -1.0, a21, a12t, A22 )    #  A22 := A22 - a21 * a12t\n",
    "\n",
    "        #------------------------------------------------------------#\n",
    "\n",
    "        ATL, ATR, \\\n",
    "        ABL, ABR  = flame.cont_with_3x3_to_2x2(A00,  a01,     A02,  \\\n",
    "                                               a10t, alpha11, a12t, \\\n",
    "                                               A20,  a21,     A22,  \\\n",
    "                                               'TL')\n",
    "\n",
    "    flame.merge_2x2(ATL, ATR, \\\n",
    "                    ABL, ABR, A)"
   ]
  },
  {
   "cell_type": "markdown",
   "id": "cc6d168c",
   "metadata": {},
   "source": [
    "Now run `LU_unb_var5` on the matrix $C$ to store $L$ and $U$ in it."
   ]
  },
  {
   "cell_type": "code",
   "execution_count": 18,
   "id": "8c77292e",
   "metadata": {},
   "outputs": [],
   "source": [
    "LU_unb_var5( C )"
   ]
  },
  {
   "cell_type": "code",
   "execution_count": 20,
   "metadata": {},
   "outputs": [
    {
     "data": {
      "text/plain": [
       "matrix([[2.12872212, 1.9366718 , 1.98284564],\n",
       "        [0.90978141, 1.47667904, 0.40124463],\n",
       "        [0.93147228, 0.27172095, 1.00913875]])"
      ]
     },
     "execution_count": 20,
     "metadata": {},
     "output_type": "execute_result"
    }
   ],
   "source": [
    "C"
   ]
  },
  {
   "cell_type": "code",
   "execution_count": 23,
   "metadata": {},
   "outputs": [
    {
     "data": {
      "text/plain": [
       "matrix([[2.12872212, 1.65798301, 2.83005061, 1.9366718 , 1.73319775,\n",
       "         1.76199877, 1.98284564, 1.50543798],\n",
       "        [1.9366718 , 2.25821608, 2.6393167 , 3.23862704, 2.22790381,\n",
       "         1.17637286, 2.20520073, 1.94258893],\n",
       "        [1.98284564, 2.61617955, 3.17358627, 2.20520073, 2.27176219,\n",
       "         2.36962305, 2.96513107, 1.32698336]])"
      ]
     },
     "execution_count": 23,
     "metadata": {},
     "output_type": "execute_result"
    }
   ],
   "source": [
    "V"
   ]
  },
  {
   "cell_type": "markdown",
   "id": "d7e8ac3c",
   "metadata": {},
   "source": [
    "Solve $L ( U X ) = V$, overwriting $V$ where $U$ and $L$ are stored in the upper and the strictly lower portions of $C$ respectively."
   ]
  },
  {
   "cell_type": "code",
   "execution_count": 27,
   "id": "d8364ca1",
   "metadata": {},
   "outputs": [],
   "source": [
    "laff.trsm('Left','Lower triangular', 'No transpose', 'Unit diagonal', C, V)"
   ]
  },
  {
   "cell_type": "code",
   "execution_count": 28,
   "metadata": {},
   "outputs": [
    {
     "data": {
      "text/plain": [
       "matrix([[2.12872212, 1.9366718 , 1.98284564],\n",
       "        [0.90978141, 1.47667904, 0.40124463],\n",
       "        [0.93147228, 0.27172095, 1.00913875]])"
      ]
     },
     "execution_count": 28,
     "metadata": {},
     "output_type": "execute_result"
    }
   ],
   "source": [
    "C"
   ]
  },
  {
   "cell_type": "code",
   "execution_count": 29,
   "metadata": {},
   "outputs": [
    {
     "data": {
      "text/plain": [
       "matrix([[ 1.00000000e+00, -2.71711150e-01,  9.37123267e-01,\n",
       "         -5.12388393e-17,  8.73084535e-02,  5.18096227e-01,\n",
       "          0.00000000e+00,  5.10815545e-01],\n",
       "        [-9.09781406e-01,  5.21230322e-01, -9.48832186e-01,\n",
       "          1.00000000e+00,  2.32111995e-01, -9.87624174e-01,\n",
       "          0.00000000e+00, -1.45250660e-02],\n",
       "        [-6.84265612e-01,  9.71675104e-01, -9.98728532e-02,\n",
       "         -2.71720949e-01,  3.31680594e-01,  6.22422636e-01,\n",
       "          1.00000000e+00, -7.00750207e-01]])"
      ]
     },
     "execution_count": 29,
     "metadata": {},
     "output_type": "execute_result"
    }
   ],
   "source": [
    "V"
   ]
  },
  {
   "cell_type": "code",
   "execution_count": 31,
   "metadata": {},
   "outputs": [],
   "source": [
    "laff.trsm('Left','Upper triangular', 'No transpose', 'Nonunit diagonal', C, V)"
   ]
  },
  {
   "cell_type": "code",
   "execution_count": 32,
   "metadata": {},
   "outputs": [
    {
     "data": {
      "text/plain": [
       "matrix([[2.12872212, 1.9366718 , 1.98284564],\n",
       "        [0.90978141, 1.47667904, 0.40124463],\n",
       "        [0.93147228, 0.27172095, 1.00913875]])"
      ]
     },
     "execution_count": 32,
     "metadata": {},
     "output_type": "execute_result"
    }
   ],
   "source": [
    "C"
   ]
  },
  {
   "cell_type": "code",
   "execution_count": 33,
   "metadata": {},
   "outputs": [
    {
     "data": {
      "text/plain": [
       "matrix([[ 1.49426062, -1.10763298,  1.09252392, -0.4318541 , -0.32689192,\n",
       "          0.42981313, -0.67806891,  0.72406928],\n",
       "        [-0.4318541 ,  0.09134121, -0.61565284,  0.75035888,  0.06787674,\n",
       "         -0.83640805, -0.26926025,  0.17884787],\n",
       "        [-0.67806891,  0.96287562, -0.09896841, -0.26926025,  0.3286769 ,\n",
       "          0.61678598,  0.99094401, -0.69440422]])"
      ]
     },
     "execution_count": 33,
     "metadata": {},
     "output_type": "execute_result"
    }
   ],
   "source": [
    "V"
   ]
  },
  {
   "cell_type": "markdown",
   "id": "35304a8b",
   "metadata": {},
   "source": [
    "The $ j $th column of $ A V $ now equals the projection of the $ j $th column of $ B $ onto the column space of $ A $, $ {\\cal C}( A ) $. "
   ]
  },
  {
   "cell_type": "markdown",
   "id": "6db55c89",
   "metadata": {},
   "source": [
    "A couple of notes:\n",
    "    \n",
    "-    The matrix $ A^T A $ is symmetric positive definite.  As a result, one does not need to pivot when performing LU factorization.  (The reason for this is beyond the scope of this course.)\n",
    "\n",
    "-    One could use what is called a \"Symmetric rank-k update\" operation to compute only the lower (or upper) triangular part of $ A^T A $.  This would (approximately) halve the number of floating point operations that are required.\n",
    "\n",
    "-    In one of the enrichments, 8.4.2, we discussed the Cholesky factorization of a symmetric positive definite matrix.   One should ideally use that here, since it also takes advantage of symmetry.\n",
    "\n",
    "- This would then leave us with $ L $, a lower triangular matrix, such that $ C = A^T A = L L^T $.  Computing $ V $ would then require the steps\n",
    "  - $ V = A^T B $.\n",
    "  - Solve $ L Z = V $ overwriting $ V $ with $ Z $.\n",
    "  - Solve $ L^T X = V $ overwriting $ V $ with $ X $.\n",
    "    "
   ]
  },
  {
   "cell_type": "markdown",
   "id": "92faad34",
   "metadata": {},
   "source": [
    "## A routine"
   ]
  },
  {
   "cell_type": "markdown",
   "id": "28101cfd",
   "metadata": {},
   "source": [
    "The above computation should be implemented as the routine <code> RankKApprox( B, k ) </code>\n",
    "where $ B $ is the $ m \\times n $ matrix to be approximated, and $k$ is the rank of the eventual approximation that will be returned by the method. "
   ]
  },
  {
   "cell_type": "code",
   "execution_count": 39,
   "id": "4fda662f",
   "metadata": {},
   "outputs": [],
   "source": [
    "def RankKApprox( B, k ):\n",
    "    m,n = B.shape # How many rows and columns does B have?\n",
    "\n",
    "    # A is k columns of B taken at even intervals\n",
    "    if 2*k <= n: #k is less than half of n\n",
    "        interval = np.ceil( n/k ) \n",
    "        A = B[ :, ::int(interval) ] # These are slices in python. \n",
    "                               # This says take all rows of B, and columns \n",
    "                               # from 0 to the end at interval steps\n",
    "    else:\n",
    "        A = B[ :, :k] #If k is greater than half of n, then just take the first k columns\n",
    "    \n",
    "    # C = A^T A\n",
    "    C = np.transpose( A ) * A   \n",
    "    # W = A^T B\n",
    "    W = np.transpose( A ) * B\n",
    "    # Overwrite C with its LU factorization\n",
    "    LU_unb_var5( C )\n",
    "    \n",
    "    # Solve L(UX) = W, overwriting W with X\n",
    "    laff.trsm('Left','Lower triangular', 'No transpose', 'Unit diagonal', C, W)\n",
    "    laff.trsm('Left','Upper triangular', 'No transpose', 'Nonunit diagonal', C, W)\n",
    "    \n",
    "    return A * W"
   ]
  },
  {
   "cell_type": "markdown",
   "id": "18ed084e",
   "metadata": {},
   "source": [
    "## An Application: Rank k Image Approximation"
   ]
  },
  {
   "cell_type": "markdown",
   "id": "8605147b",
   "metadata": {},
   "source": [
    "Now that we have implemented routines to create low rank approximations to matrices we will explore what a rank k approximation to an image looks like. Each pixel in an image can be thought of as a value in a matrix. For a grayscale image, this value corresponds to how black or white it is on a relative scale.\n",
    "\n",
    "We will use two techniques for these approximations. First, the normal approximation developed above and second, the SVD which is a very useful matrix decomposition that guarantees the best approximation given $k$ columns. The SVD might take a while to compute, so don't panic if one of the code blocks takes a bit to complete.\n",
    "\n",
    "Try experimenting with the number of columns below by changing the `numCols` variable.\n",
    "\n",
    "If you want to use your own images, make sure that they are in the `png` format and just place them in your notebooks directoy. Then change the `filename` variable to reflect the file name of your image."
   ]
  },
  {
   "cell_type": "code",
   "execution_count": 40,
   "id": "a39f09ca",
   "metadata": {},
   "outputs": [
    {
     "name": "stdout",
     "output_type": "stream",
     "text": [
      "Using matplotlib backend: QtAgg\n"
     ]
    }
   ],
   "source": [
    "%matplotlib"
   ]
  },
  {
   "cell_type": "code",
   "execution_count": 52,
   "id": "a53a4bae",
   "metadata": {},
   "outputs": [],
   "source": [
    "from im_approx import *\n",
    "\n",
    "# Try varying the number of columns used for the approximation \n",
    "numCols = 40\n",
    "\n",
    "# Load an image\n",
    "filename = 'building.png'\n",
    "\n",
    "img = np.matrix(read_image( filename ))"
   ]
  },
  {
   "cell_type": "code",
   "execution_count": 53,
   "id": "d0284366",
   "metadata": {},
   "outputs": [],
   "source": [
    "# Make the approximations using normal equations and the SVD\n",
    "# This step might take a while as it is a lot of computation.\n",
    "normalApprox, SVDApprox = create_approximations( img, k=numCols, approximator=RankKApprox )"
   ]
  },
  {
   "cell_type": "code",
   "execution_count": 60,
   "id": "4d7e55d5",
   "metadata": {},
   "outputs": [],
   "source": [
    "#Now plot the approximations that we have created\n",
    "\n",
    "# Note that we're having some issues with our \n",
    "# approximations being somewhat darker than the \n",
    "# real image and are investigating.\n",
    "plot_approximations( img, normalApprox, SVDApprox, k=numCols )"
   ]
  },
  {
   "cell_type": "markdown",
   "metadata": {},
   "source": [
    "![](Figure_1.png)"
   ]
  },
  {
   "cell_type": "markdown",
   "id": "92ac10ac",
   "metadata": {},
   "source": [
    "## Hints for implementing RankKApprox"
   ]
  },
  {
   "cell_type": "markdown",
   "id": "0c4ed528",
   "metadata": {},
   "source": [
    "<font color=blue> # C = A^T A: </font> This comment corresponds to computing $C = A^T A$. Try using numpy's built in transpose method by calling `np.transpse(A)`. \n",
    "\n",
    "<font color=blue># W = A^T B: </font> This comment corresponds to computing $W = A^T B$. See above for a hint.\n",
    "\n",
    "<font color=blue># Overwrite C with its LU factorization: </font> Use your implementation of LU_unb_var5 from an earlier notebook for this.\n",
    "    \n",
    "<font color=blue># Solve L(UX) = W, overwriting W with X: </font> Use `laff.trsm` to do this. Recall that \"trsm\" means triangular solve with multiple right hand sides."
   ]
  }
 ],
 "metadata": {
  "kernelspec": {
   "display_name": "Python 3 (ipykernel)",
   "language": "python",
   "name": "python3"
  },
  "language_info": {
   "codemirror_mode": {
    "name": "ipython",
    "version": 3
   },
   "file_extension": ".py",
   "mimetype": "text/x-python",
   "name": "python",
   "nbconvert_exporter": "python",
   "pygments_lexer": "ipython3",
   "version": "3.10.13"
  }
 },
 "nbformat": 4,
 "nbformat_minor": 1
}
