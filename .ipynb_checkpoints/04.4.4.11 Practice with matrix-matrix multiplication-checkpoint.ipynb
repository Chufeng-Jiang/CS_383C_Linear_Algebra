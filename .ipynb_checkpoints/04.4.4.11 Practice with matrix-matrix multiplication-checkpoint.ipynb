{
 "cells": [
  {
   "cell_type": "markdown",
   "id": "56b340ae",
   "metadata": {},
   "source": [
    "# Matrix Multiplication Practice"
   ]
  },
  {
   "cell_type": "markdown",
   "id": "6d8a7cf2",
   "metadata": {},
   "source": [
    " In this notebook you'll be able to practice matrix multiplication with randomly generated problems. Notice the special shapes that come up!  You should encounter, as matrix-matrix multiplication, 8 problem types:\n",
    "\n",
    "<ul>\n",
    "<li>\n",
    " Matrix-matrix multiplication (all of them!)\n",
    "</li>\n",
    "<li>\n",
    "Dot Products ($ m = n = 1 $)\n",
    "</li>\n",
    "<li>\n",
    "Outer Products ($ k = 1 $)\n",
    "</li>\n",
    "<li>\n",
    "Row vector scaling ($ m = k = 1 $)\n",
    "</li>\n",
    "<li>\n",
    "Column vector scaling ($ n = k = 1 $)\n",
    "</li>\n",
    "<li>\n",
    "Scalar multiplication ( $ m = n = k = 1 $)\n",
    "</li>\n",
    "<li>\n",
    "Matrix-vector multiplication ($ n = 1 $)\n",
    "</li>\n",
    "<li>\n",
    "Row vector-matrix multiplication ($ m = 1 $)\n",
    "</li>\n",
    "</ul>\n",
    "\n",
    "Each problem type is equally likely, so you'll be able to practice the special cases more often. Try guessing the problem type every time one pops up.  Guess the most specific case of matrix-matrix multiplication.   (Yes, you could guess \"matrix-vector multiplication\" when it is also a scalar multiplication.)\n",
    "\n",
    "A lot of people get confused between Dot and Outer products, and they are really important."
   ]
  },
  {
   "cell_type": "markdown",
   "id": "872363dc",
   "metadata": {},
   "source": [
    "## Usage"
   ]
  },
  {
   "cell_type": "markdown",
   "id": "f81b00c9",
   "metadata": {},
   "source": [
    "Use the three cells below. The routines should be pretty self explanatory, but you can re-run the first code block to get a new random problem as many times as you'd like. The variable <code>p</code> stores the answer to the problem you've generated, so use the <code>p.show_answer()</code> code block to reveal the answer and the <code>p.show_problem_type()</code> code block to reveal the problem type."
   ]
  },
  {
   "cell_type": "code",
   "execution_count": 1,
   "id": "a3079a13",
   "metadata": {},
   "outputs": [
    {
     "data": {
      "text/latex": [
       "$$\\left[\\begin{matrix}4 & -1 & 3 & -1\\\\4 & -4 & 0 & 3\\\\2 & -3 & 3 & -2\\\\-2 & -1 & 1 & -2\\end{matrix}\\right] \\left[\\begin{matrix}-2\\\\-2\\\\-2\\\\-4\\end{matrix}\\right]=?$$"
      ],
      "text/plain": [
       "<IPython.core.display.Math at 0x1066654d0>"
      ]
     },
     "execution_count": 1,
     "metadata": {},
     "output_type": "execute_result"
    }
   ],
   "source": [
    "import generate_problems as gp\n",
    "\n",
    "p = gp.Problem()\n",
    "p.new_MM()"
   ]
  },
  {
   "cell_type": "code",
   "execution_count": 2,
   "id": "b677bfb0",
   "metadata": {},
   "outputs": [
    {
     "data": {
      "text/latex": [
       "$$\\left[\\begin{matrix}4 & -1 & 3 & -1\\\\4 & -4 & 0 & 3\\\\2 & -3 & 3 & -2\\\\-2 & -1 & 1 & -2\\end{matrix}\\right] \\left[\\begin{matrix}-2\\\\-2\\\\-2\\\\-4\\end{matrix}\\right]=\\left[\\begin{matrix}-8\\\\-12\\\\4\\\\12\\end{matrix}\\right]$$"
      ],
      "text/plain": [
       "<IPython.core.display.Math at 0x102c420d0>"
      ]
     },
     "execution_count": 2,
     "metadata": {},
     "output_type": "execute_result"
    }
   ],
   "source": [
    "p.show_answer()"
   ]
  },
  {
   "cell_type": "code",
   "execution_count": 3,
   "id": "461b21e4",
   "metadata": {},
   "outputs": [
    {
     "name": "stdout",
     "output_type": "stream",
     "text": [
      "This is a Matrix-Vector Product problem\n"
     ]
    }
   ],
   "source": [
    "p.show_problem_type()"
   ]
  },
  {
   "cell_type": "code",
   "execution_count": null,
   "id": "15bf7034",
   "metadata": {},
   "outputs": [],
   "source": []
  }
 ],
 "metadata": {
  "kernelspec": {
   "display_name": "Python 3 (ipykernel)",
   "language": "python",
   "name": "python3"
  },
  "language_info": {
   "codemirror_mode": {
    "name": "ipython",
    "version": 3
   },
   "file_extension": ".py",
   "mimetype": "text/x-python",
   "name": "python",
   "nbconvert_exporter": "python",
   "pygments_lexer": "ipython3",
   "version": "3.10.13"
  }
 },
 "nbformat": 4,
 "nbformat_minor": 1
}
