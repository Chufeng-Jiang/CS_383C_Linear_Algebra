{
 "cells": [
  {
   "cell_type": "markdown",
   "id": "db827edf",
   "metadata": {},
   "source": [
    "# Multiplying upper triangular matrices"
   ]
  },
  {
   "cell_type": "markdown",
   "id": "0db35a4f",
   "metadata": {},
   "source": [
    "This notebook helps you implement the operation $ C := U R $ where $ C, U, R \\in \\mathbb{R}^{n \\times n} $, and $ U $ and $ R $ are upper triangular.  $ U $ and $ R $ are stored in the upper triangular part of numpy matrices <code> U </code> and <code> R </code>. The upper triangular part of matrix <code> C </code> is to be overwritten with the resulting upper triangular matrix.  "
   ]
  },
  {
   "cell_type": "markdown",
   "id": "6deae615",
   "metadata": {},
   "source": [
    "First, we create some matrices."
   ]
  },
  {
   "cell_type": "code",
   "execution_count": 1,
   "id": "e4a8f9e6",
   "metadata": {},
   "outputs": [
    {
     "name": "stdout",
     "output_type": "stream",
     "text": [
      "C = \n",
      "[[0.87419149 0.03506093 0.08606498 0.17018796 0.18227195]\n",
      " [0.8148999  0.00490375 0.11856864 0.55445092 0.5096907 ]\n",
      " [0.33319109 0.60528811 0.23794252 0.74204221 0.32135547]\n",
      " [0.70602033 0.47535632 0.50227622 0.25208712 0.51912843]\n",
      " [0.36843446 0.3747835  0.66363731 0.77829052 0.02197925]]\n",
      "U = \n",
      "[[0.39042759 0.08577398 0.38177875 0.91967951 0.07833402]\n",
      " [0.56654639 0.56711158 0.3739714  0.57068716 0.86087269]\n",
      " [0.50921086 0.93871748 0.27822798 0.40968655 0.44763417]\n",
      " [0.88750607 0.08690923 0.24126967 0.06475558 0.5871675 ]\n",
      " [0.35421628 0.04886029 0.87092901 0.81082548 0.52634533]]\n",
      "R = \n",
      "[[0.65537363 0.10152284 0.31894093 0.67684241 0.72614809]\n",
      " [0.5006518  0.56385153 0.70002983 0.03248063 0.93969913]\n",
      " [0.86583794 0.82084206 0.20140673 0.04462585 0.40530812]\n",
      " [0.51227307 0.82015631 0.9212149  0.54847822 0.67754885]\n",
      " [0.66910759 0.05076886 0.0407678  0.91852537 0.33476995]]\n"
     ]
    }
   ],
   "source": [
    "import numpy as np\n",
    "\n",
    "n = 5\n",
    "\n",
    "C = np.matrix( np.random.random( (n, n) ) )\n",
    "print( 'C = ' )\n",
    "print( C )\n",
    "\n",
    "Cold = np.matrix( np.zeros( (n,n ) ) )\n",
    "Cold = np.matrix( np.copy( C ) )           # an alternative way of doing a \"hard\" copy, in this case of a matrix\n",
    "    \n",
    "U = np.matrix( np.random.random( (n, n) ) )\n",
    "print( 'U = ' )\n",
    "print( U )\n",
    "\n",
    "R = np.matrix( np.random.random( (n, n) ) )\n",
    "print( 'R = ' )\n",
    "print( R )"
   ]
  },
  {
   "cell_type": "markdown",
   "id": "fdeb953b",
   "metadata": {},
   "source": [
    "## <h2>The algorithm  </h2>  <image src=\"https://studio.edx.org/c4x/UTAustinX/UT.5.01x/asset/5_5_1_10_Answer.png\" alt=\"Upper triangular matrix-matrix multiplication\" width=\"80%\">"
   ]
  },
  {
   "cell_type": "markdown",
   "id": "71de9a50",
   "metadata": {},
   "source": [
    "<h2> The routine <code> Trtrmm_uu_unb_var1( U, R, C ) </code> </h2>\n",
    "\n",
    "This routine computes $ C := U R + C $.  The \"\\_uu\\_\" means that $ U $ and $ R $ are upper triangular matrices (which means $ C $ is too).  However, the lower triangular parts of numpy matrices <code> U </code>, <code> R </code>, and <code> C </code> are not to be \"touched\".\n",
    "    \n",
    "The specific laff function you will want to use is some subset of\n",
    "<ul>\n",
    "<li> <code> laff.gemv( trans, alpha, A, x, beta, y ) </code> which computes $ y := \\alpha A x + \\beta y $ or $ y := \\alpha A^T x + \\beta y $ depending on whether <code> trans = 'No transpose' </code> or <code> trans = 'Transpose' </code> </li>\n",
    "    <li> <code> laff.ger( alpha, x, y, A ) </code> which computes the rank-1 update (adds a multiple of an outer product to a matrix)\n",
    "$ A := \\alpha x y^T + A $. </li>\n",
    "    <li> <code> laff.axpy( alpha, x, y ) </code></li>\n",
    "    <li>    <code> laff.dots( x, y, alpha ) </code></li>\n",
    "</ul>\n",
    "\n",
    "<font color=red> Hint:</font>  If you multiply with $ U_{00} $, you will want to use <code> np.triu( U00 ) </code> to make sure you don't compute with the nonzeroes below the diagonal.\n",
    "\n",
    "Use the <a href=\"https://studio.edx.org/c4x/UTAustinX/UT.5.01x/asset/index.html\"> Spark webpage</a> to generate a code skeleton.  (Make sure you adjust the name of the routine.)"
   ]
  },
  {
   "cell_type": "code",
   "execution_count": 2,
   "id": "5eae8305",
   "metadata": {},
   "outputs": [],
   "source": [
    "import laff as laff\n",
    "import flame\n",
    "\n",
    "def Trtrmm_uu_unb_var1(U, R, C):\n",
    "\n",
    "    UTL, UTR, \\\n",
    "    UBL, UBR  = flame.part_2x2(U, \\\n",
    "                               0, 0, 'TL')\n",
    "\n",
    "    RTL, RTR, \\\n",
    "    RBL, RBR  = flame.part_2x2(R, \\\n",
    "                               0, 0, 'TL')\n",
    "\n",
    "    CTL, CTR, \\\n",
    "    CBL, CBR  = flame.part_2x2(C, \\\n",
    "                               0, 0, 'TL')\n",
    "\n",
    "    while UTL.shape[0] < U.shape[0]:\n",
    "\n",
    "        U00,  u01,       U02,  \\\n",
    "        u10t, upsilon11, u12t, \\\n",
    "        U20,  u21,       U22   = flame.repart_2x2_to_3x3(UTL, UTR, \\\n",
    "                                                         UBL, UBR, \\\n",
    "                                                         1, 1, 'BR')\n",
    "\n",
    "        R00,  r01,   R02,  \\\n",
    "        r10t, rho11, r12t, \\\n",
    "        R20,  r21,   R22   = flame.repart_2x2_to_3x3(RTL, RTR, \\\n",
    "                                                     RBL, RBR, \\\n",
    "                                                     1, 1, 'BR')\n",
    "\n",
    "        C00,  c01,     C02,  \\\n",
    "        c10t, gamma11, c12t, \\\n",
    "        C20,  c21,     C22   = flame.repart_2x2_to_3x3(CTL, CTR, \\\n",
    "                                                       CBL, CBR, \\\n",
    "                                                       1, 1, 'BR')\n",
    "\n",
    "        #------------------------------------------------------------#\n",
    "\n",
    "        # imporant:  You do not need to recompute C00 = U00 * R00!!!!\n",
    "        laff.gemv( 'No transpose', 1.0, np.triu( U00 ), r01, 0.0, c01 )\n",
    "        laff.axpy( rho11, u01, c01 )\n",
    "        laff.dot( rho11, upsilon11, gamma11 )\n",
    "\n",
    "        \n",
    "        #------------------------------------------------------------#\n",
    "\n",
    "        UTL, UTR, \\\n",
    "        UBL, UBR  = flame.cont_with_3x3_to_2x2(U00,  u01,       U02,  \\\n",
    "                                               u10t, upsilon11, u12t, \\\n",
    "                                               U20,  u21,       U22,  \\\n",
    "                                               'TL')\n",
    "\n",
    "        RTL, RTR, \\\n",
    "        RBL, RBR  = flame.cont_with_3x3_to_2x2(R00,  r01,   R02,  \\\n",
    "                                               r10t, rho11, r12t, \\\n",
    "                                               R20,  r21,   R22,  \\\n",
    "                                               'TL')\n",
    "\n",
    "        CTL, CTR, \\\n",
    "        CBL, CBR  = flame.cont_with_3x3_to_2x2(C00,  c01,     C02,  \\\n",
    "                                               c10t, gamma11, c12t, \\\n",
    "                                               C20,  c21,     C22,  \\\n",
    "                                               'TL')\n",
    "\n",
    "    flame.merge_2x2(CTL, CTR, \\\n",
    "                    CBL, CBR, C)\n",
    "\n",
    "\n",
    "\n"
   ]
  },
  {
   "cell_type": "code",
   "execution_count": 4,
   "id": "bfb19502",
   "metadata": {},
   "outputs": [
    {
     "ename": "AssertionError",
     "evalue": "laff.gemv: matrix A must be a 2D numpy.matrix",
     "output_type": "error",
     "traceback": [
      "\u001b[1;31m---------------------------------------------------------------------------\u001b[0m",
      "\u001b[1;31mAssertionError\u001b[0m                            Traceback (most recent call last)",
      "Cell \u001b[1;32mIn[4], line 3\u001b[0m\n\u001b[0;32m      1\u001b[0m C \u001b[38;5;241m=\u001b[39m np\u001b[38;5;241m.\u001b[39mmatrix( np\u001b[38;5;241m.\u001b[39mcopy( Cold ) )               \u001b[38;5;66;03m# restore C \u001b[39;00m\n\u001b[1;32m----> 3\u001b[0m \u001b[43mTrtrmm_uu_unb_var1\u001b[49m\u001b[43m(\u001b[49m\u001b[43m \u001b[49m\u001b[43mU\u001b[49m\u001b[43m,\u001b[49m\u001b[43m \u001b[49m\u001b[43mR\u001b[49m\u001b[43m,\u001b[49m\u001b[43m \u001b[49m\u001b[43mC\u001b[49m\u001b[43m \u001b[49m\u001b[43m)\u001b[49m\n\u001b[0;32m      5\u001b[0m \u001b[38;5;66;03m# compute it using numpy *.  This is a little complex, since we want to make sure we\u001b[39;00m\n\u001b[0;32m      6\u001b[0m \u001b[38;5;66;03m#   don't change the lower triangular part of C\u001b[39;00m\n\u001b[0;32m      7\u001b[0m \u001b[38;5;66;03m# Cref = np.tril( Cold, -1 ) + np.triu( U ) * np.triu( R )\u001b[39;00m\n\u001b[0;32m      8\u001b[0m Cref \u001b[38;5;241m=\u001b[39m np\u001b[38;5;241m.\u001b[39mtriu( U ) \u001b[38;5;241m*\u001b[39m np\u001b[38;5;241m.\u001b[39mtriu( R ) \u001b[38;5;241m+\u001b[39m np\u001b[38;5;241m.\u001b[39mtril( Cold, \u001b[38;5;241m-\u001b[39m\u001b[38;5;241m1\u001b[39m )\n",
      "Cell \u001b[1;32mIn[2], line 41\u001b[0m, in \u001b[0;36mTrtrmm_uu_unb_var1\u001b[1;34m(U, R, C)\u001b[0m\n\u001b[0;32m     32\u001b[0m C00,  c01,     C02,  \\\n\u001b[0;32m     33\u001b[0m c10t, gamma11, c12t, \\\n\u001b[0;32m     34\u001b[0m C20,  c21,     C22   \u001b[38;5;241m=\u001b[39m flame\u001b[38;5;241m.\u001b[39mrepart_2x2_to_3x3(CTL, CTR, \\\n\u001b[0;32m     35\u001b[0m                                                CBL, CBR, \\\n\u001b[0;32m     36\u001b[0m                                                \u001b[38;5;241m1\u001b[39m, \u001b[38;5;241m1\u001b[39m, \u001b[38;5;124m'\u001b[39m\u001b[38;5;124mBR\u001b[39m\u001b[38;5;124m'\u001b[39m)\n\u001b[0;32m     38\u001b[0m \u001b[38;5;66;03m#------------------------------------------------------------#\u001b[39;00m\n\u001b[0;32m     39\u001b[0m \n\u001b[0;32m     40\u001b[0m \u001b[38;5;66;03m# imporant:  You do not need to recompute C00 = U00 * R00!!!!\u001b[39;00m\n\u001b[1;32m---> 41\u001b[0m \u001b[43mlaff\u001b[49m\u001b[38;5;241;43m.\u001b[39;49m\u001b[43mgemv\u001b[49m\u001b[43m(\u001b[49m\u001b[43m \u001b[49m\u001b[38;5;124;43m'\u001b[39;49m\u001b[38;5;124;43mNo transpose\u001b[39;49m\u001b[38;5;124;43m'\u001b[39;49m\u001b[43m,\u001b[49m\u001b[43m \u001b[49m\u001b[38;5;241;43m1.0\u001b[39;49m\u001b[43m,\u001b[49m\u001b[43m \u001b[49m\u001b[43mnp\u001b[49m\u001b[38;5;241;43m.\u001b[39;49m\u001b[43mtriu\u001b[49m\u001b[43m(\u001b[49m\u001b[43m \u001b[49m\u001b[43mU00\u001b[49m\u001b[43m \u001b[49m\u001b[43m)\u001b[49m\u001b[43m,\u001b[49m\u001b[43m \u001b[49m\u001b[43mr01\u001b[49m\u001b[43m,\u001b[49m\u001b[43m \u001b[49m\u001b[38;5;241;43m0.0\u001b[39;49m\u001b[43m,\u001b[49m\u001b[43m \u001b[49m\u001b[43mc01\u001b[49m\u001b[43m \u001b[49m\u001b[43m)\u001b[49m\n\u001b[0;32m     42\u001b[0m laff\u001b[38;5;241m.\u001b[39maxpy( rho11, u01, c01 )\n\u001b[0;32m     43\u001b[0m laff\u001b[38;5;241m.\u001b[39mdot( rho11, upsilon11, gamma11 )\n",
      "File \u001b[1;32mF:\\Git Repo\\UTAustin_Linear_Algebra_Foundations_to_Frontiers\\laff\\matvec\\gemv.py:26\u001b[0m, in \u001b[0;36mgemv\u001b[1;34m(trans, alpha, A, x, beta, y)\u001b[0m\n\u001b[0;32m     23\u001b[0m     \u001b[38;5;28;01massert\u001b[39;00m \u001b[38;5;28misinstance\u001b[39m( alpha, (\u001b[38;5;28mint\u001b[39m,\u001b[38;5;28mfloat\u001b[39m,\u001b[38;5;28mcomplex\u001b[39m)), \u001b[38;5;124m\"\u001b[39m\u001b[38;5;124mlaff.gemv: alpha is neither a scalar nor a 1 x 1 matrix\u001b[39m\u001b[38;5;124m\"\u001b[39m\n\u001b[0;32m     24\u001b[0m     scalar_alpha \u001b[38;5;241m=\u001b[39m alpha\n\u001b[1;32m---> 26\u001b[0m \u001b[38;5;28;01massert\u001b[39;00m \u001b[38;5;28mtype\u001b[39m(A) \u001b[38;5;129;01mis\u001b[39;00m matrix \u001b[38;5;129;01mand\u001b[39;00m \u001b[38;5;28mlen\u001b[39m(A\u001b[38;5;241m.\u001b[39mshape) \u001b[38;5;129;01mis\u001b[39;00m \u001b[38;5;241m2\u001b[39m, \\\n\u001b[0;32m     27\u001b[0m        \u001b[38;5;124m\"\u001b[39m\u001b[38;5;124mlaff.gemv: matrix A must be a 2D numpy.matrix\u001b[39m\u001b[38;5;124m\"\u001b[39m\n\u001b[0;32m     29\u001b[0m \u001b[38;5;28;01massert\u001b[39;00m \u001b[38;5;28mtype\u001b[39m(x) \u001b[38;5;129;01mis\u001b[39;00m matrix \u001b[38;5;129;01mand\u001b[39;00m \u001b[38;5;28mlen\u001b[39m(x\u001b[38;5;241m.\u001b[39mshape) \u001b[38;5;129;01mis\u001b[39;00m \u001b[38;5;241m2\u001b[39m, \\\n\u001b[0;32m     30\u001b[0m        \u001b[38;5;124m\"\u001b[39m\u001b[38;5;124mlaff.gemv: vector x must be a 2D numpy.matrix\u001b[39m\u001b[38;5;124m\"\u001b[39m\n\u001b[0;32m     32\u001b[0m \u001b[38;5;28;01mif\u001b[39;00m(\u001b[38;5;28mtype\u001b[39m(beta) \u001b[38;5;129;01mis\u001b[39;00m matrix):\n",
      "\u001b[1;31mAssertionError\u001b[0m: laff.gemv: matrix A must be a 2D numpy.matrix"
     ]
    }
   ],
   "source": [
    "C = np.matrix( np.copy( Cold ) )               # restore C \n",
    "\n",
    "Trtrmm_uu_unb_var1( U, R, C )\n",
    "\n",
    "# compute it using numpy *.  This is a little complex, since we want to make sure we\n",
    "#   don't change the lower triangular part of C\n",
    "# Cref = np.tril( Cold, -1 ) + np.triu( U ) * np.triu( R )\n",
    "Cref = np.triu( U ) * np.triu( R ) + np.tril( Cold, -1 )\n",
    "print( 'C - Cref' )\n",
    "print( C - Cref )"
   ]
  },
  {
   "cell_type": "markdown",
   "id": "5e5e27f9",
   "metadata": {},
   "source": [
    "In theory, the result matrix should be (approximately) zero."
   ]
  },
  {
   "cell_type": "markdown",
   "id": "a1a1d3d9",
   "metadata": {},
   "source": [
    "## Watch the algorithm at work!"
   ]
  },
  {
   "cell_type": "markdown",
   "id": "e9983bc6",
   "metadata": {},
   "source": [
    "Copy and paste the code into <a href=\"http://edx-org-utaustinx.s3.amazonaws.com/UT501x/PictureFlame/PictureFLAME.html\"> PictureFLAME </a>, a webpage where you can watch your routine in action.  Just cut and paste into the box.  \n",
    "\n",
    "Disclaimer: we implemented a VERY simple interpreter.  If you do something wrong, we cannot guarantee the results.  But if you do it right, you are in for a treat.\n",
    "\n",
    "If you want to reset the problem, just click in the box into which you pasted the code and hit \"next\" again."
   ]
  },
  {
   "cell_type": "code",
   "execution_count": null,
   "metadata": {},
   "outputs": [],
   "source": []
  }
 ],
 "metadata": {
  "kernelspec": {
   "display_name": "Python 3 (ipykernel)",
   "language": "python",
   "name": "python3"
  },
  "language_info": {
   "codemirror_mode": {
    "name": "ipython",
    "version": 3
   },
   "file_extension": ".py",
   "mimetype": "text/x-python",
   "name": "python",
   "nbconvert_exporter": "python",
   "pygments_lexer": "ipython3",
   "version": "3.10.13"
  }
 },
 "nbformat": 4,
 "nbformat_minor": 1
}
