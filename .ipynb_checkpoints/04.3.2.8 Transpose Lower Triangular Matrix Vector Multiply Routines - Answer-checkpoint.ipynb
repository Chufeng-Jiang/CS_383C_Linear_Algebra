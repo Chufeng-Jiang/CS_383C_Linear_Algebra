{
 "cells": [
  {
   "cell_type": "markdown",
   "id": "c5edb3dc",
   "metadata": {},
   "source": [
    "# Transpose Lower Triangular Matrix Vector Multiply Routines"
   ]
  },
  {
   "cell_type": "markdown",
   "id": "92f5d412",
   "metadata": {},
   "source": [
    "This notebook walks you through how to implement $ y := L^T x + y $ where $ L $ is lower triangular."
   ]
  },
  {
   "cell_type": "markdown",
   "id": "c96095ab",
   "metadata": {},
   "source": [
    "## Getting started"
   ]
  },
  {
   "cell_type": "markdown",
   "id": "8a89c3f8",
   "metadata": {},
   "source": [
    "We will use some functions that are part of our laff library (of which this function will become a part) as well as some routines from the FLAME API (Application Programming Interface) that allows us to write code that closely resembles how we typeset algorithms using the FLAME notation.  These functions are imported with the \"import laff as laff\" and \"import flame\" statements."
   ]
  },
  {
   "cell_type": "markdown",
   "id": "57e03f37",
   "metadata": {},
   "source": [
    "## The routine <br> <code> Tmvmult_lt_unb_var1( L, x, y ) </code>"
   ]
  },
  {
   "cell_type": "markdown",
   "id": "b051feb6",
   "metadata": {},
   "source": [
    "This routine, given lower triangular $ L \\in \\mathbb{R}^{n \\times n} $, $ x \\in \\mathbb{R}^n $, and $ y \\in \\mathbb{R}^n $, computes $ y := L^T x + y $.  The \"_lt_\" in the name of the routine indicates this is the \"lower triangular, no transpose\" matrix-vector multiplication.  \n",
    "\n",
    "The specific laff functions we will use are \n",
    "<ul>\n",
    "<li> <code> laff.dots( x, y, alpha ) </code> which computes $ \\alpha := x^T y + \\alpha $.  </li>\n",
    "</ul>\n",
    "\n",
    "Use the <a href=\"https://studio.edx.org/c4x/UTAustinX/UT.5.01x/asset/index.html\"> Spark webpage</a> to generate a code skeleton.  (Make sure you adjust the name of the routine.)"
   ]
  },
  {
   "cell_type": "code",
   "execution_count": 1,
   "id": "ef8374c8",
   "metadata": {},
   "outputs": [],
   "source": [
    "import flame\n",
    "import laff as laff\n",
    "\n",
    "def Tmvmult_lt_unb_var1(L, x, y):\n",
    "\n",
    "    LTL, LTR, \\\n",
    "    LBL, LBR  = flame.part_2x2(L, \\\n",
    "                               0, 0, 'TL')\n",
    "\n",
    "    xT, \\\n",
    "    xB  = flame.part_2x1(x, \\\n",
    "                         0, 'TOP')\n",
    "\n",
    "    yT, \\\n",
    "    yB  = flame.part_2x1(y, \\\n",
    "                         0, 'TOP')\n",
    "\n",
    "    while LTL.shape[0] < L.shape[0]:\n",
    "\n",
    "        L00,  l01,      L02,  \\\n",
    "        l10t, lambda11, l12t, \\\n",
    "        L20,  l21,      L22   = flame.repart_2x2_to_3x3(LTL, LTR, \\\n",
    "                                                        LBL, LBR, \\\n",
    "                                                        1, 1, 'BR')\n",
    "\n",
    "        x0,   \\\n",
    "        chi1, \\\n",
    "        x2    = flame.repart_2x1_to_3x1(xT, \\\n",
    "                                        xB, \\\n",
    "                                        1, 'BOTTOM')\n",
    "\n",
    "        y0,   \\\n",
    "        psi1, \\\n",
    "        y2    = flame.repart_2x1_to_3x1(yT, \\\n",
    "                                        yB, \\\n",
    "                                        1, 'BOTTOM')\n",
    "\n",
    "        #------------------------------------------------------------#\n",
    "\n",
    "        laff.dots( l21, x2, psi1 )\n",
    "        laff.dots( lambda11, chi1, psi1 )\n",
    "\n",
    "        #------------------------------------------------------------#\n",
    "\n",
    "        LTL, LTR, \\\n",
    "        LBL, LBR  = flame.cont_with_3x3_to_2x2(L00,  l01,      L02,  \\\n",
    "                                               l10t, lambda11, l12t, \\\n",
    "                                               L20,  l21,      L22,  \\\n",
    "                                               'TL')\n",
    "\n",
    "        xT, \\\n",
    "        xB  = flame.cont_with_3x1_to_2x1(x0,   \\\n",
    "                                         chi1, \\\n",
    "                                         x2,   \\\n",
    "                                         'TOP')\n",
    "\n",
    "        yT, \\\n",
    "        yB  = flame.cont_with_3x1_to_2x1(y0,   \\\n",
    "                                         psi1, \\\n",
    "                                         y2,   \\\n",
    "                                         'TOP')\n",
    "\n",
    "    flame.merge_2x1(yT, \\\n",
    "                    yB, y)\n",
    "\n"
   ]
  },
  {
   "cell_type": "markdown",
   "id": "8d6b7cf5",
   "metadata": {},
   "source": [
    "## Testing"
   ]
  },
  {
   "cell_type": "markdown",
   "id": "16727d6d",
   "metadata": {},
   "source": [
    "Let's quickly test the routine by creating a 4 x 4 matrix and related vectors, performing the computation."
   ]
  },
  {
   "cell_type": "code",
   "execution_count": 2,
   "id": "2f47c661",
   "metadata": {},
   "outputs": [
    {
     "name": "stdout",
     "output_type": "stream",
     "text": [
      "L before =\n",
      "[[0.12680708 0.31593899 0.18841092 0.11004406]\n",
      " [0.85931741 0.84653532 0.82864808 0.3573474 ]\n",
      " [0.86145048 0.04401213 0.36823711 0.69292676]\n",
      " [0.82530183 0.65622316 0.66707311 0.77768098]]\n",
      "x before =\n",
      "[[0.41223309]\n",
      " [0.72354475]\n",
      " [0.90340422]\n",
      " [0.46854045]]\n",
      "y before =\n",
      "[[0.32793012]\n",
      " [0.62545353]\n",
      " [0.52741561]\n",
      " [0.17967438]]\n"
     ]
    }
   ],
   "source": [
    "from numpy import random\n",
    "from numpy import matrix\n",
    "\n",
    "L = matrix( random.rand( 4,4 ) )\n",
    "x = matrix( random.rand( 4,1 ) )\n",
    "y = matrix( random.rand( 4,1 ) )\n",
    "yold = matrix( random.rand( 4,1 ) )\n",
    "\n",
    "# Notice that L is not lower triangular.  We will only use the lower triangular part.\n",
    "\n",
    "print( 'L before =' )\n",
    "print( L )\n",
    "\n",
    "print( 'x before =' )\n",
    "print( x )\n",
    "\n",
    "print( 'y before =' )\n",
    "print( y )"
   ]
  },
  {
   "cell_type": "code",
   "execution_count": 3,
   "id": "2acf8951",
   "metadata": {},
   "outputs": [
    {
     "name": "stdout",
     "output_type": "stream",
     "text": [
      "y after =\n",
      "[[2.16688408]\n",
      " [1.58518755]\n",
      " [1.1726333 ]\n",
      " [0.54404938]]\n",
      "y - ( np.transpose( np.tril( L ) ) * x + yold ) = \n",
      "[[ 0.00000000e+00]\n",
      " [ 0.00000000e+00]\n",
      " [-2.22044605e-16]\n",
      " [ 0.00000000e+00]]\n"
     ]
    }
   ],
   "source": [
    "import numpy as np\n",
    "laff.copy( y, yold )   # save the original vector y\n",
    "\n",
    "Tmvmult_lt_unb_var1( L, x, y )\n",
    "\n",
    "print( 'y after =' )\n",
    "print( y )\n",
    "\n",
    "#np.tril makes the matrix lower triangular\n",
    "print( 'y - ( np.transpose( np.tril( L ) ) * x + yold ) = ' )\n",
    "print( y - ( np.transpose( np.tril( L ) ) * x + yold ) )"
   ]
  },
  {
   "cell_type": "markdown",
   "id": "2cf0a3e1",
   "metadata": {},
   "source": [
    "Bingo, it seems to work!  (Notice that we are doing floating point computations, which means that due to rounding you may not get an exact \"0\".)"
   ]
  },
  {
   "cell_type": "markdown",
   "id": "48268b80",
   "metadata": {},
   "source": [
    "## Watch your code in action!"
   ]
  },
  {
   "cell_type": "markdown",
   "id": "400a6158",
   "metadata": {},
   "source": [
    "Copy and paste the code into <a href=\"http://edx-org-utaustinx.s3.amazonaws.com/UT501x/PictureFlame/PictureFLAME.html\"> PictureFLAME </a>, a webpage where you can watch your routine in action.  Just cut and paste into the box.  \n",
    "\n",
    "Disclaimer: we implemented a VERY simple interpreter.  If you do something wrong, we cannot guarantee the results.  But if you do it right, you are in for a treat.\n",
    "\n",
    "If you want to reset the problem, just click in the box into which you pasted the code and hit \"next\" again."
   ]
  },
  {
   "cell_type": "markdown",
   "id": "17d50c09",
   "metadata": {},
   "source": [
    "## The routine <br> <code> Tmvmult_lt_unb_var2( L, x, y ) </code>"
   ]
  },
  {
   "cell_type": "markdown",
   "id": "b9daa4b7",
   "metadata": {},
   "source": [
    "This routine, given lower triangular $ L \\in \\mathbb{R}^{n \\times n} $, $ x \\in \\mathbb{R}^n $, and $ y \\in \\mathbb{R}^n $, computes $ y := L^T x + y $.  The \"_lt_\" in the name of the routine indicates this is the \"lower triangular, no transpose\" matrix-vector multiplication.  \n",
    "\n",
    "The specific laff functions we will use are \n",
    "<ul>\n",
    "<li> <code> laff.axpy( alpha, x, y ) </code> which computes $ y := \\alpha x +  y  $.  </li>\n",
    "</ul>\n",
    "\n",
    "Use the <a href=\"https://studio.edx.org/c4x/UTAustinX/UT.5.01x/asset/index.html\"> Spark webpage</a> to generate a code skeleton.  (Make sure you adjust the name of the routine.)"
   ]
  },
  {
   "cell_type": "code",
   "execution_count": 4,
   "id": "4050d102",
   "metadata": {},
   "outputs": [],
   "source": [
    "import flame\n",
    "import laff as laff\n",
    "\n",
    "def Tmvmult_lt_unb_var2(L, x, y):\n",
    "\n",
    "    LTL, LTR, \\\n",
    "    LBL, LBR  = flame.part_2x2(L, \\\n",
    "                               0, 0, 'TL')\n",
    "\n",
    "    xT, \\\n",
    "    xB  = flame.part_2x1(x, \\\n",
    "                         0, 'TOP')\n",
    "\n",
    "    yT, \\\n",
    "    yB  = flame.part_2x1(y, \\\n",
    "                         0, 'TOP')\n",
    "\n",
    "    while LTL.shape[0] < L.shape[0]:\n",
    "\n",
    "        L00,  l01,      L02,  \\\n",
    "        l10t, lambda11, l12t, \\\n",
    "        L20,  l21,      L22   = flame.repart_2x2_to_3x3(LTL, LTR, \\\n",
    "                                                        LBL, LBR, \\\n",
    "                                                        1, 1, 'BR')\n",
    "\n",
    "        x0,   \\\n",
    "        chi1, \\\n",
    "        x2    = flame.repart_2x1_to_3x1(xT, \\\n",
    "                                        xB, \\\n",
    "                                        1, 'BOTTOM')\n",
    "\n",
    "        y0,   \\\n",
    "        psi1, \\\n",
    "        y2    = flame.repart_2x1_to_3x1(yT, \\\n",
    "                                        yB, \\\n",
    "                                        1, 'BOTTOM')\n",
    "\n",
    "        #------------------------------------------------------------#\n",
    "\n",
    "        laff.axpy( chi1, lambda11, psi1 )\n",
    "        laff.axpy( chi1, l10t, y0 )\n",
    "\n",
    "        #------------------------------------------------------------#\n",
    "\n",
    "        LTL, LTR, \\\n",
    "        LBL, LBR  = flame.cont_with_3x3_to_2x2(L00,  l01,      L02,  \\\n",
    "                                               l10t, lambda11, l12t, \\\n",
    "                                               L20,  l21,      L22,  \\\n",
    "                                               'TL')\n",
    "\n",
    "        xT, \\\n",
    "        xB  = flame.cont_with_3x1_to_2x1(x0,   \\\n",
    "                                         chi1, \\\n",
    "                                         x2,   \\\n",
    "                                         'TOP')\n",
    "\n",
    "        yT, \\\n",
    "        yB  = flame.cont_with_3x1_to_2x1(y0,   \\\n",
    "                                         psi1, \\\n",
    "                                         y2,   \\\n",
    "                                         'TOP')\n",
    "\n",
    "    flame.merge_2x1(yT, \\\n",
    "                    yB, y)\n",
    "\n"
   ]
  },
  {
   "cell_type": "markdown",
   "id": "aa5d12c6",
   "metadata": {},
   "source": [
    "## Testing"
   ]
  },
  {
   "cell_type": "markdown",
   "id": "16762e79",
   "metadata": {},
   "source": [
    "Let's quickly test the routine by creating a 4 x 4 matrix and related vectors, performing the computation."
   ]
  },
  {
   "cell_type": "code",
   "execution_count": 5,
   "id": "5c24c03b",
   "metadata": {},
   "outputs": [
    {
     "name": "stdout",
     "output_type": "stream",
     "text": [
      "L before =\n",
      "[[0.55969781 0.22986915 0.10488127 0.31007322]\n",
      " [0.48567004 0.84583418 0.71908488 0.7387304 ]\n",
      " [0.37568995 0.36371704 0.4073857  0.52384798]\n",
      " [0.65927658 0.8227505  0.38913032 0.30041012]]\n",
      "x before =\n",
      "[[0.40042131]\n",
      " [0.94432128]\n",
      " [0.65978254]\n",
      " [0.34139877]]\n",
      "y before =\n",
      "[[0.1856315 ]\n",
      " [0.13030174]\n",
      " [0.94004874]\n",
      " [0.40361217]]\n"
     ]
    }
   ],
   "source": [
    "from numpy import random\n",
    "from numpy import matrix\n",
    "\n",
    "L = matrix( random.rand( 4,4 ) )\n",
    "x = matrix( random.rand( 4,1 ) )\n",
    "y = matrix( random.rand( 4,1 ) )\n",
    "yold = matrix( random.rand( 4,1 ) )\n",
    "\n",
    "# L is not lower triangular.  We will only use the lower triangular part.\n",
    "\n",
    "print( 'L before =' )\n",
    "print( L )\n",
    "\n",
    "print( 'x before =' )\n",
    "print( x )\n",
    "\n",
    "print( 'y before =' )\n",
    "print( y )"
   ]
  },
  {
   "cell_type": "code",
   "execution_count": 6,
   "id": "cc3f5f22",
   "metadata": {},
   "outputs": [
    {
     "name": "stdout",
     "output_type": "stream",
     "text": [
      "y after =\n",
      "[[1.34132488]\n",
      " [1.44990112]\n",
      " [1.34168333]\n",
      " [0.50617182]]\n",
      "y - ( np.transpose( np.tril( L ) ) * x + yold ) = \n",
      "[[2.22044605e-16]\n",
      " [0.00000000e+00]\n",
      " [0.00000000e+00]\n",
      " [0.00000000e+00]]\n"
     ]
    }
   ],
   "source": [
    "laff.copy( y, yold )   # save the original vector y\n",
    "\n",
    "Tmvmult_lt_unb_var2( L, x, y )\n",
    "\n",
    "print( 'y after =' )\n",
    "print( y )\n",
    "\n",
    "#np.tril makes the matrix lower triangular\n",
    "print( 'y - ( np.transpose( np.tril( L ) ) * x + yold ) = ' )\n",
    "print( y - ( np.transpose( np.tril( L ) ) * x + yold ) )"
   ]
  },
  {
   "cell_type": "markdown",
   "id": "7ec87410",
   "metadata": {},
   "source": [
    "Bingo, it seems to work!  (Notice that we are doing floating point computations, which means that due to rounding you may not get an exact \"0\".)"
   ]
  },
  {
   "cell_type": "markdown",
   "id": "6d49b343",
   "metadata": {},
   "source": [
    "## Watch your code in action!"
   ]
  },
  {
   "cell_type": "markdown",
   "id": "b08094b8",
   "metadata": {},
   "source": [
    "Copy and paste the code into <a href=\"http://edx-org-utaustinx.s3.amazonaws.com/UT501x/PictureFlame/PictureFLAME.html\"> PictureFLAME </a>, a webpage where you can watch your routine in action.  Just cut and paste into the box.  \n",
    "\n",
    "Disclaimer: we implemented a VERY simple interpreter.  If you do something wrong, we cannot guarantee the results.  But if you do it right, you are in for a treat.\n",
    "\n",
    "If you want to reset the problem, just click in the box into which you pasted the code and hit \"next\" again."
   ]
  }
 ],
 "metadata": {
  "kernelspec": {
   "display_name": "Python 3 (ipykernel)",
   "language": "python",
   "name": "python3"
  },
  "language_info": {
   "codemirror_mode": {
    "name": "ipython",
    "version": 3
   },
   "file_extension": ".py",
   "mimetype": "text/x-python",
   "name": "python",
   "nbconvert_exporter": "python",
   "pygments_lexer": "ipython3",
   "version": "3.10.13"
  }
 },
 "nbformat": 4,
 "nbformat_minor": 1
}
