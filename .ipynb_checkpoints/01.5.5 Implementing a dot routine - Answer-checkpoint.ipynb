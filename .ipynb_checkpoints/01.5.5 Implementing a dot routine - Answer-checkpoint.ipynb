{
 "cells": [
  {
   "cell_type": "markdown",
   "id": "640f6fae",
   "metadata": {},
   "source": [
    "## Implementing a dot routine"
   ]
  },
  {
   "cell_type": "markdown",
   "id": "74a75e2f",
   "metadata": {},
   "source": [
    "### Preliminaries"
   ]
  },
  {
   "cell_type": "markdown",
   "id": "ccaebac8",
   "metadata": {},
   "source": [
    "<p><font color=red> Again, copy this notebook so that you don't corrupt the original!  Then you can \"play\" with the copy of the notebook all you want! </font> </p>\n",
    "\n",
    "<p>\n",
    "<b>\n",
    "NOTE: A common problem that students have with IPython notebooks is not understanding that when the code in the gray boxes (cells) is executed, it assigns variables that persist the whole time that the notebook is open. Further, some cells rely on variables assigned by earlier cells.  If you execute these cells out of order, or if you execute the same cell twice, then you may end up changing the value of the variables.  To correct this, click on \"Cell\" at the top and execute \"run all above\" or \"run all\".  You can also reset all cells by clicking \"Cell -> All Output -> Clear\"\n",
    "</b>\n",
    "</p>\n",
    "\n",
    "<p>In this notebook, you are asked to write a loop that implements a routine that computes a dot (inner) product.</p>"
   ]
  },
  {
   "cell_type": "markdown",
   "id": "6224081e",
   "metadata": {},
   "source": [
    "Let's start by importing numpy and creating vectors $ x = \\left( \\begin{array}{r} 1 \\\\ 2 \\\\ 3 \\end{array} \\right) $ and $ y = \\left( \\begin{array}{r} -1 \\\\ 0 \\\\ -2 \\end{array} \\right) $.\n",
    "\n",
    "Execute the code in the box by clicking in the box and then on \"Cell -> Run\".  Alternative, click on the box and push \"Shift\" and \"Return\" (or \"Enter\") together."
   ]
  },
  {
   "cell_type": "code",
   "execution_count": 1,
   "id": "b921e175",
   "metadata": {},
   "outputs": [
    {
     "name": "stdout",
     "output_type": "stream",
     "text": [
      "x = \n",
      "[[1.]\n",
      " [2.]\n",
      " [3.]]\n",
      "y = \n",
      "[[-1.]\n",
      " [ 0.]\n",
      " [-2.]]\n"
     ]
    }
   ],
   "source": [
    "import numpy as np    # This imports a package called \"numpy\" that will make working with matrices \n",
    "                      # simpler\n",
    "\n",
    "# create two two-dimensional matrices of only one column each.  \n",
    "x = np.matrix( '1.;2.;3.' )\n",
    "print( 'x = ' )\n",
    "print( x )\n",
    "\n",
    "y = np.matrix( '-1.;0.;-2.' )\n",
    "print( 'y = ' )\n",
    "print( y )"
   ]
  },
  {
   "cell_type": "markdown",
   "id": "061547e6",
   "metadata": {},
   "source": [
    "With Python, you can simply execute <code> alpha = np.transpose( x ) * y</code>  to compute $ \\alpha : = x^T y $:"
   ]
  },
  {
   "cell_type": "code",
   "execution_count": 2,
   "id": "1d36015e",
   "metadata": {},
   "outputs": [
    {
     "name": "stdout",
     "output_type": "stream",
     "text": [
      "alpha:\n",
      "[[-7.]]\n"
     ]
    }
   ],
   "source": [
    "alpha = np.transpose( x ) * y\n",
    "\n",
    "print( 'alpha:' )\n",
    "print( alpha )"
   ]
  },
  {
   "cell_type": "markdown",
   "id": "ef545783",
   "metadata": {},
   "source": [
    "Interestingly, this results is stored in a 1 x 1 matrix (a matrix with only one element).  This is because \n",
    "<code> x </code> and <code> y </code> are matrices and what is being performed here is a matrix-matrix multiply (with matrices <code> np.transpose( x ) </code> and <code> y </code>).  That is a topic we will cover in a few weeks...\n",
    "\n",
    "<p><font color=red>To treat this 1x1 matrix as a scalar, you have to extract the (0,0) element of this 1 x 1 matrix:</font></p>"
   ]
  },
  {
   "cell_type": "code",
   "execution_count": 3,
   "id": "4d645bad",
   "metadata": {},
   "outputs": [
    {
     "data": {
      "text/plain": [
       "-7.0"
      ]
     },
     "execution_count": 3,
     "metadata": {},
     "output_type": "execute_result"
    }
   ],
   "source": [
    "alpha[0,0]"
   ]
  },
  {
   "cell_type": "markdown",
   "id": "eb001f5e",
   "metadata": {},
   "source": [
    "More on this in the future."
   ]
  },
  {
   "cell_type": "markdown",
   "id": "1de4a00c",
   "metadata": {},
   "source": [
    "## Computing a dot product with a loop"
   ]
  },
  {
   "cell_type": "markdown",
   "id": "2882f90a",
   "metadata": {},
   "source": [
    "Now, we want you to write a loop that computes $ \\alpha := x^T y $.  \n",
    "\n",
    "Recall that the loop for copying three entries of a vector $ x $ into a vector $ y $ was given by \n",
    "\n",
    "<code>\n",
    "        for i in range( 3 ):\n",
    "           y[ i, 0 ] = x[ i, 0 ] \n",
    "</code>\n",
    "\n",
    "Don't forget the indentation before <code> y[ i, 0 ] </code> since that indicates what statements are part of the \"loop body\" (in other words, what statements are executed as part of the \"for loop\").\n",
    "\n",
    "Remember that $ x^T y = \\sum_{i=0}^{m-1} \\chi_i \\psi_i $, where $ m $ is the size of the vectors."
   ]
  },
  {
   "cell_type": "code",
   "execution_count": 4,
   "id": "b0fc6ed5",
   "metadata": {},
   "outputs": [
    {
     "name": "stdout",
     "output_type": "stream",
     "text": [
      "alpha\n",
      "-7.0\n",
      "compare alpha to  np.transpose(x) * y:\n",
      "0.0\n"
     ]
    }
   ],
   "source": [
    "alpha = 0.\n",
    "\n",
    "for i in range( 3 ):\n",
    "    alpha = x[ i, 0 ] * y[ i, 0 ] + alpha\n",
    "\n",
    "print( 'alpha' )\n",
    "print( alpha )\n",
    "\n",
    "print( 'compare alpha to  np.transpose(x) * y:' )\n",
    "alpha_reference = np.transpose(x) * y\n",
    "\n",
    "print( alpha - alpha_reference[0,0]  )"
   ]
  },
  {
   "cell_type": "markdown",
   "id": "90d40ffe",
   "metadata": {},
   "source": [
    "The result should be:\n",
    "\n",
    "<code>\n",
    "alpha\n",
    "-7.0\n",
    "compare alpha to  np.transpose(x) * y:\n",
    "0.0\n",
    "</code>"
   ]
  },
  {
   "cell_type": "markdown",
   "id": "3951574f",
   "metadata": {},
   "source": [
    "### Dot as a simple routine"
   ]
  },
  {
   "cell_type": "markdown",
   "id": "04ef9c1c",
   "metadata": {},
   "source": [
    "<p>\n",
    "Writing the \"for loop\" every time you want to compute $ alpha := x^Ty $ is tedious and unnecessary.  Obviously, you can do \"<code> alpha = np.transpose(x) * y </code>\", but the point of this exercise is for you to write your own routine.  For this reason, you are going to write a routine, dot( x, y ).\n",
    "</p>\n",
    "\n",
    "<p>\n",
    "Complete the following routine to implement this:\n",
    "</p>"
   ]
  },
  {
   "cell_type": "code",
   "execution_count": 5,
   "id": "1101bc06",
   "metadata": {},
   "outputs": [],
   "source": [
    "def dot( x, y ):\n",
    "    \n",
    "    m, n = np.shape( x )\n",
    "    \n",
    "    alpha = 0.0\n",
    "    \n",
    "    for i in range( m ):\n",
    "        alpha = x[ i, 0 ] * y[ i, 0 ] + alpha\n",
    "    \n",
    "    return alpha"
   ]
  },
  {
   "cell_type": "markdown",
   "id": "6b4ded89",
   "metadata": {},
   "source": [
    "Be sure the run the above box, or this notebook won't know about the routine!!!"
   ]
  },
  {
   "cell_type": "markdown",
   "id": "cf33688f",
   "metadata": {},
   "source": [
    "Now, if you execute"
   ]
  },
  {
   "cell_type": "code",
   "execution_count": 6,
   "id": "8a0d16b9",
   "metadata": {},
   "outputs": [
    {
     "name": "stdout",
     "output_type": "stream",
     "text": [
      "alpha\n",
      "-7.0\n",
      "compare alpha to  np.transpose(x) * y:\n",
      "0.0\n"
     ]
    }
   ],
   "source": [
    "alpha = 0.\n",
    "\n",
    "alpha = dot( x, y )\n",
    "\n",
    "print( 'alpha' )\n",
    "print( alpha )\n",
    "\n",
    "print( 'compare alpha to  np.transpose(x) * y:' )\n",
    "alpha_reference = np.transpose(x) * y\n",
    "\n",
    "print( alpha - alpha_reference[0,0]  )"
   ]
  },
  {
   "cell_type": "markdown",
   "id": "81ed543a",
   "metadata": {},
   "source": [
    "The result should be:\n",
    "\n",
    "<code>\n",
    "alpha\n",
    "-7.0\n",
    "compare alpha to  np.transpose(x) * y:\n",
    "0.0\n",
    "</code>"
   ]
  },
  {
   "cell_type": "markdown",
   "id": "a058b5c4",
   "metadata": {},
   "source": [
    "### A complete dot function as part of the LAFF library"
   ]
  },
  {
   "cell_type": "markdown",
   "id": "d33bd61b",
   "metadata": {},
   "source": [
    "As we proceed with progressively more advanced operations and routines, we are going to need a general dot routine where $ x $ and $ y $ can be row and/or column vectors.  \n",
    "\n",
    "This routine is part of the 'laff' library.  If you do\n",
    "\n",
    "<code>\n",
    "import laff\n",
    "</code>\n",
    "\n",
    "then <code> laff.dot( x, y ) </code> will perform the desired dot operation, when <code> x </code> and <code> y </code> are column and/or a row vectors.  If you really want to see what this routine looks like, then ask for it on the discussion forum and we'll point you to where it can be found."
   ]
  },
  {
   "cell_type": "code",
   "execution_count": 7,
   "id": "88786a60",
   "metadata": {},
   "outputs": [
    {
     "name": "stdout",
     "output_type": "stream",
     "text": [
      "alpha\n",
      "-7.0\n",
      "compare alpha to  np.transpose(x) * y:\n",
      "0.0\n"
     ]
    }
   ],
   "source": [
    "import laff\n",
    "\n",
    "alpha = 0.\n",
    "\n",
    "alpha = laff.dot( x, y )\n",
    "\n",
    "print( 'alpha' )\n",
    "print( alpha )\n",
    "\n",
    "print( 'compare alpha to  np.transpose(x) * y:' )\n",
    "alpha_reference = np.transpose(x) * y\n",
    "\n",
    "print( alpha - alpha_reference[0,0]  )"
   ]
  },
  {
   "cell_type": "markdown",
   "id": "78e85050",
   "metadata": {},
   "source": [
    "### Need a challenge?"
   ]
  },
  {
   "cell_type": "markdown",
   "id": "fd3a56bf",
   "metadata": {},
   "source": [
    "In \"1.5.2 Implementing a copy routine\", we gave a complete routine that implements a copy from a row/column vector to a row/column vector, checked whether the parameters were legal, and had comments in it.  If you feel up to the challenge, below write a similar routine <code>dot</code> that works for row and column vectors, checks the parameters, and has comments.  Be sure to test your implementation.  "
   ]
  },
  {
   "cell_type": "code",
   "execution_count": 8,
   "id": "bbc6c573",
   "metadata": {},
   "outputs": [
    {
     "ename": "SyntaxError",
     "evalue": "incomplete input (2259529984.py, line 2)",
     "output_type": "error",
     "traceback": [
      "\u001b[1;36m  Cell \u001b[1;32mIn[8], line 2\u001b[1;36m\u001b[0m\n\u001b[1;33m    ### You fill in the rest!\u001b[0m\n\u001b[1;37m                             ^\u001b[0m\n\u001b[1;31mSyntaxError\u001b[0m\u001b[1;31m:\u001b[0m incomplete input\n"
     ]
    }
   ],
   "source": [
    "def dot( x, y ):\n",
    "    ### You fill in the rest!"
   ]
  },
  {
   "cell_type": "code",
   "execution_count": null,
   "id": "b1b0a8d5",
   "metadata": {},
   "outputs": [],
   "source": []
  }
 ],
 "metadata": {
  "kernelspec": {
   "display_name": "Python 3 (ipykernel)",
   "language": "python",
   "name": "python3"
  },
  "language_info": {
   "codemirror_mode": {
    "name": "ipython",
    "version": 3
   },
   "file_extension": ".py",
   "mimetype": "text/x-python",
   "name": "python",
   "nbconvert_exporter": "python",
   "pygments_lexer": "ipython3",
   "version": "3.10.13"
  }
 },
 "nbformat": 4,
 "nbformat_minor": 1
}
