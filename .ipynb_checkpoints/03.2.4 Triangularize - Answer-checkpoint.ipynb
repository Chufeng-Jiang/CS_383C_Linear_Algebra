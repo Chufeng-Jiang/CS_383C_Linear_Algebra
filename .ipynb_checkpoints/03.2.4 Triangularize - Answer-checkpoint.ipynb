{
 "cells": [
  {
   "cell_type": "markdown",
   "id": "d117bb8d",
   "metadata": {},
   "source": [
    "# \"Triangularizing\" a matrix"
   ]
  },
  {
   "cell_type": "markdown",
   "id": "da1ba60c",
   "metadata": {},
   "source": [
    "This notebook walks you through how to implement simple functions that make a square matrix into a triangular matrix by setting the appropriate entries in the matrix to zero or one."
   ]
  },
  {
   "cell_type": "markdown",
   "id": "64594fdb",
   "metadata": {},
   "source": [
    "## Getting started"
   ]
  },
  {
   "cell_type": "markdown",
   "id": "b069d5f2",
   "metadata": {},
   "source": [
    "We will use some functions that are part of our laff library (of which this function will become a part) as well as some routines from the FLAME API (Application Programming Interface) that allows us to write code that closely resembles how we typeset algorithms using the FLAME notation.  These functions are imported with the \"import laff as laff\" and \"import flame\" statements."
   ]
  },
  {
   "cell_type": "markdown",
   "id": "3a30ba8f",
   "metadata": {},
   "source": [
    "## Algorithm"
   ]
  },
  {
   "cell_type": "markdown",
   "id": "096463f9",
   "metadata": {},
   "source": [
    "<image src=\"https://studio.edx.org/c4x/UTAustinX/UT.5.01x/asset/324TriangularizeAlgorithm.png\" alt=\"Make matrix into a triangular matrix\" width=\"75%\">"
   ]
  },
  {
   "cell_type": "markdown",
   "id": "6084578f",
   "metadata": {},
   "source": [
    "## The routine"
   ]
  },
  {
   "cell_type": "markdown",
   "id": "547a889b",
   "metadata": {},
   "source": [
    "Write your <br>\n",
    "<code> Set_to_lower_triangular_matrix_unb_var1( A ) </code> <br>\n",
    "routine, using the <a href=\"https://studio.edx.org/c4x/UTAustinX/UT.5.01x/asset/index.html\"> Spark webpage </a>."
   ]
  },
  {
   "cell_type": "code",
   "execution_count": 1,
   "id": "683d0999",
   "metadata": {},
   "outputs": [],
   "source": [
    "import flame\n",
    "import laff as laff\n",
    "\n",
    "def Set_to_lower_triangular_matrix_unb_var1(A):\n",
    "\n",
    "    ATL, ATR, \\\n",
    "    ABL, ABR  = flame.part_2x2(A, \\\n",
    "                               0, 0, 'TL')\n",
    "\n",
    "    while ATL.shape[0] < A.shape[0]:\n",
    "\n",
    "        A00,  a01,     A02,  \\\n",
    "        a10t, alpha11, a12t, \\\n",
    "        A20,  a21,     A22   = flame.repart_2x2_to_3x3(ATL, ATR, \\\n",
    "                                                       ABL, ABR, \\\n",
    "                                                       1, 1, 'BR')\n",
    "\n",
    "        #------------------------------------------------------------#\n",
    "\n",
    "        laff.zerov( a01 )\n",
    "\n",
    "        #------------------------------------------------------------#\n",
    "\n",
    "        ATL, ATR, \\\n",
    "        ABL, ABR  = flame.cont_with_3x3_to_2x2(A00,  a01,     A02,  \\\n",
    "                                               a10t, alpha11, a12t, \\\n",
    "                                               A20,  a21,     A22,  \\\n",
    "                                               'TL')\n",
    "\n",
    "    flame.merge_2x2(ATL, ATR, \\\n",
    "                    ABL, ABR, A)\n",
    "\n",
    "\n",
    "\n"
   ]
  },
  {
   "cell_type": "markdown",
   "id": "35c4564a",
   "metadata": {},
   "source": [
    "## Testing"
   ]
  },
  {
   "cell_type": "markdown",
   "id": "4736d038",
   "metadata": {},
   "source": [
    "Let's quickly test the routine by creating a 5 x 5 matrix and then setting its strictly upper triangular part to zero, thus making it lower triangular.\n"
   ]
  },
  {
   "cell_type": "code",
   "execution_count": 2,
   "id": "c991d556",
   "metadata": {},
   "outputs": [
    {
     "name": "stdout",
     "output_type": "stream",
     "text": [
      "A before =\n",
      "[[0.24924038 0.2237304  0.26530343 0.61866106 0.43690454]\n",
      " [0.881325   0.36343151 0.31767748 0.16750862 0.83309808]\n",
      " [0.24493654 0.80049347 0.00596198 0.95426211 0.59654186]\n",
      " [0.85788771 0.5610191  0.66082284 0.31586554 0.21329445]\n",
      " [0.48988289 0.44240261 0.01803631 0.71368463 0.86269925]]\n"
     ]
    }
   ],
   "source": [
    "from numpy import random\n",
    "from numpy import matrix\n",
    "\n",
    "A = matrix( random.rand( 5,5 ) )\n",
    "\n",
    "print( 'A before =' )\n",
    "print( A )"
   ]
  },
  {
   "cell_type": "code",
   "execution_count": 3,
   "id": "8e63da28",
   "metadata": {},
   "outputs": [
    {
     "name": "stdout",
     "output_type": "stream",
     "text": [
      "A after =\n",
      "[[0.24924038 0.         0.         0.         0.        ]\n",
      " [0.881325   0.36343151 0.         0.         0.        ]\n",
      " [0.24493654 0.80049347 0.00596198 0.         0.        ]\n",
      " [0.85788771 0.5610191  0.66082284 0.31586554 0.        ]\n",
      " [0.48988289 0.44240261 0.01803631 0.71368463 0.86269925]]\n"
     ]
    }
   ],
   "source": [
    "Set_to_lower_triangular_matrix_unb_var1( A )\n",
    "\n",
    "print( 'A after =' )\n",
    "print( A )"
   ]
  },
  {
   "cell_type": "markdown",
   "id": "516f2869",
   "metadata": {},
   "source": [
    "Bingo, it seems to work!"
   ]
  },
  {
   "cell_type": "markdown",
   "id": "38490961",
   "metadata": {},
   "source": [
    "## Try it yourself (Homework 3.2.4.6)"
   ]
  },
  {
   "cell_type": "markdown",
   "id": "ac798a55",
   "metadata": {},
   "source": [
    "Now, an alternative routine that accesses the matrix by rows."
   ]
  },
  {
   "cell_type": "markdown",
   "id": "5b594af7",
   "metadata": {},
   "source": [
    "Use the <a href=\"https://studio.edx.org/c4x/UTAustinX/UT.5.01x/asset/index.html\"> Spark webpage </a> to generate the routine <br>\n",
    "<code> Set_to_lower_triangular_matrix_unb_var2( A )</code>.<br>"
   ]
  },
  {
   "cell_type": "code",
   "execution_count": 4,
   "id": "7191b6dc",
   "metadata": {},
   "outputs": [],
   "source": [
    "import flame\n",
    "import laff as laff\n",
    "\n",
    "def Set_to_lower_triangular_matrix_unb_var2(A):\n",
    "\n",
    "    ATL, ATR, \\\n",
    "    ABL, ABR  = flame.part_2x2(A, \\\n",
    "                               0, 0, 'TL')\n",
    "\n",
    "    while ATL.shape[0] < A.shape[0]:\n",
    "\n",
    "        A00,  a01,     A02,  \\\n",
    "        a10t, alpha11, a12t, \\\n",
    "        A20,  a21,     A22   = flame.repart_2x2_to_3x3(ATL, ATR, \\\n",
    "                                                       ABL, ABR, \\\n",
    "                                                       1, 1, 'BR')\n",
    "\n",
    "        #------------------------------------------------------------#\n",
    "\n",
    "        laff.zerov( a12t )\n",
    "\n",
    "        #------------------------------------------------------------#\n",
    "\n",
    "        ATL, ATR, \\\n",
    "        ABL, ABR  = flame.cont_with_3x3_to_2x2(A00,  a01,     A02,  \\\n",
    "                                               a10t, alpha11, a12t, \\\n",
    "                                               A20,  a21,     A22,  \\\n",
    "                                               'TL')\n",
    "\n",
    "    flame.merge_2x2(ATL, ATR, \\\n",
    "                    ABL, ABR, A)\n",
    "\n",
    "\n",
    "\n",
    "\n"
   ]
  },
  {
   "cell_type": "markdown",
   "id": "90370d86",
   "metadata": {},
   "source": [
    "Test your routine with the following"
   ]
  },
  {
   "cell_type": "code",
   "execution_count": 5,
   "id": "d4658f1e",
   "metadata": {},
   "outputs": [
    {
     "name": "stdout",
     "output_type": "stream",
     "text": [
      "A before =\n",
      "[[0.83911879 0.0413937  0.00570589 0.96588914 0.78123569]\n",
      " [0.12975093 0.62476353 0.5567724  0.51881308 0.85500886]\n",
      " [0.00321041 0.45185128 0.62583265 0.43993842 0.9224459 ]\n",
      " [0.32681499 0.42709059 0.40983251 0.24592335 0.00277185]\n",
      " [0.70902931 0.70061587 0.76985332 0.90508768 0.75375992]]\n",
      "A after =\n",
      "[[0.83911879 0.         0.         0.         0.        ]\n",
      " [0.12975093 0.62476353 0.         0.         0.        ]\n",
      " [0.00321041 0.45185128 0.62583265 0.         0.        ]\n",
      " [0.32681499 0.42709059 0.40983251 0.24592335 0.        ]\n",
      " [0.70902931 0.70061587 0.76985332 0.90508768 0.75375992]]\n"
     ]
    }
   ],
   "source": [
    "from numpy import random\n",
    "from numpy import matrix\n",
    "\n",
    "A = matrix( random.rand( 5,5 ) )\n",
    "\n",
    "print( 'A before =' )\n",
    "print( A )\n",
    "\n",
    "Set_to_lower_triangular_matrix_unb_var2( A )\n",
    "print( 'A after =' )\n",
    "print( A )"
   ]
  },
  {
   "cell_type": "markdown",
   "id": "84230134",
   "metadata": {},
   "source": [
    "## Watch your code in action!"
   ]
  },
  {
   "cell_type": "markdown",
   "id": "f5459bc0",
   "metadata": {},
   "source": [
    "Copy and paste the code into <a href=\"http://edx-org-utaustinx.s3.amazonaws.com/UT501x/PictureFlame/PictureFLAME.html\"> PictureFLAME </a>, a webpage where you can watch your routine in action.  Just cut and paste into the box.  \n",
    "\n",
    "Disclaimer: we implemented a VERY simple interpreter.  If you do something wrong, we cannot guarantee the results.  But if you do it right, you are in for a treat.\n",
    "\n",
    "If you want to reset the problem, just click in the box into which you pasted the code and hit \"next\" again."
   ]
  }
 ],
 "metadata": {
  "kernelspec": {
   "display_name": "Python 3 (ipykernel)",
   "language": "python",
   "name": "python3"
  },
  "language_info": {
   "codemirror_mode": {
    "name": "ipython",
    "version": 3
   },
   "file_extension": ".py",
   "mimetype": "text/x-python",
   "name": "python",
   "nbconvert_exporter": "python",
   "pygments_lexer": "ipython3",
   "version": "3.10.13"
  }
 },
 "nbformat": 4,
 "nbformat_minor": 1
}
