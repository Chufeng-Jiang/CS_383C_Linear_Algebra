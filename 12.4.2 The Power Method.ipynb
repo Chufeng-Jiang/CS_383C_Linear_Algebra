{
 "cells": [
  {
   "cell_type": "markdown",
   "id": "a0343c72",
   "metadata": {},
   "source": [
    "#     12.4.2 The Power Method"
   ]
  },
  {
   "cell_type": "markdown",
   "id": "9655b462",
   "metadata": {},
   "source": [
    "With this notebook, we demonstrate how the Power Method can be used to compute the eigenvector associated with the largest eigenvalue (in magnitude).\n",
    "\n",
    "<font color=red> Be sure to make a copy!!!! </font>"
   ]
  },
  {
   "cell_type": "markdown",
   "id": "4cab1650",
   "metadata": {},
   "source": [
    "We start by creating a matrix with known eigenvalues and eigenvectors\n",
    "\n",
    "How do we do this?  \n",
    "<ul>\n",
    "  <li>\n",
    "    We want a matrix that is not deficient, since otherwise the Power Method may not work. \n",
    "  </li>\n",
    "  <li>\n",
    "    Hence, $ A = V \\Lambda V^{-1} $ for some diagonal matrix $ \\Lambda $ and nonsingular matrix $ V $.  The eigenvalues are then on the diagonal of $ \\Lambda $ and the eigenvectors are the columns of $ V $.\n",
    "    </li>\n",
    "    <li>\n",
    "    So, let's pick the eigenvalues for the diagonal of $ \\Lambda $ and let's pick a random matrix $ V $ (in the hopes that it has linearly independent columns) and then let's see what happens.  \n",
    "    </li>\n",
    "    </ul>\n",
    "\n",
    "<font color=red> Experiment by changing the eigenvalues!  What happens if you make the second entry on the diagonal equal to -4?  Or what if you set 2 to -1? </font>"
   ]
  },
  {
   "cell_type": "code",
   "execution_count": 1,
   "id": "f22c7fce",
   "metadata": {},
   "outputs": [
    {
     "name": "stdout",
     "output_type": "stream",
     "text": [
      "Lambda = \n",
      "[[4. 0. 0. 0.]\n",
      " [0. 3. 0. 0.]\n",
      " [0. 0. 2. 0.]\n",
      " [0. 0. 0. 1.]]\n",
      "V = \n",
      "[[0.03214997 0.545383   0.61531142 0.6479935 ]\n",
      " [0.66321239 0.41010085 0.19898599 0.58022516]\n",
      " [0.26860602 0.58759372 0.54039095 0.49193766]\n",
      " [0.69782986 0.43486583 0.53830666 0.03795432]]\n",
      "A = \n",
      "[[-3.66430081 -1.72552935  8.27100935 -1.19061034]\n",
      " [-3.93357044  2.02807053  3.92687058  0.54381612]\n",
      " [-5.31008168 -0.9959967   9.2328236  -0.82296797]\n",
      " [-2.55799119  0.92499371  2.17017679  2.40340667]]\n"
     ]
    }
   ],
   "source": [
    "import numpy as np\n",
    "import laff\n",
    "import flame\n",
    "\n",
    "Lambda = np.matrix( ' 4., 0., 0., 0;\\\n",
    "                      0., 3., 0., 0;\\\n",
    "                      0., 0., 2., 0;\\\n",
    "                      0., 0., 0., 1' )\n",
    "\n",
    "lambda0 = Lambda[ 0,0 ]\n",
    "\n",
    "V = np.matrix( np.random.rand( 4,4 ) )\n",
    "\n",
    "# normalize the columns of V to equal one\n",
    "\n",
    "for j in range( 0, 4 ):\n",
    "    V[ :, j ] = V[ :, j ] / np.sqrt( np.transpose( V[:,j] ) * V[:, j ] )\n",
    "\n",
    "A = V * Lambda * np.linalg.inv( V )\n",
    "\n",
    "print( 'Lambda = ' )\n",
    "print( Lambda)\n",
    "\n",
    "print( 'V = ' )\n",
    "print( V )\n",
    "\n",
    "print( 'A = ' )\n",
    "print( A )\n"
   ]
  },
  {
   "cell_type": "code",
   "execution_count": 2,
   "id": "5c9118ab",
   "metadata": {},
   "outputs": [
    {
     "name": "stdout",
     "output_type": "stream",
     "text": [
      "Rayleigh quotient with vector x: [[3.90232311]]\n",
      "inner product of x with v0     : [[0.93123164]]\n",
      " \n",
      "Rayleigh quotient with vector x: [[4.12253497]]\n",
      "inner product of x with v0     : [[0.92867681]]\n",
      " \n",
      "Rayleigh quotient with vector x: [[4.18117762]]\n",
      "inner product of x with v0     : [[0.9440786]]\n",
      " \n",
      "Rayleigh quotient with vector x: [[4.18707228]]\n",
      "inner product of x with v0     : [[0.96352343]]\n",
      " \n",
      "Rayleigh quotient with vector x: [[4.16889947]]\n",
      "inner product of x with v0     : [[0.97833532]]\n",
      " \n",
      "Rayleigh quotient with vector x: [[4.14146456]]\n",
      "inner product of x with v0     : [[0.98768999]]\n",
      " \n",
      "Rayleigh quotient with vector x: [[4.11335771]]\n",
      "inner product of x with v0     : [[0.99313839]]\n",
      " \n",
      "Rayleigh quotient with vector x: [[4.08848238]]\n",
      "inner product of x with v0     : [[0.99620192]]\n",
      " \n",
      "Rayleigh quotient with vector x: [[4.06799172]]\n",
      "inner product of x with v0     : [[0.99790032]]\n",
      " \n",
      "Rayleigh quotient with vector x: [[4.05175507]]\n",
      "inner product of x with v0     : [[0.99883782]]\n",
      " \n"
     ]
    }
   ],
   "source": [
    "# Pick a random starting vector\n",
    "\n",
    "x = np.matrix( np.random.rand( 4,1 ) )\n",
    "\n",
    "for i in range(0,10):\n",
    "    x = A * x \n",
    "    \n",
    "    # normalize x to length one\n",
    "    x = x / np.sqrt( np.transpose( x ) * x )\n",
    "    \n",
    "    print( 'Rayleigh quotient with vector x:', np.transpose( x ) * A * x / ( np.transpose( x ) * x ))\n",
    "    print( 'inner product of x with v0     :', np.transpose( x ) * V[ :, 0 ] )\n",
    "    print( ' ' )"
   ]
  },
  {
   "cell_type": "code",
   "execution_count": null,
   "id": "bd1b8e84",
   "metadata": {},
   "outputs": [],
   "source": []
  },
  {
   "cell_type": "markdown",
   "id": "85486aa1",
   "metadata": {},
   "source": [
    "In the above, \n",
    " <ul>\n",
    " <li>\n",
    " The Rayleigh quotient should converge to 4.0 (slowly).\n",
    " </li>\n",
    " <li>\n",
    " The inner product of $ x $ and the first column of $ V $, $ v_0 $, should converge to 1 or -1 since eventually $ x $ should be in the direction of $ v_0 $ (or in the opposite direction).\n",
    " </li>\n",
    " </ul>\n",
    " \n",
    "If you change the \"3\" on the diagonal to \"-4\", then you have two largest eigenvalues (in magnitude), and the vector $ x $ will end up in the space spanned by $ v_0 $ and $ v_1 $. \n",
    " You can check this by looking at $ ( I - V_L ( V_L^T V_L )^{-1} V_L^T ) x $, where $V_L $ equals the matrix with $ v_0 $ and $ v_1 $ as its columns, to see if the vector orthogonal to $ {\\cal C}( V_L ) $ converges to zero. This is seen in the following code block:\n",
    "\n"
   ]
  },
  {
   "cell_type": "code",
   "execution_count": 3,
   "id": "36d48c70",
   "metadata": {},
   "outputs": [
    {
     "name": "stdout",
     "output_type": "stream",
     "text": [
      "Norm of component orthogonal:  0.0002933587629397183\n"
     ]
    }
   ],
   "source": [
    "w = x - V[ :,0:2 ] * np.linalg.inv( np.transpose( V[ :,0:2 ] ) * V[ :,0:2 ] ) * np.transpose( V[ :,0:2 ] ) * x\n",
    "    \n",
    "print( 'Norm of component orthogonal: ', np.linalg.norm( w ) )"
   ]
  },
  {
   "cell_type": "code",
   "execution_count": null,
   "id": "cc3241e3",
   "metadata": {},
   "outputs": [],
   "source": []
  }
 ],
 "metadata": {
  "kernelspec": {
   "display_name": "Python 3 (ipykernel)",
   "language": "python",
   "name": "python3"
  },
  "language_info": {
   "codemirror_mode": {
    "name": "ipython",
    "version": 3
   },
   "file_extension": ".py",
   "mimetype": "text/x-python",
   "name": "python",
   "nbconvert_exporter": "python",
   "pygments_lexer": "ipython3",
   "version": "3.10.13"
  }
 },
 "nbformat": 4,
 "nbformat_minor": 1
}
