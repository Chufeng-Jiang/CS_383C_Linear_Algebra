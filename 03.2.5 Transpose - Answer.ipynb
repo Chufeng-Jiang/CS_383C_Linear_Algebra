{
 "cells": [
  {
   "cell_type": "markdown",
   "id": "089a812d",
   "metadata": {},
   "source": [
    "# Transposing a matrix"
   ]
  },
  {
   "cell_type": "markdown",
   "id": "c4895143",
   "metadata": {},
   "source": [
    "This notebook walks you through how to implement simple functions that transpose matrix $ A $, storing the result in matrix $ B $."
   ]
  },
  {
   "cell_type": "markdown",
   "id": "39d929c3",
   "metadata": {},
   "source": [
    "## Getting started"
   ]
  },
  {
   "cell_type": "markdown",
   "id": "1f04886e",
   "metadata": {},
   "source": [
    "We will use some functions that are part of our laff library (of which this function will become a part) as well as some routines from the FLAME API (Application Programming Interface) that allows us to write code that closely resembles how we typeset algorithms using the FLAME notation.  These functions are imported with the \"import laff as laff\" and \"import flame\" statements."
   ]
  },
  {
   "cell_type": "markdown",
   "id": "288db424",
   "metadata": {},
   "source": [
    "## Algorithm"
   ]
  },
  {
   "cell_type": "markdown",
   "id": "a690215e",
   "metadata": {},
   "source": [
    "<image src=\"https://studio.edx.org/c4x/UTAustinX/UT.5.01x/asset/325TransposeAlgorithm.png\" alt=\"Transposing a matrix\" width=\"75%\">"
   ]
  },
  {
   "cell_type": "markdown",
   "id": "6f719381",
   "metadata": {},
   "source": [
    "## The routine"
   ]
  },
  {
   "cell_type": "markdown",
   "id": "829b66f0",
   "metadata": {},
   "source": [
    "Write your <br>\n",
    "<code> Transpose_unb_var1( A, B ) </code> <br>\n",
    "routine, using the <a href=\"https://studio.edx.org/c4x/UTAustinX/UT.5.01x/asset/index.html\"> Spark webpage </a> and the <code> laff.copy </code> routine."
   ]
  },
  {
   "cell_type": "code",
   "execution_count": 1,
   "id": "f4f00792",
   "metadata": {},
   "outputs": [],
   "source": [
    "import flame\n",
    "import laff as laff\n",
    "\n",
    "def Transpose_unb_var1(A, B):\n",
    "\n",
    "    AL, AR = flame.part_1x2(A, \\\n",
    "                            0, 'LEFT')\n",
    "\n",
    "    BT, \\\n",
    "    BB  = flame.part_2x1(B, \\\n",
    "                         0, 'TOP')\n",
    "\n",
    "    while AL.shape[1] < A.shape[1]:\n",
    "\n",
    "        A0, a1, A2 = flame.repart_1x2_to_1x3(AL, AR, \\\n",
    "                                             1, 'RIGHT')\n",
    "\n",
    "        B0,  \\\n",
    "        b1t, \\\n",
    "        B2   = flame.repart_2x1_to_3x1(BT, \\\n",
    "                                       BB, \\\n",
    "                                       1, 'BOTTOM')\n",
    "\n",
    "        #------------------------------------------------------------#\n",
    "\n",
    "        laff.copy( a1, b1t )\n",
    "\n",
    "        #------------------------------------------------------------#\n",
    "\n",
    "        AL, AR = flame.cont_with_1x3_to_1x2(A0, a1, A2, \\\n",
    "                                            'LEFT')\n",
    "\n",
    "        BT, \\\n",
    "        BB  = flame.cont_with_3x1_to_2x1(B0,  \\\n",
    "                                         b1t, \\\n",
    "                                         B2,  \\\n",
    "                                         'TOP')\n",
    "\n",
    "    flame.merge_2x1(BT, \\\n",
    "                    BB, B)\n",
    "\n",
    "\n"
   ]
  },
  {
   "cell_type": "markdown",
   "id": "129262a4",
   "metadata": {},
   "source": [
    "## Testing"
   ]
  },
  {
   "cell_type": "markdown",
   "id": "4c799f75",
   "metadata": {},
   "source": [
    "Let's quickly test the routine by creating a 5 x 4 matrix $ A $ and a 4 x 5 matrix $ B $ and then transposing $ A $, overwriting $ B $ with the result."
   ]
  },
  {
   "cell_type": "code",
   "execution_count": 2,
   "id": "437b123e",
   "metadata": {},
   "outputs": [
    {
     "name": "stdout",
     "output_type": "stream",
     "text": [
      "A \n",
      "[[0.49717226 0.79935587 0.78844958 0.54392738]\n",
      " [0.94532633 0.68792496 0.08937865 0.36129403]\n",
      " [0.1744585  0.98571863 0.58900076 0.53263009]\n",
      " [0.32064864 0.80188976 0.72492379 0.81528782]\n",
      " [0.95139074 0.16808514 0.05920965 0.3672235 ]]\n",
      "B before =\n",
      "[[0.27400246 0.39780843 0.01519881 0.83219266 0.93003568]\n",
      " [0.09205963 0.02667239 0.64400702 0.10662807 0.91927571]\n",
      " [0.33253532 0.15303645 0.08210549 0.07713952 0.61017356]\n",
      " [0.14564154 0.52399916 0.67223523 0.87503345 0.30969522]]\n"
     ]
    }
   ],
   "source": [
    "from numpy import random\n",
    "from numpy import matrix\n",
    "\n",
    "A = matrix( random.rand( 5,4 ) )\n",
    "B = matrix( random.rand( 4,5 ) )\n",
    "\n",
    "print( 'A ' )\n",
    "print( A )\n",
    "\n",
    "\n",
    "print( 'B before =' )\n",
    "print( B )"
   ]
  },
  {
   "cell_type": "code",
   "execution_count": 3,
   "id": "22dbf234",
   "metadata": {},
   "outputs": [
    {
     "name": "stdout",
     "output_type": "stream",
     "text": [
      "A \n",
      "[[0.49717226 0.79935587 0.78844958 0.54392738]\n",
      " [0.94532633 0.68792496 0.08937865 0.36129403]\n",
      " [0.1744585  0.98571863 0.58900076 0.53263009]\n",
      " [0.32064864 0.80188976 0.72492379 0.81528782]\n",
      " [0.95139074 0.16808514 0.05920965 0.3672235 ]]\n",
      "B after =\n",
      "[[0.49717226 0.94532633 0.1744585  0.32064864 0.95139074]\n",
      " [0.79935587 0.68792496 0.98571863 0.80188976 0.16808514]\n",
      " [0.78844958 0.08937865 0.58900076 0.72492379 0.05920965]\n",
      " [0.54392738 0.36129403 0.53263009 0.81528782 0.3672235 ]]\n"
     ]
    }
   ],
   "source": [
    "Transpose_unb_var1( A, B )\n",
    "\n",
    "print( 'A ' )\n",
    "print( A )\n",
    "\n",
    "print( 'B after =' )\n",
    "print( B )"
   ]
  },
  {
   "cell_type": "markdown",
   "id": "39606909",
   "metadata": {},
   "source": [
    "Bingo, it seems to work!"
   ]
  },
  {
   "cell_type": "markdown",
   "id": "bdcec8a2",
   "metadata": {},
   "source": [
    "## Try it yourself (Homework 3.2.5.3)"
   ]
  },
  {
   "cell_type": "markdown",
   "id": "4919286a",
   "metadata": {},
   "source": [
    "Now, an alternative routine that accesses the matrix by rows."
   ]
  },
  {
   "cell_type": "markdown",
   "id": "2a74bc45",
   "metadata": {},
   "source": [
    "Use the <a href=\"https://studio.edx.org/c4x/UTAustinX/UT.5.01x/asset/index.html\"> Spark webpage </a> to generate the routine <br>\n",
    "<code> Transpose_unb_var2( A, B )</code>.<br>"
   ]
  },
  {
   "cell_type": "code",
   "execution_count": 4,
   "id": "0142b565",
   "metadata": {},
   "outputs": [],
   "source": [
    "import flame\n",
    "import laff as laff\n",
    "\n",
    "def Transpose_unb_var2(A, B):\n",
    "\n",
    "    AT, \\\n",
    "    AB  = flame.part_2x1(A, \\\n",
    "                         0, 'TOP')\n",
    "\n",
    "    BL, BR = flame.part_1x2(B, \\\n",
    "                            0, 'LEFT')\n",
    "\n",
    "    while AT.shape[0] < A.shape[0]:\n",
    "\n",
    "        A0,  \\\n",
    "        a1t, \\\n",
    "        A2   = flame.repart_2x1_to_3x1(AT, \\\n",
    "                                       AB, \\\n",
    "                                       1, 'BOTTOM')\n",
    "\n",
    "        B0, b1, B2 = flame.repart_1x2_to_1x3(BL, BR, \\\n",
    "                                             1, 'RIGHT')\n",
    "\n",
    "        #------------------------------------------------------------#\n",
    "\n",
    "        laff.copy( a1t, b1 )\n",
    "        \n",
    "        #------------------------------------------------------------#\n",
    "\n",
    "        AT, \\\n",
    "        AB  = flame.cont_with_3x1_to_2x1(A0,  \\\n",
    "                                         a1t, \\\n",
    "                                         A2,  \\\n",
    "                                         'TOP')\n",
    "\n",
    "        BL, BR = flame.cont_with_1x3_to_1x2(B0, b1, B2, \\\n",
    "                                            'LEFT')\n",
    "\n",
    "    flame.merge_1x2(BL, BR, B)\n",
    "\n",
    "\n"
   ]
  },
  {
   "cell_type": "markdown",
   "id": "3ac3ccba",
   "metadata": {},
   "source": [
    "Test your routine with the following"
   ]
  },
  {
   "cell_type": "code",
   "execution_count": 5,
   "id": "a01df105",
   "metadata": {},
   "outputs": [
    {
     "name": "stdout",
     "output_type": "stream",
     "text": [
      "A \n",
      "[[0.31287759 0.08360499 0.82348496 0.15218009]\n",
      " [0.29517684 0.01318941 0.67221174 0.27461642]\n",
      " [0.7820232  0.84338113 0.60685158 0.64946365]\n",
      " [0.66388695 0.87943771 0.25464421 0.13840117]\n",
      " [0.34543011 0.15989585 0.70561584 0.72567589]]\n",
      "B before =\n",
      "[[0.50017044 0.16687809 0.3633683  0.06053919 0.46182398]\n",
      " [0.89916385 0.96030209 0.32420697 0.30418631 0.8778721 ]\n",
      " [0.63860524 0.55374616 0.18102456 0.06068914 0.62015101]\n",
      " [0.0321735  0.21973559 0.17475097 0.30734042 0.36937638]]\n"
     ]
    }
   ],
   "source": [
    "A = matrix( random.rand( 5,4 ) )\n",
    "B = matrix( random.rand( 4,5 ) )\n",
    "\n",
    "print( 'A ' )\n",
    "print( A )\n",
    "\n",
    "\n",
    "print( 'B before =' )\n",
    "print( B )"
   ]
  },
  {
   "cell_type": "code",
   "execution_count": 6,
   "id": "67648ded",
   "metadata": {},
   "outputs": [
    {
     "name": "stdout",
     "output_type": "stream",
     "text": [
      "A \n",
      "[[0.31287759 0.08360499 0.82348496 0.15218009]\n",
      " [0.29517684 0.01318941 0.67221174 0.27461642]\n",
      " [0.7820232  0.84338113 0.60685158 0.64946365]\n",
      " [0.66388695 0.87943771 0.25464421 0.13840117]\n",
      " [0.34543011 0.15989585 0.70561584 0.72567589]]\n",
      "B after =\n",
      "[[0.31287759 0.29517684 0.7820232  0.66388695 0.34543011]\n",
      " [0.08360499 0.01318941 0.84338113 0.87943771 0.15989585]\n",
      " [0.82348496 0.67221174 0.60685158 0.25464421 0.70561584]\n",
      " [0.15218009 0.27461642 0.64946365 0.13840117 0.72567589]]\n"
     ]
    }
   ],
   "source": [
    "Transpose_unb_var2( A, B )\n",
    "\n",
    "print( 'A ' )\n",
    "print( A )\n",
    "\n",
    "print( 'B after =' )\n",
    "print( B )"
   ]
  },
  {
   "cell_type": "markdown",
   "id": "951b331d",
   "metadata": {},
   "source": [
    "## Watch your code in action!"
   ]
  },
  {
   "cell_type": "markdown",
   "id": "b51d9579",
   "metadata": {},
   "source": [
    "Copy and paste the code into <a href=\"http://edx-org-utaustinx.s3.amazonaws.com/UT501x/PictureFlame/PictureFLAME.html\"> PictureFLAME </a>, a webpage where you can watch your routine in action.  Just cut and paste into the box.  \n",
    "\n",
    "Disclaimer: we implemented a VERY simple interpreter.  If you do something wrong, we cannot guarantee the results.  But if you do it right, you are in for a treat.\n",
    "\n",
    "If you want to reset the problem, just click in the box into which you pasted the code and hit \"next\" again."
   ]
  }
 ],
 "metadata": {
  "kernelspec": {
   "display_name": "Python 3 (ipykernel)",
   "language": "python",
   "name": "python3"
  },
  "language_info": {
   "codemirror_mode": {
    "name": "ipython",
    "version": 3
   },
   "file_extension": ".py",
   "mimetype": "text/x-python",
   "name": "python",
   "nbconvert_exporter": "python",
   "pygments_lexer": "ipython3",
   "version": "3.10.13"
  }
 },
 "nbformat": 4,
 "nbformat_minor": 1
}
