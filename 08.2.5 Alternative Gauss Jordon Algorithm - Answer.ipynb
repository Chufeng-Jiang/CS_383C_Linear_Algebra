{
 "cells": [
  {
   "cell_type": "markdown",
   "id": "2df2d0e7",
   "metadata": {},
   "source": [
    "# 8.2.5 Alternative Gauss Jordon Algorithm"
   ]
  },
  {
   "cell_type": "markdown",
   "id": "44aa4a9b",
   "metadata": {},
   "source": [
    "In this notebook, you will implement the alternative Gauss Jordan algorithm that overwrites $ A $ in one sweep with the identity matrix and $ B $ with the inverse of the original matrix $ A $.\n",
    "\n",
    "<font color=red> Be sure to make a copy!!!! </font>\n",
    "\n",
    "<h2> First, let's create a matrix $ A $ and set $ B $ to the identity. </h2>"
   ]
  },
  {
   "cell_type": "code",
   "execution_count": 1,
   "id": "ffcfdf77",
   "metadata": {},
   "outputs": [
    {
     "name": "stdout",
     "output_type": "stream",
     "text": [
      "A = \n",
      "[[ 2. -1.  3. -2.]\n",
      " [-4.  0. -5.  3.]\n",
      " [ 2.  5.  1.  3.]\n",
      " [ 4. -8.  8. -6.]]\n",
      "B = \n",
      "[[1. 0. 0. 0.]\n",
      " [0. 1. 0. 0.]\n",
      " [0. 0. 1. 0.]\n",
      " [0. 0. 0. 1.]]\n"
     ]
    }
   ],
   "source": [
    "import numpy as np\n",
    "import laff\n",
    "import flame\n",
    "\n",
    "L = np.matrix( ' 1, 0, 0. 0;\\\n",
    "                -2, 1, 0, 0;\\\n",
    "                 1,-3, 1, 0;\\\n",
    "                 2, 3,-1, 1' )\n",
    "\n",
    "U = np.matrix( ' 2,-1, 3,-2;\\\n",
    "                 0,-2, 1,-1;\\\n",
    "                 0, 0, 1, 2;\\\n",
    "                 0, 0, 0, 3' )\n",
    "\n",
    "A = L * U\n",
    "Aold = np.matrix( np.copy( A ) ) \n",
    "B = np.matrix( np.eye( 4 ) )\n",
    "\n",
    "print( 'A = ' )\n",
    "print( A )\n",
    "\n",
    "print( 'B = ' )\n",
    "print( B )\n"
   ]
  },
  {
   "cell_type": "markdown",
   "id": "5fd87f71",
   "metadata": {},
   "source": [
    "<h2> Implement the alternative Gauss-Jordan algorithm from 8.2.5 </h2>\n",
    "\n",
    "Here is the algorithm:\n",
    "\n",
    "<img src=\"https://studio.edx.org/c4x/UTAustinX/UT.5.01x/asset/8_2_5_Algorithm.png\" alt=\"Alternative Gauss-Jordan algorithm\" width=100%>\n",
    "    \n",
    "<font color=red> Important: if you make a mistake, rerun ALL cells above the cell in which you were working, and then the one where you are working. </font>"
   ]
  },
  {
   "cell_type": "markdown",
   "id": "6949b8d0",
   "metadata": {},
   "source": [
    "Create the routine\n",
    "<code> GJ_Inverse_alt </code>\n",
    "with the <a href=\"https://studio.edx.org/c4x/UTAustinX/UT.5.01x/asset/index.html\"> Spark webpage</a> for the algorithm"
   ]
  },
  {
   "cell_type": "code",
   "execution_count": 2,
   "id": "5b4ce456",
   "metadata": {},
   "outputs": [],
   "source": [
    "import flame\n",
    "\n",
    "def GJ_Inverse_alt(A, B):\n",
    "\n",
    "    ATL, ATR, \\\n",
    "    ABL, ABR  = flame.part_2x2(A, \\\n",
    "                               0, 0, 'TL')\n",
    "\n",
    "    BTL, BTR, \\\n",
    "    BBL, BBR  = flame.part_2x2(B, \\\n",
    "                               0, 0, 'TL')\n",
    "\n",
    "    while ATL.shape[0] < A.shape[0]:\n",
    "\n",
    "        A00,  a01,     A02,  \\\n",
    "        a10t, alpha11, a12t, \\\n",
    "        A20,  a21,     A22   = flame.repart_2x2_to_3x3(ATL, ATR, \\\n",
    "                                                       ABL, ABR, \\\n",
    "                                                       1, 1, 'BR')\n",
    "\n",
    "        B00,  b01,    B02,  \\\n",
    "        b10t, beta11, b12t, \\\n",
    "        B20,  b21,    B22   = flame.repart_2x2_to_3x3(BTL, BTR, \\\n",
    "                                                      BBL, BBR, \\\n",
    "                                                      1, 1, 'BR')\n",
    "\n",
    "        #------------------------------------------------------------#\n",
    "\n",
    "        # a01 := a01 / alpha11\n",
    "        # a21 := a21 / alpha11\n",
    "        laff.invscal( alpha11, a01 )\n",
    "        laff.invscal( alpha11, a21 )\n",
    "        \n",
    "        # A02 := A02 - a01 * a12t\n",
    "        laff.ger( -1.0, a01, a12t, A02 )\n",
    "        # A22 := A22 - a21 * a12t\n",
    "        laff.ger( -1.0, a21, a12t, A22 )\n",
    "        \n",
    "        # B00 := B00 - a01 * b01t\n",
    "        laff.ger( -1.0, a01, b10t, B00 )\n",
    "        # B20 := B20 - a21 * b01t\n",
    "        laff.ger( -1.0, a21, b10t, B20 )\n",
    "        \n",
    "        # b01 := - a01 (= - u01 in the discussion)\n",
    "        laff.copy( a01, b01 )\n",
    "        laff.scal( -1.0, b01 )\n",
    "        # b21 := - a21 (= - l21 in the discussion)\n",
    "        laff.copy( a21, b21 )\n",
    "        laff.scal( -1.0, b21 )\n",
    "        \n",
    "        # a12t:= a21t / alpha11  \n",
    "        laff.invscal( alpha11, a12t )\n",
    "        # b10t:= b10t / alpha11 \n",
    "        laff.invscal( alpha11, b10t )\n",
    "        \n",
    "        # beta11 := 1.0 / alpha11\n",
    "        laff.invscal( alpha11, beta11 )\n",
    "       \n",
    "        # a01 = 0  (zero vector)\n",
    "        # alpha11 = 1\n",
    "        # a21 = 0  (zero vector)\n",
    "        laff.zerov( a01 )\n",
    "        laff.onev( alpha11 )\n",
    "        laff.zerov( a21 )\n",
    "\n",
    "        #------------------------------------------------------------#\n",
    "\n",
    "        ATL, ATR, \\\n",
    "        ABL, ABR  = flame.cont_with_3x3_to_2x2(A00,  a01,     A02,  \\\n",
    "                                               a10t, alpha11, a12t, \\\n",
    "                                               A20,  a21,     A22,  \\\n",
    "                                               'TL')\n",
    "\n",
    "        BTL, BTR, \\\n",
    "        BBL, BBR  = flame.cont_with_3x3_to_2x2(B00,  b01,    B02,  \\\n",
    "                                               b10t, beta11, b12t, \\\n",
    "                                               B20,  b21,    B22,  \\\n",
    "                                               'TL')\n",
    "\n",
    "    flame.merge_2x2(ATL, ATR, \\\n",
    "                    ABL, ABR, A)\n",
    "\n",
    "    flame.merge_2x2(BTL, BTR, \\\n",
    "                    BBL, BBR, B)\n",
    "\n",
    "\n",
    "\n"
   ]
  },
  {
   "cell_type": "markdown",
   "id": "1cd47337",
   "metadata": {},
   "source": [
    "<h3> Test the routine </h3>\n",
    "\n",
    "<font color=red> Important: if you make a mistake, rerun ALL cells above the cell in which you were working, and then the one where you are working. </font>"
   ]
  },
  {
   "cell_type": "code",
   "execution_count": 3,
   "id": "c84f81a8",
   "metadata": {},
   "outputs": [
    {
     "name": "stdout",
     "output_type": "stream",
     "text": [
      "[[1. 0. 0. 0.]\n",
      " [0. 1. 0. 0.]\n",
      " [0. 0. 1. 0.]\n",
      " [0. 0. 0. 1.]]\n",
      "[[-9.5        -4.         -0.16666667  1.08333333]\n",
      " [ 3.          1.          0.         -0.5       ]\n",
      " [ 7.          3.          0.33333333 -0.66666667]\n",
      " [-1.          0.          0.33333333  0.33333333]]\n"
     ]
    }
   ],
   "source": [
    "GJ_Inverse_alt( A, B )\n",
    "\n",
    "print( A )\n",
    "print( B )"
   ]
  },
  {
   "cell_type": "markdown",
   "id": "be00b52d",
   "metadata": {},
   "source": [
    "Matrix $ A $ should now be an identity matrix and $ B $ should no longer be an identity matrix.\n",
    "\n",
    "Check if $ B $ now equals (approximately) the inverse of the original matrix $ A $:"
   ]
  },
  {
   "cell_type": "code",
   "execution_count": 4,
   "id": "792c5d66",
   "metadata": {},
   "outputs": [
    {
     "name": "stdout",
     "output_type": "stream",
     "text": [
      "[[1.00000000e+00 0.00000000e+00 0.00000000e+00 0.00000000e+00]\n",
      " [0.00000000e+00 1.00000000e+00 1.11022302e-16 1.11022302e-16]\n",
      " [0.00000000e+00 0.00000000e+00 1.00000000e+00 0.00000000e+00]\n",
      " [0.00000000e+00 0.00000000e+00 0.00000000e+00 1.00000000e+00]]\n"
     ]
    }
   ],
   "source": [
    "print( Aold * B )"
   ]
  },
  {
   "cell_type": "code",
   "execution_count": null,
   "id": "022f7207",
   "metadata": {},
   "outputs": [],
   "source": []
  }
 ],
 "metadata": {
  "kernelspec": {
   "display_name": "Python 3 (ipykernel)",
   "language": "python",
   "name": "python3"
  },
  "language_info": {
   "codemirror_mode": {
    "name": "ipython",
    "version": 3
   },
   "file_extension": ".py",
   "mimetype": "text/x-python",
   "name": "python",
   "nbconvert_exporter": "python",
   "pygments_lexer": "ipython3",
   "version": "3.10.13"
  }
 },
 "nbformat": 4,
 "nbformat_minor": 1
}
