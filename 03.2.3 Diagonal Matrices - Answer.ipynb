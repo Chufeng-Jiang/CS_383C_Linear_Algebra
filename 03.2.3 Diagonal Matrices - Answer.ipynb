{
 "cells": [
  {
   "cell_type": "markdown",
   "id": "9b542667",
   "metadata": {},
   "source": [
    "# The Set_to_diagonal_matrix routine"
   ]
  },
  {
   "cell_type": "markdown",
   "id": "457ca8da",
   "metadata": {},
   "source": [
    "This notebook walks you through how to implement simple functions that set the diagonal elements of a square matrix to the components of a given vector."
   ]
  },
  {
   "cell_type": "markdown",
   "id": "1c4f426d",
   "metadata": {},
   "source": [
    "## Getting started"
   ]
  },
  {
   "cell_type": "markdown",
   "id": "9f5f0f80",
   "metadata": {},
   "source": [
    "We will use some functions that are part of our laff library (of which this function will become a part) as well as some routines from the FLAME API (Application Programming Interface) that allows us to write code that closely resembles how we typeset algorithms using the FLAME notation.  These functions are imported with the \"import laff as laff\" and \"import flame\" statements."
   ]
  },
  {
   "cell_type": "markdown",
   "id": "6fd09390",
   "metadata": {},
   "source": [
    "## Algorithm"
   ]
  },
  {
   "cell_type": "markdown",
   "id": "043728b5",
   "metadata": {},
   "source": [
    "<image src=\"https://studio.edx.org/c4x/UTAustinX/UT.5.01x/asset/323DiagonalAlgorithm.png\" alt=\"Set matrix to a diagonal matrix algorithm\" width=\"75%\">"
   ]
  },
  {
   "cell_type": "markdown",
   "id": "42c4b7c1",
   "metadata": {},
   "source": [
    "## The routine <br> <code> Set_to_diagonal_matrix_unb_var1( d, A ) </code>"
   ]
  },
  {
   "cell_type": "markdown",
   "id": "2384b9b3",
   "metadata": {},
   "source": [
    "This routine sets the diagonal elements of $ A $ to the components of vector $ d$, and sets the off-diagonal elements to zero.\n",
    "\n",
    "The specific laff functions we will use are \n",
    "<ul>\n",
    "<li> <code> laff.zerov </code> which, when given a row or column vector (stored as a 1 x n or n x 1 matrix) will zero that vector.  </li>\n",
    "<li> <code> laff.copy </code> which copies a vector to a vector.  We will use it to copy a scalar to a scalar.  </li>\n",
    "</ul>\n",
    "\n",
    "Use the <a href=\"https://studio.edx.org/c4x/UTAustinX/UT.5.01x/asset/index.html\"> Spark webpage </a>."
   ]
  },
  {
   "cell_type": "code",
   "execution_count": 1,
   "id": "4d15baa5",
   "metadata": {},
   "outputs": [],
   "source": [
    "# Programmed by: Name of author\n",
    "#                Email of author\n",
    "\n",
    "import flame\n",
    "import laff as laff\n",
    "\n",
    "def Set_to_diagonal_matrix_unb_var1(d, A):\n",
    "\n",
    "    dT, \\\n",
    "    dB  = flame.part_2x1(d, \\\n",
    "                         0, 'TOP')\n",
    "\n",
    "    ATL, ATR, \\\n",
    "    ABL, ABR  = flame.part_2x2(A, \\\n",
    "                               0, 0, 'TL')\n",
    "\n",
    "    while dT.shape[0] < d.shape[0]:\n",
    "\n",
    "        d0,     \\\n",
    "        delta1, \\\n",
    "        d2      = flame.repart_2x1_to_3x1(dT, \\\n",
    "                                          dB, \\\n",
    "                                          1, 'BOTTOM')\n",
    "\n",
    "        A00,  a01,     A02,  \\\n",
    "        a10t, alpha11, a12t, \\\n",
    "        A20,  a21,     A22   = flame.repart_2x2_to_3x3(ATL, ATR, \\\n",
    "                                                       ABL, ABR, \\\n",
    "                                                       1, 1, 'BR')\n",
    "\n",
    "        #------------------------------------------------------------#\n",
    "\n",
    "        laff.zerov( a01 )\n",
    "        laff.copy( delta1, alpha11 )\n",
    "        laff.zerov( a21 )\n",
    "\n",
    "        #------------------------------------------------------------#\n",
    "\n",
    "        dT, \\\n",
    "        dB  = flame.cont_with_3x1_to_2x1(d0,     \\\n",
    "                                         delta1, \\\n",
    "                                         d2,     \\\n",
    "                                         'TOP')\n",
    "\n",
    "        ATL, ATR, \\\n",
    "        ABL, ABR  = flame.cont_with_3x3_to_2x2(A00,  a01,     A02,  \\\n",
    "                                               a10t, alpha11, a12t, \\\n",
    "                                               A20,  a21,     A22,  \\\n",
    "                                               'TL')\n",
    "\n",
    "    flame.merge_2x2(ATL, ATR, \\\n",
    "                    ABL, ABR, A)\n",
    "\n",
    "\n",
    "\n",
    "\n"
   ]
  },
  {
   "cell_type": "markdown",
   "id": "2fd2e308",
   "metadata": {},
   "source": [
    "## Testing"
   ]
  },
  {
   "cell_type": "markdown",
   "id": "5ab86189",
   "metadata": {},
   "source": [
    "Let's quickly test the routine by creating a 5 x 5 matrix and vector of size 5 and then setting the matrix to the diagonal matrix with the components of the vector on its diagonal"
   ]
  },
  {
   "cell_type": "code",
   "execution_count": 2,
   "id": "0108c19b",
   "metadata": {},
   "outputs": [
    {
     "name": "stdout",
     "output_type": "stream",
     "text": [
      "A before =\n",
      "[[0.72441401 0.15019514 0.06151484 0.06966874 0.64176153]\n",
      " [0.87406244 0.14482647 0.9654694  0.92113613 0.55225125]\n",
      " [0.10035438 0.28574095 0.73222099 0.70405637 0.27089796]\n",
      " [0.58487299 0.15510541 0.38769928 0.28741557 0.20585944]\n",
      " [0.96302774 0.18788197 0.36687098 0.49899701 0.19282752]]\n",
      "d before =\n",
      "[[0.75386374]\n",
      " [0.57279233]\n",
      " [0.70824786]\n",
      " [0.84986455]\n",
      " [0.87988108]]\n"
     ]
    }
   ],
   "source": [
    "from numpy import random\n",
    "from numpy import matrix\n",
    "\n",
    "A = matrix( random.rand( 5,5 ) )\n",
    "d = matrix( random.rand( 5,1 ) )\n",
    "\n",
    "print( 'A before =' )\n",
    "print( A )\n",
    "\n",
    "print( 'd before =' )\n",
    "print( d )"
   ]
  },
  {
   "cell_type": "code",
   "execution_count": 3,
   "id": "64ba0b1f",
   "metadata": {},
   "outputs": [
    {
     "name": "stdout",
     "output_type": "stream",
     "text": [
      "A after =\n",
      "[[0.75386374 0.         0.         0.         0.        ]\n",
      " [0.         0.57279233 0.         0.         0.        ]\n",
      " [0.         0.         0.70824786 0.         0.        ]\n",
      " [0.         0.         0.         0.84986455 0.        ]\n",
      " [0.         0.         0.         0.         0.87988108]]\n"
     ]
    }
   ],
   "source": [
    "Set_to_diagonal_matrix_unb_var1( d, A )\n",
    "\n",
    "print( 'A after =' )\n",
    "print( A )"
   ]
  },
  {
   "cell_type": "markdown",
   "id": "c7d1cfe4",
   "metadata": {},
   "source": [
    "Bingo, it seems to work!"
   ]
  },
  {
   "cell_type": "markdown",
   "id": "d0fe8233",
   "metadata": {},
   "source": [
    "## Try it yourself (Homework 3.2.3.3)"
   ]
  },
  {
   "cell_type": "markdown",
   "id": "9fd28913",
   "metadata": {},
   "source": [
    "Now, one could alternatively sets the matrix to the diagonal matrix by rows."
   ]
  },
  {
   "cell_type": "markdown",
   "id": "f76e9bf7",
   "metadata": {},
   "source": [
    "Use the <a href=\"https://studio.edx.org/c4x/UTAustinX/UT.5.01x/asset/index.html\"> Spark webpage </a> to generate the function Set_to_diagonal_matrix_unb_var2( d, A ) that overwrites A  one row at a time."
   ]
  },
  {
   "cell_type": "code",
   "execution_count": 4,
   "id": "18308dc9",
   "metadata": {},
   "outputs": [],
   "source": [
    "# Programmed by: Name of author\n",
    "#                Email of author\n",
    "\n",
    "import flame\n",
    "import laff as laff\n",
    "\n",
    "def Set_to_diagonal_matrix_unb_var2(d, A):\n",
    "\n",
    "    dT, \\\n",
    "    dB  = flame.part_2x1(d, \\\n",
    "                         0, 'TOP')\n",
    "\n",
    "    ATL, ATR, \\\n",
    "    ABL, ABR  = flame.part_2x2(A, \\\n",
    "                               0, 0, 'TL')\n",
    "\n",
    "    while dT.shape[0] < d.shape[0]:\n",
    "\n",
    "        d0,     \\\n",
    "        delta1, \\\n",
    "        d2      = flame.repart_2x1_to_3x1(dT, \\\n",
    "                                          dB, \\\n",
    "                                          1, 'BOTTOM')\n",
    "\n",
    "        A00,  a01,     A02,  \\\n",
    "        a10t, alpha11, a12t, \\\n",
    "        A20,  a21,     A22   = flame.repart_2x2_to_3x3(ATL, ATR, \\\n",
    "                                                       ABL, ABR, \\\n",
    "                                                       1, 1, 'BR')\n",
    "\n",
    "        #------------------------------------------------------------#\n",
    "\n",
    "        laff.zerov( a10t )\n",
    "        laff.copy( delta1, alpha11 )\n",
    "        laff.zerov( a12t )\n",
    "\n",
    "        #------------------------------------------------------------#\n",
    "\n",
    "        dT, \\\n",
    "        dB  = flame.cont_with_3x1_to_2x1(d0,     \\\n",
    "                                         delta1, \\\n",
    "                                         d2,     \\\n",
    "                                         'TOP')\n",
    "\n",
    "        ATL, ATR, \\\n",
    "        ABL, ABR  = flame.cont_with_3x3_to_2x2(A00,  a01,     A02,  \\\n",
    "                                               a10t, alpha11, a12t, \\\n",
    "                                               A20,  a21,     A22,  \\\n",
    "                                               'TL')\n",
    "\n",
    "    flame.merge_2x2(ATL, ATR, \\\n",
    "                    ABL, ABR, A)\n",
    "\n",
    "\n",
    "\n",
    "\n"
   ]
  },
  {
   "cell_type": "markdown",
   "id": "9f9e11d3",
   "metadata": {},
   "source": [
    "Test your routine with the following"
   ]
  },
  {
   "cell_type": "code",
   "execution_count": 5,
   "id": "d1ff98a9",
   "metadata": {},
   "outputs": [
    {
     "name": "stdout",
     "output_type": "stream",
     "text": [
      "A before =\n",
      "[[0.35041935 0.86350565 0.07869674 0.82010641 0.39663287]\n",
      " [0.04256587 0.08538764 0.78621266 0.08183424 0.21867719]\n",
      " [0.25433405 0.45913452 0.05236837 0.24590883 0.99862709]\n",
      " [0.39915323 0.36164234 0.10692202 0.48650119 0.04199742]\n",
      " [0.28829334 0.02513913 0.09718044 0.9933405  0.94942997]]\n",
      "d before =\n",
      "[[0.15007954]\n",
      " [0.3375903 ]\n",
      " [0.68719663]\n",
      " [0.5208842 ]\n",
      " [0.29310769]]\n",
      "A after =\n",
      "[[0.15007954 0.         0.         0.         0.        ]\n",
      " [0.         0.3375903  0.         0.         0.        ]\n",
      " [0.         0.         0.68719663 0.         0.        ]\n",
      " [0.         0.         0.         0.5208842  0.        ]\n",
      " [0.         0.         0.         0.         0.29310769]]\n"
     ]
    }
   ],
   "source": [
    "from numpy import random\n",
    "from numpy import matrix\n",
    "\n",
    "A = matrix( random.rand( 5,5 ) )\n",
    "d = matrix( random.rand( 5,1 ) )\n",
    "\n",
    "print( 'A before =' )\n",
    "print( A )\n",
    "\n",
    "print( 'd before =' )\n",
    "print( d )\n",
    "\n",
    "Set_to_diagonal_matrix_unb_var2( d, A )\n",
    "\n",
    "print( 'A after =' )\n",
    "print( A )"
   ]
  },
  {
   "cell_type": "markdown",
   "id": "e96ccb8a",
   "metadata": {},
   "source": [
    "## Watch your code in action!"
   ]
  },
  {
   "cell_type": "markdown",
   "id": "1f87098e",
   "metadata": {},
   "source": [
    "Copy and paste the code into <a href=\"http://edx-org-utaustinx.s3.amazonaws.com/UT501x/PictureFlame/PictureFLAME.html\"> PictureFLAME </a>, a webpage where you can watch your routine in action.  Just cut and paste into the box.  \n",
    "\n",
    "Disclaimer: we implemented a VERY simple interpreter.  If you do something wrong, we cannot guarantee the results.  But if you do it right, you are in for a treat.\n",
    "\n",
    "If you want to reset the problem, just click in the box into which you pasted the code and hit \"next\" again."
   ]
  },
  {
   "cell_type": "code",
   "execution_count": null,
   "id": "0e0b1bfb",
   "metadata": {},
   "outputs": [],
   "source": []
  }
 ],
 "metadata": {
  "kernelspec": {
   "display_name": "Python 3 (ipykernel)",
   "language": "python",
   "name": "python3"
  },
  "language_info": {
   "codemirror_mode": {
    "name": "ipython",
    "version": 3
   },
   "file_extension": ".py",
   "mimetype": "text/x-python",
   "name": "python",
   "nbconvert_exporter": "python",
   "pygments_lexer": "ipython3",
   "version": "3.10.13"
  }
 },
 "nbformat": 4,
 "nbformat_minor": 1
}
