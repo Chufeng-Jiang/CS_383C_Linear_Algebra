{
 "cells": [
  {
   "cell_type": "markdown",
   "id": "db827edf",
   "metadata": {},
   "source": [
    "# Multiplying upper triangular matrices"
   ]
  },
  {
   "cell_type": "markdown",
   "id": "0db35a4f",
   "metadata": {},
   "source": [
    "This notebook helps you implement the operation $ C := U R $ where $ C, U, R \\in \\mathbb{R}^{n \\times n} $, and $ U $ and $ R $ are upper triangular.  $ U $ and $ R $ are stored in the upper triangular part of numpy matrices <code> U </code> and <code> R </code>. The upper triangular part of matrix <code> C </code> is to be overwritten with the resulting upper triangular matrix.  "
   ]
  },
  {
   "cell_type": "markdown",
   "id": "6deae615",
   "metadata": {},
   "source": [
    "First, we create some matrices."
   ]
  },
  {
   "cell_type": "code",
   "execution_count": 2,
   "id": "e4a8f9e6",
   "metadata": {},
   "outputs": [
    {
     "name": "stdout",
     "output_type": "stream",
     "text": [
      "C = \n",
      "[[0.96432275 0.31154227 0.51560493 0.78794521 0.66349128]\n",
      " [0.1223971  0.74027042 0.53783587 0.17086467 0.99093872]\n",
      " [0.25575934 0.12316098 0.92956345 0.56976788 0.53680743]\n",
      " [0.13735046 0.1731707  0.18920311 0.32263394 0.62339423]\n",
      " [0.34399602 0.86507926 0.42830015 0.36372519 0.95590157]]\n",
      "U = \n",
      "[[0.19275772 0.36237074 0.39231098 0.24244855 0.53565997]\n",
      " [0.84123975 0.19779797 0.45987338 0.24780325 0.69466945]\n",
      " [0.63714614 0.75634541 0.98683114 0.26105325 0.83766786]\n",
      " [0.17678535 0.39045843 0.10915317 0.30877382 0.12707606]\n",
      " [0.25186828 0.93800172 0.6315358  0.78550804 0.34355951]]\n",
      "True\n",
      "R = \n",
      "[[0.36855951 0.7567906  0.02612422 0.33017425 0.59090497]\n",
      " [0.49147603 0.16478768 0.17832443 0.75921587 0.04949801]\n",
      " [0.04394857 0.41242228 0.97071787 0.95544661 0.91078616]\n",
      " [0.22210409 0.14048244 0.17343268 0.38742541 0.96547108]\n",
      " [0.48934138 0.07842986 0.32252504 0.63576143 0.36833411]]\n"
     ]
    }
   ],
   "source": [
    "import numpy as np\n",
    "\n",
    "n = 5\n",
    "\n",
    "C = np.matrix( np.random.random( (n, n) ) )\n",
    "print( 'C = ' )\n",
    "print( C )\n",
    "\n",
    "Cold = np.matrix( np.zeros( (n,n ) ) )\n",
    "Cold = np.matrix( np.copy( C ) )           # an alternative way of doing a \"hard\" copy, in this case of a matrix\n",
    "    \n",
    "U = np.matrix( np.random.random( (n, n) ) )\n",
    "print( 'U = ' )\n",
    "print( U )\n",
    "print(type(U) is np.matrix)\n",
    "\n",
    "R = np.matrix( np.random.random( (n, n) ) )\n",
    "print( 'R = ' )\n",
    "print( R )"
   ]
  },
  {
   "cell_type": "markdown",
   "id": "fdeb953b",
   "metadata": {},
   "source": [
    "## <h2>The algorithm  </h2>  <image src=\"https://studio.edx.org/c4x/UTAustinX/UT.5.01x/asset/5_5_1_10_Answer.png\" alt=\"Upper triangular matrix-matrix multiplication\" width=\"80%\">"
   ]
  },
  {
   "cell_type": "markdown",
   "id": "71de9a50",
   "metadata": {},
   "source": [
    "<h2> The routine <code> Trtrmm_uu_unb_var1( U, R, C ) </code> </h2>\n",
    "\n",
    "This routine computes $ C := U R + C $.  The \"\\_uu\\_\" means that $ U $ and $ R $ are upper triangular matrices (which means $ C $ is too).  However, the lower triangular parts of numpy matrices <code> U </code>, <code> R </code>, and <code> C </code> are not to be \"touched\".\n",
    "    \n",
    "The specific laff function you will want to use is some subset of\n",
    "<ul>\n",
    "<li> <code> laff.gemv( trans, alpha, A, x, beta, y ) </code> which computes $ y := \\alpha A x + \\beta y $ or $ y := \\alpha A^T x + \\beta y $ depending on whether <code> trans = 'No transpose' </code> or <code> trans = 'Transpose' </code> </li>\n",
    "    <li> <code> laff.ger( alpha, x, y, A ) </code> which computes the rank-1 update (adds a multiple of an outer product to a matrix)\n",
    "$ A := \\alpha x y^T + A $. </li>\n",
    "    <li> <code> laff.axpy( alpha, x, y ) </code></li>\n",
    "    <li>    <code> laff.dots( x, y, alpha ) </code></li>\n",
    "</ul>\n",
    "\n",
    "<font color=red> Hint:</font>  If you multiply with $ U_{00} $, you will want to use <code> np.triu( U00 ) </code> to make sure you don't compute with the nonzeroes below the diagonal.\n",
    "\n",
    "Use the <a href=\"https://studio.edx.org/c4x/UTAustinX/UT.5.01x/asset/index.html\"> Spark webpage</a> to generate a code skeleton.  (Make sure you adjust the name of the routine.)"
   ]
  },
  {
   "cell_type": "code",
   "execution_count": 5,
   "id": "5eae8305",
   "metadata": {},
   "outputs": [],
   "source": [
    "import laff as laff\n",
    "import flame\n",
    "\n",
    "def Trtrmm_uu_unb_var1(U, R, C):\n",
    "\n",
    "    UTL, UTR, \\\n",
    "    UBL, UBR  = flame.part_2x2(U, \\\n",
    "                               0, 0, 'TL')\n",
    "\n",
    "    RTL, RTR, \\\n",
    "    RBL, RBR  = flame.part_2x2(R, \\\n",
    "                               0, 0, 'TL')\n",
    "\n",
    "    CTL, CTR, \\\n",
    "    CBL, CBR  = flame.part_2x2(C, \\\n",
    "                               0, 0, 'TL')\n",
    "\n",
    "    while UTL.shape[0] < U.shape[0]:\n",
    "\n",
    "        U00,  u01,       U02,  \\\n",
    "        u10t, upsilon11, u12t, \\\n",
    "        U20,  u21,       U22   = flame.repart_2x2_to_3x3(UTL, UTR, \\\n",
    "                                                         UBL, UBR, \\\n",
    "                                                         1, 1, 'BR')\n",
    "\n",
    "        R00,  r01,   R02,  \\\n",
    "        r10t, rho11, r12t, \\\n",
    "        R20,  r21,   R22   = flame.repart_2x2_to_3x3(RTL, RTR, \\\n",
    "                                                     RBL, RBR, \\\n",
    "                                                     1, 1, 'BR')\n",
    "\n",
    "        C00,  c01,     C02,  \\\n",
    "        c10t, gamma11, c12t, \\\n",
    "        C20,  c21,     C22   = flame.repart_2x2_to_3x3(CTL, CTR, \\\n",
    "                                                       CBL, CBR, \\\n",
    "                                                       1, 1, 'BR')\n",
    "\n",
    "        #------------------------------------------------------------#\n",
    "\n",
    "        # imporant:  You do not need to recompute C00 = U00 * R00!!!!\n",
    "        laff.gemv( 'No transpose', 1.0, np.triu( U00 ), np.matrix(r01), 0.0, c01 )\n",
    "        laff.axpy( rho11, u01, c01 )\n",
    "        laff.dot( rho11, upsilon11, gamma11 )\n",
    "\n",
    "        \n",
    "        #------------------------------------------------------------#\n",
    "\n",
    "        UTL, UTR, \\\n",
    "        UBL, UBR  = flame.cont_with_3x3_to_2x2(U00,  u01,       U02,  \\\n",
    "                                               u10t, upsilon11, u12t, \\\n",
    "                                               U20,  u21,       U22,  \\\n",
    "                                               'TL')\n",
    "\n",
    "        RTL, RTR, \\\n",
    "        RBL, RBR  = flame.cont_with_3x3_to_2x2(R00,  r01,   R02,  \\\n",
    "                                               r10t, rho11, r12t, \\\n",
    "                                               R20,  r21,   R22,  \\\n",
    "                                               'TL')\n",
    "\n",
    "        CTL, CTR, \\\n",
    "        CBL, CBR  = flame.cont_with_3x3_to_2x2(C00,  c01,     C02,  \\\n",
    "                                               c10t, gamma11, c12t, \\\n",
    "                                               C20,  c21,     C22,  \\\n",
    "                                               'TL')\n",
    "\n",
    "    flame.merge_2x2(CTL, CTR, \\\n",
    "                    CBL, CBR, C)\n",
    "\n",
    "\n",
    "\n"
   ]
  },
  {
   "cell_type": "code",
   "execution_count": 6,
   "id": "bfb19502",
   "metadata": {},
   "outputs": [
    {
     "ename": "AssertionError",
     "evalue": "laff.gemv: vector x must be a 2D numpy.matrix",
     "output_type": "error",
     "traceback": [
      "\u001b[1;31m---------------------------------------------------------------------------\u001b[0m",
      "\u001b[1;31mAssertionError\u001b[0m                            Traceback (most recent call last)",
      "Cell \u001b[1;32mIn[6], line 3\u001b[0m\n\u001b[0;32m      1\u001b[0m C \u001b[38;5;241m=\u001b[39m np\u001b[38;5;241m.\u001b[39mmatrix( np\u001b[38;5;241m.\u001b[39mcopy( Cold ) )               \u001b[38;5;66;03m# restore C \u001b[39;00m\n\u001b[1;32m----> 3\u001b[0m \u001b[43mTrtrmm_uu_unb_var1\u001b[49m\u001b[43m(\u001b[49m\u001b[43m \u001b[49m\u001b[43mU\u001b[49m\u001b[43m,\u001b[49m\u001b[43m \u001b[49m\u001b[43mR\u001b[49m\u001b[43m,\u001b[49m\u001b[43m \u001b[49m\u001b[43mC\u001b[49m\u001b[43m \u001b[49m\u001b[43m)\u001b[49m\n\u001b[0;32m      5\u001b[0m \u001b[38;5;66;03m# compute it using numpy *.  This is a little complex, since we want to make sure we\u001b[39;00m\n\u001b[0;32m      6\u001b[0m \u001b[38;5;66;03m#   don't change the lower triangular part of C\u001b[39;00m\n\u001b[0;32m      7\u001b[0m \u001b[38;5;66;03m# Cref = np.tril( Cold, -1 ) + np.triu( U ) * np.triu( R )\u001b[39;00m\n\u001b[0;32m      8\u001b[0m Cref \u001b[38;5;241m=\u001b[39m np\u001b[38;5;241m.\u001b[39mtriu( U ) \u001b[38;5;241m*\u001b[39m np\u001b[38;5;241m.\u001b[39mtriu( R ) \u001b[38;5;241m+\u001b[39m np\u001b[38;5;241m.\u001b[39mtril( Cold, \u001b[38;5;241m-\u001b[39m\u001b[38;5;241m1\u001b[39m )\n",
      "Cell \u001b[1;32mIn[5], line 41\u001b[0m, in \u001b[0;36mTrtrmm_uu_unb_var1\u001b[1;34m(U, R, C)\u001b[0m\n\u001b[0;32m     32\u001b[0m C00,  c01,     C02,  \\\n\u001b[0;32m     33\u001b[0m c10t, gamma11, c12t, \\\n\u001b[0;32m     34\u001b[0m C20,  c21,     C22   \u001b[38;5;241m=\u001b[39m flame\u001b[38;5;241m.\u001b[39mrepart_2x2_to_3x3(CTL, CTR, \\\n\u001b[0;32m     35\u001b[0m                                                CBL, CBR, \\\n\u001b[0;32m     36\u001b[0m                                                \u001b[38;5;241m1\u001b[39m, \u001b[38;5;241m1\u001b[39m, \u001b[38;5;124m'\u001b[39m\u001b[38;5;124mBR\u001b[39m\u001b[38;5;124m'\u001b[39m)\n\u001b[0;32m     38\u001b[0m \u001b[38;5;66;03m#------------------------------------------------------------#\u001b[39;00m\n\u001b[0;32m     39\u001b[0m \n\u001b[0;32m     40\u001b[0m \u001b[38;5;66;03m# imporant:  You do not need to recompute C00 = U00 * R00!!!!\u001b[39;00m\n\u001b[1;32m---> 41\u001b[0m \u001b[43mlaff\u001b[49m\u001b[38;5;241;43m.\u001b[39;49m\u001b[43mgemv\u001b[49m\u001b[43m(\u001b[49m\u001b[43m \u001b[49m\u001b[38;5;124;43m'\u001b[39;49m\u001b[38;5;124;43mNo transpose\u001b[39;49m\u001b[38;5;124;43m'\u001b[39;49m\u001b[43m,\u001b[49m\u001b[43m \u001b[49m\u001b[38;5;241;43m1.0\u001b[39;49m\u001b[43m,\u001b[49m\u001b[43m \u001b[49m\u001b[43mnp\u001b[49m\u001b[38;5;241;43m.\u001b[39;49m\u001b[43mtriu\u001b[49m\u001b[43m(\u001b[49m\u001b[43m \u001b[49m\u001b[43mU00\u001b[49m\u001b[43m \u001b[49m\u001b[43m)\u001b[49m\u001b[43m,\u001b[49m\u001b[43m \u001b[49m\u001b[43mnp\u001b[49m\u001b[38;5;241;43m.\u001b[39;49m\u001b[43mmatrix\u001b[49m\u001b[43m(\u001b[49m\u001b[43mr01\u001b[49m\u001b[43m)\u001b[49m\u001b[43m,\u001b[49m\u001b[43m \u001b[49m\u001b[38;5;241;43m0.0\u001b[39;49m\u001b[43m,\u001b[49m\u001b[43m \u001b[49m\u001b[43mc01\u001b[49m\u001b[43m \u001b[49m\u001b[43m)\u001b[49m\n\u001b[0;32m     42\u001b[0m laff\u001b[38;5;241m.\u001b[39maxpy( rho11, u01, c01 )\n\u001b[0;32m     43\u001b[0m laff\u001b[38;5;241m.\u001b[39mdot( rho11, upsilon11, gamma11 )\n",
      "File \u001b[1;32mF:\\Git Repo\\UTAustin_Linear_Algebra_Foundations_to_Frontiers\\laff\\matvec\\gemv.py:29\u001b[0m, in \u001b[0;36mgemv\u001b[1;34m(trans, alpha, A, x, beta, y)\u001b[0m\n\u001b[0;32m     24\u001b[0m     scalar_alpha \u001b[38;5;241m=\u001b[39m alpha\n\u001b[0;32m     26\u001b[0m \u001b[38;5;28;01massert\u001b[39;00m \u001b[38;5;28mtype\u001b[39m(A) \u001b[38;5;129;01mis\u001b[39;00m \u001b[38;5;129;01mnot\u001b[39;00m matrix \u001b[38;5;129;01mor\u001b[39;00m \u001b[38;5;28mlen\u001b[39m(A\u001b[38;5;241m.\u001b[39mshape) \u001b[38;5;241m!=\u001b[39m \u001b[38;5;241m2\u001b[39m, \\\n\u001b[0;32m     27\u001b[0m        \u001b[38;5;124m\"\u001b[39m\u001b[38;5;124mlaff.gemv: matrix A must be a 2D numpy.matrix\u001b[39m\u001b[38;5;124m\"\u001b[39m\n\u001b[1;32m---> 29\u001b[0m \u001b[38;5;28;01massert\u001b[39;00m \u001b[38;5;28mtype\u001b[39m(x) \u001b[38;5;129;01mis\u001b[39;00m \u001b[38;5;129;01mnot\u001b[39;00m matrix \u001b[38;5;129;01mor\u001b[39;00m \u001b[38;5;28mlen\u001b[39m(x\u001b[38;5;241m.\u001b[39mshape) \u001b[38;5;241m!=\u001b[39m \u001b[38;5;241m2\u001b[39m, \\\n\u001b[0;32m     30\u001b[0m        \u001b[38;5;124m\"\u001b[39m\u001b[38;5;124mlaff.gemv: vector x must be a 2D numpy.matrix\u001b[39m\u001b[38;5;124m\"\u001b[39m\n\u001b[0;32m     32\u001b[0m \u001b[38;5;28;01mif\u001b[39;00m(\u001b[38;5;28mtype\u001b[39m(beta) \u001b[38;5;129;01mis\u001b[39;00m matrix):\n\u001b[0;32m     33\u001b[0m     m_beta, n_beta \u001b[38;5;241m=\u001b[39m beta\u001b[38;5;241m.\u001b[39mshape\n",
      "\u001b[1;31mAssertionError\u001b[0m: laff.gemv: vector x must be a 2D numpy.matrix"
     ]
    }
   ],
   "source": [
    "C = np.matrix( np.copy( Cold ) )               # restore C \n",
    "\n",
    "Trtrmm_uu_unb_var1( U, R, C )\n",
    "\n",
    "# compute it using numpy *.  This is a little complex, since we want to make sure we\n",
    "#   don't change the lower triangular part of C\n",
    "# Cref = np.tril( Cold, -1 ) + np.triu( U ) * np.triu( R )\n",
    "Cref = np.triu( U ) * np.triu( R ) + np.tril( Cold, -1 )\n",
    "print( 'C - Cref' )\n",
    "print( C - Cref )"
   ]
  },
  {
   "cell_type": "markdown",
   "id": "5e5e27f9",
   "metadata": {},
   "source": [
    "In theory, the result matrix should be (approximately) zero."
   ]
  },
  {
   "cell_type": "markdown",
   "id": "a1a1d3d9",
   "metadata": {},
   "source": [
    "## Watch the algorithm at work!"
   ]
  },
  {
   "cell_type": "markdown",
   "id": "e9983bc6",
   "metadata": {},
   "source": [
    "Copy and paste the code into <a href=\"http://edx-org-utaustinx.s3.amazonaws.com/UT501x/PictureFlame/PictureFLAME.html\"> PictureFLAME </a>, a webpage where you can watch your routine in action.  Just cut and paste into the box.  \n",
    "\n",
    "Disclaimer: we implemented a VERY simple interpreter.  If you do something wrong, we cannot guarantee the results.  But if you do it right, you are in for a treat.\n",
    "\n",
    "If you want to reset the problem, just click in the box into which you pasted the code and hit \"next\" again."
   ]
  },
  {
   "cell_type": "code",
   "execution_count": null,
   "metadata": {},
   "outputs": [],
   "source": []
  }
 ],
 "metadata": {
  "kernelspec": {
   "display_name": "Python 3 (ipykernel)",
   "language": "python",
   "name": "python3"
  },
  "language_info": {
   "codemirror_mode": {
    "name": "ipython",
    "version": 3
   },
   "file_extension": ".py",
   "mimetype": "text/x-python",
   "name": "python",
   "nbconvert_exporter": "python",
   "pygments_lexer": "ipython3",
   "version": "3.10.13"
  }
 },
 "nbformat": 4,
 "nbformat_minor": 1
}
