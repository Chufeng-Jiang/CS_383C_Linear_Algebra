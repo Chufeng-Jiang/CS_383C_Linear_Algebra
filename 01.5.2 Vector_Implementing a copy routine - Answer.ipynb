{
 "cells": [
  {
   "cell_type": "markdown",
   "id": "50d74d12",
   "metadata": {},
   "source": [
    "## Implementing a (vector) copy routine"
   ]
  },
  {
   "cell_type": "markdown",
   "id": "29f61e2e",
   "metadata": {},
   "source": [
    "### Preliminaries"
   ]
  },
  {
   "cell_type": "markdown",
   "id": "ed823e7f",
   "metadata": {},
   "source": [
    "<p><font color=red> Copy this notebook so that you don't corrupt the original!  Then you can \"play\" with the copy of the notebook all you want! </font> </p>\n",
    "\n",
    "<p>This particular notebook does everything for you if you follow along with the video and type in code produced there.  You will be able to try it yourself in subsequent notebooks that implement other operations.</p>"
   ]
  },
  {
   "cell_type": "markdown",
   "id": "8377bb6a",
   "metadata": {},
   "source": [
    "Let's start by importing numpy and creating a vector $ x = \\left( \\begin{array}{r} 1 \\\\ 2 \\\\ 3 \\end{array} \\right) $ and a vector $ y = \\left( \\begin{array}{r} 0 \\\\ -1 \\\\ -2 \\end{array} \\right) $.  \n",
    "\n",
    "Execute the code in the box by clicking in the box and then on \"Cell -> Run\".  Alternative, click on the box and push \"Shift\" and \"Return\" (or \"Enter\") together."
   ]
  },
  {
   "cell_type": "code",
   "execution_count": 2,
   "id": "75bdbdf5",
   "metadata": {},
   "outputs": [
    {
     "name": "stdout",
     "output_type": "stream",
     "text": [
      "x = \n",
      "[[1]\n",
      " [2]\n",
      " [3]]\n",
      "y = \n",
      "[[ 0]\n",
      " [-1]\n",
      " [-2]]\n"
     ]
    }
   ],
   "source": [
    "# This imports a package called \"numpy\" that will make working with matrices \n",
    "# simpler. We choose to call this package by the abbreviation np\n",
    "import numpy as np\n",
    "# create two two-dimensional matrices of only one column each.  \n",
    "# In the future we will also think of (column) \n",
    "# vectors as matrices with only one column.\n",
    "\n",
    "x = np.matrix( '1;2;3' ) # The \"np\" denotes the numpy package as we chose to call it above\n",
    "print( 'x = ' )\n",
    "print( x )\n",
    "\n",
    "y = np.matrix( '0;-1;-2' )\n",
    "print( 'y = ' )\n",
    "print( y )"
   ]
  },
  {
   "cell_type": "markdown",
   "id": "c02154ec",
   "metadata": {},
   "source": [
    "Now, let's use assignment to copy x into vector y:\n",
    "\n",
    "(Again: \"Shift\" and \"Return\" at the same time!)"
   ]
  },
  {
   "cell_type": "code",
   "execution_count": 2,
   "id": "3776a357",
   "metadata": {},
   "outputs": [
    {
     "name": "stdout",
     "output_type": "stream",
     "text": [
      "y = \n",
      "[[1]\n",
      " [2]\n",
      " [3]]\n"
     ]
    }
   ],
   "source": [
    "y=x\n",
    "\n",
    "print( 'y = ' )\n",
    "print( y )"
   ]
  },
  {
   "cell_type": "markdown",
   "id": "bfa99520",
   "metadata": {},
   "source": [
    "Hmmm, it seems like it all worked.  The problem is that, in this situation, Python does a \"shallow copy\".  If you change a value in x, then that value also changes in y.  In other words, y is just a reference to the same data that x references.\n",
    "\n",
    "We illustrate this by setting the second entry in $ x $ to a new value and printing both <code> x </code> and <code> y </code>."
   ]
  },
  {
   "cell_type": "code",
   "execution_count": 3,
   "id": "a4e84820",
   "metadata": {},
   "outputs": [
    {
     "name": "stdout",
     "output_type": "stream",
     "text": [
      "x = \n",
      "[[   1]\n",
      " [-999]\n",
      " [   3]]\n",
      "y = \n",
      "[[   1]\n",
      " [-999]\n",
      " [   3]]\n"
     ]
    }
   ],
   "source": [
    "x[ 1,0 ] =  -999   # notice that Python starts indexing at 0.  (You count 0, 1, ...)\n",
    "                   # Given that a vector of length n is an (n x 1) matrix, x[ 1,0 ] refers to \n",
    "                   # the second component [1] of vector x. The [0] idicates that we are working\n",
    "                   # with the first column of the matrix, but here the matrix only has one column!\n",
    "print( 'x = ' )\n",
    "print( x )\n",
    "print( 'y = ' )\n",
    "print( y )"
   ]
  },
  {
   "cell_type": "markdown",
   "id": "54d6c050",
   "metadata": {},
   "source": [
    "To fix this, we could write a loop that copies the entries of x into the vector y.  Let's start by resetting the values in y:"
   ]
  },
  {
   "cell_type": "code",
   "execution_count": 16,
   "id": "2ccff1bf",
   "metadata": {},
   "outputs": [
    {
     "name": "stdout",
     "output_type": "stream",
     "text": [
      "x = \n",
      "[[1]\n",
      " [2]\n",
      " [3]]\n",
      "y = \n",
      "[[ 0]\n",
      " [-1]\n",
      " [-2]]\n"
     ]
    }
   ],
   "source": [
    "x = np.matrix( '1;2;3' )\n",
    "print( 'x = ' )\n",
    "print( x )\n",
    "\n",
    "y = np.matrix( '0;-1;-2' )\n",
    "print( 'y = ' )\n",
    "print( y )"
   ]
  },
  {
   "cell_type": "markdown",
   "id": "99f3648b",
   "metadata": {},
   "source": [
    "Now, we want to copy the three entries in x into the three entries in y using a \"for\" loop:"
   ]
  },
  {
   "cell_type": "code",
   "execution_count": 17,
   "id": "8013041a",
   "metadata": {},
   "outputs": [
    {
     "name": "stdout",
     "output_type": "stream",
     "text": [
      "y = \n",
      "[[1]\n",
      " [2]\n",
      " [3]]\n"
     ]
    }
   ],
   "source": [
    "for i in range( 3 ):      # This executes the second line for i = 0, 1, 2.  \n",
    "                          #   So, range(3) is the interval of integers [0, 3), exclusive of 3.\n",
    "    y[ i, 0 ] = x[ i, 0 ] \n",
    "\n",
    "print( 'y = ' )\n",
    "print( y )"
   ]
  },
  {
   "cell_type": "markdown",
   "id": "eb43d613",
   "metadata": {},
   "source": [
    "If we now change the second value in x, the contents of y do not change:"
   ]
  },
  {
   "cell_type": "code",
   "execution_count": 18,
   "id": "3d64ca60",
   "metadata": {},
   "outputs": [
    {
     "name": "stdout",
     "output_type": "stream",
     "text": [
      "x = \n",
      "[[   1]\n",
      " [-999]\n",
      " [   3]]\n",
      "y = \n",
      "[[1]\n",
      " [2]\n",
      " [3]]\n"
     ]
    }
   ],
   "source": [
    "x[ 1,0 ] = -999\n",
    "print( 'x = ' )\n",
    "print( x )\n",
    "print( 'y = ' )\n",
    "print( y )"
   ]
  },
  {
   "cell_type": "markdown",
   "id": "2b99e09f",
   "metadata": {},
   "source": [
    "### Copy as a simple routine"
   ]
  },
  {
   "cell_type": "markdown",
   "id": "e678ace7",
   "metadata": {},
   "source": [
    "Clearly, writing the \"for loop\" every time you want to copy a vector would be very cumbersome.  For this reason, we are going to write a routine, copy( x, y ), that copies the contents of vector x to vector y.  <font color=red> (Note: there <i>are</i> other ways of doing a \"deep copy\" in Python.  However, the whole point of writing these routines is to help learn the material in this course.  This is not a course in which we teach you Python beyond what you need to better understand linear algebra.) </font>\n",
    "\n",
    "Here is what it means to copy a vector of size $ m $:\n",
    "$$\n",
    "\\left( \\begin{array}{c}\n",
    "\\psi_0 \\\\\n",
    "\\psi_1 \\\\\n",
    "\\vdots \\\\\n",
    "\\psi_{m-1}\n",
    "\\end{array}\n",
    "\\right)\n",
    ":=\n",
    "\\left( \\begin{array}{c}\n",
    "\\chi_0 \\\\\n",
    "\\chi_1 \\\\\n",
    "\\vdots \\\\\n",
    "\\chi_{m-1}\n",
    "\\end{array}\n",
    "\\right)\n",
    "$$\n",
    "\n",
    "As an algorithm this can be written as\n",
    "<p>\n",
    "<b> for </b> $ i = 0, \\ldots , m-1 $  <br>\n",
    " $ ~~~ \\psi_i := \\chi_i $ <br>\n",
    "<b> endfor </b>\n",
    "</p>\n",
    "\n",
    "<p>\n",
    "This translates into the following routine:\n",
    "</p>"
   ]
  },
  {
   "cell_type": "code",
   "execution_count": 19,
   "id": "2a593412",
   "metadata": {},
   "outputs": [],
   "source": [
    "def copy( x, y ):\n",
    "    # Check how many elements there are in vector x.  For this, \n",
    "    # np.shape( x ) return the row and column size of x, where x is a matrix.\n",
    "    \n",
    "    m, n = np.shape( x )\n",
    "    \n",
    "    print(\"m = {}\".format(m))\n",
    "    print(\"n = {}\".format(n))\n",
    "    \n",
    "    # now copy the elements\n",
    "    for i in range( m ):\n",
    "        y[ i, 0 ] = x[ i, 0 ]"
   ]
  },
  {
   "cell_type": "markdown",
   "id": "3f39142e",
   "metadata": {},
   "source": [
    "Be sure the run the above box, or this notebook won't know about the routine!!!"
   ]
  },
  {
   "cell_type": "markdown",
   "id": "9c12154d",
   "metadata": {},
   "source": [
    "Now, if you execute"
   ]
  },
  {
   "cell_type": "code",
   "execution_count": 20,
   "id": "88afd191",
   "metadata": {},
   "outputs": [
    {
     "name": "stdout",
     "output_type": "stream",
     "text": [
      "m = 3\n",
      "n = 1\n",
      "x = \n",
      "[[   1]\n",
      " [-999]\n",
      " [   3]]\n",
      "y = \n",
      "[[   1]\n",
      " [-999]\n",
      " [   3]]\n"
     ]
    }
   ],
   "source": [
    "copy( x, y )\n",
    "\n",
    "print( 'x = ' )\n",
    "print( x )\n",
    "\n",
    "print( 'y = ' )\n",
    "print( y )"
   ]
  },
  {
   "cell_type": "markdown",
   "id": "75a10c08",
   "metadata": {},
   "source": [
    "you notice that vector x has been copied to vector y.  And if we change values in x, the values in y don't change:"
   ]
  },
  {
   "cell_type": "code",
   "execution_count": 21,
   "id": "1a57e200",
   "metadata": {},
   "outputs": [
    {
     "name": "stdout",
     "output_type": "stream",
     "text": [
      "x = \n",
      "[[   1]\n",
      " [-999]\n",
      " [ 111]]\n",
      "y = \n",
      "[[   1]\n",
      " [-999]\n",
      " [   3]]\n"
     ]
    }
   ],
   "source": [
    "x[ 2,0 ] = 111\n",
    "\n",
    "print( 'x = ' )\n",
    "print( x )\n",
    "\n",
    "print( 'y = ' )\n",
    "print( y )"
   ]
  },
  {
   "cell_type": "markdown",
   "id": "f494f182",
   "metadata": {},
   "source": [
    "### A complete copy function"
   ]
  },
  {
   "cell_type": "markdown",
   "id": "63851eb9",
   "metadata": {},
   "source": [
    "As we develop our library, we are really going to need a copy routine that can copy rows from a matrix into a column vector, columns of a matrix into a vector, a row of a matrix into a column of a matrix, and all such combinations.  As a result, what we really want is a copy routine that works when x and y are column and/or row vectors, in all combinations.  It also should notify us if we try to copy between vectors that are not of the same size.  We now give a complete copy function.\n",
    "\n",
    "From our past experience teaching this course, we've noticed that the details of this routine, and others like it, get confusing to those who have not programmed before and/or have not programmed with Python before.  So, don't worry too much if you don't understand it all.  We give it more for those who are interested in the details than as a necessary part of the course."
   ]
  },
  {
   "cell_type": "code",
   "execution_count": 26,
   "id": "5758de74",
   "metadata": {},
   "outputs": [],
   "source": [
    "from numpy import matrix\n",
    "from numpy import shape \n",
    "\n",
    "def copy(x, y):\n",
    "    \"\"\"\n",
    "    Compute y = x, overwriting y\n",
    "    \n",
    "    x and y can be row and/or column vectors.  If necessary, an\n",
    "    implicit transposition happens.\n",
    "    \"\"\"\n",
    "    \n",
    "    assert type(x) is matrix and len(x.shape) == 2, \\\n",
    "           \"laff.copy: vector x must be a 2D numpy.matrix\"\n",
    "\n",
    "    assert type(y) is matrix and len(y.shape) == 2, \\\n",
    "           \"laff.copy: vector y must be a 2D numpy.matrix\"\n",
    "\n",
    "    m_x, n_x = x.shape\n",
    "    m_y, n_y = y.shape\n",
    "    \n",
    "    assert m_x == 1 or n_x == 1, \"laff.copy: x is not a vector\"\n",
    "    assert m_y == 1 or n_y == 1, \"laff.copy: y is not a vector\"\n",
    "\n",
    "    if m_x == 1 and m_y == 1: # x is a row, y is a row\n",
    "        assert n_x == n_y, \"laff.copy: size mismatch between x and y\"\n",
    "        for i in range(n_x): y[0, i] = x[0, i]\n",
    "            \n",
    "    elif n_x == 1 and n_y == 1: # x is a column, y is a column\n",
    "        assert m_x == m_y, \"laff.copy: size mismatch between x and y\"\n",
    "        for i in range(m_x): y[i, 0] = x[i, 0]\n",
    "            \n",
    "    elif m_x == 1 and n_y == 1: # x is a row, y is a column\n",
    "        assert n_x == m_y, \"laff.copy: size mismatch between x and y\"\n",
    "        for i in range(n_x): y[i, 0] = x[0, i]\n",
    "            \n",
    "    elif n_x == 1 and m_y == 1: # x is a column, y is a row\n",
    "        assert m_x == n_y, \"laff.copy: size mismatch between x and y\"\n",
    "        for i in range(m_x): y[0, i] = x[i, 0]\n"
   ]
  },
  {
   "cell_type": "markdown",
   "id": "e823ed05",
   "metadata": {},
   "source": [
    "For a line-by-line explanation, watch the video!"
   ]
  },
  {
   "cell_type": "markdown",
   "id": "c33e09eb",
   "metadata": {},
   "source": [
    "### Test the code"
   ]
  },
  {
   "cell_type": "markdown",
   "id": "e13c8b0d",
   "metadata": {},
   "source": [
    "#### Copy a row to a row"
   ]
  },
  {
   "cell_type": "code",
   "execution_count": 27,
   "id": "0d2e6ea0",
   "metadata": {},
   "outputs": [
    {
     "name": "stdout",
     "output_type": "stream",
     "text": [
      "x = \n",
      "[[1 2 3]]\n",
      "y = \n",
      "[[ 0 -2 -3]]\n",
      "y = \n",
      "[[1 2 3]]\n"
     ]
    }
   ],
   "source": [
    "x = np.matrix( '1 2 3' )\n",
    "y = np.matrix('0 -2 -3')\n",
    "\n",
    "print( \"x = \" )\n",
    "print( x )\n",
    "print( \"y = \" )\n",
    "print( y )\n",
    "\n",
    "copy( x, y )\n",
    "print( \"y = \" )\n",
    "print( y )\n",
    "\n",
    "assert np.array_equal(x,y), \"error!\""
   ]
  },
  {
   "cell_type": "code",
   "execution_count": 28,
   "id": "f6024e28",
   "metadata": {},
   "outputs": [
    {
     "name": "stdout",
     "output_type": "stream",
     "text": [
      "-----SLAP_copy tests-----\n",
      "\n",
      "From row to row\n",
      "x = \n",
      "[[1 2 3]]\n",
      "y = \n",
      "[[0 0 0]]\n",
      "\n",
      "y = \n",
      "[[1 2 3]]\n",
      "________________\n",
      "\n",
      "From column to column\n",
      "x = \n",
      "[[1]\n",
      " [2]\n",
      " [3]]\n",
      "y = \n",
      "[[0]\n",
      " [0]\n",
      " [0]]\n",
      "\n",
      "y = \n",
      "[[1]\n",
      " [2]\n",
      " [3]]\n",
      "________________\n",
      "\n",
      "From row to column\n",
      "x = \n",
      "[[1 2 3]]\n",
      "y = \n",
      "[[0]\n",
      " [0]\n",
      " [0]]\n",
      "\n",
      "y = \n",
      "[[1]\n",
      " [2]\n",
      " [3]]\n",
      "________________\n",
      "\n",
      "From column to row\n",
      "x = \n",
      "[[1]\n",
      " [2]\n",
      " [3]]\n",
      "y = \n",
      "[[0 0 0]]\n",
      "\n",
      "y = \n",
      "[[1 2 3]]\n",
      "________________\n"
     ]
    }
   ],
   "source": [
    "import numpy.matlib\n",
    "\n",
    "print(\"-----SLAP_copy tests-----\\n\")\n",
    "\n",
    "x = np.matrix( '1 2 3' )\n",
    "y = np.matlib.zeros( (1,3), dtype=int)    # create a 1 x 3 matrix of zeros\n",
    "print(\"From row to row\", \"x = \", x, \"y = \", y, sep=\"\\n\")\n",
    "copy(x,y)\n",
    "print(\"\\ny = \", y, \"________________\", sep=\"\\n\")\n",
    "\n",
    "x = np.matrix( '1;\\\n",
    "                2;\\\n",
    "                3' )\n",
    "y = np.matlib.zeros( (3,1), dtype=int)\n",
    "print( \"\\nFrom column to column\", \"x = \", x, \"y = \", y, sep=\"\\n\")\n",
    "copy(x,y)\n",
    "print(\"\\ny = \", y, \"________________\", sep=\"\\n\")\n",
    "\n",
    "x = np.matrix( '1 2 3' )\n",
    "y = np.matlib.zeros( (3,1), dtype=int)\n",
    "print( \"\\nFrom row to column\", \"x = \", x, \"y = \", y, sep=\"\\n\")\n",
    "copy(x, y)\n",
    "print(\"\\ny = \", y, \"________________\", sep=\"\\n\")\n",
    "\n",
    "x = np.matrix( '1;\\\n",
    "                2;\\\n",
    "                3' )\n",
    "y = np.matlib.zeros(( 1,3), dtype=int)\n",
    "print( \"\\nFrom column to row\", \"x = \", x, \"y = \", y, sep=\"\\n\")\n",
    "copy(x, y)\n",
    "print(\"\\ny = \", y, \"________________\", sep=\"\\n\")"
   ]
  },
  {
   "cell_type": "markdown",
   "id": "b48e55e7",
   "metadata": {},
   "source": [
    "Now, let's see what happens if we try to do something like copying a row of the wrong length into a column.  <font color=\"red\"> Don't worry about the fact that you are getting error messages.  The whole point of the next few cells is to illustrate how errors are reported. </font>"
   ]
  },
  {
   "cell_type": "code",
   "execution_count": 29,
   "id": "9a5dda27",
   "metadata": {},
   "outputs": [
    {
     "name": "stdout",
     "output_type": "stream",
     "text": [
      "-----SLAP_copy tests-----\n",
      "\n",
      "From row to row\n",
      "x = \n",
      "[[1 2 3 4]]\n",
      "y = \n",
      "[[0 0 0]]\n"
     ]
    },
    {
     "ename": "AssertionError",
     "evalue": "laff.copy: size mismatch between x and y",
     "output_type": "error",
     "traceback": [
      "\u001b[1;31m---------------------------------------------------------------------------\u001b[0m",
      "\u001b[1;31mAssertionError\u001b[0m                            Traceback (most recent call last)",
      "Cell \u001b[1;32mIn[29], line 8\u001b[0m\n\u001b[0;32m      6\u001b[0m y \u001b[38;5;241m=\u001b[39m np\u001b[38;5;241m.\u001b[39mmatlib\u001b[38;5;241m.\u001b[39mzeros( (\u001b[38;5;241m1\u001b[39m,\u001b[38;5;241m3\u001b[39m), dtype\u001b[38;5;241m=\u001b[39m\u001b[38;5;28mint\u001b[39m)\n\u001b[0;32m      7\u001b[0m \u001b[38;5;28mprint\u001b[39m(\u001b[38;5;124m\"\u001b[39m\u001b[38;5;124mFrom row to row\u001b[39m\u001b[38;5;124m\"\u001b[39m, \u001b[38;5;124m\"\u001b[39m\u001b[38;5;124mx = \u001b[39m\u001b[38;5;124m\"\u001b[39m, x, \u001b[38;5;124m\"\u001b[39m\u001b[38;5;124my = \u001b[39m\u001b[38;5;124m\"\u001b[39m, y, sep\u001b[38;5;241m=\u001b[39m\u001b[38;5;124m\"\u001b[39m\u001b[38;5;130;01m\\n\u001b[39;00m\u001b[38;5;124m\"\u001b[39m)\n\u001b[1;32m----> 8\u001b[0m \u001b[43mcopy\u001b[49m\u001b[43m(\u001b[49m\u001b[43mx\u001b[49m\u001b[43m,\u001b[49m\u001b[43my\u001b[49m\u001b[43m)\u001b[49m\n\u001b[0;32m      9\u001b[0m \u001b[38;5;28mprint\u001b[39m(\u001b[38;5;124m\"\u001b[39m\u001b[38;5;130;01m\\n\u001b[39;00m\u001b[38;5;124my = \u001b[39m\u001b[38;5;124m\"\u001b[39m, y, \u001b[38;5;124m\"\u001b[39m\u001b[38;5;124m________________\u001b[39m\u001b[38;5;124m\"\u001b[39m, sep\u001b[38;5;241m=\u001b[39m\u001b[38;5;124m\"\u001b[39m\u001b[38;5;130;01m\\n\u001b[39;00m\u001b[38;5;124m\"\u001b[39m)\n",
      "Cell \u001b[1;32mIn[26], line 25\u001b[0m, in \u001b[0;36mcopy\u001b[1;34m(x, y)\u001b[0m\n\u001b[0;32m     22\u001b[0m \u001b[38;5;28;01massert\u001b[39;00m m_y \u001b[38;5;241m==\u001b[39m \u001b[38;5;241m1\u001b[39m \u001b[38;5;129;01mor\u001b[39;00m n_y \u001b[38;5;241m==\u001b[39m \u001b[38;5;241m1\u001b[39m, \u001b[38;5;124m\"\u001b[39m\u001b[38;5;124mlaff.copy: y is not a vector\u001b[39m\u001b[38;5;124m\"\u001b[39m\n\u001b[0;32m     24\u001b[0m \u001b[38;5;28;01mif\u001b[39;00m m_x \u001b[38;5;241m==\u001b[39m \u001b[38;5;241m1\u001b[39m \u001b[38;5;129;01mand\u001b[39;00m m_y \u001b[38;5;241m==\u001b[39m \u001b[38;5;241m1\u001b[39m: \u001b[38;5;66;03m# x is a row, y is a row\u001b[39;00m\n\u001b[1;32m---> 25\u001b[0m     \u001b[38;5;28;01massert\u001b[39;00m n_x \u001b[38;5;241m==\u001b[39m n_y, \u001b[38;5;124m\"\u001b[39m\u001b[38;5;124mlaff.copy: size mismatch between x and y\u001b[39m\u001b[38;5;124m\"\u001b[39m\n\u001b[0;32m     26\u001b[0m     \u001b[38;5;28;01mfor\u001b[39;00m i \u001b[38;5;129;01min\u001b[39;00m \u001b[38;5;28mrange\u001b[39m(n_x): y[\u001b[38;5;241m0\u001b[39m, i] \u001b[38;5;241m=\u001b[39m x[\u001b[38;5;241m0\u001b[39m, i]\n\u001b[0;32m     28\u001b[0m \u001b[38;5;28;01melif\u001b[39;00m n_x \u001b[38;5;241m==\u001b[39m \u001b[38;5;241m1\u001b[39m \u001b[38;5;129;01mand\u001b[39;00m n_y \u001b[38;5;241m==\u001b[39m \u001b[38;5;241m1\u001b[39m: \u001b[38;5;66;03m# x is a column, y is a column\u001b[39;00m\n",
      "\u001b[1;31mAssertionError\u001b[0m: laff.copy: size mismatch between x and y"
     ]
    }
   ],
   "source": [
    "import numpy.matlib\n",
    "\n",
    "print(\"-----SLAP_copy tests-----\\n\")\n",
    "\n",
    "x = np.matrix( '1 2 3 4' )\n",
    "y = np.matlib.zeros( (1,3), dtype=int)\n",
    "print(\"From row to row\", \"x = \", x, \"y = \", y, sep=\"\\n\")\n",
    "copy(x,y)\n",
    "print(\"\\ny = \", y, \"________________\", sep=\"\\n\")"
   ]
  },
  {
   "cell_type": "code",
   "execution_count": 30,
   "id": "fb3afd2f",
   "metadata": {},
   "outputs": [
    {
     "name": "stdout",
     "output_type": "stream",
     "text": [
      "-----SLAP_copy tests-----\n",
      "\n",
      "\n",
      "From column to column\n",
      "x = \n",
      "[[1]\n",
      " [2]\n",
      " [3]\n",
      " [4]]\n",
      "y = \n",
      "[[0]\n",
      " [0]\n",
      " [0]]\n"
     ]
    },
    {
     "ename": "AssertionError",
     "evalue": "laff.copy: size mismatch between x and y",
     "output_type": "error",
     "traceback": [
      "\u001b[1;31m---------------------------------------------------------------------------\u001b[0m",
      "\u001b[1;31mAssertionError\u001b[0m                            Traceback (most recent call last)",
      "Cell \u001b[1;32mIn[30], line 11\u001b[0m\n\u001b[0;32m      9\u001b[0m y \u001b[38;5;241m=\u001b[39m np\u001b[38;5;241m.\u001b[39mmatlib\u001b[38;5;241m.\u001b[39mzeros( (\u001b[38;5;241m3\u001b[39m,\u001b[38;5;241m1\u001b[39m), dtype\u001b[38;5;241m=\u001b[39m\u001b[38;5;28mint\u001b[39m)\n\u001b[0;32m     10\u001b[0m \u001b[38;5;28mprint\u001b[39m( \u001b[38;5;124m\"\u001b[39m\u001b[38;5;130;01m\\n\u001b[39;00m\u001b[38;5;124mFrom column to column\u001b[39m\u001b[38;5;124m\"\u001b[39m, \u001b[38;5;124m\"\u001b[39m\u001b[38;5;124mx = \u001b[39m\u001b[38;5;124m\"\u001b[39m, x, \u001b[38;5;124m\"\u001b[39m\u001b[38;5;124my = \u001b[39m\u001b[38;5;124m\"\u001b[39m, y, sep\u001b[38;5;241m=\u001b[39m\u001b[38;5;124m\"\u001b[39m\u001b[38;5;130;01m\\n\u001b[39;00m\u001b[38;5;124m\"\u001b[39m)\n\u001b[1;32m---> 11\u001b[0m \u001b[43mcopy\u001b[49m\u001b[43m(\u001b[49m\u001b[43mx\u001b[49m\u001b[43m,\u001b[49m\u001b[43my\u001b[49m\u001b[43m)\u001b[49m\n\u001b[0;32m     12\u001b[0m \u001b[38;5;28mprint\u001b[39m(\u001b[38;5;124m\"\u001b[39m\u001b[38;5;130;01m\\n\u001b[39;00m\u001b[38;5;124my = \u001b[39m\u001b[38;5;124m\"\u001b[39m, y, \u001b[38;5;124m\"\u001b[39m\u001b[38;5;124m________________\u001b[39m\u001b[38;5;124m\"\u001b[39m, sep\u001b[38;5;241m=\u001b[39m\u001b[38;5;124m\"\u001b[39m\u001b[38;5;130;01m\\n\u001b[39;00m\u001b[38;5;124m\"\u001b[39m)\n",
      "Cell \u001b[1;32mIn[26], line 29\u001b[0m, in \u001b[0;36mcopy\u001b[1;34m(x, y)\u001b[0m\n\u001b[0;32m     26\u001b[0m     \u001b[38;5;28;01mfor\u001b[39;00m i \u001b[38;5;129;01min\u001b[39;00m \u001b[38;5;28mrange\u001b[39m(n_x): y[\u001b[38;5;241m0\u001b[39m, i] \u001b[38;5;241m=\u001b[39m x[\u001b[38;5;241m0\u001b[39m, i]\n\u001b[0;32m     28\u001b[0m \u001b[38;5;28;01melif\u001b[39;00m n_x \u001b[38;5;241m==\u001b[39m \u001b[38;5;241m1\u001b[39m \u001b[38;5;129;01mand\u001b[39;00m n_y \u001b[38;5;241m==\u001b[39m \u001b[38;5;241m1\u001b[39m: \u001b[38;5;66;03m# x is a column, y is a column\u001b[39;00m\n\u001b[1;32m---> 29\u001b[0m     \u001b[38;5;28;01massert\u001b[39;00m m_x \u001b[38;5;241m==\u001b[39m m_y, \u001b[38;5;124m\"\u001b[39m\u001b[38;5;124mlaff.copy: size mismatch between x and y\u001b[39m\u001b[38;5;124m\"\u001b[39m\n\u001b[0;32m     30\u001b[0m     \u001b[38;5;28;01mfor\u001b[39;00m i \u001b[38;5;129;01min\u001b[39;00m \u001b[38;5;28mrange\u001b[39m(m_x): y[i, \u001b[38;5;241m0\u001b[39m] \u001b[38;5;241m=\u001b[39m x[i, \u001b[38;5;241m0\u001b[39m]\n\u001b[0;32m     32\u001b[0m \u001b[38;5;28;01melif\u001b[39;00m m_x \u001b[38;5;241m==\u001b[39m \u001b[38;5;241m1\u001b[39m \u001b[38;5;129;01mand\u001b[39;00m n_y \u001b[38;5;241m==\u001b[39m \u001b[38;5;241m1\u001b[39m: \u001b[38;5;66;03m# x is a row, y is a column\u001b[39;00m\n",
      "\u001b[1;31mAssertionError\u001b[0m: laff.copy: size mismatch between x and y"
     ]
    }
   ],
   "source": [
    "import numpy.matlib\n",
    "\n",
    "print(\"-----SLAP_copy tests-----\\n\")\n",
    "\n",
    "x = np.matrix( '1;\\\n",
    "                2;\\\n",
    "                3;\\\n",
    "                4' )\n",
    "y = np.matlib.zeros( (3,1), dtype=int)\n",
    "print( \"\\nFrom column to column\", \"x = \", x, \"y = \", y, sep=\"\\n\")\n",
    "copy(x,y)\n",
    "print(\"\\ny = \", y, \"________________\", sep=\"\\n\")"
   ]
  },
  {
   "cell_type": "code",
   "execution_count": 31,
   "id": "c735ad15",
   "metadata": {},
   "outputs": [
    {
     "name": "stdout",
     "output_type": "stream",
     "text": [
      "-----SLAP_copy tests-----\n",
      "\n",
      "\n",
      "From row to column\n",
      "x = \n",
      "[[1 2 3 4]]\n",
      "y = \n",
      "[[0]\n",
      " [0]\n",
      " [0]]\n"
     ]
    },
    {
     "ename": "AssertionError",
     "evalue": "laff.copy: size mismatch between x and y",
     "output_type": "error",
     "traceback": [
      "\u001b[1;31m---------------------------------------------------------------------------\u001b[0m",
      "\u001b[1;31mAssertionError\u001b[0m                            Traceback (most recent call last)",
      "Cell \u001b[1;32mIn[31], line 8\u001b[0m\n\u001b[0;32m      6\u001b[0m y \u001b[38;5;241m=\u001b[39m np\u001b[38;5;241m.\u001b[39mmatlib\u001b[38;5;241m.\u001b[39mzeros( (\u001b[38;5;241m3\u001b[39m,\u001b[38;5;241m1\u001b[39m), dtype\u001b[38;5;241m=\u001b[39m\u001b[38;5;28mint\u001b[39m)\n\u001b[0;32m      7\u001b[0m \u001b[38;5;28mprint\u001b[39m( \u001b[38;5;124m\"\u001b[39m\u001b[38;5;130;01m\\n\u001b[39;00m\u001b[38;5;124mFrom row to column\u001b[39m\u001b[38;5;124m\"\u001b[39m, \u001b[38;5;124m\"\u001b[39m\u001b[38;5;124mx = \u001b[39m\u001b[38;5;124m\"\u001b[39m, x, \u001b[38;5;124m\"\u001b[39m\u001b[38;5;124my = \u001b[39m\u001b[38;5;124m\"\u001b[39m, y, sep\u001b[38;5;241m=\u001b[39m\u001b[38;5;124m\"\u001b[39m\u001b[38;5;130;01m\\n\u001b[39;00m\u001b[38;5;124m\"\u001b[39m)\n\u001b[1;32m----> 8\u001b[0m \u001b[43mcopy\u001b[49m\u001b[43m(\u001b[49m\u001b[43mx\u001b[49m\u001b[43m,\u001b[49m\u001b[43m \u001b[49m\u001b[43my\u001b[49m\u001b[43m)\u001b[49m\n\u001b[0;32m      9\u001b[0m \u001b[38;5;28mprint\u001b[39m(\u001b[38;5;124m\"\u001b[39m\u001b[38;5;130;01m\\n\u001b[39;00m\u001b[38;5;124my = \u001b[39m\u001b[38;5;124m\"\u001b[39m, y, \u001b[38;5;124m\"\u001b[39m\u001b[38;5;124m________________\u001b[39m\u001b[38;5;124m\"\u001b[39m, sep\u001b[38;5;241m=\u001b[39m\u001b[38;5;124m\"\u001b[39m\u001b[38;5;130;01m\\n\u001b[39;00m\u001b[38;5;124m\"\u001b[39m)\n",
      "Cell \u001b[1;32mIn[26], line 33\u001b[0m, in \u001b[0;36mcopy\u001b[1;34m(x, y)\u001b[0m\n\u001b[0;32m     30\u001b[0m     \u001b[38;5;28;01mfor\u001b[39;00m i \u001b[38;5;129;01min\u001b[39;00m \u001b[38;5;28mrange\u001b[39m(m_x): y[i, \u001b[38;5;241m0\u001b[39m] \u001b[38;5;241m=\u001b[39m x[i, \u001b[38;5;241m0\u001b[39m]\n\u001b[0;32m     32\u001b[0m \u001b[38;5;28;01melif\u001b[39;00m m_x \u001b[38;5;241m==\u001b[39m \u001b[38;5;241m1\u001b[39m \u001b[38;5;129;01mand\u001b[39;00m n_y \u001b[38;5;241m==\u001b[39m \u001b[38;5;241m1\u001b[39m: \u001b[38;5;66;03m# x is a row, y is a column\u001b[39;00m\n\u001b[1;32m---> 33\u001b[0m     \u001b[38;5;28;01massert\u001b[39;00m n_x \u001b[38;5;241m==\u001b[39m m_y, \u001b[38;5;124m\"\u001b[39m\u001b[38;5;124mlaff.copy: size mismatch between x and y\u001b[39m\u001b[38;5;124m\"\u001b[39m\n\u001b[0;32m     34\u001b[0m     \u001b[38;5;28;01mfor\u001b[39;00m i \u001b[38;5;129;01min\u001b[39;00m \u001b[38;5;28mrange\u001b[39m(n_x): y[i, \u001b[38;5;241m0\u001b[39m] \u001b[38;5;241m=\u001b[39m x[\u001b[38;5;241m0\u001b[39m, i]\n\u001b[0;32m     36\u001b[0m \u001b[38;5;28;01melif\u001b[39;00m n_x \u001b[38;5;241m==\u001b[39m \u001b[38;5;241m1\u001b[39m \u001b[38;5;129;01mand\u001b[39;00m m_y \u001b[38;5;241m==\u001b[39m \u001b[38;5;241m1\u001b[39m: \u001b[38;5;66;03m# x is a column, y is a row\u001b[39;00m\n",
      "\u001b[1;31mAssertionError\u001b[0m: laff.copy: size mismatch between x and y"
     ]
    }
   ],
   "source": [
    "import numpy.matlib\n",
    "\n",
    "print(\"-----SLAP_copy tests-----\\n\")\n",
    "\n",
    "x = np.matrix( '1 2 3 4' )\n",
    "y = np.matlib.zeros( (3,1), dtype=int)\n",
    "print( \"\\nFrom row to column\", \"x = \", x, \"y = \", y, sep=\"\\n\")\n",
    "copy(x, y)\n",
    "print(\"\\ny = \", y, \"________________\", sep=\"\\n\")"
   ]
  },
  {
   "cell_type": "code",
   "execution_count": 32,
   "id": "372c1847",
   "metadata": {},
   "outputs": [
    {
     "name": "stdout",
     "output_type": "stream",
     "text": [
      "-----SLAP_copy tests-----\n",
      "\n",
      "\n",
      "From column to row\n",
      "x = \n",
      "[[1]\n",
      " [2]\n",
      " [3]\n",
      " [4]]\n",
      "y = \n",
      "[[0 0 0]]\n"
     ]
    },
    {
     "ename": "AssertionError",
     "evalue": "laff.copy: size mismatch between x and y",
     "output_type": "error",
     "traceback": [
      "\u001b[1;31m---------------------------------------------------------------------------\u001b[0m",
      "\u001b[1;31mAssertionError\u001b[0m                            Traceback (most recent call last)",
      "Cell \u001b[1;32mIn[32], line 11\u001b[0m\n\u001b[0;32m      9\u001b[0m y \u001b[38;5;241m=\u001b[39m np\u001b[38;5;241m.\u001b[39mmatlib\u001b[38;5;241m.\u001b[39mzeros(( \u001b[38;5;241m1\u001b[39m,\u001b[38;5;241m3\u001b[39m), dtype\u001b[38;5;241m=\u001b[39m\u001b[38;5;28mint\u001b[39m)\n\u001b[0;32m     10\u001b[0m \u001b[38;5;28mprint\u001b[39m( \u001b[38;5;124m\"\u001b[39m\u001b[38;5;130;01m\\n\u001b[39;00m\u001b[38;5;124mFrom column to row\u001b[39m\u001b[38;5;124m\"\u001b[39m, \u001b[38;5;124m\"\u001b[39m\u001b[38;5;124mx = \u001b[39m\u001b[38;5;124m\"\u001b[39m, x, \u001b[38;5;124m\"\u001b[39m\u001b[38;5;124my = \u001b[39m\u001b[38;5;124m\"\u001b[39m, y, sep\u001b[38;5;241m=\u001b[39m\u001b[38;5;124m\"\u001b[39m\u001b[38;5;130;01m\\n\u001b[39;00m\u001b[38;5;124m\"\u001b[39m)\n\u001b[1;32m---> 11\u001b[0m \u001b[43mcopy\u001b[49m\u001b[43m(\u001b[49m\u001b[43mx\u001b[49m\u001b[43m,\u001b[49m\u001b[43m \u001b[49m\u001b[43my\u001b[49m\u001b[43m)\u001b[49m\n\u001b[0;32m     12\u001b[0m \u001b[38;5;28mprint\u001b[39m(\u001b[38;5;124m\"\u001b[39m\u001b[38;5;130;01m\\n\u001b[39;00m\u001b[38;5;124my = \u001b[39m\u001b[38;5;124m\"\u001b[39m, y, \u001b[38;5;124m\"\u001b[39m\u001b[38;5;124m________________\u001b[39m\u001b[38;5;124m\"\u001b[39m, sep\u001b[38;5;241m=\u001b[39m\u001b[38;5;124m\"\u001b[39m\u001b[38;5;130;01m\\n\u001b[39;00m\u001b[38;5;124m\"\u001b[39m)\n",
      "Cell \u001b[1;32mIn[26], line 37\u001b[0m, in \u001b[0;36mcopy\u001b[1;34m(x, y)\u001b[0m\n\u001b[0;32m     34\u001b[0m     \u001b[38;5;28;01mfor\u001b[39;00m i \u001b[38;5;129;01min\u001b[39;00m \u001b[38;5;28mrange\u001b[39m(n_x): y[i, \u001b[38;5;241m0\u001b[39m] \u001b[38;5;241m=\u001b[39m x[\u001b[38;5;241m0\u001b[39m, i]\n\u001b[0;32m     36\u001b[0m \u001b[38;5;28;01melif\u001b[39;00m n_x \u001b[38;5;241m==\u001b[39m \u001b[38;5;241m1\u001b[39m \u001b[38;5;129;01mand\u001b[39;00m m_y \u001b[38;5;241m==\u001b[39m \u001b[38;5;241m1\u001b[39m: \u001b[38;5;66;03m# x is a column, y is a row\u001b[39;00m\n\u001b[1;32m---> 37\u001b[0m     \u001b[38;5;28;01massert\u001b[39;00m m_x \u001b[38;5;241m==\u001b[39m n_y, \u001b[38;5;124m\"\u001b[39m\u001b[38;5;124mlaff.copy: size mismatch between x and y\u001b[39m\u001b[38;5;124m\"\u001b[39m\n\u001b[0;32m     38\u001b[0m     \u001b[38;5;28;01mfor\u001b[39;00m i \u001b[38;5;129;01min\u001b[39;00m \u001b[38;5;28mrange\u001b[39m(m_x): y[\u001b[38;5;241m0\u001b[39m, i] \u001b[38;5;241m=\u001b[39m x[i, \u001b[38;5;241m0\u001b[39m]\n",
      "\u001b[1;31mAssertionError\u001b[0m: laff.copy: size mismatch between x and y"
     ]
    }
   ],
   "source": [
    "import numpy.matlib\n",
    "\n",
    "print(\"-----SLAP_copy tests-----\\n\")\n",
    "\n",
    "x = np.matrix( '1;\\\n",
    "                2;\\\n",
    "                3;\\\n",
    "                4' )\n",
    "y = np.matlib.zeros(( 1,3), dtype=int)\n",
    "print( \"\\nFrom column to row\", \"x = \", x, \"y = \", y, sep=\"\\n\")\n",
    "copy(x, y)\n",
    "print(\"\\ny = \", y, \"________________\", sep=\"\\n\")"
   ]
  },
  {
   "cell_type": "markdown",
   "id": "fe9106ef",
   "metadata": {},
   "source": [
    "Finally, let's see if we can copies rows and/or columns in matrices\n"
   ]
  },
  {
   "cell_type": "code",
   "execution_count": 33,
   "id": "d56d00f8",
   "metadata": {},
   "outputs": [
    {
     "name": "stdout",
     "output_type": "stream",
     "text": [
      "-----SLAP_copy tests-----\n",
      "\n",
      "From row to row\n",
      "A = \n",
      "[[ 1  2  3  4]\n",
      " [ 5  6  7  8]\n",
      " [ 9 10 11 12]]\n",
      "B = \n",
      "[[0 0 0 0]\n",
      " [0 0 0 0]\n",
      " [0 0 0 0]]\n",
      "\n",
      "B = \n",
      "[[5 6 7 8]\n",
      " [0 0 0 0]\n",
      " [0 0 0 0]]\n",
      "________________\n"
     ]
    }
   ],
   "source": [
    "import numpy.matlib\n",
    "\n",
    "print(\"-----SLAP_copy tests-----\\n\")\n",
    "\n",
    "A = np.matrix( '1  2  3  4;\\\n",
    "                5  6  7  8;\\\n",
    "                9 10 11 12' )\n",
    "B = np.matlib.zeros( (3,4), dtype=int)\n",
    "print(\"From row to row\", \"A = \", A, \"B = \", B, sep=\"\\n\")\n",
    "copy(A[1,:],B[0,:])\n",
    "print(\"\\nB = \", B, \"________________\", sep=\"\\n\")"
   ]
  },
  {
   "cell_type": "code",
   "execution_count": 34,
   "id": "2283dade",
   "metadata": {},
   "outputs": [
    {
     "name": "stdout",
     "output_type": "stream",
     "text": [
      "-----SLAP_copy tests-----\n",
      "\n",
      "From column to column\n",
      "A = \n",
      "[[ 1  2  3  4]\n",
      " [ 5  6  7  8]\n",
      " [ 9 10 11 12]]\n",
      "B = \n",
      "[[0 0 0 0]\n",
      " [0 0 0 0]\n",
      " [0 0 0 0]]\n",
      "\n",
      "B = \n",
      "[[0 1 0 0]\n",
      " [0 5 0 0]\n",
      " [0 9 0 0]]\n",
      "________________\n"
     ]
    }
   ],
   "source": [
    "import numpy.matlib\n",
    "\n",
    "print(\"-----SLAP_copy tests-----\\n\")\n",
    "\n",
    "A = np.matrix( '1  2  3  4;\\\n",
    "                5  6  7  8;\\\n",
    "                9 10 11 12' )\n",
    "B = np.matlib.zeros( (3,4), dtype=int)\n",
    "print(\"From column to column\", \"A = \", A, \"B = \", B, sep=\"\\n\")\n",
    "copy(A[:,0],B[:,1])\n",
    "print(\"\\nB = \", B, \"________________\", sep=\"\\n\")"
   ]
  },
  {
   "cell_type": "markdown",
   "id": "e44f74ec",
   "metadata": {},
   "source": [
    "## Copying rows and columns of matrices"
   ]
  },
  {
   "cell_type": "markdown",
   "id": "156ebf6a",
   "metadata": {},
   "source": [
    "We haven't discussed matrices yet.  For now, just think of them as two dimensional arrays of numbers.  We illustrate how our general copy routine can copy rows to columns, columns to columns, and so forth."
   ]
  },
  {
   "cell_type": "code",
   "execution_count": 35,
   "id": "56449f01",
   "metadata": {},
   "outputs": [
    {
     "name": "stdout",
     "output_type": "stream",
     "text": [
      "-----SLAP_copy tests-----\n",
      "\n",
      "From row to column\n",
      "A = \n",
      "[[ 1  2  3  4]\n",
      " [ 5  6  7  8]\n",
      " [ 9 10 11 12]]\n",
      "B = \n",
      "[[0 0 0]\n",
      " [0 0 0]\n",
      " [0 0 0]\n",
      " [0 0 0]]\n",
      "\n",
      "B = \n",
      "[[5 0 0]\n",
      " [6 0 0]\n",
      " [7 0 0]\n",
      " [8 0 0]]\n",
      "________________\n"
     ]
    }
   ],
   "source": [
    "import numpy.matlib\n",
    "\n",
    "print(\"-----SLAP_copy tests-----\\n\")\n",
    "\n",
    "A = np.matrix( '1  2  3  4; \\\n",
    "                5  6  7  8; \\\n",
    "                9 10 11 12' )\n",
    "B = np.matlib.zeros( (4,3), dtype=int)\n",
    "print(\"From row to column\", \"A = \", A, \"B = \", B, sep=\"\\n\")\n",
    "copy(A[1,:],B[:,0])\n",
    "print(\"\\nB = \", B, \"________________\", sep=\"\\n\")"
   ]
  },
  {
   "cell_type": "code",
   "execution_count": 36,
   "id": "0450a421",
   "metadata": {},
   "outputs": [
    {
     "name": "stdout",
     "output_type": "stream",
     "text": [
      "-----SLAP_copy tests-----\n",
      "\n",
      "From column to row\n",
      "A = \n",
      "[[ 1  2  3  4]\n",
      " [ 5  6  7  8]\n",
      " [ 9 10 11 12]]\n",
      "B = \n",
      "[[0 0 0]\n",
      " [0 0 0]\n",
      " [0 0 0]\n",
      " [0 0 0]]\n",
      "\n",
      "B = \n",
      "[[ 2  6 10]\n",
      " [ 0  0  0]\n",
      " [ 0  0  0]\n",
      " [ 0  0  0]]\n",
      "________________\n"
     ]
    }
   ],
   "source": [
    "import numpy.matlib\n",
    "\n",
    "print(\"-----SLAP_copy tests-----\\n\")\n",
    "\n",
    "A = np.matrix( '1  2  3  4;\\\n",
    "                5  6  7  8;\\\n",
    "                9 10 11 12' )\n",
    "B = np.matlib.zeros( (4,3), dtype=int)\n",
    "print(\"From column to row\", \"A = \", A, \"B = \", B, sep=\"\\n\")\n",
    "copy(A[:,1],B[0,:])\n",
    "print(\"\\nB = \", B, \"________________\", sep=\"\\n\")"
   ]
  },
  {
   "cell_type": "markdown",
   "metadata": {},
   "source": [
    "## The laff library <code> copy </code> routine"
   ]
  },
  {
   "cell_type": "markdown",
   "id": "b9963632",
   "metadata": {},
   "source": [
    "The above routine is part of a library routine as part of the <code> laff </code> library.  To use it you will have to do <br>\n",
    "<br>\n",
    "<code> import laff </code>\n",
    "<br>\n",
    "<br>\n",
    "after which you can use the routine by calling\n",
    "<br>\n",
    "<br>\n",
    "<code> laff.copy( x, y ) </code>"
   ]
  },
  {
   "cell_type": "code",
   "execution_count": 3,
   "id": "4ff4356b",
   "metadata": {},
   "outputs": [
    {
     "name": "stdout",
     "output_type": "stream",
     "text": [
      "x = \n",
      "[[1]\n",
      " [2]\n",
      " [3]]\n",
      "y = \n",
      "[[1]\n",
      " [2]\n",
      " [3]]\n"
     ]
    }
   ],
   "source": [
    "import laff\n",
    "\n",
    "x = np.matrix( '1;\\\n",
    "                2;\\\n",
    "                3' )\n",
    "y = np.matrix( '-1;\\\n",
    "                 0;\\\n",
    "                 2' )\n",
    "\n",
    "laff.copy( x, y )\n",
    "\n",
    "print( \"x = \" )\n",
    "print( x )\n",
    "\n",
    "print( \"y = \" )\n",
    "print( y )"
   ]
  },
  {
   "cell_type": "markdown",
   "id": "032ae4b7",
   "metadata": {},
   "source": [
    "<font color=\"red\"> That's all!  Next, you will get to practice writing some code.  But don't panic: we'll get you through it. </font>"
   ]
  },
  {
   "cell_type": "code",
   "execution_count": null,
   "id": "9eb26848",
   "metadata": {},
   "outputs": [],
   "source": []
  }
 ],
 "metadata": {
  "kernelspec": {
   "display_name": "Python 3 (ipykernel)",
   "language": "python",
   "name": "python3"
  },
  "language_info": {
   "codemirror_mode": {
    "name": "ipython",
    "version": 3
   },
   "file_extension": ".py",
   "mimetype": "text/x-python",
   "name": "python",
   "nbconvert_exporter": "python",
   "pygments_lexer": "ipython3",
   "version": "3.10.13"
  }
 },
 "nbformat": 4,
 "nbformat_minor": 1
}
