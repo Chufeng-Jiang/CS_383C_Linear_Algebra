{
 "cells": [
  {
   "cell_type": "markdown",
   "id": "c0beefd3",
   "metadata": {},
   "source": [
    "# Matrix-matrix multiplication by columns"
   ]
  },
  {
   "cell_type": "markdown",
   "id": "9e16d578",
   "metadata": {},
   "source": [
    "We now look at how the FLAMEPy API can be used to implement different matrix-matrix multiplication algorithms.  "
   ]
  },
  {
   "cell_type": "markdown",
   "id": "953c2c3f",
   "metadata": {},
   "source": [
    "First, we create some matrices."
   ]
  },
  {
   "cell_type": "code",
   "execution_count": 1,
   "id": "e6b6df22",
   "metadata": {},
   "outputs": [
    {
     "name": "stdout",
     "output_type": "stream",
     "text": [
      "C = \n",
      "[[0.3055962  0.42938989 0.93214838]\n",
      " [0.46035809 0.29045494 0.7267029 ]\n",
      " [0.47122607 0.10792847 0.19259859]\n",
      " [0.32215902 0.47102025 0.59105158]]\n",
      "A = \n",
      "[[0.19974052 0.44938482 0.92992425 0.40882762 0.55732111]\n",
      " [0.53425394 0.61926165 0.62445809 0.75342114 0.11925777]\n",
      " [0.13689054 0.76942975 0.6402926  0.35644277 0.20895158]\n",
      " [0.50558215 0.9008212  0.65603818 0.66937046 0.8076336 ]]\n",
      "B = \n",
      "[[0.11256486 0.01243262 0.69359281]\n",
      " [0.08989721 0.51929951 0.48648917]\n",
      " [0.70117445 0.96923139 0.27405503]\n",
      " [0.51251243 0.61574154 0.11636613]\n",
      " [0.86842751 0.24505553 0.19798669]]\n"
     ]
    }
   ],
   "source": [
    "import numpy as np\n",
    "\n",
    "m = 4\n",
    "n = 3\n",
    "k = 5\n",
    "\n",
    "C = np.matrix( np.random.random( (m, n) ) )\n",
    "print( 'C = ' )\n",
    "print( C )\n",
    "\n",
    "Cold = np.matrix( np.zeros( (m,n ) ) )\n",
    "Cold = np.matrix( np.copy( C ) )           # an alternative way of doing a \"hard\" copy, in this case of a matrix\n",
    "    \n",
    "A = np.matrix( np.random.random( (m, k) ) )\n",
    "print( 'A = ' )\n",
    "print( A )\n",
    "\n",
    "B = np.matrix( np.random.random( (k, n) ) )\n",
    "print( 'B = ' )\n",
    "print( B )"
   ]
  },
  {
   "cell_type": "markdown",
   "id": "c604a7ff",
   "metadata": {},
   "source": [
    "## <h2>The algorithm  </h2>  <image src=\"https://studio.edx.org/c4x/UTAustinX/UT.5.01x/asset/Gemm_nn_unb_var1.png\" alt=\"Matrix-matrix multiplication by columns picture\" width=\"80%\">"
   ]
  },
  {
   "cell_type": "markdown",
   "id": "c108d6ed",
   "metadata": {},
   "source": [
    "<h2> The routine <code> Gemm_nn_unb_var1( A, B, C ) </code> </h2>\n",
    "\n",
    "This routine computes $ C := A B + C $ by columns.  The \"\\_nn\\_\" means that this is the \"No transpose, No transpose\" case of matrix multiplication.  \n",
    "The reason for this is that the operations $ C := A^T B + C $ (\"\\_tn\\_\" or \"Transpose, No transpose\"), $ C := A B^T + C $ (\"\\_nt\\_\" or \"No transpose, Transpose\"), and $ C := A^T B^T + C $ (\"\\_tt\\_\" or \"Transpose, Transpose\") are also encountered.  \n",
    "    \n",
    "The specific laff function we will use is\n",
    "<ul>\n",
    "<li> <code> laff.gemv( trans, alpha, A, x, beta, y ) </code> which computes \n",
    "$ y := \\alpha A x + \\beta y $ or $ y := \\alpha A^T x + \\beta y $, depending on \n",
    "        parameter <code> trans</code>.  In particular, \n",
    "        <ul>\n",
    "        <li>\n",
    "        <code> laff.gemv( 'No transpose', alpha, A, x, beta, y ) </code> computes $ y := \\alpha A x + \\beta y $.\n",
    "            </li>\n",
    "        <li>\n",
    "        <code> laff.gemv( 'Transpose', alpha, A, x, beta, y ) </code> computes $ y := \\alpha A^T x + \\beta y $.\n",
    "            </li>\n",
    "            </ul>\n",
    "    </li>\n",
    "</ul>\n",
    "\n",
    "Use the <a href=\"https://studio.edx.org/c4x/UTAustinX/UT.5.01x/asset/index.html\"> Spark webpage</a> to generate a code skeleton.  (Make sure you adjust the name of the routine.)"
   ]
  },
  {
   "cell_type": "code",
   "execution_count": 2,
   "id": "e74bcd72",
   "metadata": {},
   "outputs": [],
   "source": [
    "import flame\n",
    "import laff as laff\n",
    "\n",
    "def Gemm_nn_unb_var1(A, B, C):\n",
    "\n",
    "    BL, BR = flame.part_1x2(B, \\\n",
    "                            0, 'LEFT')\n",
    "\n",
    "    CL, CR = flame.part_1x2(C, \\\n",
    "                            0, 'LEFT')\n",
    "\n",
    "    while BL.shape[1] < B.shape[1]:\n",
    "\n",
    "        B0, b1, B2 = flame.repart_1x2_to_1x3(BL, BR, \\\n",
    "                                             1, 'RIGHT')\n",
    "\n",
    "        C0, c1, C2 = flame.repart_1x2_to_1x3(CL, CR, \\\n",
    "                                             1, 'RIGHT')\n",
    "\n",
    "        #------------------------------------------------------------#\n",
    "\n",
    "        laff.gemv( 'No transpose', 1.0, A, b1, 1.0, c1 )\n",
    "\n",
    "        #------------------------------------------------------------#\n",
    "\n",
    "        BL, BR = flame.cont_with_1x3_to_1x2(B0, b1, B2, \\\n",
    "                                            'LEFT')\n",
    "\n",
    "        CL, CR = flame.cont_with_1x3_to_1x2(C0, c1, C2, \\\n",
    "                                            'LEFT')\n",
    "\n",
    "    flame.merge_1x2(CL, CR, C)\n",
    "\n"
   ]
  },
  {
   "cell_type": "code",
   "execution_count": 3,
   "id": "a37495d6",
   "metadata": {},
   "outputs": [
    {
     "name": "stdout",
     "output_type": "stream",
     "text": [
      "C - ( Cold + A * B )\n",
      "[[ 0.00000000e+00 -4.44089210e-16  0.00000000e+00]\n",
      " [ 0.00000000e+00  2.22044605e-16  0.00000000e+00]\n",
      " [ 0.00000000e+00  0.00000000e+00  1.11022302e-16]\n",
      " [ 0.00000000e+00 -4.44089210e-16  0.00000000e+00]]\n"
     ]
    }
   ],
   "source": [
    "C = np.matrix( np.copy( Cold ) )               # restore C \n",
    "\n",
    "Gemm_nn_unb_var1( A, B, C )\n",
    "\n",
    "print( 'C - ( Cold + A * B )' )\n",
    "print( C - ( Cold + A * B ) )"
   ]
  },
  {
   "cell_type": "markdown",
   "id": "a398b668",
   "metadata": {},
   "source": [
    "Bingo! It works!"
   ]
  },
  {
   "cell_type": "markdown",
   "id": "8614d533",
   "metadata": {},
   "source": [
    "## Watch the algorithm at work!"
   ]
  },
  {
   "cell_type": "markdown",
   "id": "71bda017",
   "metadata": {},
   "source": [
    "Copy and paste the code into <a href=\"http://edx-org-utaustinx.s3.amazonaws.com/UT501x/PictureFlame/PictureFLAME.html\"> PictureFLAME </a>, a webpage where you can watch your routine in action.  Just cut and paste into the box.  \n",
    "\n",
    "Disclaimer: we implemented a VERY simple interpreter.  If you do something wrong, we cannot guarantee the results.  But if you do it right, you are in for a treat.\n",
    "\n",
    "If you want to reset the problem, just click in the box into which you pasted the code and hit \"next\" again."
   ]
  },
  {
   "cell_type": "code",
   "execution_count": null,
   "metadata": {},
   "outputs": [],
   "source": []
  }
 ],
 "metadata": {
  "kernelspec": {
   "display_name": "Python 3 (ipykernel)",
   "language": "python",
   "name": "python3"
  },
  "language_info": {
   "codemirror_mode": {
    "name": "ipython",
    "version": 3
   },
   "file_extension": ".py",
   "mimetype": "text/x-python",
   "name": "python",
   "nbconvert_exporter": "python",
   "pygments_lexer": "ipython3",
   "version": "3.10.13"
  }
 },
 "nbformat": 4,
 "nbformat_minor": 1
}
