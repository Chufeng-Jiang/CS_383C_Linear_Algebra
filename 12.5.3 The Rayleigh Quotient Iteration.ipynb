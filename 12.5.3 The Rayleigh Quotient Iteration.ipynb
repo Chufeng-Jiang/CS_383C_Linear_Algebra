{
 "cells": [
  {
   "cell_type": "markdown",
   "id": "29edead4",
   "metadata": {},
   "source": [
    "#     12.5.3 The Rayleigh Quotient Iteration"
   ]
  },
  {
   "cell_type": "markdown",
   "id": "8aef6b9a",
   "metadata": {},
   "source": [
    "With this notebook, we demonstrate how the Inverse Power Method can be accelerated by shifting the matrix, this time by approximating the smallest eigenvalue with the Rayleigh quotient.\n",
    "\n",
    "<font color=red> Be sure to make a copy!!!! </font>"
   ]
  },
  {
   "cell_type": "markdown",
   "id": "ed6710b0",
   "metadata": {},
   "source": [
    "We start by creating a matrix with known eigenvalues and eigenvectors\n",
    "\n",
    "How do we do this?  \n",
    "<ul>\n",
    "  <li>\n",
    "    We want a matrix that is not deficient, since otherwise the Rayleigh Quotient Iteration Method may not work. \n",
    "  </li>\n",
    "  <li>\n",
    "    Hence, $ A = V \\Lambda V^{-1} $ for some diagonal matrix $ \\Lambda $ and nonsingular matrix $ V $.  The eigenvalues are then on the diagonal of $ \\Lambda $ and the eigenvectors are the columns of $ V $.\n",
    "    </li>\n",
    "    <li>\n",
    "    So, let's pick the eigenvalues for the diagonal of $ \\Lambda $ and let's pick a random matrix $ V $ (in the hopes that it has linearly independent columns) and then let's see what happens.  \n",
    "    </li>\n",
    "    </ul>\n",
    "\n",
    "<font color=red> Experiment by changing the eigenvalues!  What happens if you make the second entry on the diagonal equal to -4?  Or what if you set 2 to -1? </font>"
   ]
  },
  {
   "cell_type": "code",
   "execution_count": 1,
   "id": "e7268091",
   "metadata": {},
   "outputs": [
    {
     "name": "stdout",
     "output_type": "stream",
     "text": [
      "Lambda = \n",
      "[[4. 0. 0. 0.]\n",
      " [0. 3. 0. 0.]\n",
      " [0. 0. 2. 0.]\n",
      " [0. 0. 0. 1.]]\n",
      "V = \n",
      "[[0.15930909 0.79937646 0.41484264 0.51304883]\n",
      " [0.61370623 0.15424173 0.39785694 0.83359535]\n",
      " [0.60426959 0.40917501 0.74390608 0.07363756]\n",
      " [0.48253864 0.41204682 0.34090933 0.19099004]]\n",
      "A = \n",
      "[[ 1.95416554 -1.27412645 -0.80997773  3.31021008]\n",
      " [-2.02319911  1.05174858 -0.91304797  5.56100832]\n",
      " [-1.34643154 -0.31364455  0.55514903  5.15731355]\n",
      " [-1.07769959 -0.47887645 -1.17713101  6.43893684]]\n"
     ]
    }
   ],
   "source": [
    "import numpy as np\n",
    "import laff\n",
    "import flame\n",
    "\n",
    "Lambda = np.matrix( ' 4., 0., 0., 0;\\\n",
    "                      0., 3., 0., 0;\\\n",
    "                      0., 0., 2., 0;\\\n",
    "                      0., 0., 0., 1' )\n",
    "\n",
    "lambda0 = Lambda[ 0,0 ]\n",
    "\n",
    "V = np.matrix( np.random.rand( 4,4 ) )\n",
    "\n",
    "# normalize the columns of V to equal one\n",
    "\n",
    "for j in range( 0, 4 ):\n",
    "    V[ :, j ] = V[ :, j ] / np.sqrt( np.transpose( V[:,j] ) * V[:, j ] )\n",
    "\n",
    "A = V * Lambda * np.linalg.inv( V )\n",
    "\n",
    "print( 'Lambda = ' )\n",
    "print( Lambda)\n",
    "\n",
    "print( 'V = ' )\n",
    "print( V )\n",
    "\n",
    "print( 'A = ' )\n",
    "print( A )\n"
   ]
  },
  {
   "cell_type": "markdown",
   "id": "d0b24cd7",
   "metadata": {},
   "source": [
    "The idea is as follows:\n",
    "\n",
    "The eigenvalues of $ A $ are $ \\lambda_0, \\ldots, \\lambda_3 $ with\n",
    "\n",
    "$$\n",
    "\\vert \\lambda_0 \\vert > \\vert \\lambda_1 \\vert > \\vert \\lambda_2 \\vert > \\vert \\lambda_3 \\vert > 0\n",
    "$$\n",
    "\n",
    "and how fast the iteration converges depends on the ratio \n",
    "\n",
    "$$\n",
    "\\left\\vert \\frac{\\lambda_3}{\\lambda_2} \\right\\vert .\n",
    "$$\n",
    "Now, if you pick a value, $ \\mu $ close to $ \\lambda_3 $, and you iterate with $ A - \\mu I $ (which is known as shifting the matrix/spectrum by $ \\mu $) you can greatly improve the ratio\n",
    "$$\n",
    "\\left\\vert \\frac{\\lambda_3-\\mu}{\\lambda_2-\\mu} \\right\\vert .\n",
    "$$\n",
    "\n",
    "Generally we don't know $ \\lambda_3 $ and hence don't know how to choose $ \\mu $.  But we are generating a vector $ x $ that progressively gets closer and closer to an eigenvector.  Thus, we can use the Rayleigh quotient to approximate an eigenvalue.\n",
    "\n",
    "Here we purposely say \"an eigenvalue\" since it could be that the first random vector $ x $ is close to an eigenvector associated with another eigenvalue, and then we may converge to a different eigenvalue."
   ]
  },
  {
   "cell_type": "code",
   "execution_count": 2,
   "id": "345e4c75",
   "metadata": {},
   "outputs": [
    {
     "name": "stdout",
     "output_type": "stream",
     "text": [
      "Rayleigh quotient with vector x: [[3.11667923]]\n",
      "inner product of x with v3     : [[0.60082785]]\n",
      " \n",
      "Rayleigh quotient with vector x: [[2.88769375]]\n",
      "inner product of x with v3     : [[-0.61542382]]\n",
      " \n",
      "Rayleigh quotient with vector x: [[3.00262523]]\n",
      "inner product of x with v3     : [[-0.64393]]\n",
      " \n",
      "Rayleigh quotient with vector x: [[3.00004297]]\n",
      "inner product of x with v3     : [[0.64752633]]\n",
      " \n",
      "Rayleigh quotient with vector x: [[3.]]\n",
      "inner product of x with v3     : [[-0.64752183]]\n",
      " \n",
      "Rayleigh quotient with vector x: [[3.]]\n",
      "inner product of x with v3     : [[0.64752183]]\n",
      " \n",
      "Rayleigh quotient with vector x: [[3.]]\n",
      "inner product of x with v3     : [[0.64752183]]\n",
      " \n",
      "Rayleigh quotient with vector x: [[3.]]\n",
      "inner product of x with v3     : [[0.64752183]]\n",
      " \n",
      "Rayleigh quotient with vector x: [[3.]]\n",
      "inner product of x with v3     : [[0.64752183]]\n",
      " \n",
      "Rayleigh quotient with vector x: [[3.]]\n",
      "inner product of x with v3     : [[0.64752183]]\n",
      " \n"
     ]
    }
   ],
   "source": [
    "# Pick a random starting vector\n",
    "\n",
    "x = np.matrix( np.random.rand( 4,1 ) )\n",
    "\n",
    "\n",
    "mu = 0.    # Let's start by not shifting, so hopefully we hone in on the smallest eigenvalue\n",
    "\n",
    "for i in range(0,10):\n",
    "    # We should really compute a factorization of A, but let's be lazy, and compute the inverse\n",
    "    # explicitly\n",
    "    Ainv = np.linalg.inv( A - mu * np.eye( 4, 4 ) )\n",
    "    \n",
    "    x = Ainv * x \n",
    "    \n",
    "    # normalize x to length one\n",
    "    x = x / np.sqrt( np.transpose( x ) * x )\n",
    "    \n",
    "    # Notice we compute the Rayleigh quotient with matrix A, not Ainv.  This is because\n",
    "    # the eigenvector of A is an eigenvector of Ainv\n",
    "    \n",
    "    mu = np.transpose( x ) * A * x\n",
    "    \n",
    "    # The above returns a 1 x 1 matrix.  Let's set mu to the scalar\n",
    "    \n",
    "    mu = mu[ 0, 0 ]\n",
    "    \n",
    "    print( 'Rayleigh quotient with vector x:', np.transpose( x ) * A * x / ( np.transpose( x ) * x ))\n",
    "    print( 'inner product of x with v3     :', np.transpose( x ) * V[ :, 3 ] )\n",
    "    print( ' ' )"
   ]
  },
  {
   "cell_type": "code",
   "execution_count": null,
   "id": "099a5b2d",
   "metadata": {},
   "outputs": [],
   "source": []
  },
  {
   "cell_type": "markdown",
   "id": "a67ef4c4",
   "metadata": {},
   "source": [
    "In the above, \n",
    " <ul>\n",
    " <li>\n",
    " The Rayleigh quotient may converge to 1.0 (but it may converge to another eigenvalue!).\n",
    " </li>\n",
    " <li>\n",
    " The inner product of $ x $ and the last column of $ V $, $ v_{n-1} $, may converge to 1 or -1 since eventually $ x $ may be in the direction of $ v_{n-1} $ (or in the opposite direction).  But not if we start converging to another eigenvalue... If this happens, try rerunning all the code blocks above to get a different $V$ matrix.\n",
    " </li>\n",
    " </ul>\n"
   ]
  },
  {
   "cell_type": "code",
   "execution_count": null,
   "metadata": {},
   "outputs": [],
   "source": []
  }
 ],
 "metadata": {
  "kernelspec": {
   "display_name": "Python 3 (ipykernel)",
   "language": "python",
   "name": "python3"
  },
  "language_info": {
   "codemirror_mode": {
    "name": "ipython",
    "version": 3
   },
   "file_extension": ".py",
   "mimetype": "text/x-python",
   "name": "python",
   "nbconvert_exporter": "python",
   "pygments_lexer": "ipython3",
   "version": "3.10.13"
  }
 },
 "nbformat": 4,
 "nbformat_minor": 1
}
