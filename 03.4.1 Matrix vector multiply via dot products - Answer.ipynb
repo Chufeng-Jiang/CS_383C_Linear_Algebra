{
 "cells": [
  {
   "cell_type": "markdown",
   "id": "3406ce2f",
   "metadata": {},
   "source": [
    "# Matrix-vector multiplication via dot products"
   ]
  },
  {
   "cell_type": "markdown",
   "id": "d564db10",
   "metadata": {},
   "source": [
    "This notebook walks you through how to implement $ y := A x + y $ via dot products."
   ]
  },
  {
   "cell_type": "markdown",
   "id": "45d43420",
   "metadata": {},
   "source": [
    "## Getting started"
   ]
  },
  {
   "cell_type": "markdown",
   "id": "172b474d",
   "metadata": {},
   "source": [
    "We will use some functions that are part of our laff library (of which this function will become a part) as well as some routines from the FLAME API (Application Programming Interface) that allows us to write code that closely resembles how we typeset algorithms using the FLAME notation.  These functions are imported with the \"import laff as laff\" and \"import flame\" statements."
   ]
  },
  {
   "cell_type": "markdown",
   "id": "b8ecb9b1",
   "metadata": {},
   "source": [
    "## Algorithm"
   ]
  },
  {
   "cell_type": "markdown",
   "id": "950940c3",
   "metadata": {},
   "source": [
    "<image src=\"https://studio.edx.org/c4x/UTAustinX/UT.5.01x/asset/341Mvmult_n_unb_var1.png\" alt=\"Matrix-vector multiplication via dot products algorithm\" width=\"75%\">"
   ]
  },
  {
   "cell_type": "markdown",
   "id": "b02a39d0",
   "metadata": {},
   "source": [
    "## The routine <br> <code> Mvmult_n_unb_var1( A, x, y ) </code>"
   ]
  },
  {
   "cell_type": "markdown",
   "id": "84f01ade",
   "metadata": {},
   "source": [
    "This routine, given $ A \\in \\mathbb{R}^{m \\times n} $, $ x \\in \\mathbb{R}^n $, and $ y \\in \\mathbb{R}^m $, computes $ y := A x + y $.  The \"_n_\" indicates this is the \"no transpose\" matrix-vector multiplication.  What this means will become clear next week.\n",
    "\n",
    "The specific laff functions we will use are \n",
    "<ul>\n",
    "<li> <code> laff.dots( x, y, alpha ) </code> which computes $ \\alpha := x^T y + \\alpha $.  </li>\n",
    "</ul>\n",
    "\n",
    "Use the <a href=\"https://studio.edx.org/c4x/UTAustinX/UT.5.01x/asset/index.html\"> Spark webpage </a>."
   ]
  },
  {
   "cell_type": "code",
   "execution_count": 1,
   "id": "8331bc58",
   "metadata": {},
   "outputs": [],
   "source": [
    "import flame\n",
    "import laff as laff\n",
    "\n",
    "def Mvmult_n_unb_var1(A, x, y):\n",
    "\n",
    "    AT, \\\n",
    "    AB  = flame.part_2x1(A, \\\n",
    "                         0, 'TOP')\n",
    "\n",
    "    yT, \\\n",
    "    yB  = flame.part_2x1(y, \\\n",
    "                         0, 'TOP')\n",
    "\n",
    "    while AT.shape[0] < A.shape[0]:\n",
    "\n",
    "        A0,  \\\n",
    "        a1t, \\\n",
    "        A2   = flame.repart_2x1_to_3x1(AT, \\\n",
    "                                       AB, \\\n",
    "                                       1, 'BOTTOM')\n",
    "\n",
    "        y0,   \\\n",
    "        psi1, \\\n",
    "        y2    = flame.repart_2x1_to_3x1(yT, \\\n",
    "                                        yB, \\\n",
    "                                        1, 'BOTTOM')\n",
    "\n",
    "        #------------------------------------------------------------#\n",
    "\n",
    "        laff.dots( a1t, x, psi1 )\n",
    "\n",
    "        #------------------------------------------------------------#\n",
    "\n",
    "        AT, \\\n",
    "        AB  = flame.cont_with_3x1_to_2x1(A0,  \\\n",
    "                                         a1t, \\\n",
    "                                         A2,  \\\n",
    "                                         'TOP')\n",
    "\n",
    "        yT, \\\n",
    "        yB  = flame.cont_with_3x1_to_2x1(y0,   \\\n",
    "                                         psi1, \\\n",
    "                                         y2,   \\\n",
    "                                         'TOP')\n",
    "\n",
    "    flame.merge_2x1(yT, \\\n",
    "                    yB, y)\n",
    "\n"
   ]
  },
  {
   "cell_type": "markdown",
   "id": "a1f87cb8",
   "metadata": {},
   "source": [
    "## Testing"
   ]
  },
  {
   "cell_type": "markdown",
   "id": "b12bf265",
   "metadata": {},
   "source": [
    "Let's quickly test the routine by creating a 4 x 3 matrix and related vectors, performing the computation."
   ]
  },
  {
   "cell_type": "code",
   "execution_count": 2,
   "id": "9006fc79",
   "metadata": {},
   "outputs": [
    {
     "name": "stdout",
     "output_type": "stream",
     "text": [
      "A before =\n",
      "[[0.81664405 0.03488451 0.36687972]\n",
      " [0.51470982 0.16196599 0.37977736]\n",
      " [0.89479609 0.31561036 0.06266666]\n",
      " [0.36400661 0.97014205 0.88185465]]\n",
      "x before =\n",
      "[[0.76361412]\n",
      " [0.0393304 ]\n",
      " [0.04214616]]\n",
      "y before =\n",
      "[[0.29688929]\n",
      " [0.08265366]\n",
      " [0.2125085 ]\n",
      " [0.82469832]]\n"
     ]
    }
   ],
   "source": [
    "from numpy import random\n",
    "from numpy import matrix\n",
    "\n",
    "A = matrix( random.rand( 4,3 ) )\n",
    "x = matrix( random.rand( 3,1 ) )\n",
    "y = matrix( random.rand( 4,1 ) )\n",
    "yold = matrix( random.rand( 4,1 ) )\n",
    "\n",
    "print( 'A before =' )\n",
    "print( A )\n",
    "\n",
    "print( 'x before =' )\n",
    "print( x )\n",
    "\n",
    "print( 'y before =' )\n",
    "print( y )"
   ]
  },
  {
   "cell_type": "code",
   "execution_count": 3,
   "id": "a66e5d86",
   "metadata": {},
   "outputs": [
    {
     "name": "stdout",
     "output_type": "stream",
     "text": [
      "y after =\n",
      "[[0.93732481]\n",
      " [0.49806969]\n",
      " [0.91084167]\n",
      " [1.17798177]]\n",
      "y - ( A * x + yold ) = \n",
      "[[0.]\n",
      " [0.]\n",
      " [0.]\n",
      " [0.]]\n"
     ]
    }
   ],
   "source": [
    "laff.copy( y, yold )   # save the original vector y\n",
    "\n",
    "Mvmult_n_unb_var1( A, x, y )\n",
    "\n",
    "print( 'y after =' )\n",
    "print( y )\n",
    "\n",
    "print( 'y - ( A * x + yold ) = ' )\n",
    "print( y - ( A * x + yold ) )"
   ]
  },
  {
   "cell_type": "markdown",
   "id": "0bb3c695",
   "metadata": {},
   "source": [
    "Bingo, it seems to work!  (Notice that we are doing floating point computations, which means that due to rounding you may not get an exact \"0\".)"
   ]
  },
  {
   "cell_type": "markdown",
   "id": "f7d3ed61",
   "metadata": {},
   "source": [
    "## Watch your code in action!"
   ]
  },
  {
   "cell_type": "markdown",
   "id": "2807df78",
   "metadata": {},
   "source": [
    "Copy and paste the code into <a href=\"http://edx-org-utaustinx.s3.amazonaws.com/UT501x/PictureFlame/PictureFLAME.html\"> PictureFLAME </a>, a webpage where you can watch your routine in action.  Just cut and paste into the box.  \n",
    "\n",
    "Disclaimer: we implemented a VERY simple interpreter.  If you do something wrong, we cannot guarantee the results.  But if you do it right, you are in for a treat.\n",
    "\n",
    "If you want to reset the problem, just click in the box into which you pasted the code and hit \"next\" again."
   ]
  }
 ],
 "metadata": {
  "kernelspec": {
   "display_name": "Python 3 (ipykernel)",
   "language": "python",
   "name": "python3"
  },
  "language_info": {
   "codemirror_mode": {
    "name": "ipython",
    "version": 3
   },
   "file_extension": ".py",
   "mimetype": "text/x-python",
   "name": "python",
   "nbconvert_exporter": "python",
   "pygments_lexer": "ipython3",
   "version": "3.10.13"
  }
 },
 "nbformat": 4,
 "nbformat_minor": 1
}
