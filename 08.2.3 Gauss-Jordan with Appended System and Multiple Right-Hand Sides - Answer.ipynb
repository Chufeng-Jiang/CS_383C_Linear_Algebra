{
 "cells": [
  {
   "cell_type": "markdown",
   "id": "a55acbf8",
   "metadata": {},
   "source": [
    "# 8.2.3 Gauss-Jordan with Appended System and Multiple Right-Hand Sides - Answer"
   ]
  },
  {
   "cell_type": "markdown",
   "id": "53c53fd5",
   "metadata": {},
   "source": [
    "<font color=red> Copy this notebook first! At each step, if you make a mistake, rerun all the cells above the current cell!!!</font>\n",
    "\n",
    "<br>\n",
    "\n",
    "With this notebook, we walk you through Homework 8.2.3.  \n",
    "\n",
    "We start with the same appended system as in 8.2.2, except now you want to add another right-hand side to the system:\n",
    "\n",
    "Let's set this up as an appended matrix and the application of a Gauss transform.  Here matrix $ A $ holds the appended system\n",
    "$ \n",
    "\\left( \\begin{array}{ r r r | r r }\n",
    "-2 & 2 & -5 & -7 & 8 \\\\\n",
    "2 & -3 & 7 & 11 & -13 \\\\\n",
    "-4 & 3 & -7 & -9 & 9\n",
    "\\end{array} \\right)\n",
    "$\n",
    "\n",
    "Fill in the ? in matrix $ A $.  Notice that if you completed notebook 8.2.2, this is the same original matrix.  See what happens if you simply use the same Gauss transforms, and apply them to the appended system with the new right hand sides! "
   ]
  },
  {
   "cell_type": "code",
   "execution_count": 1,
   "id": "d1d997d5",
   "metadata": {},
   "outputs": [
    {
     "name": "stdout",
     "output_type": "stream",
     "text": [
      "A = \n",
      "[[ -2   2  -5  -7   8]\n",
      " [  2  -3   7  11 -13]\n",
      " [ -4   3  -7  -9   9]]\n",
      "A0 = \n",
      "[[-2  2 -5 -7  8]\n",
      " [ 0 -1  2  4 -5]\n",
      " [ 0 -1  3  5 -7]]\n"
     ]
    }
   ],
   "source": [
    "import numpy as np\n",
    "\n",
    "A = np.matrix( '-2,  2, -5, -7,  8;\\\n",
    "                 2, -3,  7, 11,-13;\\\n",
    "                -4,  3, -7, -9,  9' )\n",
    "\n",
    "print( 'A = ' )\n",
    "print( A )\n",
    "\n",
    "G0 = np.matrix( ' 1,  0,  0;\\\n",
    "                  1,  1,  0;\\\n",
    "                 -2,  0,  1' );\n",
    "\n",
    "A0 = G0 * A\n",
    "\n",
    "print( 'A0 = ' )\n",
    "print( A0 )"
   ]
  },
  {
   "cell_type": "markdown",
   "id": "4cb80f28",
   "metadata": {},
   "source": [
    "If you did this right, the result matrix $ A_0 = G_0 A $ has zeroes in the off-diagonal entries of the first column, which then corresponds to the below answer to the first step in Homework 8.2.3.1:\n",
    "\n",
    "<img src=\"https://studio.edx.org/c4x/UTAustinX/UT.5.01x/asset/8_2_3_1_QuestionA.png\" width=\"75%\"> </img>"
   ]
  },
  {
   "cell_type": "markdown",
   "id": "18c79c48",
   "metadata": {},
   "source": [
    "The appended system is now represented by <code> A0 </code>:"
   ]
  },
  {
   "cell_type": "code",
   "execution_count": 2,
   "id": "6d804c75",
   "metadata": {},
   "outputs": [
    {
     "name": "stdout",
     "output_type": "stream",
     "text": [
      "A0 =\n",
      "[[-2  2 -5 -7  8]\n",
      " [ 0 -1  2  4 -5]\n",
      " [ 0 -1  3  5 -7]]\n"
     ]
    }
   ],
   "source": [
    "print( 'A0 =' )\n",
    "print( A0 )"
   ]
  },
  {
   "cell_type": "markdown",
   "id": "6bfdb733",
   "metadata": {},
   "source": [
    "Now, use $ G_1 $ from Homework 8.2.2.1 to introduce zeroes in the off-diagonal elemental of the second column of $ A_0 $:"
   ]
  },
  {
   "cell_type": "code",
   "execution_count": 3,
   "id": "6f27d2e1",
   "metadata": {},
   "outputs": [
    {
     "name": "stdout",
     "output_type": "stream",
     "text": [
      "A1 = \n",
      "[[-2  0 -1  1 -2]\n",
      " [ 0 -1  2  4 -5]\n",
      " [ 0  0  1  1 -2]]\n"
     ]
    }
   ],
   "source": [
    "G1 = np.matrix( ' 1,  2,  0;\\\n",
    "                  0,  1,  0;\\\n",
    "                  0, -1,  1' );\n",
    "\n",
    "A1 = G1 * A0\n",
    "\n",
    "print( 'A1 = ' )\n",
    "print( A1 )"
   ]
  },
  {
   "cell_type": "markdown",
   "id": "a71513ed",
   "metadata": {},
   "source": [
    "If you did this right, the result matrix $ A_1 = G_1 A_0 = G_1 G_0 A $ has zeroes in the off-diagonal entries of the first column and the second column, which then corresponds to the below answer to the second step in Homework 8.2.3.1:\n",
    "\n",
    "<img src=\"https://studio.edx.org/c4x/UTAustinX/UT.5.01x/asset/8_2_3_1_QuestionB.png\" width=\"75%\"> </img>"
   ]
  },
  {
   "cell_type": "markdown",
   "id": "14f57013",
   "metadata": {},
   "source": [
    "The appended system is now represented by <code> A1 </code>:"
   ]
  },
  {
   "cell_type": "code",
   "execution_count": 4,
   "id": "d2a46e18",
   "metadata": {},
   "outputs": [
    {
     "name": "stdout",
     "output_type": "stream",
     "text": [
      "A1 =\n",
      "[[-2  0 -1  1 -2]\n",
      " [ 0 -1  2  4 -5]\n",
      " [ 0  0  1  1 -2]]\n"
     ]
    }
   ],
   "source": [
    "print( 'A1 =' )\n",
    "print( A1 )"
   ]
  },
  {
   "cell_type": "markdown",
   "id": "bcf3fb62",
   "metadata": {},
   "source": [
    "Now, use the $ G_2 $ from Homework 8.2.3 to introduce zeroes in the off-diagonal elemental of the third column of $ A_1 $:"
   ]
  },
  {
   "cell_type": "code",
   "execution_count": 5,
   "id": "e2895571",
   "metadata": {},
   "outputs": [
    {
     "name": "stdout",
     "output_type": "stream",
     "text": [
      "A2 = \n",
      "[[-2  0  0  2 -4]\n",
      " [ 0 -1  0  2 -1]\n",
      " [ 0  0  1  1 -2]]\n"
     ]
    }
   ],
   "source": [
    "G2 = np.matrix( ' 1,  0,  1;\\\n",
    "                  0,  1, -2;\\\n",
    "                  0,  0,  1' );\n",
    "\n",
    "A2 = G2 * A1\n",
    "\n",
    "print( 'A2 = ' )\n",
    "print( A2 )"
   ]
  },
  {
   "cell_type": "markdown",
   "id": "9aaf3e68",
   "metadata": {},
   "source": [
    "If you did this right, the result matrix $ A_2 = G_2 A_1 = G_2 G_1 A_0 = G_2 G_1 G_0 A $ has zeroes in the off-diagonal entries of the first, second, and third column, which then corresponds to the below answer to the third step in Homework 8.2.3.1:\n",
    "\n",
    "<img src=\"https://studio.edx.org/c4x/UTAustinX/UT.5.01x/asset/8_2_3_1_QuestionC.png\" width=\"75%\"> </img>"
   ]
  },
  {
   "cell_type": "markdown",
   "id": "9d2d57fd",
   "metadata": {},
   "source": [
    "The appended system is now represented by <code> A2 </code>:"
   ]
  },
  {
   "cell_type": "code",
   "execution_count": 6,
   "id": "b7fada74",
   "metadata": {},
   "outputs": [
    {
     "name": "stdout",
     "output_type": "stream",
     "text": [
      "A2 =\n",
      "[[-2  0  0  2 -4]\n",
      " [ 0 -1  0  2 -1]\n",
      " [ 0  0  1  1 -2]]\n"
     ]
    }
   ],
   "source": [
    "print( 'A2 =' )\n",
    "print( A2 )"
   ]
  },
  {
   "cell_type": "markdown",
   "id": "b49150ae",
   "metadata": {},
   "source": [
    "Now, use the diagonal matrix $ D $ from Homework 8.2.3 to set the diagonal elements in the appended system to one, making the first three columns into an identity matrix:"
   ]
  },
  {
   "cell_type": "code",
   "execution_count": 7,
   "id": "b5039e6b",
   "metadata": {},
   "outputs": [
    {
     "name": "stdout",
     "output_type": "stream",
     "text": [
      "A3 = \n",
      "[[ 1.  0.  0. -1.  2.]\n",
      " [ 0.  1.  0. -2.  1.]\n",
      " [ 0.  0.  1.  1. -2.]]\n"
     ]
    }
   ],
   "source": [
    "D = np.matrix( '-0.5,  0,  0;\\\n",
    "                  0,  -1,  0;\\\n",
    "                  0,  0,   1' );\n",
    "\n",
    "A3 = D * A2\n",
    "\n",
    "print( 'A3 = ' )\n",
    "print( A3 )"
   ]
  },
  {
   "cell_type": "markdown",
   "id": "ba343882",
   "metadata": {},
   "source": [
    "If you did this right, the result matrix \n",
    "\n",
    "$ A_3 = D A_2 = D G_2 A_1 = D G_2 G_1 A_0 = D G_2 G_1 G_0 A $ \n",
    "\n",
    "has an identity matrix in the first three columns, which then corresponds to the below answer to the fourth step in Homework 8.2.3.1:\n",
    "\n",
    "<img src=\"https://studio.edx.org/c4x/UTAustinX/UT.5.01x/asset/8_2_3_1_QuestionD.png\" width=\"75%\"> </img>"
   ]
  },
  {
   "cell_type": "markdown",
   "id": "6caea6a9",
   "metadata": {},
   "source": [
    "If you did this right, the resulting matrix represents the solution to the equations\n",
    "\n",
    "<img src=\"https://studio.edx.org/c4x/UTAustinX/UT.5.01x/asset/8_2_3_1_QuestionE.png\" width=\"75%\"> </img>\n",
    "\n",
    "Let's see what happens if we take the two right-hand side columns and check if they solve the two equations:"
   ]
  },
  {
   "cell_type": "code",
   "execution_count": 8,
   "id": "4cd8a5f3",
   "metadata": {},
   "outputs": [
    {
     "name": "stdout",
     "output_type": "stream",
     "text": [
      "A = \n",
      "[[-2  2 -5]\n",
      " [ 2 -3  7]\n",
      " [-4  3 -7]]\n",
      "x0 = \n",
      "[[-1]\n",
      " [-2]\n",
      " [ 1]]\n",
      " A * x0 = \n",
      "[[-7]\n",
      " [11]\n",
      " [-9]]\n",
      "x1 = \n",
      "[[ 2]\n",
      " [ 1]\n",
      " [-2]]\n",
      " A * x1 = \n",
      "[[  8]\n",
      " [-13]\n",
      " [  9]]\n"
     ]
    }
   ],
   "source": [
    "A = np.matrix( '-2,  2, -5;\\\n",
    "                 2, -3,  7;\\\n",
    "                -4,  3, -7' )\n",
    "\n",
    "print( 'A = ' )\n",
    "print( A )\n",
    "\n",
    "x0 = np.matrix( '-1;\\\n",
    "                 -2;\\\n",
    "                  1' )\n",
    "\n",
    "x1 = np.matrix( ' 2;\\\n",
    "                  1;\\\n",
    "                 -2' )\n",
    "\n",
    "print( 'x0 = ' )\n",
    "print( x0 )\n",
    "\n",
    "print( ' A * x0 = ' )\n",
    "print( A * x0 )\n",
    "\n",
    "print( 'x1 = ' )\n",
    "print( x1 )\n",
    "\n",
    "print( ' A * x1 = ' )\n",
    "print( A * x1 )"
   ]
  },
  {
   "cell_type": "markdown",
   "id": "d82a0536",
   "metadata": {},
   "source": [
    "Do they solve the two linear systems from homework 8.2.3.1?\n",
    "\n",
    "<img src=\"https://studio.edx.org/c4x/UTAustinX/UT.5.01x/asset/8_2_3_1_QuestionE.png\" width=\"75%\"> </img>"
   ]
  },
  {
   "cell_type": "code",
   "execution_count": null,
   "id": "c0b9445b",
   "metadata": {},
   "outputs": [],
   "source": []
  },
  {
   "cell_type": "code",
   "execution_count": null,
   "id": "28dbb1cc",
   "metadata": {},
   "outputs": [],
   "source": []
  }
 ],
 "metadata": {
  "kernelspec": {
   "display_name": "Python 3 (ipykernel)",
   "language": "python",
   "name": "python3"
  },
  "language_info": {
   "codemirror_mode": {
    "name": "ipython",
    "version": 3
   },
   "file_extension": ".py",
   "mimetype": "text/x-python",
   "name": "python",
   "nbconvert_exporter": "python",
   "pygments_lexer": "ipython3",
   "version": "3.10.13"
  }
 },
 "nbformat": 4,
 "nbformat_minor": 1
}
