{
 "cells": [
  {
   "cell_type": "markdown",
   "id": "a8e37cb2",
   "metadata": {},
   "source": [
    "## Practice with matrix-vector multiplication"
   ]
  },
  {
   "cell_type": "markdown",
   "id": "26f9a82e",
   "metadata": {},
   "source": [
    "To practice your ability to compute a matrix-vector product, run the cell below and when you are ready, check your answer by running the cell below it.  To do another one, just repeat by running the cell below, and then the one below it!"
   ]
  },
  {
   "cell_type": "code",
   "execution_count": 1,
   "id": "e5e5c14c",
   "metadata": {},
   "outputs": [
    {
     "name": "stdout",
     "output_type": "stream",
     "text": [
      "What is the result of the matrix vector product below?\n"
     ]
    },
    {
     "data": {
      "text/latex": [
       "$\\displaystyle \\left[\\begin{matrix}3 & -2 & -3\\\\4 & 2 & 4\\\\2 & -2 & 3\\\\-2 & -1 & 1\\end{matrix}\\right] \\left[\\begin{matrix}2\\\\0\\\\0\\end{matrix}\\right]=?$"
      ],
      "text/plain": [
       "<IPython.core.display.Math object>"
      ]
     },
     "execution_count": 1,
     "metadata": {},
     "output_type": "execute_result"
    }
   ],
   "source": [
    "import generate_problems as gp\n",
    "print(\"What is the result of the matrix vector product below?\")\n",
    "\n",
    "p = gp.Problem()\n",
    "\n",
    "p.new_problem()"
   ]
  },
  {
   "cell_type": "code",
   "execution_count": 2,
   "id": "36b3a06c",
   "metadata": {},
   "outputs": [
    {
     "data": {
      "text/latex": [
       "$\\displaystyle \\left[\\begin{matrix}3 & -2 & -3\\\\4 & 2 & 4\\\\2 & -2 & 3\\\\-2 & -1 & 1\\end{matrix}\\right] \\left[\\begin{matrix}2\\\\0\\\\0\\end{matrix}\\right]=\\left[\\begin{matrix}6\\\\8\\\\4\\\\-4\\end{matrix}\\right]$"
      ],
      "text/plain": [
       "<IPython.core.display.Math object>"
      ]
     },
     "execution_count": 2,
     "metadata": {},
     "output_type": "execute_result"
    }
   ],
   "source": [
    "p.show_answer()"
   ]
  },
  {
   "cell_type": "code",
   "execution_count": 3,
   "id": "cde4dda1",
   "metadata": {},
   "outputs": [
    {
     "data": {
      "text/latex": [
       "$\\displaystyle \\left[\\begin{matrix}-3 & 2 & -3\\\\-2 & 4 & 2\\\\0 & -3 & 3\\end{matrix}\\right] \\left[\\begin{matrix}-2\\\\0\\\\0\\end{matrix}\\right]=?$"
      ],
      "text/plain": [
       "<IPython.core.display.Math object>"
      ]
     },
     "execution_count": 3,
     "metadata": {},
     "output_type": "execute_result"
    }
   ],
   "source": [
    "p = gp.Problem()\n",
    "\n",
    "p.new_problem()"
   ]
  },
  {
   "cell_type": "code",
   "execution_count": 4,
   "metadata": {},
   "outputs": [
    {
     "data": {
      "text/latex": [
       "$\\displaystyle \\left[\\begin{matrix}-3 & 2 & -3\\\\-2 & 4 & 2\\\\0 & -3 & 3\\end{matrix}\\right] \\left[\\begin{matrix}-2\\\\0\\\\0\\end{matrix}\\right]=\\left[\\begin{matrix}6\\\\4\\\\0\\end{matrix}\\right]$"
      ],
      "text/plain": [
       "<IPython.core.display.Math object>"
      ]
     },
     "execution_count": 4,
     "metadata": {},
     "output_type": "execute_result"
    }
   ],
   "source": [
    "p.show_answer()"
   ]
  },
  {
   "cell_type": "code",
   "execution_count": 5,
   "metadata": {},
   "outputs": [
    {
     "data": {
      "text/latex": [
       "$\\displaystyle \\left[\\begin{matrix}1 & 4\\\\-2 & 3\\\\-3 & 2\\end{matrix}\\right] \\left[\\begin{matrix}-2\\\\0\\end{matrix}\\right]=?$"
      ],
      "text/plain": [
       "<IPython.core.display.Math object>"
      ]
     },
     "execution_count": 5,
     "metadata": {},
     "output_type": "execute_result"
    }
   ],
   "source": [
    "p = gp.Problem()\n",
    "\n",
    "p.new_problem()"
   ]
  },
  {
   "cell_type": "code",
   "execution_count": 6,
   "metadata": {},
   "outputs": [
    {
     "data": {
      "text/latex": [
       "$\\displaystyle \\left[\\begin{matrix}1 & 4\\\\-2 & 3\\\\-3 & 2\\end{matrix}\\right] \\left[\\begin{matrix}-2\\\\0\\end{matrix}\\right]=\\left[\\begin{matrix}-2\\\\4\\\\6\\end{matrix}\\right]$"
      ],
      "text/plain": [
       "<IPython.core.display.Math object>"
      ]
     },
     "execution_count": 6,
     "metadata": {},
     "output_type": "execute_result"
    }
   ],
   "source": [
    "p.show_answer()"
   ]
  },
  {
   "cell_type": "code",
   "execution_count": 7,
   "metadata": {},
   "outputs": [
    {
     "name": "stdout",
     "output_type": "stream",
     "text": [
      "What is the result of the matrix vector product below?\n"
     ]
    },
    {
     "data": {
      "text/latex": [
       "$\\displaystyle \\left[\\begin{matrix}-3 & 1 & 3\\\\1 & 1 & 2\\\\3 & 0 & 0\\\\3 & -1 & 0\\end{matrix}\\right] \\left[\\begin{matrix}4\\\\0\\\\2\\end{matrix}\\right]=?$"
      ],
      "text/plain": [
       "<IPython.core.display.Math object>"
      ]
     },
     "execution_count": 7,
     "metadata": {},
     "output_type": "execute_result"
    }
   ],
   "source": [
    "import generate_problems as gp\n",
    "print(\"What is the result of the matrix vector product below?\")\n",
    "\n",
    "p = gp.Problem()\n",
    "\n",
    "p.new_problem()"
   ]
  },
  {
   "cell_type": "code",
   "execution_count": 8,
   "metadata": {},
   "outputs": [
    {
     "data": {
      "text/latex": [
       "$\\displaystyle \\left[\\begin{matrix}-3 & 1 & 3\\\\1 & 1 & 2\\\\3 & 0 & 0\\\\3 & -1 & 0\\end{matrix}\\right] \\left[\\begin{matrix}4\\\\0\\\\2\\end{matrix}\\right]=\\left[\\begin{matrix}-6\\\\8\\\\12\\\\12\\end{matrix}\\right]$"
      ],
      "text/plain": [
       "<IPython.core.display.Math object>"
      ]
     },
     "execution_count": 8,
     "metadata": {},
     "output_type": "execute_result"
    }
   ],
   "source": [
    "p.show_answer()"
   ]
  },
  {
   "cell_type": "code",
   "execution_count": 9,
   "metadata": {},
   "outputs": [
    {
     "data": {
      "text/latex": [
       "$\\displaystyle \\left[\\begin{matrix}-2 & 2\\\\-3 & 4\\\\-3 & -1\\end{matrix}\\right] \\left[\\begin{matrix}3\\\\-4\\end{matrix}\\right]=?$"
      ],
      "text/plain": [
       "<IPython.core.display.Math object>"
      ]
     },
     "execution_count": 9,
     "metadata": {},
     "output_type": "execute_result"
    }
   ],
   "source": [
    "p = gp.Problem()\n",
    "\n",
    "p.new_problem()"
   ]
  },
  {
   "cell_type": "code",
   "execution_count": 10,
   "metadata": {},
   "outputs": [
    {
     "data": {
      "text/latex": [
       "$\\displaystyle \\left[\\begin{matrix}-2 & 2\\\\-3 & 4\\\\-3 & -1\\end{matrix}\\right] \\left[\\begin{matrix}3\\\\-4\\end{matrix}\\right]=\\left[\\begin{matrix}-14\\\\-25\\\\-5\\end{matrix}\\right]$"
      ],
      "text/plain": [
       "<IPython.core.display.Math object>"
      ]
     },
     "execution_count": 10,
     "metadata": {},
     "output_type": "execute_result"
    }
   ],
   "source": [
    "p.show_answer()"
   ]
  },
  {
   "cell_type": "code",
   "execution_count": null,
   "metadata": {},
   "outputs": [],
   "source": []
  }
 ],
 "metadata": {
  "kernelspec": {
   "display_name": "Python 3 (ipykernel)",
   "language": "python",
   "name": "python3"
  },
  "language_info": {
   "codemirror_mode": {
    "name": "ipython",
    "version": 3
   },
   "file_extension": ".py",
   "mimetype": "text/x-python",
   "name": "python",
   "nbconvert_exporter": "python",
   "pygments_lexer": "ipython3",
   "version": "3.10.13"
  }
 },
 "nbformat": 4,
 "nbformat_minor": 1
}
