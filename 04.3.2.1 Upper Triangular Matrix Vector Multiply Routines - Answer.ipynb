{
 "cells": [
  {
   "cell_type": "markdown",
   "id": "0904b359",
   "metadata": {},
   "source": [
    "# Upper Triangular Matrix Vector Multiply Routines"
   ]
  },
  {
   "cell_type": "markdown",
   "id": "57719145",
   "metadata": {},
   "source": [
    "This notebook walks you through how to implement $ y := U x + y $ where $ U $ is upper triangular."
   ]
  },
  {
   "cell_type": "markdown",
   "id": "0b768540",
   "metadata": {},
   "source": [
    "## Getting started"
   ]
  },
  {
   "cell_type": "markdown",
   "id": "3045308a",
   "metadata": {},
   "source": [
    "We will use some functions that are part of our laff library (of which this function will become a part) as well as some routines from the FLAME API (Application Programming Interface) that allow us to write code that closely resembles how we typeset algorithms using the FLAME notation.  These functions are imported with the \"import laff as laff\" and \"import flame\" statements."
   ]
  },
  {
   "cell_type": "markdown",
   "id": "124c1680",
   "metadata": {},
   "source": [
    "## Algorithm that takes dot products"
   ]
  },
  {
   "cell_type": "markdown",
   "id": "8d89cdfa",
   "metadata": {},
   "source": [
    "<image src=\"https://studio.edx.org/c4x/UTAustinX/UT.5.01x/asset/432_Trmvp_un_unb_var1.png\" alt=\"Alternative matrix-vector multiplication via dot products algorithm\" width=\"50%\">"
   ]
  },
  {
   "cell_type": "markdown",
   "id": "ecc3a504",
   "metadata": {},
   "source": [
    "## The routine <br> <code> Tmvmult_un_unb_var1( U, x, y ) </code>"
   ]
  },
  {
   "cell_type": "markdown",
   "id": "6efc4e60",
   "metadata": {},
   "source": [
    "This routine, given upper triangular $ U \\in \\mathbb{R}^{n \\times n} $, $ x \\in \\mathbb{R}^n $, and $ y \\in \\mathbb{R}^n $, computes $ y := U x + y $.  The \"_un_\" in the name of the routine indicates this is the \"upper, no transpose\" matrix-vector multiplication.  \n",
    "\n",
    "The specific laff functions we will use are \n",
    "<ul>\n",
    "<li> <code> laff.dots( x, y, alpha ) </code> which computes $ \\alpha := x^T y + \\alpha $.  </li>\n",
    "</ul>\n",
    "\n",
    "Use the <a href=\"https://studio.edx.org/c4x/UTAustinX/UT.5.01x/asset/index.html\"> Spark webpage</a> to generate a code skeleton.  (Make sure you adjust the name of the routine.)"
   ]
  },
  {
   "cell_type": "code",
   "execution_count": 1,
   "id": "2479547b",
   "metadata": {},
   "outputs": [],
   "source": [
    "import flame\n",
    "import laff as laff\n",
    "\n",
    "def Tmvmult_un_unb_var1(U, x, y):\n",
    "\n",
    "    UTL, UTR, \\\n",
    "    UBL, UBR  = flame.part_2x2(U, \\\n",
    "                               0, 0, 'TL')\n",
    "\n",
    "    xT, \\\n",
    "    xB  = flame.part_2x1(x, \\\n",
    "                         0, 'TOP')\n",
    "\n",
    "    yT, \\\n",
    "    yB  = flame.part_2x1(y, \\\n",
    "                         0, 'TOP')\n",
    "\n",
    "    while UTL.shape[0] < U.shape[0]:\n",
    "\n",
    "        U00,  u01,       U02,  \\\n",
    "        u10t, upsilon11, u12t, \\\n",
    "        U20,  u21,       U22   = flame.repart_2x2_to_3x3(UTL, UTR, \\\n",
    "                                                         UBL, UBR, \\\n",
    "                                                         1, 1, 'BR')\n",
    "\n",
    "        x0,   \\\n",
    "        chi1, \\\n",
    "        x2    = flame.repart_2x1_to_3x1(xT, \\\n",
    "                                        xB, \\\n",
    "                                        1, 'BOTTOM')\n",
    "\n",
    "        y0,   \\\n",
    "        psi1, \\\n",
    "        y2    = flame.repart_2x1_to_3x1(yT, \\\n",
    "                                        yB, \\\n",
    "                                        1, 'BOTTOM')\n",
    "\n",
    "        #------------------------------------------------------------#\n",
    "\n",
    "        laff.dots( upsilon11, chi1, psi1 )\n",
    "        laff.dots( u12t, x2, psi1 )\n",
    "\n",
    "        #------------------------------------------------------------#\n",
    "\n",
    "        UTL, UTR, \\\n",
    "        UBL, UBR  = flame.cont_with_3x3_to_2x2(U00,  u01,       U02,  \\\n",
    "                                               u10t, upsilon11, u12t, \\\n",
    "                                               U20,  u21,       U22,  \\\n",
    "                                               'TL')\n",
    "\n",
    "        xT, \\\n",
    "        xB  = flame.cont_with_3x1_to_2x1(x0,   \\\n",
    "                                         chi1, \\\n",
    "                                         x2,   \\\n",
    "                                         'TOP')\n",
    "\n",
    "        yT, \\\n",
    "        yB  = flame.cont_with_3x1_to_2x1(y0,   \\\n",
    "                                         psi1, \\\n",
    "                                         y2,   \\\n",
    "                                         'TOP')\n",
    "\n",
    "    flame.merge_2x1(yT, \\\n",
    "                    yB, y)\n",
    "\n"
   ]
  },
  {
   "cell_type": "markdown",
   "id": "d540b1d0",
   "metadata": {},
   "source": [
    "## Testing"
   ]
  },
  {
   "cell_type": "markdown",
   "id": "a55bdd73",
   "metadata": {},
   "source": [
    "Let's quickly test the routine by creating a 4 x 4 matrix and related vectors, performing the computation."
   ]
  },
  {
   "cell_type": "code",
   "execution_count": 2,
   "id": "69c1764d",
   "metadata": {},
   "outputs": [
    {
     "name": "stdout",
     "output_type": "stream",
     "text": [
      "U before =\n",
      "[[0.39965908 0.87198853 0.38329797 0.20694323]\n",
      " [0.16319987 0.46870853 0.65111413 0.80737486]\n",
      " [0.79901714 0.83992111 0.90431472 0.78296762]\n",
      " [0.83503537 0.9117567  0.38376164 0.28737099]]\n",
      "x before =\n",
      "[[0.57980362]\n",
      " [0.80771363]\n",
      " [0.31279193]\n",
      " [0.10197131]]\n",
      "y before =\n",
      "[[0.4656514 ]\n",
      " [0.23630008]\n",
      " [0.11406847]\n",
      " [0.86767416]]\n"
     ]
    }
   ],
   "source": [
    "from numpy import random\n",
    "from numpy import matrix\n",
    "\n",
    "U = matrix( random.rand( 4,4 ) )\n",
    "x = matrix( random.rand( 4,1 ) )\n",
    "y = matrix( random.rand( 4,1 ) )\n",
    "yold = matrix( random.rand( 4,1 ) )\n",
    "\n",
    "# Notice that U is not upper triangular.  We will only use the upper triangular part.\n",
    "\n",
    "print( 'U before =' )\n",
    "print( U )\n",
    "\n",
    "print( 'x before =' )\n",
    "print( x )\n",
    "\n",
    "print( 'y before =' )\n",
    "print( y )"
   ]
  },
  {
   "cell_type": "code",
   "execution_count": 3,
   "id": "aa0e6552",
   "metadata": {},
   "outputs": [
    {
     "name": "stdout",
     "output_type": "stream",
     "text": [
      "y after =\n",
      "[[1.54268699]\n",
      " [0.90087467]\n",
      " [0.47677106]\n",
      " [0.89697776]]\n",
      "y - ( np.triu( U ) * x + yold ) = \n",
      "[[ 2.22044605e-16]\n",
      " [-1.11022302e-16]\n",
      " [ 0.00000000e+00]\n",
      " [ 0.00000000e+00]]\n"
     ]
    }
   ],
   "source": [
    "import numpy as np\n",
    "laff.copy( y, yold )   # save the original vector y\n",
    "\n",
    "Tmvmult_un_unb_var1( U, x, y )\n",
    "\n",
    "print( 'y after =' )\n",
    "print( y )\n",
    "\n",
    "print( 'y - ( np.triu( U ) * x + yold ) = ' ) #np.triu makes the matrix upper triangular\n",
    "print( y - ( np.triu( U ) * x + yold ) )"
   ]
  },
  {
   "cell_type": "markdown",
   "id": "1f39dd8b",
   "metadata": {},
   "source": [
    "Bingo, it seems to work!  (Notice that we are doing floating point computations, which means that due to rounding you may not get an exact \"0\".)"
   ]
  },
  {
   "cell_type": "markdown",
   "id": "5ede655e",
   "metadata": {},
   "source": [
    "## Watch your code in action!"
   ]
  },
  {
   "cell_type": "markdown",
   "id": "76efbb4d",
   "metadata": {},
   "source": [
    "Copy and paste the code into <a href=\"http://edx-org-utaustinx.s3.amazonaws.com/UT501x/PictureFlame/PictureFLAME.html\"> PictureFLAME </a>, a webpage where you can watch your routine in action.  Just cut and paste into the box.  \n",
    "\n",
    "Disclaimer: we implemented a VERY simple interpreter.  If you do something wrong, we cannot guarantee the results.  But if you do it right, you are in for a treat.\n",
    "\n",
    "If you want to reset the problem, just click in the box into which you pasted the code and hit \"next\" again."
   ]
  },
  {
   "cell_type": "markdown",
   "id": "9b00ca77",
   "metadata": {},
   "source": [
    "## Algorithm that uses axpys"
   ]
  },
  {
   "cell_type": "markdown",
   "id": "75168b5f",
   "metadata": {},
   "source": [
    "<image src=\"https://studio.edx.org/c4x/UTAustinX/UT.5.01x/asset/432_Trmvp_un_unb_var2.png\" alt=\"Alternative matrix-vector multiplication via dot products algorithm\" width=\"50%\">"
   ]
  },
  {
   "cell_type": "markdown",
   "id": "4f5b304f",
   "metadata": {},
   "source": [
    "## The routine <br> <code> Tmvmult_un_unb_var2( U, x, y ) </code>"
   ]
  },
  {
   "cell_type": "markdown",
   "id": "93eaa413",
   "metadata": {},
   "source": [
    "This routine, given upper triangular $ U \\in \\mathbb{R}^{n \\times n} $, $ x \\in \\mathbb{R}^n $, and $ y \\in \\mathbb{R}^n $, computes $ y := U x + y $.  The \"_un_\" in the name of the routine indicates this is the \"upper triangular, no transpose\" matrix-vector multiplication.  \n",
    "\n",
    "The specific laff functions we will use are \n",
    "<ul>\n",
    "<li> <code> laff.axpy( alpha, x, y ) </code> which computes $ y := \\alpha x +  y  $.  </li>\n",
    "</ul>\n",
    "\n",
    "Use the <a href=\"https://studio.edx.org/c4x/UTAustinX/UT.5.01x/asset/index.html\"> Spark webpage</a> to generate a code skeleton.  (Make sure you adjust the name of the routine.)"
   ]
  },
  {
   "cell_type": "code",
   "execution_count": 4,
   "id": "c174c96f",
   "metadata": {},
   "outputs": [],
   "source": [
    "import flame\n",
    "import laff as laff\n",
    "\n",
    "def Tmvmult_un_unb_var2(U, x, y):\n",
    "\n",
    "    UTL, UTR, \\\n",
    "    UBL, UBR  = flame.part_2x2(U, \\\n",
    "                               0, 0, 'TL')\n",
    "\n",
    "    xT, \\\n",
    "    xB  = flame.part_2x1(x, \\\n",
    "                         0, 'TOP')\n",
    "\n",
    "    yT, \\\n",
    "    yB  = flame.part_2x1(y, \\\n",
    "                         0, 'TOP')\n",
    "\n",
    "    while UTL.shape[0] < U.shape[0]:\n",
    "\n",
    "        U00,  u01,       U02,  \\\n",
    "        u10t, upsilon11, u12t, \\\n",
    "        U20,  u21,       U22   = flame.repart_2x2_to_3x3(UTL, UTR, \\\n",
    "                                                         UBL, UBR, \\\n",
    "                                                         1, 1, 'BR')\n",
    "\n",
    "        x0,   \\\n",
    "        chi1, \\\n",
    "        x2    = flame.repart_2x1_to_3x1(xT, \\\n",
    "                                        xB, \\\n",
    "                                        1, 'BOTTOM')\n",
    "\n",
    "        y0,   \\\n",
    "        psi1, \\\n",
    "        y2    = flame.repart_2x1_to_3x1(yT, \\\n",
    "                                        yB, \\\n",
    "                                        1, 'BOTTOM')\n",
    "\n",
    "        #------------------------------------------------------------#\n",
    "\n",
    "        laff.axpy( chi1, u01, y0 )\n",
    "        laff.axpy( chi1, upsilon11, psi1 )\n",
    "\n",
    "        #------------------------------------------------------------#\n",
    "\n",
    "        UTL, UTR, \\\n",
    "        UBL, UBR  = flame.cont_with_3x3_to_2x2(U00,  u01,       U02,  \\\n",
    "                                               u10t, upsilon11, u12t, \\\n",
    "                                               U20,  u21,       U22,  \\\n",
    "                                               'TL')\n",
    "\n",
    "        xT, \\\n",
    "        xB  = flame.cont_with_3x1_to_2x1(x0,   \\\n",
    "                                         chi1, \\\n",
    "                                         x2,   \\\n",
    "                                         'TOP')\n",
    "\n",
    "        yT, \\\n",
    "        yB  = flame.cont_with_3x1_to_2x1(y0,   \\\n",
    "                                         psi1, \\\n",
    "                                         y2,   \\\n",
    "                                         'TOP')\n",
    "\n",
    "    flame.merge_2x1(yT, \\\n",
    "                    yB, y)\n",
    "\n"
   ]
  },
  {
   "cell_type": "markdown",
   "id": "ebe036e8",
   "metadata": {},
   "source": [
    "## Testing"
   ]
  },
  {
   "cell_type": "markdown",
   "id": "b5f47104",
   "metadata": {},
   "source": [
    "Let's quickly test the routine by creating a 4 x 4 matrix and related vectors, performing the computation."
   ]
  },
  {
   "cell_type": "code",
   "execution_count": 5,
   "id": "ba764c89",
   "metadata": {},
   "outputs": [
    {
     "name": "stdout",
     "output_type": "stream",
     "text": [
      "U before =\n",
      "[[0.62375895 0.316332   0.17329464 0.85264732]\n",
      " [0.57180292 0.50525192 0.27725764 0.46060021]\n",
      " [0.85171254 0.41343591 0.14302992 0.52406356]\n",
      " [0.14516472 0.25729835 0.87638962 0.76341971]]\n",
      "x before =\n",
      "[[0.51134319]\n",
      " [0.05877934]\n",
      " [0.551125  ]\n",
      " [0.71841827]]\n",
      "y before =\n",
      "[[0.66482633]\n",
      " [0.02989599]\n",
      " [0.85764097]\n",
      " [0.64301629]]\n"
     ]
    }
   ],
   "source": [
    "from numpy import random\n",
    "from numpy import matrix\n",
    "\n",
    "U = matrix( random.rand( 4,4 ) )\n",
    "x = matrix( random.rand( 4,1 ) )\n",
    "y = matrix( random.rand( 4,1 ) )\n",
    "yold = matrix( random.rand( 4,1 ) )\n",
    "\n",
    "# U is not upper triangular.  We will only use the upper triangular part.\n",
    "\n",
    "print( 'U before =' )\n",
    "print( U )\n",
    "\n",
    "print( 'x before =' )\n",
    "print( x )\n",
    "\n",
    "print( 'y before =' )\n",
    "print( y )"
   ]
  },
  {
   "cell_type": "code",
   "execution_count": 6,
   "id": "c7e687ee",
   "metadata": {},
   "outputs": [
    {
     "name": "stdout",
     "output_type": "stream",
     "text": [
      "y after =\n",
      "[[1.71043943]\n",
      " [0.54330159]\n",
      " [1.31296517]\n",
      " [1.19147096]]\n",
      "y - ( np.triu( U ) * x + yold ) = \n",
      "[[-2.22044605e-16]\n",
      " [ 1.11022302e-16]\n",
      " [ 0.00000000e+00]\n",
      " [ 0.00000000e+00]]\n"
     ]
    }
   ],
   "source": [
    "laff.copy( y, yold )   # save the original vector y\n",
    "\n",
    "Tmvmult_un_unb_var2( U, x, y )\n",
    "\n",
    "print( 'y after =' )\n",
    "print( y )\n",
    "\n",
    "print( 'y - ( np.triu( U ) * x + yold ) = ' ) #np.triu makes the matrix upper triangular\n",
    "print( y - ( np.triu( U ) * x + yold ) )"
   ]
  },
  {
   "cell_type": "markdown",
   "id": "32ed5a53",
   "metadata": {},
   "source": [
    "Bingo, it seems to work!  (Notice that we are doing floating point computations, which means that due to rounding you may not get an exact \"0\".)"
   ]
  },
  {
   "cell_type": "markdown",
   "id": "1b0ac7a6",
   "metadata": {},
   "source": [
    "## Watch your code in action!"
   ]
  },
  {
   "cell_type": "markdown",
   "id": "8e99fcb9",
   "metadata": {},
   "source": [
    "Copy and paste the code into <a href=\"http://edx-org-utaustinx.s3.amazonaws.com/UT501x/PictureFlame/PictureFLAME.html\"> PictureFLAME </a>, a webpage where you can watch your routine in action.  Just cut and paste into the box.  \n",
    "\n",
    "Disclaimer: we implemented a VERY simple interpreter.  If you do something wrong, we cannot guarantee the results.  But if you do it right, you are in for a treat.\n",
    "\n",
    "If you want to reset the problem, just click in the box into which you pasted the code and hit \"next\" again."
   ]
  },
  {
   "cell_type": "code",
   "execution_count": null,
   "id": "71cd95a7",
   "metadata": {},
   "outputs": [],
   "source": []
  }
 ],
 "metadata": {
  "kernelspec": {
   "display_name": "Python 3 (ipykernel)",
   "language": "python",
   "name": "python3"
  },
  "language_info": {
   "codemirror_mode": {
    "name": "ipython",
    "version": 3
   },
   "file_extension": ".py",
   "mimetype": "text/x-python",
   "name": "python",
   "nbconvert_exporter": "python",
   "pygments_lexer": "ipython3",
   "version": "3.10.13"
  }
 },
 "nbformat": 4,
 "nbformat_minor": 1
}
