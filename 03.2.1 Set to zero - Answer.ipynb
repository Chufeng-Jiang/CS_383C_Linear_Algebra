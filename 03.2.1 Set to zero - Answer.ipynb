{
 "cells": [
  {
   "cell_type": "markdown",
   "id": "a70c9494",
   "metadata": {},
   "source": [
    "# The Set_to_zero routine"
   ]
  },
  {
   "cell_type": "markdown",
   "id": "6f12b374",
   "metadata": {},
   "source": [
    "This notebook walks you through how to implement a simple function that sets all elements of a given matrix, \n",
    "stored in numpy matrix A, to zero."
   ]
  },
  {
   "cell_type": "markdown",
   "id": "8b3630a6",
   "metadata": {},
   "source": [
    "## Getting started"
   ]
  },
  {
   "cell_type": "markdown",
   "id": "1682c505",
   "metadata": {},
   "source": [
    "We will use some functions that are part of our laff library (of which this function will become a part) as well as some routines from the FLAME API (Application Programming Interface) that allows us to write code that closely resembles how we typeset algorithms using the FLAME notation.  These functions are imported with the \"import laff as laff\" and \"import flame\" statements."
   ]
  },
  {
   "cell_type": "markdown",
   "id": "619e99ac",
   "metadata": {},
   "source": [
    "## Algorithm"
   ]
  },
  {
   "cell_type": "markdown",
   "id": "7f77c9d4",
   "metadata": {},
   "source": [
    "<image src=\"https://studio.edx.org/c4x/UTAustinX/UT.5.01x/asset/321ZeroAlgorithm.png\" alt=\"Set matrix to zero algorithm\" width=\"50%\">"
   ]
  },
  {
   "cell_type": "markdown",
   "id": "f6ca7cdd",
   "metadata": {},
   "source": [
    "## The routine"
   ]
  },
  {
   "cell_type": "markdown",
   "id": "2c01276e",
   "metadata": {},
   "source": [
    "The specific laff function we will use is laff.zerov which, when given a row or column vector (stored as a 1 x n or n x 1 matrix) will zero that vector.  The vectors to be zeroed will actually be parts of the matrix A that we overwrite with zeroes.  \n",
    "\n",
    "The flame functions should be self-explanatory if you put the below next to the algorithm for setting a matrix to the zero, expressed using the FLAME notation.\n",
    "\n",
    "It is the merge_1x2 routine that does require an explanation.  The problem is that we want to overwrite A with the result.  That routine takes AT, AB, and copies them back into A.\n",
    "\n",
    "Follow along with the video, using the <a href=\"https://studio.edx.org/c4x/UTAustinX/UT.5.01x/asset/index.html\"> Spark webpage </a>."
   ]
  },
  {
   "cell_type": "code",
   "execution_count": 1,
   "id": "9de3d66f",
   "metadata": {},
   "outputs": [],
   "source": [
    "import flame\n",
    "import laff as laff\n",
    "\n",
    "def Set_to_zero_unb_var1(A):\n",
    "\n",
    "    AL, AR = flame.part_1x2(A, \\\n",
    "                            0, 'LEFT')\n",
    "\n",
    "    while AL.shape[1] < A.shape[1]:\n",
    "\n",
    "        A0, a1, A2 = flame.repart_1x2_to_1x3(AL, AR, \\\n",
    "                                             1, 'RIGHT')\n",
    "\n",
    "        #------------------------------------------------------------#\n",
    "\n",
    "        laff.zerov( a1 )\n",
    "        \n",
    "        #------------------------------------------------------------#\n",
    "\n",
    "        AL, AR = flame.cont_with_1x3_to_1x2(A0, a1, A2, \\\n",
    "                                            'LEFT')\n",
    "\n",
    "    flame.merge_1x2(AL, AR, A)\n",
    "\n"
   ]
  },
  {
   "cell_type": "markdown",
   "id": "b68916e7",
   "metadata": {},
   "source": [
    "## Testing"
   ]
  },
  {
   "cell_type": "markdown",
   "id": "39701228",
   "metadata": {},
   "source": [
    "Let's quickly test the routine by creating a 5 x 5 matrix and then setting it to zero."
   ]
  },
  {
   "cell_type": "code",
   "execution_count": 2,
   "id": "b49d1e5c",
   "metadata": {},
   "outputs": [
    {
     "name": "stdout",
     "output_type": "stream",
     "text": [
      "A before =\n",
      "[[0.35366282 0.41585793 0.49039376 0.69347329]\n",
      " [0.64829405 0.27229562 0.92116014 0.43775965]\n",
      " [0.5455041  0.38712922 0.54493415 0.77683029]\n",
      " [0.5096985  0.19799646 0.69048057 0.05965748]\n",
      " [0.92053139 0.79035851 0.18023522 0.05717497]]\n"
     ]
    }
   ],
   "source": [
    "from numpy import random\n",
    "from numpy import matrix\n",
    "\n",
    "A = matrix( random.rand( 5,4 ) )\n",
    "\n",
    "print( 'A before =' )\n",
    "print( A )"
   ]
  },
  {
   "cell_type": "code",
   "execution_count": 3,
   "id": "7f98f804",
   "metadata": {},
   "outputs": [
    {
     "name": "stdout",
     "output_type": "stream",
     "text": [
      "A after =\n",
      "[[0. 0. 0. 0.]\n",
      " [0. 0. 0. 0.]\n",
      " [0. 0. 0. 0.]\n",
      " [0. 0. 0. 0.]\n",
      " [0. 0. 0. 0.]]\n"
     ]
    }
   ],
   "source": [
    "Set_to_zero_unb_var1( A )\n",
    "\n",
    "print( 'A after =' )\n",
    "print( A )"
   ]
  },
  {
   "cell_type": "markdown",
   "id": "caebd7a1",
   "metadata": {},
   "source": [
    "Bingo, it seems to work!"
   ]
  },
  {
   "cell_type": "markdown",
   "id": "1f145ea1",
   "metadata": {},
   "source": [
    "## Try it yourself (homework 3.2.1.2)"
   ]
  },
  {
   "cell_type": "markdown",
   "id": "f012a713",
   "metadata": {},
   "source": [
    "Now, one could alternatively set a matrix to zero by rows."
   ]
  },
  {
   "cell_type": "markdown",
   "id": "e9e8d1bf",
   "metadata": {},
   "source": [
    "Use the <a href=\"https://studio.edx.org/c4x/UTAustinX/UT.5.01x/asset/index.html\"> Spark webpage </a> to generate the function Set_to_zero_unb_var2( A ) that overwrites A with zeroes one row at a time."
   ]
  },
  {
   "cell_type": "code",
   "execution_count": 4,
   "id": "5caff7a3",
   "metadata": {},
   "outputs": [],
   "source": [
    "\n",
    "import flame\n",
    "import laff as laff\n",
    "\n",
    "def Set_to_zero_unb_var2(A):\n",
    "\n",
    "    AT, \\\n",
    "    AB  = flame.part_2x1(A, \\\n",
    "                         0, 'TOP')\n",
    "\n",
    "    while AT.shape[0] < A.shape[0]:\n",
    "\n",
    "        A0,  \\\n",
    "        a1t, \\\n",
    "        A2   = flame.repart_2x1_to_3x1(AT, \\\n",
    "                                       AB, \\\n",
    "                                       1, 'BOTTOM')\n",
    "\n",
    "        #------------------------------------------------------------#\n",
    "\n",
    "        laff.zerov( a1t )\n",
    "        \n",
    "        #------------------------------------------------------------#\n",
    "\n",
    "        AT, \\\n",
    "        AB  = flame.cont_with_3x1_to_2x1(A0,  \\\n",
    "                                         a1t, \\\n",
    "                                         A2,  \\\n",
    "                                         'TOP')\n",
    "\n",
    "    flame.merge_2x1(AT, \\\n",
    "                    AB, A)\n",
    "\n"
   ]
  },
  {
   "cell_type": "markdown",
   "id": "4338a3f6",
   "metadata": {},
   "source": [
    "Test your routine with the following"
   ]
  },
  {
   "cell_type": "code",
   "execution_count": 5,
   "id": "b0faace6",
   "metadata": {},
   "outputs": [
    {
     "name": "stdout",
     "output_type": "stream",
     "text": [
      "A before =\n",
      "[[0.66867451 0.83995561 0.86493839 0.15269586]\n",
      " [0.78313898 0.41906955 0.22365847 0.82470383]\n",
      " [0.22924737 0.79007152 0.76896643 0.27720125]\n",
      " [0.01690489 0.51841233 0.69867427 0.08235933]\n",
      " [0.33789629 0.02535124 0.92541628 0.31006448]]\n",
      "A after =\n",
      "[[0. 0. 0. 0.]\n",
      " [0. 0. 0. 0.]\n",
      " [0. 0. 0. 0.]\n",
      " [0. 0. 0. 0.]\n",
      " [0. 0. 0. 0.]]\n"
     ]
    }
   ],
   "source": [
    "from numpy import random\n",
    "from numpy import matrix\n",
    "\n",
    "A = matrix( random.rand( 5,4 ) )\n",
    "\n",
    "print( 'A before =' )\n",
    "print( A )\n",
    "\n",
    "Set_to_zero_unb_var2( A )\n",
    "print( 'A after =' )\n",
    "print( A )"
   ]
  },
  {
   "cell_type": "markdown",
   "id": "cfc2afcd",
   "metadata": {},
   "source": [
    "## Watch your code in action!"
   ]
  },
  {
   "cell_type": "markdown",
   "id": "e4d39611",
   "metadata": {},
   "source": [
    "Copy and paste the code into <a href=\"http://edx-org-utaustinx.s3.amazonaws.com/UT501x/PictureFlame/PictureFLAME.html\"> PictureFLAME </a>, a webpage where you can watch your routine in action.  Just cut and paste into the box.  \n",
    "\n",
    "Disclaimer: we implemented a VERY simple interpreter.  If you do something wrong, we cannot guarantee the results.  But if you do it right, you are in for a treat.\n",
    "\n",
    "If you want to reset the problem, just click in the box into which you pasted the code and hit \"next\" again."
   ]
  },
  {
   "cell_type": "code",
   "execution_count": null,
   "id": "da368ce5",
   "metadata": {},
   "outputs": [],
   "source": []
  }
 ],
 "metadata": {
  "kernelspec": {
   "display_name": "Python 3 (ipykernel)",
   "language": "python",
   "name": "python3"
  },
  "language_info": {
   "codemirror_mode": {
    "name": "ipython",
    "version": 3
   },
   "file_extension": ".py",
   "mimetype": "text/x-python",
   "name": "python",
   "nbconvert_exporter": "python",
   "pygments_lexer": "ipython3",
   "version": "3.10.13"
  }
 },
 "nbformat": 4,
 "nbformat_minor": 1
}
